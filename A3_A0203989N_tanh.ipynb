{
  "nbformat": 4,
  "nbformat_minor": 0,
  "metadata": {
    "colab": {
      "name": "A3_A0203989N tanh.ipynb",
      "provenance": [],
      "collapsed_sections": [
        "sEknxYKtjfzK",
        "F7-7B5iwrNYB",
        "2Uf123B7jiCD"
      ],
      "include_colab_link": true
    },
    "kernelspec": {
      "name": "python3",
      "display_name": "Python 3"
    },
    "language_info": {
      "name": "python"
    },
    "accelerator": "GPU"
  },
  "cells": [
    {
      "cell_type": "markdown",
      "metadata": {
        "id": "view-in-github",
        "colab_type": "text"
      },
      "source": [
        "<a href=\"https://colab.research.google.com/github/bigteo/BT4222_Assignment3/blob/added-insights/A3_A0203989N_tanh.ipynb\" target=\"_parent\"><img src=\"https://colab.research.google.com/assets/colab-badge.svg\" alt=\"Open In Colab\"/></a>"
      ]
    },
    {
      "cell_type": "markdown",
      "metadata": {
        "id": "QelXyP-0hiT5"
      },
      "source": [
        "# BT4222 Assignment 3\n",
        "By Teo Zhi Feng (A0203989N)"
      ]
    },
    {
      "cell_type": "markdown",
      "metadata": {
        "id": "KMzTMwKfhvdl"
      },
      "source": [
        "# 1 Setup"
      ]
    },
    {
      "cell_type": "markdown",
      "metadata": {
        "id": "h24U7PflBFyV"
      },
      "source": [
        "#### Import packages"
      ]
    },
    {
      "cell_type": "code",
      "metadata": {
        "id": "vfXQC4KvABlY"
      },
      "source": [
        "import numpy as np\n",
        "import tensorflow as tf\n",
        "\n",
        "#np.random.seed(1234)\n",
        "#tf.random.set_seed(1234)"
      ],
      "execution_count": 1,
      "outputs": []
    },
    {
      "cell_type": "code",
      "metadata": {
        "id": "e-UQHsr9hhtH"
      },
      "source": [
        "from __future__ import print_function\n",
        "\n",
        "from numpy.random import seed\n",
        "from tensorflow.random import set_seed\n",
        "\n",
        "import numpy as np\n",
        "import pandas as pd\n",
        "from sklearn.metrics import accuracy_score, precision_score, recall_score, f1_score\n",
        "import matplotlib.pyplot as plt\n",
        "%matplotlib inline\n",
        "\n",
        "import tensorflow as tf\n",
        "from tensorflow.keras.preprocessing import sequence\n",
        "from tensorflow.keras.models import Sequential\n",
        "from tensorflow.keras.layers import Activation, Bidirectional, Conv1D, Dense, Dropout, Embedding, Flatten, GlobalMaxPooling1D, LSTM, MaxPooling1D, TextVectorization\n",
        "from tensorflow.keras.callbacks import EarlyStopping\n",
        "from tensorflow.keras.utils import plot_model\n",
        "\n",
        "import string\n",
        "import re"
      ],
      "execution_count": 2,
      "outputs": []
    },
    {
      "cell_type": "markdown",
      "metadata": {
        "id": "RdKjHmN974Sj"
      },
      "source": [
        "#### Determine parameters"
      ]
    },
    {
      "cell_type": "code",
      "metadata": {
        "id": "9Oa_WfbyxF2Y"
      },
      "source": [
        "epochs = 10\n",
        "batch_size = 128 # Select a batch size to fully utilise GPU memory, or 16 or 32\n",
        "\n",
        "embedding_dims = 50 # emddeding for each word\n",
        "maxlen = 800 # max number of words in the review\n",
        "\n",
        "filters = 250\n",
        "kernel_size = 3 # size of the 1D conv. layer\n",
        "hidden_dims = 128 # number of dimensions\n",
        "\n",
        "metrics = ['accuracy', \"Precision\", \"Recall\"]\n"
      ],
      "execution_count": 3,
      "outputs": []
    },
    {
      "cell_type": "markdown",
      "metadata": {
        "id": "5ByVIc8d0aC0"
      },
      "source": [
        "#### Import IMDB Dataset"
      ]
    },
    {
      "cell_type": "code",
      "metadata": {
        "colab": {
          "base_uri": "https://localhost:8080/"
        },
        "id": "UKH4gT460Pv9",
        "outputId": "6a4954b5-5d19-42c3-d398-732cfab06439"
      },
      "source": [
        "!curl -O https://ai.stanford.edu/~amaas/data/sentiment/aclImdb_v1.tar.gz\n",
        "!tar -xf aclImdb_v1.tar.gz"
      ],
      "execution_count": 4,
      "outputs": [
        {
          "output_type": "stream",
          "name": "stdout",
          "text": [
            "  % Total    % Received % Xferd  Average Speed   Time    Time     Time  Current\n",
            "                                 Dload  Upload   Total   Spent    Left  Speed\n",
            "100 80.2M  100 80.2M    0     0  13.8M      0  0:00:05  0:00:05 --:--:-- 17.2M\n"
          ]
        }
      ]
    },
    {
      "cell_type": "markdown",
      "metadata": {
        "id": "jmRrVV4osYQi"
      },
      "source": [
        "#### Inspect folder directory"
      ]
    },
    {
      "cell_type": "code",
      "metadata": {
        "id": "OGUHXRDqmWHC",
        "colab": {
          "base_uri": "https://localhost:8080/"
        },
        "outputId": "56c72acb-917d-45bf-b966-8533fadf7bfd"
      },
      "source": [
        "!ls aclImdb\n",
        "!ls aclImdb/test\n",
        "!ls aclImdb/train"
      ],
      "execution_count": 5,
      "outputs": [
        {
          "output_type": "stream",
          "name": "stdout",
          "text": [
            "imdbEr.txt  imdb.vocab\tREADME\ttest  train\n",
            "labeledBow.feat  neg  pos  urls_neg.txt  urls_pos.txt\n",
            "labeledBow.feat  pos\tunsupBow.feat  urls_pos.txt\n",
            "neg\t\t unsup\turls_neg.txt   urls_unsup.txt\n"
          ]
        }
      ]
    },
    {
      "cell_type": "code",
      "metadata": {
        "id": "uMHf2EeonDTg"
      },
      "source": [
        "!rm -r aclImdb/train/unsup"
      ],
      "execution_count": 6,
      "outputs": []
    },
    {
      "cell_type": "markdown",
      "metadata": {
        "id": "te5c4IfYsj1N"
      },
      "source": [
        "#### Import all datasets"
      ]
    },
    {
      "cell_type": "code",
      "metadata": {
        "id": "VqnfXcXJnDPo",
        "colab": {
          "base_uri": "https://localhost:8080/"
        },
        "outputId": "da9ada63-f3ec-462c-c9e6-65847e83d4c1"
      },
      "source": [
        "raw_train_ds = tf.keras.preprocessing.text_dataset_from_directory(\n",
        "    \"aclImdb/train\",\n",
        "    batch_size=batch_size,\n",
        "    validation_split=0.2,\n",
        "    subset=\"training\",\n",
        "    seed=1337,\n",
        ")\n",
        "raw_val_ds = tf.keras.preprocessing.text_dataset_from_directory(\n",
        "    \"aclImdb/train\",\n",
        "    batch_size=batch_size,\n",
        "    validation_split=0.2,\n",
        "    subset=\"validation\",\n",
        "    seed=1337,\n",
        ")\n",
        "raw_test_ds = tf.keras.preprocessing.text_dataset_from_directory(\n",
        "    \"aclImdb/test\",\n",
        "    batch_size=batch_size\n",
        ")\n",
        "\n",
        "print(f\"Number of batches in raw_train_ds: {raw_train_ds.cardinality()}\")\n",
        "print(f\"Number of batches in raw_val_ds: {raw_val_ds.cardinality()}\")\n",
        "print(f\"Number of batches in raw_test_ds: {raw_test_ds.cardinality()}\")"
      ],
      "execution_count": 7,
      "outputs": [
        {
          "output_type": "stream",
          "name": "stdout",
          "text": [
            "Found 25000 files belonging to 2 classes.\n",
            "Using 20000 files for training.\n",
            "Found 25000 files belonging to 2 classes.\n",
            "Using 5000 files for validation.\n",
            "Found 25000 files belonging to 2 classes.\n",
            "Number of batches in raw_train_ds: 157\n",
            "Number of batches in raw_val_ds: 40\n",
            "Number of batches in raw_test_ds: 196\n"
          ]
        }
      ]
    },
    {
      "cell_type": "markdown",
      "metadata": {
        "id": "n8RbfM0ysoGD"
      },
      "source": [
        "#### Inspect dataset"
      ]
    },
    {
      "cell_type": "code",
      "metadata": {
        "id": "gTE61hxtsCg-",
        "colab": {
          "base_uri": "https://localhost:8080/"
        },
        "outputId": "78351bea-fef0-4139-deca-b175a5158a10"
      },
      "source": [
        "for text_batch, label_batch in raw_train_ds.take(1):\n",
        "    for i in range(5):\n",
        "        print(text_batch.numpy()[i])\n",
        "        print(label_batch.numpy()[i])"
      ],
      "execution_count": 8,
      "outputs": [
        {
          "output_type": "stream",
          "name": "stdout",
          "text": [
            "b\"I gave this a four purely out of its historical context. It was considered lost for many years until it popped up out of the blue on Showtime in the early nineties.<br /><br />Moe is the straight man and Larry and Curly act as a duo. Spade Cooley has a couple of numbers. I guess it had something to do with working on a ranch. I'm not quite sure because the plot was so minimal nothing really sticks in my memory. I vaguely remember it being a western musical comedy. Even the Stooge's seem to be going through the motions. Overall there's nothing much really to recommend here.<br /><br />If you're not a Stooge fan then don't bother. If you are a Stooge fan, then stick with the shorts.\"\n",
            "0\n",
            "b'First than anything, I\\'m not going to praise I\\xc3\\xb1arritu\\'s short film, even I\\'m Mexican and proud of his success in mainstream Hollywood.<br /><br />In another hand, I see most of the reviews focuses on their favorite (and not so) short films; but we are forgetting that there is a subtle bottom line that circles the whole compilation, and maybe it will not be so pleasant for American people. (Even if that was not the main purpose of the producers) <br /><br />What i\\'m talking about is that most of the short films does not show the suffering that WASP people went through because the terrorist attack on September 11th, but the suffering of the Other people.<br /><br />Do you need proofs about what i\\'m saying? Look, in the Bosnia short film, the message is: \"You cry because of the people who died in the Towers, but we (The Others = East Europeans) are crying long ago for the crimes committed against our women and nobody pay attention to us like the whole world has done to you\".<br /><br />Even though the Burkina Fasso story is more in comedy, there is a the same thought: \"You are angry because Osama Bin Laden punched you in an evil way, but we (The Others = Africans) should be more angry, because our people is dying of hunger, poverty and AIDS long time ago, and nobody pay attention to us like the whole world has done to you\".<br /><br />Look now at the Sean Penn short: The fall of the Twin Towers makes happy to a lonely (and alienated) man. So the message is that the Power and the Greed (symbolized by the Towers) must fall for letting the people see the sun rise and the flowers blossom? It is remarkable that this terrible bottom line has been proposed by an American. There is so much irony in this short film that it is close to be subversive.<br /><br />Well, the Ken Loach (very know because his anti-capitalism ideology) is much more clearly and shameless in going straight to the point: \"You are angry because your country has been attacked by evil forces, but we (The Others = Latin Americans) suffered at a similar date something worst, and nobody remembers our grief as the whole world has done to you\".<br /><br />It is like if the creative of this project wanted to say to Americans: \"You see now, America? You are not the only that have become victim of the world violence, you are not alone in your pain and by the way, we (the Others = the Non Americans) have been suffering a lot more than you from long time ago; so, we are in solidarity with you in your pain... and by the way, we are sorry because you have had some taste of your own medicine\" Only the Mexican and the French short films showed some compassion and sympathy for American people; the others are like a slap on the face for the American State, that is not equal to American People.'\n",
            "1\n",
            "b'Blood Castle (aka Scream of the Demon Lover, Altar of Blood, Ivanna--the best, but least exploitation cinema-sounding title, and so on) is a very traditional Gothic Romance film. That means that it has big, creepy castles, a headstrong young woman, a mysterious older man, hints of horror and the supernatural, and romance elements in the contemporary sense of that genre term. It also means that it is very deliberately paced, and that the film will work best for horror mavens who are big fans of understatement. If you love films like Robert Wise\\'s The Haunting (1963), but you also have a taste for late 1960s/early 1970s Spanish and Italian horror, you may love Blood Castle, as well.<br /><br />Baron Janos Dalmar (Carlos Quiney) lives in a large castle on the outskirts of a traditional, unspecified European village. The locals fear him because legend has it that whenever he beds a woman, she soon after ends up dead--the consensus is that he sets his ferocious dogs on them. This is quite a problem because the Baron has a very healthy appetite for women. At the beginning of the film, yet another woman has turned up dead and mutilated.<br /><br />Meanwhile, Dr. Ivanna Rakowsky (Erna Sch\\xc3\\xbcrer) has appeared in the center of the village, asking to be taken to Baron Dalmar\\'s castle. She\\'s an out-of-towner who has been hired by the Baron for her expertise in chemistry. Of course, no one wants to go near the castle. Finally, Ivanna finds a shady individual (who becomes even shadier) to take her. Once there, an odd woman who lives in the castle, Olga (Cristiana Galloni), rejects Ivanna and says that she shouldn\\'t be there since she\\'s a woman. Baron Dalmar vacillates over whether she should stay. She ends up staying, but somewhat reluctantly. The Baron has hired her to try to reverse the effects of severe burns, which the Baron\\'s brother, Igor, is suffering from.<br /><br />Unfortunately, the Baron\\'s brother appears to be just a lump of decomposing flesh in a vat of bizarre, blackish liquid. And furthermore, Ivanna is having bizarre, hallucinatory dreams. Just what is going on at the castle? Is the Baron responsible for the crimes? Is he insane? <br /><br />I wanted to like Blood Castle more than I did. As I mentioned, the film is very deliberate in its pacing, and most of it is very understated. I can go either way on material like that. I don\\'t care for The Haunting (yes, I\\'m in a very small minority there), but I\\'m a big fan of 1960s and 1970s European horror. One of my favorite directors is Mario Bava. I also love Dario Argento\\'s work from that period. But occasionally, Blood Castle moved a bit too slow for me at times. There are large chunks that amount to scenes of not very exciting talking alternated with scenes of Ivanna slowly walking the corridors of the castle.<br /><br />But the atmosphere of the film is decent. Director Jos\\xc3\\xa9 Luis Merino managed more than passable sets and locations, and they\\'re shot fairly well by Emanuele Di Cola. However, Blood Castle feels relatively low budget, and this is a Roger Corman-produced film, after all (which usually means a low-budget, though often surprisingly high quality \"quickie\"). So while there is a hint of the lushness of Bava\\'s colors and complex set decoration, everything is much more minimalist. Of course, it doesn\\'t help that the Retromedia print I watched looks like a 30-year old photograph that\\'s been left out in the sun too long. It appears \"washed out\", with compromised contrast.<br /><br />Still, Merino and Di Cola occasionally set up fantastic visuals. For example, a scene of Ivanna walking in a darkened hallway that\\'s shot from an exaggerated angle, and where an important plot element is revealed through shadows on a wall only. There are also a couple Ingmar Bergmanesque shots, where actors are exquisitely blocked to imply complex relationships, besides just being visually attractive and pulling your eye deep into the frame.<br /><br />The performances are fairly good, and the women--especially Sch\\xc3\\xbcrer--are very attractive. Merino exploits this fact by incorporating a decent amount of nudity. Sch\\xc3\\xbcrer went on to do a number of films that were as much soft corn porn as they were other genres, with English titles such as Sex Life in a Woman\\'s Prison (1974), Naked and Lustful (1974), Strip Nude for Your Killer (1975) and Erotic Exploits of a Sexy Seducer (1977). Blood Castle is much tamer, but in addition to the nudity, there are still mild scenes suggesting rape and bondage, and of course the scenes mixing sex and death.<br /><br />The primary attraction here, though, is probably the story, which is much a slow-burning romance as anything else. The horror elements, the mystery elements, and a somewhat unexpected twist near the end are bonuses, but in the end, Blood Castle is a love story, about a couple overcoming various difficulties and antagonisms (often with physical threats or harms) to be together.'\n",
            "1\n",
            "b\"Halloween is one of the best examples of independent film. It's very well made and has more psychological elements to it than you might realize at first glance. It is a simple movie told very well. The music is perfect and is one of the most haunting scores... If you haven't seen this movie yet, you must check it out. The cast is all terrific. I wish they had never made sequel after sequel. The first one was by far the best and should have ended like it did without having a sequel. It was fun to see Jamie Lee Curtis in the movie. She hasn't seemed to age (she's just as gorgeous today, without the hairdo and seventies clothes). The scenes through the mask are one of the scariest things ever!\"\n",
            "1\n",
            "b\"Michelle Rodriguez is the defining actress who could be the charging force for other actresses to look out for. She has the audacity to place herself in a rarely seen tough-girl role very early in her career (and pull it off), which is a feat that should be recognized. Although her later films pigeonhole her to that same role, this film was made for her ruggedness.<br /><br />Her character is a romanticized student/fighter/lover, struggling to overcome her disenchanted existence in the projects, which is a little overdone in film...but not by a girl. That aspect of this film isn't very original, but the story goes in depth when the heated relationships that this girl has to deal with come to a boil and her primal rage takes over.<br /><br />I haven't seen an actress take such an aggressive stance in movie-making yet, and I'm glad that she's getting that original twist out there in Hollywood. This film got a 7 from me because of the average story of ghetto youth, but it has such a great actress portraying a rarely-seen role in a minimal budget movie. Great work.\"\n",
            "1\n"
          ]
        }
      ]
    },
    {
      "cell_type": "markdown",
      "metadata": {
        "id": "cLygH6phvW2g"
      },
      "source": [
        "#### Define list to store model performance"
      ]
    },
    {
      "cell_type": "code",
      "metadata": {
        "id": "EG68CbqbvWKg"
      },
      "source": [
        "results = {}"
      ],
      "execution_count": 9,
      "outputs": []
    },
    {
      "cell_type": "markdown",
      "metadata": {
        "id": "mNtvCJUGawfR"
      },
      "source": [
        "#### Helper function to extract results"
      ]
    },
    {
      "cell_type": "code",
      "metadata": {
        "id": "tZpJsTClaytz"
      },
      "source": [
        "def get_results(metrics):\n",
        "  loss = round(metrics[0], 3)\n",
        "  accuracy = round(metrics[1], 3)\n",
        "  precision = round(metrics[2], 3)\n",
        "  recall = round(metrics[3], 3)\n",
        "  return loss, accuracy, precision, recall"
      ],
      "execution_count": 10,
      "outputs": []
    },
    {
      "cell_type": "markdown",
      "metadata": {
        "id": "9u1MUVaKoMq9"
      },
      "source": [
        "# 2 Data Pre-Processing"
      ]
    },
    {
      "cell_type": "markdown",
      "metadata": {
        "id": "IsA9pKy4tLy-"
      },
      "source": [
        "#### Vectorise data"
      ]
    },
    {
      "cell_type": "code",
      "metadata": {
        "id": "OPim7cIQnDGI"
      },
      "source": [
        "# Define custom function\n",
        "def custom_standardization(input_data):\n",
        "    lowercase = tf.strings.lower(input_data)\n",
        "    stripped_html = tf.strings.regex_replace(lowercase, \"<br />\", \" \")\n",
        "    return tf.strings.regex_replace(\n",
        "        stripped_html, f\"[{re.escape(string.punctuation)}]\", \"\"\n",
        "    )\n",
        "\n",
        "# Model constants.\n",
        "max_features = 20000\n",
        "\n",
        "# Instantiate text vectorisation layer to normalize, split, and map strings to integers.\n",
        "# We also set an explicit maximum sequence length, since the CNNs later in our model won't support ragged sequences.\n",
        "vectorize_layer = TextVectorization(\n",
        "    standardize=custom_standardization,\n",
        "    max_tokens=max_features,\n",
        "    output_mode=\"int\",\n",
        "    output_sequence_length=maxlen,\n",
        ")\n",
        "\n",
        "# With vocab layer, call `adapt` on a text-only dataset to create the vocabulary. \n",
        "text_ds = raw_train_ds.map(lambda x, y: x)\n",
        "vectorize_layer.adapt(text_ds)"
      ],
      "execution_count": 11,
      "outputs": []
    },
    {
      "cell_type": "code",
      "metadata": {
        "id": "yG2l-87M3sRL",
        "colab": {
          "base_uri": "https://localhost:8080/"
        },
        "outputId": "a6cad255-4ee2-4863-b9d0-e1ab1aa715d4"
      },
      "source": [
        "print(len(vectorize_layer.get_vocabulary()))\n",
        "print(vectorize_layer.get_vocabulary()[:20])"
      ],
      "execution_count": 12,
      "outputs": [
        {
          "output_type": "stream",
          "name": "stdout",
          "text": [
            "20000\n",
            "['', '[UNK]', 'the', 'and', 'a', 'of', 'to', 'is', 'in', 'it', 'this', 'i', 'that', 'was', 'as', 'for', 'with', 'movie', 'but', 'film']\n"
          ]
        }
      ]
    },
    {
      "cell_type": "code",
      "metadata": {
        "id": "ZB1DJBInpWnO"
      },
      "source": [
        "def vectorize_text(text, label):\n",
        "    text = tf.expand_dims(text, -1)\n",
        "    return vectorize_layer(text), label\n",
        "\n",
        "# Vectorize the data.\n",
        "train_ds = raw_train_ds.map(vectorize_text)\n",
        "val_ds = raw_val_ds.map(vectorize_text)\n",
        "test_ds = raw_test_ds.map(vectorize_text)\n",
        "\n",
        "# Do async prefetching / buffering of the data for best performance on GPU.\n",
        "train_ds = train_ds.cache().prefetch(buffer_size=10)\n",
        "val_ds = val_ds.cache().prefetch(buffer_size=10)\n",
        "test_ds = test_ds.cache().prefetch(buffer_size=10)"
      ],
      "execution_count": 13,
      "outputs": []
    },
    {
      "cell_type": "markdown",
      "metadata": {
        "id": "6pxAX7eO_lbq"
      },
      "source": [
        "#### Inspect vectorised dataset"
      ]
    },
    {
      "cell_type": "code",
      "metadata": {
        "id": "s3CnRHv3pj_N",
        "colab": {
          "base_uri": "https://localhost:8080/"
        },
        "outputId": "db9d1ac6-6695-489b-e0e1-917eb21de184"
      },
      "source": [
        "text_batch, label_batch = next(iter(raw_train_ds))\n",
        "first_review, first_label = text_batch[0], label_batch[0]\n",
        "print(\"Review\", first_review)\n",
        "print(\"Label\", raw_train_ds.class_names[first_label])\n",
        "print(\"Vectorized review\", vectorize_text(first_review, first_label))"
      ],
      "execution_count": 14,
      "outputs": [
        {
          "output_type": "stream",
          "name": "stdout",
          "text": [
            "Review tf.Tensor(b'OK, so the musical pieces were poorly written and generally poorly sung (though Walken and Marner, particularly Walken, sounded pretty good). And so they shattered the fourth wall at the end by having the king and his nobles sing about the \"battle\" with the ogre, and praise the efforts of Puss in Boots when they by rights shouldn\\'t have even known about it.<br /><br />Who cares? It\\'s Christopher Freakin\\' Walken, doing a movie based on a fairy tale, and he sings and dances. His acting style fits the role very well as the devious, mischievous Puss who seems to get his master into deeper and deeper trouble but in fact has a plan he\\'s thought about seven or eight moves in advance. And if you\\'ve ever seen Walken in any of his villainous roles, you *know* the ogre bit the dust HARD at the end when Walken got him into his trap.<br /><br />A fun film, and a must-see for anyone who enjoys the unique style of Christopher Walken.', shape=(), dtype=string)\n",
            "Label pos\n",
            "Vectorized review (<tf.Tensor: shape=(1, 800), dtype=int64, numpy=\n",
            "array([[  566,    37,     2,   622,  1409,    67,   823,   431,     3,\n",
            "         1148,   823,  5510,   148,  3611,     3,     1,   562,  3611,\n",
            "         2724,   179,    49,     3,    37,    34, 10617,     2,  2664,\n",
            "         1620,    30,     2,   125,    32,   254,     2,   706,     3,\n",
            "           23,     1,  1932,    42,     2,   938,    16,     2,  7624,\n",
            "            3,  2727,     2,  1873,     5,     1,     8,  8947,    50,\n",
            "           34,    32,  2496,  1511,    25,    53,   624,    42,     9,\n",
            "           35,  2244,    29,  1373, 15125,  3611,   380,     4,    17,\n",
            "          455,    20,     4,  2606,   798,     3,    26,  3279,     3,\n",
            "         4042,    23,   112,   427,  2456,     2,   207,    52,    73,\n",
            "           14,     2, 10480,  9297,     1,    35,   181,     6,    76,\n",
            "           23,  1258,    77,  2828,     3,  2828,  1117,    18,     8,\n",
            "          186,    43,     4,  1316,   227,   194,    42,  1612,    40,\n",
            "         2457,  1086,     8,  4365,     3,    44,   816,   121,   107,\n",
            "         3611,     8,    98,     5,    23,  7181,   533,    22,   118,\n",
            "            2,  7624,   223,     2,  5002,   264,    30,     2,   125,\n",
            "           50,  3611,   183,    86,    77,    23,  3645,     4,   243,\n",
            "           19,     3,     4,  3435,    15,   248,    35,  3626,     2,\n",
            "          935,   427,     5,  1373,  3611,     0,     0,     0,     0,\n",
            "            0,     0,     0,     0,     0,     0,     0,     0,     0,\n",
            "            0,     0,     0,     0,     0,     0,     0,     0,     0,\n",
            "            0,     0,     0,     0,     0,     0,     0,     0,     0,\n",
            "            0,     0,     0,     0,     0,     0,     0,     0,     0,\n",
            "            0,     0,     0,     0,     0,     0,     0,     0,     0,\n",
            "            0,     0,     0,     0,     0,     0,     0,     0,     0,\n",
            "            0,     0,     0,     0,     0,     0,     0,     0,     0,\n",
            "            0,     0,     0,     0,     0,     0,     0,     0,     0,\n",
            "            0,     0,     0,     0,     0,     0,     0,     0,     0,\n",
            "            0,     0,     0,     0,     0,     0,     0,     0,     0,\n",
            "            0,     0,     0,     0,     0,     0,     0,     0,     0,\n",
            "            0,     0,     0,     0,     0,     0,     0,     0,     0,\n",
            "            0,     0,     0,     0,     0,     0,     0,     0,     0,\n",
            "            0,     0,     0,     0,     0,     0,     0,     0,     0,\n",
            "            0,     0,     0,     0,     0,     0,     0,     0,     0,\n",
            "            0,     0,     0,     0,     0,     0,     0,     0,     0,\n",
            "            0,     0,     0,     0,     0,     0,     0,     0,     0,\n",
            "            0,     0,     0,     0,     0,     0,     0,     0,     0,\n",
            "            0,     0,     0,     0,     0,     0,     0,     0,     0,\n",
            "            0,     0,     0,     0,     0,     0,     0,     0,     0,\n",
            "            0,     0,     0,     0,     0,     0,     0,     0,     0,\n",
            "            0,     0,     0,     0,     0,     0,     0,     0,     0,\n",
            "            0,     0,     0,     0,     0,     0,     0,     0,     0,\n",
            "            0,     0,     0,     0,     0,     0,     0,     0,     0,\n",
            "            0,     0,     0,     0,     0,     0,     0,     0,     0,\n",
            "            0,     0,     0,     0,     0,     0,     0,     0,     0,\n",
            "            0,     0,     0,     0,     0,     0,     0,     0,     0,\n",
            "            0,     0,     0,     0,     0,     0,     0,     0,     0,\n",
            "            0,     0,     0,     0,     0,     0,     0,     0,     0,\n",
            "            0,     0,     0,     0,     0,     0,     0,     0,     0,\n",
            "            0,     0,     0,     0,     0,     0,     0,     0,     0,\n",
            "            0,     0,     0,     0,     0,     0,     0,     0,     0,\n",
            "            0,     0,     0,     0,     0,     0,     0,     0,     0,\n",
            "            0,     0,     0,     0,     0,     0,     0,     0,     0,\n",
            "            0,     0,     0,     0,     0,     0,     0,     0,     0,\n",
            "            0,     0,     0,     0,     0,     0,     0,     0,     0,\n",
            "            0,     0,     0,     0,     0,     0,     0,     0,     0,\n",
            "            0,     0,     0,     0,     0,     0,     0,     0,     0,\n",
            "            0,     0,     0,     0,     0,     0,     0,     0,     0,\n",
            "            0,     0,     0,     0,     0,     0,     0,     0,     0,\n",
            "            0,     0,     0,     0,     0,     0,     0,     0,     0,\n",
            "            0,     0,     0,     0,     0,     0,     0,     0,     0,\n",
            "            0,     0,     0,     0,     0,     0,     0,     0,     0,\n",
            "            0,     0,     0,     0,     0,     0,     0,     0,     0,\n",
            "            0,     0,     0,     0,     0,     0,     0,     0,     0,\n",
            "            0,     0,     0,     0,     0,     0,     0,     0,     0,\n",
            "            0,     0,     0,     0,     0,     0,     0,     0,     0,\n",
            "            0,     0,     0,     0,     0,     0,     0,     0,     0,\n",
            "            0,     0,     0,     0,     0,     0,     0,     0,     0,\n",
            "            0,     0,     0,     0,     0,     0,     0,     0,     0,\n",
            "            0,     0,     0,     0,     0,     0,     0,     0,     0,\n",
            "            0,     0,     0,     0,     0,     0,     0,     0,     0,\n",
            "            0,     0,     0,     0,     0,     0,     0,     0,     0,\n",
            "            0,     0,     0,     0,     0,     0,     0,     0,     0,\n",
            "            0,     0,     0,     0,     0,     0,     0,     0,     0,\n",
            "            0,     0,     0,     0,     0,     0,     0,     0,     0,\n",
            "            0,     0,     0,     0,     0,     0,     0,     0,     0,\n",
            "            0,     0,     0,     0,     0,     0,     0,     0,     0,\n",
            "            0,     0,     0,     0,     0,     0,     0,     0,     0,\n",
            "            0,     0,     0,     0,     0,     0,     0,     0,     0,\n",
            "            0,     0,     0,     0,     0,     0,     0,     0,     0,\n",
            "            0,     0,     0,     0,     0,     0,     0,     0,     0,\n",
            "            0,     0,     0,     0,     0,     0,     0,     0,     0,\n",
            "            0,     0,     0,     0,     0,     0,     0,     0,     0,\n",
            "            0,     0,     0,     0,     0,     0,     0,     0,     0,\n",
            "            0,     0,     0,     0,     0,     0,     0,     0,     0,\n",
            "            0,     0,     0,     0,     0,     0,     0,     0,     0,\n",
            "            0,     0,     0,     0,     0,     0,     0,     0,     0,\n",
            "            0,     0,     0,     0,     0,     0,     0,     0,     0,\n",
            "            0,     0,     0,     0,     0,     0,     0,     0]])>, <tf.Tensor: shape=(), dtype=int32, numpy=1>)\n"
          ]
        }
      ]
    },
    {
      "cell_type": "markdown",
      "metadata": {
        "id": "f6pWc6HXkcvA"
      },
      "source": [
        "# 3 Convolutional Neural Network (CNN)"
      ]
    },
    {
      "cell_type": "markdown",
      "metadata": {
        "id": "WW9Cp32i3FYV"
      },
      "source": [
        "#### Build model"
      ]
    },
    {
      "cell_type": "code",
      "metadata": {
        "id": "7FCmN0HmyPhw"
      },
      "source": [
        "model_cnn = Sequential()\n",
        "model_cnn.add(Embedding(max_features,\n",
        "                     embedding_dims,\n",
        "                     input_length=maxlen))\n",
        "\n",
        "# Convolution and pooling layer 1\n",
        "model_cnn.add(Conv1D(filters,\n",
        "                 kernel_size,\n",
        "                 padding='same',\n",
        "                 activation='tanh',\n",
        "                 strides=1))\n",
        "model_cnn.add(GlobalMaxPooling1D())\n",
        "\n",
        "# Flatten before connecting to dense layer \n",
        "model_cnn.add(Flatten())\n",
        "\n",
        "model_cnn.add(Dense(hidden_dims, activation='tanh'))\n",
        "model_cnn.add(Dropout(0.5))\n",
        "\n",
        "# Project onto a single unit, dense output layer and apply sigmoid activation function\n",
        "# to make 0 or 1 predictions for the two classes (positive or negative).\n",
        "model_cnn.add(Dense(1, activation='sigmoid', name='predictions'))\n",
        "\n",
        "# Use binary_crossentropy loss function as it is a binary classification problem \n",
        "model_cnn.compile(loss='binary_crossentropy', optimizer='adam', metrics=metrics)"
      ],
      "execution_count": 15,
      "outputs": []
    },
    {
      "cell_type": "markdown",
      "metadata": {
        "id": "9V8hHfueRZhz"
      },
      "source": [
        "#### Visualise model"
      ]
    },
    {
      "cell_type": "code",
      "metadata": {
        "id": "EwuGTzOe2kuN",
        "colab": {
          "base_uri": "https://localhost:8080/"
        },
        "outputId": "4299ae6a-5e5d-4d44-ba4f-fddf78a6bb2c"
      },
      "source": [
        "model_cnn.summary()"
      ],
      "execution_count": 16,
      "outputs": [
        {
          "output_type": "stream",
          "name": "stdout",
          "text": [
            "Model: \"sequential\"\n",
            "_________________________________________________________________\n",
            "Layer (type)                 Output Shape              Param #   \n",
            "=================================================================\n",
            "embedding (Embedding)        (None, 800, 50)           1000000   \n",
            "_________________________________________________________________\n",
            "conv1d (Conv1D)              (None, 800, 250)          37750     \n",
            "_________________________________________________________________\n",
            "global_max_pooling1d (Global (None, 250)               0         \n",
            "_________________________________________________________________\n",
            "flatten (Flatten)            (None, 250)               0         \n",
            "_________________________________________________________________\n",
            "dense (Dense)                (None, 128)               32128     \n",
            "_________________________________________________________________\n",
            "dropout (Dropout)            (None, 128)               0         \n",
            "_________________________________________________________________\n",
            "predictions (Dense)          (None, 1)                 129       \n",
            "=================================================================\n",
            "Total params: 1,070,007\n",
            "Trainable params: 1,070,007\n",
            "Non-trainable params: 0\n",
            "_________________________________________________________________\n"
          ]
        }
      ]
    },
    {
      "cell_type": "code",
      "metadata": {
        "id": "DO4llMMDRUha",
        "colab": {
          "base_uri": "https://localhost:8080/",
          "height": 865
        },
        "outputId": "ad25de41-92cc-4914-ee67-80c8880f0e54"
      },
      "source": [
        "plot_model(model_cnn, show_shapes=True)"
      ],
      "execution_count": 17,
      "outputs": [
        {
          "output_type": "execute_result",
          "data": {
            "image/png": "[encoded data removed]",
            "text/plain": [
              "<IPython.core.display.Image object>"
            ]
          },
          "metadata": {},
          "execution_count": 17
        }
      ]
    },
    {
      "cell_type": "markdown",
      "metadata": {
        "id": "JnWGkwij3IrO"
      },
      "source": [
        "#### Train model using train dataset"
      ]
    },
    {
      "cell_type": "code",
      "metadata": {
        "id": "TnJnZDLJkdtj",
        "colab": {
          "base_uri": "https://localhost:8080/"
        },
        "outputId": "1b0f24fe-b0ce-43ec-afa5-e7b47a66bb57"
      },
      "source": [
        "# Fit model using train dataset\n",
        "history_cnn = model_cnn.fit(train_ds,\n",
        "              epochs=epochs,\n",
        "              verbose = 1,\n",
        "              batch_size=batch_size,\n",
        "              validation_data=val_ds,\n",
        "              callbacks=[EarlyStopping(monitor='val_loss',patience=3, min_delta=0.0001)])"
      ],
      "execution_count": 18,
      "outputs": [
        {
          "output_type": "stream",
          "name": "stdout",
          "text": [
            "Epoch 1/10\n",
            "157/157 [==============================] - 41s 66ms/step - loss: 0.5250 - accuracy: 0.7156 - precision: 0.7114 - recall: 0.7232 - val_loss: 0.3443 - val_accuracy: 0.8454 - val_precision: 0.8537 - val_recall: 0.8372\n",
            "Epoch 2/10\n",
            "157/157 [==============================] - 9s 57ms/step - loss: 0.2410 - accuracy: 0.9028 - precision: 0.8997 - recall: 0.9063 - val_loss: 0.2765 - val_accuracy: 0.8858 - val_precision: 0.9000 - val_recall: 0.8704\n",
            "Epoch 3/10\n",
            "157/157 [==============================] - 9s 57ms/step - loss: 0.1097 - accuracy: 0.9631 - precision: 0.9617 - recall: 0.9643 - val_loss: 0.2958 - val_accuracy: 0.8912 - val_precision: 0.8793 - val_recall: 0.9093\n",
            "Epoch 4/10\n",
            "157/157 [==============================] - 9s 57ms/step - loss: 0.0501 - accuracy: 0.9844 - precision: 0.9852 - recall: 0.9835 - val_loss: 0.6894 - val_accuracy: 0.8206 - val_precision: 0.7450 - val_recall: 0.9802\n",
            "Epoch 5/10\n",
            "157/157 [==============================] - 9s 57ms/step - loss: 0.0304 - accuracy: 0.9900 - precision: 0.9894 - recall: 0.9905 - val_loss: 0.3874 - val_accuracy: 0.8910 - val_precision: 0.8998 - val_recall: 0.8823\n"
          ]
        }
      ]
    },
    {
      "cell_type": "code",
      "metadata": {
        "id": "SqQpw_VufOXy",
        "colab": {
          "base_uri": "https://localhost:8080/",
          "height": 281
        },
        "outputId": "497078e1-899c-4685-c55c-6f9fb162c1aa"
      },
      "source": [
        "figure, axis = plt.subplots(2, sharex=True)\n",
        "\n",
        "axis[0].plot(history_cnn.history['loss'], label='train')\n",
        "axis[0].plot(history_cnn.history['val_loss'], label='validation')\n",
        "axis[0].legend()\n",
        "axis[0].set_title('Loss')\n",
        "\n",
        "axis[1].plot(history_cnn.history['accuracy'], label='train')\n",
        "axis[1].plot(history_cnn.history['val_accuracy'], label='validation')\n",
        "axis[1].legend()\n",
        "axis[1].set_title('Accuracy')\n",
        "\n",
        "plt.show()"
      ],
      "execution_count": 19,
      "outputs": [
        {
          "output_type": "display_data",
          "data": {
            "image/png": "[encoded data removed]",
            "text/plain": [
              "<Figure size 432x288 with 2 Axes>"
            ]
          },
          "metadata": {
            "needs_background": "light"
          }
        }
      ]
    },
    {
      "cell_type": "markdown",
      "metadata": {
        "id": "Enb8etY3v81x"
      },
      "source": [
        "#### Evaluate model performance on test dataset"
      ]
    },
    {
      "cell_type": "code",
      "metadata": {
        "id": "45Q6BCam2Wi2",
        "colab": {
          "base_uri": "https://localhost:8080/"
        },
        "outputId": "c3b931fd-c66d-49b4-80d3-543196cdfd12"
      },
      "source": [
        "metrics_cnn = model_cnn.evaluate(test_ds,verbose=1)"
      ],
      "execution_count": 20,
      "outputs": [
        {
          "output_type": "stream",
          "name": "stdout",
          "text": [
            "196/196 [==============================] - 7s 33ms/step - loss: 0.4174 - accuracy: 0.8813 - precision: 0.8937 - recall: 0.8656\n"
          ]
        }
      ]
    },
    {
      "cell_type": "code",
      "metadata": {
        "id": "wJWo8LJAhaWK",
        "colab": {
          "base_uri": "https://localhost:8080/"
        },
        "outputId": "e8f9d169-62c6-45d4-8d0c-1707ecb84ca4"
      },
      "source": [
        "loss_cnn, accuracy_cnn, precision_cnn, recall_cnn = get_results(metrics_cnn)\n",
        "print('Model performance on test set:\\nLoss: {}\\nAccuracy: {}\\nPrecision: {}\\nRecall: {}\\n'.format(loss_cnn, accuracy_cnn, precision_cnn, recall_cnn))"
      ],
      "execution_count": 21,
      "outputs": [
        {
          "output_type": "stream",
          "name": "stdout",
          "text": [
            "Model performance on test set:\n",
            "Loss: 0.417\n",
            "Accuracy: 0.881\n",
            "Precision: 0.894\n",
            "Recall: 0.866\n",
            "\n"
          ]
        }
      ]
    },
    {
      "cell_type": "code",
      "metadata": {
        "id": "AYuB0yEUcm89"
      },
      "source": [
        "results['CNN'] = {\n",
        "    'Loss': loss_cnn,\n",
        "    'Accuracy': accuracy_cnn,\n",
        "    'Precision': precision_cnn, \n",
        "    'Recall': recall_cnn,\n",
        "    'F1': round( 2*((precision_cnn * recall_cnn) / (precision_cnn + recall_cnn)), 3 )\n",
        "  }"
      ],
      "execution_count": 22,
      "outputs": []
    },
    {
      "cell_type": "markdown",
      "metadata": {
        "id": "H0iXLoWpkd6-"
      },
      "source": [
        "# 4 Long Short-Term Memory (LSTM) "
      ]
    },
    {
      "cell_type": "markdown",
      "metadata": {
        "id": "Ctvh_HOX0foK"
      },
      "source": [
        "### Build model"
      ]
    },
    {
      "cell_type": "code",
      "metadata": {
        "id": "ZPPlmifnkgAZ"
      },
      "source": [
        "model_lstm = Sequential()\n",
        "model_lstm.add(Embedding(max_features,\n",
        "                     embedding_dims,\n",
        "                     input_length=maxlen))\n",
        "\n",
        "model_lstm.add(LSTM(120, return_sequences=True))\n",
        "model_lstm.add(GlobalMaxPooling1D())\n",
        "\n",
        "model_lstm.add(Dense(1, activation='sigmoid', name='predictions'))\n",
        "\n",
        "model_lstm.compile(loss='binary_crossentropy', optimizer='adam', metrics=metrics)"
      ],
      "execution_count": 23,
      "outputs": []
    },
    {
      "cell_type": "markdown",
      "metadata": {
        "id": "GFNhKJDrRKTp"
      },
      "source": [
        "#### Visualise model"
      ]
    },
    {
      "cell_type": "code",
      "metadata": {
        "id": "n0breL5Izr4S",
        "colab": {
          "base_uri": "https://localhost:8080/"
        },
        "outputId": "7f6a6324-4b8b-4c51-e855-aa1b97df7752"
      },
      "source": [
        "model_lstm.summary()"
      ],
      "execution_count": 24,
      "outputs": [
        {
          "output_type": "stream",
          "name": "stdout",
          "text": [
            "Model: \"sequential_1\"\n",
            "_________________________________________________________________\n",
            "Layer (type)                 Output Shape              Param #   \n",
            "=================================================================\n",
            "embedding_1 (Embedding)      (None, 800, 50)           1000000   \n",
            "_________________________________________________________________\n",
            "lstm (LSTM)                  (None, 800, 120)          82080     \n",
            "_________________________________________________________________\n",
            "global_max_pooling1d_1 (Glob (None, 120)               0         \n",
            "_________________________________________________________________\n",
            "predictions (Dense)          (None, 1)                 121       \n",
            "=================================================================\n",
            "Total params: 1,082,201\n",
            "Trainable params: 1,082,201\n",
            "Non-trainable params: 0\n",
            "_________________________________________________________________\n"
          ]
        }
      ]
    },
    {
      "cell_type": "code",
      "metadata": {
        "id": "bAcYTf8xQil7",
        "colab": {
          "base_uri": "https://localhost:8080/",
          "height": 533
        },
        "outputId": "15960bc0-a1cb-4ffe-876e-50e370247180"
      },
      "source": [
        "plot_model(model_lstm, show_shapes=True)"
      ],
      "execution_count": 25,
      "outputs": [
        {
          "output_type": "execute_result",
          "data": {
            "image/png": "[encoded data removed]",
            "text/plain": [
              "<IPython.core.display.Image object>"
            ]
          },
          "metadata": {},
          "execution_count": 25
        }
      ]
    },
    {
      "cell_type": "markdown",
      "metadata": {
        "id": "De53SxX-z8JF"
      },
      "source": [
        "#### Train model using train dataset"
      ]
    },
    {
      "cell_type": "code",
      "metadata": {
        "id": "l_H0Y9exz8JF",
        "colab": {
          "base_uri": "https://localhost:8080/"
        },
        "outputId": "59818b57-3899-4816-f525-e981cb3ad524"
      },
      "source": [
        "# Fit model using train dataset\n",
        "history_lstm = model_lstm.fit(train_ds,\n",
        "              epochs=epochs,\n",
        "              batch_size=batch_size,\n",
        "              validation_data=val_ds,\n",
        "              callbacks=[EarlyStopping(monitor='val_loss',patience=3, min_delta=0.0001)])"
      ],
      "execution_count": 26,
      "outputs": [
        {
          "output_type": "stream",
          "name": "stdout",
          "text": [
            "Epoch 1/10\n",
            "157/157 [==============================] - 31s 180ms/step - loss: 0.6499 - accuracy: 0.6400 - precision: 0.6362 - recall: 0.6502 - val_loss: 0.5115 - val_accuracy: 0.7676 - val_precision: 0.7679 - val_recall: 0.7734\n",
            "Epoch 2/10\n",
            "157/157 [==============================] - 27s 175ms/step - loss: 0.3856 - accuracy: 0.8413 - precision: 0.8560 - recall: 0.8197 - val_loss: 0.3146 - val_accuracy: 0.8644 - val_precision: 0.8470 - val_recall: 0.8926\n",
            "Epoch 3/10\n",
            "157/157 [==============================] - 28s 176ms/step - loss: 0.2183 - accuracy: 0.9186 - precision: 0.9177 - recall: 0.9191 - val_loss: 0.3473 - val_accuracy: 0.8590 - val_precision: 0.8139 - val_recall: 0.9342\n",
            "Epoch 4/10\n",
            "157/157 [==============================] - 27s 175ms/step - loss: 0.1475 - accuracy: 0.9510 - precision: 0.9504 - recall: 0.9515 - val_loss: 0.4230 - val_accuracy: 0.8644 - val_precision: 0.8306 - val_recall: 0.9188\n",
            "Epoch 5/10\n",
            "157/157 [==============================] - 28s 177ms/step - loss: 0.1043 - accuracy: 0.9665 - precision: 0.9670 - recall: 0.9658 - val_loss: 0.4313 - val_accuracy: 0.8640 - val_precision: 0.9083 - val_recall: 0.8126\n"
          ]
        }
      ]
    },
    {
      "cell_type": "code",
      "metadata": {
        "id": "WvLEeIXEz8JG",
        "colab": {
          "base_uri": "https://localhost:8080/",
          "height": 281
        },
        "outputId": "57f0e4a8-ec48-4952-8b98-c3590da0241e"
      },
      "source": [
        "figure, axis = plt.subplots(2, sharex=True)\n",
        "\n",
        "axis[0].plot(history_lstm.history['loss'], label='train')\n",
        "axis[0].plot(history_lstm.history['val_loss'], label='validation')\n",
        "axis[0].legend()\n",
        "axis[0].set_title('Loss')\n",
        "\n",
        "axis[1].plot(history_lstm.history['accuracy'], label='train')\n",
        "axis[1].plot(history_lstm.history['val_accuracy'], label='validation')\n",
        "axis[1].legend()\n",
        "axis[1].set_title('Accuracy')\n",
        "\n",
        "plt.show()"
      ],
      "execution_count": 27,
      "outputs": [
        {
          "output_type": "display_data",
          "data": {
            "image/png": "[encoded data removed]",
            "text/plain": [
              "<Figure size 432x288 with 2 Axes>"
            ]
          },
          "metadata": {
            "needs_background": "light"
          }
        }
      ]
    },
    {
      "cell_type": "markdown",
      "metadata": {
        "id": "0pRbr9Snz8JG"
      },
      "source": [
        "#### Evaluate model performance on test dataset"
      ]
    },
    {
      "cell_type": "code",
      "metadata": {
        "id": "Kb1_h4ekz8JG",
        "colab": {
          "base_uri": "https://localhost:8080/"
        },
        "outputId": "09ec3c40-d5b0-46f3-9aaa-dac4abde522a"
      },
      "source": [
        "metrics_lstm = model_lstm.evaluate(test_ds,verbose=1)"
      ],
      "execution_count": 28,
      "outputs": [
        {
          "output_type": "stream",
          "name": "stdout",
          "text": [
            "196/196 [==============================] - 11s 55ms/step - loss: 0.5056 - accuracy: 0.8401 - precision: 0.9078 - recall: 0.7571\n"
          ]
        }
      ]
    },
    {
      "cell_type": "code",
      "metadata": {
        "id": "FMytDZS9z8JG",
        "colab": {
          "base_uri": "https://localhost:8080/"
        },
        "outputId": "e7d42767-dbd8-4cad-c495-503692cd5dcc"
      },
      "source": [
        "loss_lstm, accuracy_lstm, precision_lstm, recall_lstm = get_results(metrics_lstm)\n",
        "print('Model performance on test set:\\nLoss: {}\\nAccuracy: {}\\nPrecision: {}\\nRecall: {}\\n'.format(loss_lstm, accuracy_lstm, precision_lstm, recall_lstm))"
      ],
      "execution_count": 29,
      "outputs": [
        {
          "output_type": "stream",
          "name": "stdout",
          "text": [
            "Model performance on test set:\n",
            "Loss: 0.506\n",
            "Accuracy: 0.84\n",
            "Precision: 0.908\n",
            "Recall: 0.757\n",
            "\n"
          ]
        }
      ]
    },
    {
      "cell_type": "code",
      "metadata": {
        "id": "HLzo0Kgfz8JG"
      },
      "source": [
        "results['LSTM'] = {\n",
        "    'Loss': loss_lstm,\n",
        "    'Accuracy': accuracy_lstm,\n",
        "    'Precision': precision_lstm, \n",
        "    'Recall': recall_lstm,\n",
        "    'F1': round( 2*((precision_lstm * recall_lstm) / (precision_lstm + recall_lstm)), 3 )\n",
        "  }"
      ],
      "execution_count": 30,
      "outputs": []
    },
    {
      "cell_type": "markdown",
      "metadata": {
        "id": "oO-uFahvkgG8"
      },
      "source": [
        "# 5 Model Comparison\n",
        "The results are summarised in the DataFrame below."
      ]
    },
    {
      "cell_type": "code",
      "metadata": {
        "id": "XKQ0ebz2kiIg",
        "colab": {
          "base_uri": "https://localhost:8080/",
          "height": 204
        },
        "outputId": "1d8f96c7-d0d0-4936-a70b-272ae654ec20"
      },
      "source": [
        "pd.DataFrame(results)"
      ],
      "execution_count": 31,
      "outputs": [
        {
          "output_type": "execute_result",
          "data": {
            "text/html": [
              "<div>\n",
              "<style scoped>\n",
              "    .dataframe tbody tr th:only-of-type {\n",
              "        vertical-align: middle;\n",
              "    }\n",
              "\n",
              "    .dataframe tbody tr th {\n",
              "        vertical-align: top;\n",
              "    }\n",
              "\n",
              "    .dataframe thead th {\n",
              "        text-align: right;\n",
              "    }\n",
              "</style>\n",
              "<table border=\"1\" class=\"dataframe\">\n",
              "  <thead>\n",
              "    <tr style=\"text-align: right;\">\n",
              "      <th></th>\n",
              "      <th>CNN</th>\n",
              "      <th>LSTM</th>\n",
              "    </tr>\n",
              "  </thead>\n",
              "  <tbody>\n",
              "    <tr>\n",
              "      <th>Loss</th>\n",
              "      <td>0.417</td>\n",
              "      <td>0.506</td>\n",
              "    </tr>\n",
              "    <tr>\n",
              "      <th>Accuracy</th>\n",
              "      <td>0.881</td>\n",
              "      <td>0.840</td>\n",
              "    </tr>\n",
              "    <tr>\n",
              "      <th>Precision</th>\n",
              "      <td>0.894</td>\n",
              "      <td>0.908</td>\n",
              "    </tr>\n",
              "    <tr>\n",
              "      <th>Recall</th>\n",
              "      <td>0.866</td>\n",
              "      <td>0.757</td>\n",
              "    </tr>\n",
              "    <tr>\n",
              "      <th>F1</th>\n",
              "      <td>0.880</td>\n",
              "      <td>0.826</td>\n",
              "    </tr>\n",
              "  </tbody>\n",
              "</table>\n",
              "</div>"
            ],
            "text/plain": [
              "             CNN   LSTM\n",
              "Loss       0.417  0.506\n",
              "Accuracy   0.881  0.840\n",
              "Precision  0.894  0.908\n",
              "Recall     0.866  0.757\n",
              "F1         0.880  0.826"
            ]
          },
          "metadata": {},
          "execution_count": 31
        }
      ]
    },
    {
      "cell_type": "markdown",
      "metadata": {
        "id": "x2Z_3w0MM7-Y"
      },
      "source": [
        "From the results, we see that CNN performed better than LSTM, achieving a higher accuracy (0.886 vs 0.853), precision (0.885 vs 0.822), and F1 scores (0.887 vs 0.859). Recall scores are comparable for both models. \n",
        "\n",
        "We see that CNN performed better than LSTM. This is likely because whether a review is negative or positive can be determined by a window of local features, something that CNN can more accurately identify.\n",
        "\n",
        "On the other hand, the sequential and hence contextual information that RNN can identify may not be as significant in this sentiment analysis. Furthermore, there is a higher risk of bias and hence overfitting when using LSTM."
      ]
    },
    {
      "cell_type": "markdown",
      "metadata": {
        "id": "h7iDzOQoAf7m"
      },
      "source": [
        "Comments on CNN:\n",
        "1. CNN is useful to recognise patterns across space as it extracts local and position-invariant features.\n",
        "3. CNN is computationally faster as it allows for parallelization over every element in the word sequence.\n",
        "4. CNN is better when feature detection in text is more important but it is difficult to obtain contextual information."
      ]
    },
    {
      "cell_type": "markdown",
      "metadata": {
        "id": "ZjFYxz_ZAf3O"
      },
      "source": [
        "Comments on LSTM/RNN:\n",
        "1. LSTM/RNN is useful to recognise patterns across time as it captures long-term dependencies between word sequences.\n",
        "2. LSTM/RNN is ideal for sequential data when the current step is related with the previous steps or datasets with a time component. \n",
        "3. LSTM/RNN is better when sequential modeling is more important but the order of words can lead to bias. "
      ]
    },
    {
      "cell_type": "markdown",
      "metadata": {
        "id": "-g5O4FdA_DeX"
      },
      "source": [
        "# 6 Additional Insights"
      ]
    },
    {
      "cell_type": "markdown",
      "metadata": {
        "id": "8H22pRXrMaic"
      },
      "source": [
        "#### Insight 1: Wide vs deep neural network"
      ]
    },
    {
      "cell_type": "markdown",
      "metadata": {
        "id": "VV0LS1vjNVFP"
      },
      "source": [
        "Deep neural network (6 layers of CNN followed by 3 fully connected layers)"
      ]
    },
    {
      "cell_type": "code",
      "metadata": {
        "id": "zYZmiZhnMfrX"
      },
      "source": [
        "embedding_dims = 10\n",
        "# Define model\n",
        "model_deep = Sequential()\n",
        "model_deep.add(Embedding(max_features, embedding_dims, input_length=maxlen))\n",
        "# Convolutional layer\n",
        "model_deep.add(Conv1D(filters, kernel_size, padding='same', activation='tanh', strides=1))\n",
        "model_deep.add(MaxPooling1D(pool_size=2))\n",
        "# More convolutional layers\n",
        "for i in range(3):\n",
        "  model_deep.add(Conv1D(filters, kernel_size, padding='same', activation='tanh', strides=1))\n",
        "  model_deep.add(MaxPooling1D(pool_size=2))\n",
        "model_deep.add(Flatten())\n",
        "# Fully connected layer\n",
        "model_deep.add(Dense(hidden_dims, activation='tanh'))\n",
        "model_deep.add(Dropout(0.5))\n",
        "model_deep.add(Dense(1, activation='sigmoid', name='predictions'))\n",
        "# Compile\n",
        "model_deep.compile(loss='binary_crossentropy', optimizer='adam', metrics=metrics)"
      ],
      "execution_count": 32,
      "outputs": []
    },
    {
      "cell_type": "code",
      "metadata": {
        "colab": {
          "base_uri": "https://localhost:8080/"
        },
        "id": "LE6eDpyvWEJw",
        "outputId": "e640ba9f-e2ca-4ff1-a597-a225bcf03f38"
      },
      "source": [
        "print('Total number of parameters for model_cnn: 1,070,007')\n",
        "model_deep.summary()"
      ],
      "execution_count": 33,
      "outputs": [
        {
          "output_type": "stream",
          "name": "stdout",
          "text": [
            "Total number of parameters for model_cnn: 1,070,007\n",
            "Model: \"sequential_2\"\n",
            "_________________________________________________________________\n",
            "Layer (type)                 Output Shape              Param #   \n",
            "=================================================================\n",
            "embedding_2 (Embedding)      (None, 800, 10)           200000    \n",
            "_________________________________________________________________\n",
            "conv1d_1 (Conv1D)            (None, 800, 250)          7750      \n",
            "_________________________________________________________________\n",
            "max_pooling1d (MaxPooling1D) (None, 400, 250)          0         \n",
            "_________________________________________________________________\n",
            "conv1d_2 (Conv1D)            (None, 400, 250)          187750    \n",
            "_________________________________________________________________\n",
            "max_pooling1d_1 (MaxPooling1 (None, 200, 250)          0         \n",
            "_________________________________________________________________\n",
            "conv1d_3 (Conv1D)            (None, 200, 250)          187750    \n",
            "_________________________________________________________________\n",
            "max_pooling1d_2 (MaxPooling1 (None, 100, 250)          0         \n",
            "_________________________________________________________________\n",
            "conv1d_4 (Conv1D)            (None, 100, 250)          187750    \n",
            "_________________________________________________________________\n",
            "max_pooling1d_3 (MaxPooling1 (None, 50, 250)           0         \n",
            "_________________________________________________________________\n",
            "flatten_1 (Flatten)          (None, 12500)             0         \n",
            "_________________________________________________________________\n",
            "dense_1 (Dense)              (None, 128)               1600128   \n",
            "_________________________________________________________________\n",
            "dropout_1 (Dropout)          (None, 128)               0         \n",
            "_________________________________________________________________\n",
            "predictions (Dense)          (None, 1)                 129       \n",
            "=================================================================\n",
            "Total params: 2,371,257\n",
            "Trainable params: 2,371,257\n",
            "Non-trainable params: 0\n",
            "_________________________________________________________________\n"
          ]
        }
      ]
    },
    {
      "cell_type": "code",
      "metadata": {
        "id": "x74IT1TbZ4Q5",
        "colab": {
          "base_uri": "https://localhost:8080/"
        },
        "outputId": "1e504b47-4071-4f8d-d6af-de78269d089f"
      },
      "source": [
        "history_deep = model_deep.fit(train_ds, epochs=epochs, batch_size=batch_size, validation_data=val_ds,\n",
        "              callbacks=[EarlyStopping(monitor='val_loss',patience=3, min_delta=0.0001)])\n",
        "metrics_deep = model_deep.evaluate(test_ds,verbose=0)"
      ],
      "execution_count": 34,
      "outputs": [
        {
          "output_type": "stream",
          "name": "stdout",
          "text": [
            "Epoch 1/10\n",
            "157/157 [==============================] - 24s 141ms/step - loss: 0.5050 - accuracy: 0.7209 - precision: 0.7255 - recall: 0.7085 - val_loss: 0.3079 - val_accuracy: 0.8758 - val_precision: 0.8879 - val_recall: 0.8629\n",
            "Epoch 2/10\n",
            "157/157 [==============================] - 22s 137ms/step - loss: 0.2161 - accuracy: 0.9159 - precision: 0.9130 - recall: 0.9189 - val_loss: 0.3495 - val_accuracy: 0.8650 - val_precision: 0.9025 - val_recall: 0.8213\n",
            "Epoch 3/10\n",
            "157/157 [==============================] - 21s 136ms/step - loss: 0.1543 - accuracy: 0.9426 - precision: 0.9426 - recall: 0.9424 - val_loss: 0.4022 - val_accuracy: 0.8568 - val_precision: 0.8726 - val_recall: 0.8387\n",
            "Epoch 4/10\n",
            "157/157 [==============================] - 21s 137ms/step - loss: 0.1203 - accuracy: 0.9553 - precision: 0.9560 - recall: 0.9542 - val_loss: 0.5400 - val_accuracy: 0.8344 - val_precision: 0.7806 - val_recall: 0.9346\n"
          ]
        }
      ]
    },
    {
      "cell_type": "code",
      "metadata": {
        "colab": {
          "base_uri": "https://localhost:8080/",
          "height": 204
        },
        "id": "pmwiggW9aiXY",
        "outputId": "77779907-e276-48c9-9a97-eba434fbc628"
      },
      "source": [
        "# Store results\n",
        "loss_deep, accuracy_deep, precision_deep, recall_deep = get_results(metrics_deep)\n",
        "results['CNN (Deep2)'] = {\n",
        "    'Loss': loss_deep,\n",
        "    'Accuracy': accuracy_deep,\n",
        "    'Precision': precision_deep, \n",
        "    'Recall': recall_deep,\n",
        "    'F1': round( 2*((precision_deep * recall_deep) / (precision_deep + recall_deep)), 3 )\n",
        "  } \n",
        "pd.DataFrame(results)"
      ],
      "execution_count": 35,
      "outputs": [
        {
          "output_type": "execute_result",
          "data": {
            "text/html": [
              "<div>\n",
              "<style scoped>\n",
              "    .dataframe tbody tr th:only-of-type {\n",
              "        vertical-align: middle;\n",
              "    }\n",
              "\n",
              "    .dataframe tbody tr th {\n",
              "        vertical-align: top;\n",
              "    }\n",
              "\n",
              "    .dataframe thead th {\n",
              "        text-align: right;\n",
              "    }\n",
              "</style>\n",
              "<table border=\"1\" class=\"dataframe\">\n",
              "  <thead>\n",
              "    <tr style=\"text-align: right;\">\n",
              "      <th></th>\n",
              "      <th>CNN</th>\n",
              "      <th>LSTM</th>\n",
              "      <th>CNN (Deep2)</th>\n",
              "    </tr>\n",
              "  </thead>\n",
              "  <tbody>\n",
              "    <tr>\n",
              "      <th>Loss</th>\n",
              "      <td>0.417</td>\n",
              "      <td>0.506</td>\n",
              "      <td>0.563</td>\n",
              "    </tr>\n",
              "    <tr>\n",
              "      <th>Accuracy</th>\n",
              "      <td>0.881</td>\n",
              "      <td>0.840</td>\n",
              "      <td>0.828</td>\n",
              "    </tr>\n",
              "    <tr>\n",
              "      <th>Precision</th>\n",
              "      <td>0.894</td>\n",
              "      <td>0.908</td>\n",
              "      <td>0.777</td>\n",
              "    </tr>\n",
              "    <tr>\n",
              "      <th>Recall</th>\n",
              "      <td>0.866</td>\n",
              "      <td>0.757</td>\n",
              "      <td>0.920</td>\n",
              "    </tr>\n",
              "    <tr>\n",
              "      <th>F1</th>\n",
              "      <td>0.880</td>\n",
              "      <td>0.826</td>\n",
              "      <td>0.842</td>\n",
              "    </tr>\n",
              "  </tbody>\n",
              "</table>\n",
              "</div>"
            ],
            "text/plain": [
              "             CNN   LSTM  CNN (Deep2)\n",
              "Loss       0.417  0.506        0.563\n",
              "Accuracy   0.881  0.840        0.828\n",
              "Precision  0.894  0.908        0.777\n",
              "Recall     0.866  0.757        0.920\n",
              "F1         0.880  0.826        0.842"
            ]
          },
          "metadata": {},
          "execution_count": 35
        }
      ]
    },
    {
      "cell_type": "markdown",
      "metadata": {
        "id": "U5538vzD8ySm"
      },
      "source": [
        "#### Insight 2: Different CNN/LSTM models\n",
        "Different scholars have tried different combinations of CNN and LSTM layers in order to improve model performance. I will attempt two variations and compare their performaces."
      ]
    },
    {
      "cell_type": "markdown",
      "metadata": {
        "id": "mrm2sTTcFXYZ"
      },
      "source": [
        "Variation 1: CNN + LSTM"
      ]
    },
    {
      "cell_type": "code",
      "metadata": {
        "id": "d9RWcKjwN0n7"
      },
      "source": [
        "# Define model\n",
        "model_cnn_lstm = Sequential()\n",
        "model_cnn_lstm.add(Embedding(max_features, embedding_dims, input_length=maxlen))\n",
        "# Convolutional layer\n",
        "model_cnn_lstm.add(Conv1D(filters, kernel_size, padding='same', activation='tanh', strides=1))\n",
        "model_cnn_lstm.add(MaxPooling1D(pool_size=2))\n",
        "# LSTM layer\n",
        "model_cnn_lstm.add(LSTM(120, return_sequences=True))\n",
        "model_cnn_lstm.add(GlobalMaxPooling1D())\n",
        "model_cnn_lstm.add(Flatten())\n",
        "# Fully connected layer\n",
        "model_cnn_lstm.add(Dense(hidden_dims, activation='tanh'))\n",
        "model_cnn_lstm.add(Dropout(0.5))\n",
        "model_cnn_lstm.add(Dense(1, activation='sigmoid', name='predictions'))\n",
        "# Compile and fit\n",
        "model_cnn_lstm.compile(loss='binary_crossentropy', optimizer='adam', metrics=metrics)\n",
        "history_cnn_lstm = model_cnn_lstm.fit(train_ds, epochs=epochs, verbose = 0,\n",
        "                                      batch_size=batch_size, validation_data=val_ds,\n",
        "                                      callbacks=[EarlyStopping(monitor='val_loss',patience=3, min_delta=0.0001)])\n",
        "metrics_cnn_lstm = model_cnn_lstm.evaluate(test_ds,verbose=0)"
      ],
      "execution_count": 36,
      "outputs": []
    },
    {
      "cell_type": "code",
      "metadata": {
        "colab": {
          "base_uri": "https://localhost:8080/",
          "height": 204
        },
        "id": "shK04XZhkgMM",
        "outputId": "d1c54460-cdd7-4f63-98ce-05596c5825dc"
      },
      "source": [
        "# Store results\n",
        "loss_cnn_lstm, accuracy_cnn_lstm, precision_cnn_lstm, recall_cnn_lstm = get_results(metrics_cnn_lstm)\n",
        "results['CNN & LSTM'] = {\n",
        "    'Loss': loss_cnn_lstm,\n",
        "    'Accuracy': accuracy_cnn_lstm,\n",
        "    'Precision': precision_cnn_lstm, \n",
        "    'Recall': recall_cnn_lstm,\n",
        "    'F1': round( 2*((precision_cnn_lstm * recall_cnn_lstm) / (precision_cnn_lstm + recall_cnn_lstm)), 3 )\n",
        "  } \n",
        "pd.DataFrame(results)"
      ],
      "execution_count": 37,
      "outputs": [
        {
          "output_type": "execute_result",
          "data": {
            "text/html": [
              "<div>\n",
              "<style scoped>\n",
              "    .dataframe tbody tr th:only-of-type {\n",
              "        vertical-align: middle;\n",
              "    }\n",
              "\n",
              "    .dataframe tbody tr th {\n",
              "        vertical-align: top;\n",
              "    }\n",
              "\n",
              "    .dataframe thead th {\n",
              "        text-align: right;\n",
              "    }\n",
              "</style>\n",
              "<table border=\"1\" class=\"dataframe\">\n",
              "  <thead>\n",
              "    <tr style=\"text-align: right;\">\n",
              "      <th></th>\n",
              "      <th>CNN</th>\n",
              "      <th>LSTM</th>\n",
              "      <th>CNN (Deep2)</th>\n",
              "      <th>CNN &amp; LSTM</th>\n",
              "    </tr>\n",
              "  </thead>\n",
              "  <tbody>\n",
              "    <tr>\n",
              "      <th>Loss</th>\n",
              "      <td>0.417</td>\n",
              "      <td>0.506</td>\n",
              "      <td>0.563</td>\n",
              "      <td>0.615</td>\n",
              "    </tr>\n",
              "    <tr>\n",
              "      <th>Accuracy</th>\n",
              "      <td>0.881</td>\n",
              "      <td>0.840</td>\n",
              "      <td>0.828</td>\n",
              "      <td>0.800</td>\n",
              "    </tr>\n",
              "    <tr>\n",
              "      <th>Precision</th>\n",
              "      <td>0.894</td>\n",
              "      <td>0.908</td>\n",
              "      <td>0.777</td>\n",
              "      <td>0.935</td>\n",
              "    </tr>\n",
              "    <tr>\n",
              "      <th>Recall</th>\n",
              "      <td>0.866</td>\n",
              "      <td>0.757</td>\n",
              "      <td>0.920</td>\n",
              "      <td>0.644</td>\n",
              "    </tr>\n",
              "    <tr>\n",
              "      <th>F1</th>\n",
              "      <td>0.880</td>\n",
              "      <td>0.826</td>\n",
              "      <td>0.842</td>\n",
              "      <td>0.763</td>\n",
              "    </tr>\n",
              "  </tbody>\n",
              "</table>\n",
              "</div>"
            ],
            "text/plain": [
              "             CNN   LSTM  CNN (Deep2)  CNN & LSTM\n",
              "Loss       0.417  0.506        0.563       0.615\n",
              "Accuracy   0.881  0.840        0.828       0.800\n",
              "Precision  0.894  0.908        0.777       0.935\n",
              "Recall     0.866  0.757        0.920       0.644\n",
              "F1         0.880  0.826        0.842       0.763"
            ]
          },
          "metadata": {},
          "execution_count": 37
        }
      ]
    },
    {
      "cell_type": "markdown",
      "metadata": {
        "id": "lhf-_Bf0N1Bs"
      },
      "source": [
        "Variation 2: Bidirectional LSTM"
      ]
    },
    {
      "cell_type": "code",
      "metadata": {
        "id": "cla3MvlTN-Ew"
      },
      "source": [
        "# Define model\n",
        "model_bilstm = Sequential()\n",
        "model_bilstm.add(Embedding(max_features, embedding_dims, input_length=maxlen))\n",
        "# Bi-directional LSTM\n",
        "model_bilstm.add(Bidirectional(LSTM(120, return_sequences = True)))\n",
        "model_bilstm.add(GlobalMaxPooling1D())\n",
        "model_bilstm.add(Flatten())\n",
        "# Fully connected layer\n",
        "model_bilstm.add(Dense(hidden_dims, activation='tanh'))\n",
        "model_bilstm.add(Dropout(0.5))\n",
        "model_bilstm.add(Dense(1, activation=\"sigmoid\"))\n",
        "# Compile and fit\n",
        "model_bilstm.compile(loss='binary_crossentropy', optimizer='adam', metrics=metrics)\n",
        "history_bilstm = model_bilstm.fit(train_ds, epochs=epochs, verbose = 0,\n",
        "                                      batch_size=batch_size, validation_data=val_ds,\n",
        "                                      callbacks=[EarlyStopping(monitor='val_loss',patience=3, min_delta=0.0001)])\n",
        "metrics_bilstm = model_bilstm.evaluate(test_ds,verbose=0)"
      ],
      "execution_count": 38,
      "outputs": []
    },
    {
      "cell_type": "code",
      "metadata": {
        "colab": {
          "base_uri": "https://localhost:8080/",
          "height": 204
        },
        "id": "Nlj64a03lA9o",
        "outputId": "ea40bf38-64a3-4b88-b4c5-d996e2f6c61f"
      },
      "source": [
        "# Store results\n",
        "loss_bilstm, accuracy_bilstm, precision_bilstm, recall_bilstm = get_results(metrics_bilstm)\n",
        "results['Bi-Direc. LSTM'] = {\n",
        "    'Loss': loss_bilstm,\n",
        "    'Accuracy': accuracy_bilstm,\n",
        "    'Precision': precision_bilstm, \n",
        "    'Recall': recall_bilstm,\n",
        "    'F1': round( 2*((precision_bilstm * recall_bilstm) / (precision_bilstm + recall_bilstm)), 3 )\n",
        "  } \n",
        "pd.DataFrame(results)"
      ],
      "execution_count": 39,
      "outputs": [
        {
          "output_type": "execute_result",
          "data": {
            "text/html": [
              "<div>\n",
              "<style scoped>\n",
              "    .dataframe tbody tr th:only-of-type {\n",
              "        vertical-align: middle;\n",
              "    }\n",
              "\n",
              "    .dataframe tbody tr th {\n",
              "        vertical-align: top;\n",
              "    }\n",
              "\n",
              "    .dataframe thead th {\n",
              "        text-align: right;\n",
              "    }\n",
              "</style>\n",
              "<table border=\"1\" class=\"dataframe\">\n",
              "  <thead>\n",
              "    <tr style=\"text-align: right;\">\n",
              "      <th></th>\n",
              "      <th>CNN</th>\n",
              "      <th>LSTM</th>\n",
              "      <th>CNN (Deep2)</th>\n",
              "      <th>CNN &amp; LSTM</th>\n",
              "      <th>Bi-Direc. LSTM</th>\n",
              "    </tr>\n",
              "  </thead>\n",
              "  <tbody>\n",
              "    <tr>\n",
              "      <th>Loss</th>\n",
              "      <td>0.417</td>\n",
              "      <td>0.506</td>\n",
              "      <td>0.563</td>\n",
              "      <td>0.615</td>\n",
              "      <td>0.513</td>\n",
              "    </tr>\n",
              "    <tr>\n",
              "      <th>Accuracy</th>\n",
              "      <td>0.881</td>\n",
              "      <td>0.840</td>\n",
              "      <td>0.828</td>\n",
              "      <td>0.800</td>\n",
              "      <td>0.843</td>\n",
              "    </tr>\n",
              "    <tr>\n",
              "      <th>Precision</th>\n",
              "      <td>0.894</td>\n",
              "      <td>0.908</td>\n",
              "      <td>0.777</td>\n",
              "      <td>0.935</td>\n",
              "      <td>0.785</td>\n",
              "    </tr>\n",
              "    <tr>\n",
              "      <th>Recall</th>\n",
              "      <td>0.866</td>\n",
              "      <td>0.757</td>\n",
              "      <td>0.920</td>\n",
              "      <td>0.644</td>\n",
              "      <td>0.943</td>\n",
              "    </tr>\n",
              "    <tr>\n",
              "      <th>F1</th>\n",
              "      <td>0.880</td>\n",
              "      <td>0.826</td>\n",
              "      <td>0.842</td>\n",
              "      <td>0.763</td>\n",
              "      <td>0.857</td>\n",
              "    </tr>\n",
              "  </tbody>\n",
              "</table>\n",
              "</div>"
            ],
            "text/plain": [
              "             CNN   LSTM  CNN (Deep2)  CNN & LSTM  Bi-Direc. LSTM\n",
              "Loss       0.417  0.506        0.563       0.615           0.513\n",
              "Accuracy   0.881  0.840        0.828       0.800           0.843\n",
              "Precision  0.894  0.908        0.777       0.935           0.785\n",
              "Recall     0.866  0.757        0.920       0.644           0.943\n",
              "F1         0.880  0.826        0.842       0.763           0.857"
            ]
          },
          "metadata": {},
          "execution_count": 39
        }
      ]
    },
    {
      "cell_type": "markdown",
      "metadata": {
        "id": "CzH_BBGc8zVS"
      },
      "source": [
        "#### Insight 3: Adjust threshold value\n",
        "In general, a higher threshold reduces false positives, which increases precision. On the other hand, recall decreases as true positive decreases.\n"
      ]
    },
    {
      "cell_type": "code",
      "metadata": {
        "id": "rlnDXeeU8zIw"
      },
      "source": [
        "threshold = [x/10 for x in range(1,10)]\n",
        "test_labels = np.array([k[1].numpy() for k in test_ds.unbatch()])\n",
        "results_threshold_cnn = {'Accuracy': {}, 'Precision': {}, 'Recall': {}, 'F1': {}}\n",
        "results_threshold_lstm = {'Accuracy': {}, 'Precision': {}, 'Recall': {}, 'F1': {}}\n",
        "\n",
        "for t in threshold:\n",
        "  predictions_cnn = np.array(model_cnn.predict(test_ds) > t, dtype=np.int32)\n",
        "  results_threshold_cnn['Accuracy']['CNN_' + str(t)] = accuracy_score(test_labels, predictions_cnn)\n",
        "  results_threshold_cnn['Precision']['CNN_' + str(t)] = precision_score(test_labels, predictions_cnn)                           \n",
        "  results_threshold_cnn['Recall']['CNN_' + str(t)] = recall_score(test_labels, predictions_cnn)\n",
        "  results_threshold_cnn['F1']['CNN_' + str(t)] = f1_score(test_labels, predictions_cnn)\n",
        "\n",
        "  predictions_lstm = np.array(model_cnn.predict(test_ds) > t, dtype=np.int32)\n",
        "  results_threshold_lstm['Accuracy']['LSTM_' + str(t)] = accuracy_score(test_labels, predictions_lstm)\n",
        "  results_threshold_lstm['Precision']['LSTM_' + str(t)] = precision_score(test_labels, predictions_lstm)\n",
        "  results_threshold_lstm['Recall']['LSTM_' + str(t)] = recall_score(test_labels, predictions_lstm)\n",
        "  results_threshold_lstm['F1']['LSTM_' + str(t)] = f1_score(test_labels, predictions_lstm)"
      ],
      "execution_count": 40,
      "outputs": []
    },
    {
      "cell_type": "code",
      "metadata": {
        "id": "W5ks7Tss2mLB",
        "colab": {
          "base_uri": "https://localhost:8080/",
          "height": 328
        },
        "outputId": "25074dba-ab2d-40b9-b605-d7a92abb5744"
      },
      "source": [
        "pd.DataFrame(results_threshold_cnn)"
      ],
      "execution_count": 41,
      "outputs": [
        {
          "output_type": "execute_result",
          "data": {
            "text/html": [
              "<div>\n",
              "<style scoped>\n",
              "    .dataframe tbody tr th:only-of-type {\n",
              "        vertical-align: middle;\n",
              "    }\n",
              "\n",
              "    .dataframe tbody tr th {\n",
              "        vertical-align: top;\n",
              "    }\n",
              "\n",
              "    .dataframe thead th {\n",
              "        text-align: right;\n",
              "    }\n",
              "</style>\n",
              "<table border=\"1\" class=\"dataframe\">\n",
              "  <thead>\n",
              "    <tr style=\"text-align: right;\">\n",
              "      <th></th>\n",
              "      <th>Accuracy</th>\n",
              "      <th>Precision</th>\n",
              "      <th>Recall</th>\n",
              "      <th>F1</th>\n",
              "    </tr>\n",
              "  </thead>\n",
              "  <tbody>\n",
              "    <tr>\n",
              "      <th>CNN_0.1</th>\n",
              "      <td>0.87640</td>\n",
              "      <td>0.839858</td>\n",
              "      <td>0.93016</td>\n",
              "      <td>0.882706</td>\n",
              "    </tr>\n",
              "    <tr>\n",
              "      <th>CNN_0.2</th>\n",
              "      <td>0.88064</td>\n",
              "      <td>0.860345</td>\n",
              "      <td>0.90880</td>\n",
              "      <td>0.883909</td>\n",
              "    </tr>\n",
              "    <tr>\n",
              "      <th>CNN_0.3</th>\n",
              "      <td>0.88152</td>\n",
              "      <td>0.873512</td>\n",
              "      <td>0.89224</td>\n",
              "      <td>0.882777</td>\n",
              "    </tr>\n",
              "    <tr>\n",
              "      <th>CNN_0.4</th>\n",
              "      <td>0.88248</td>\n",
              "      <td>0.884572</td>\n",
              "      <td>0.87976</td>\n",
              "      <td>0.882159</td>\n",
              "    </tr>\n",
              "    <tr>\n",
              "      <th>CNN_0.5</th>\n",
              "      <td>0.88132</td>\n",
              "      <td>0.893698</td>\n",
              "      <td>0.86560</td>\n",
              "      <td>0.879425</td>\n",
              "    </tr>\n",
              "    <tr>\n",
              "      <th>CNN_0.6</th>\n",
              "      <td>0.87756</td>\n",
              "      <td>0.903135</td>\n",
              "      <td>0.84584</td>\n",
              "      <td>0.873549</td>\n",
              "    </tr>\n",
              "    <tr>\n",
              "      <th>CNN_0.7</th>\n",
              "      <td>0.87380</td>\n",
              "      <td>0.911855</td>\n",
              "      <td>0.82760</td>\n",
              "      <td>0.867687</td>\n",
              "    </tr>\n",
              "    <tr>\n",
              "      <th>CNN_0.8</th>\n",
              "      <td>0.86512</td>\n",
              "      <td>0.920645</td>\n",
              "      <td>0.79912</td>\n",
              "      <td>0.855589</td>\n",
              "    </tr>\n",
              "    <tr>\n",
              "      <th>CNN_0.9</th>\n",
              "      <td>0.85508</td>\n",
              "      <td>0.936731</td>\n",
              "      <td>0.76160</td>\n",
              "      <td>0.840136</td>\n",
              "    </tr>\n",
              "  </tbody>\n",
              "</table>\n",
              "</div>"
            ],
            "text/plain": [
              "         Accuracy  Precision   Recall        F1\n",
              "CNN_0.1   0.87640   0.839858  0.93016  0.882706\n",
              "CNN_0.2   0.88064   0.860345  0.90880  0.883909\n",
              "CNN_0.3   0.88152   0.873512  0.89224  0.882777\n",
              "CNN_0.4   0.88248   0.884572  0.87976  0.882159\n",
              "CNN_0.5   0.88132   0.893698  0.86560  0.879425\n",
              "CNN_0.6   0.87756   0.903135  0.84584  0.873549\n",
              "CNN_0.7   0.87380   0.911855  0.82760  0.867687\n",
              "CNN_0.8   0.86512   0.920645  0.79912  0.855589\n",
              "CNN_0.9   0.85508   0.936731  0.76160  0.840136"
            ]
          },
          "metadata": {},
          "execution_count": 41
        }
      ]
    },
    {
      "cell_type": "code",
      "metadata": {
        "id": "lgzSW4Ns8akt",
        "colab": {
          "base_uri": "https://localhost:8080/",
          "height": 328
        },
        "outputId": "72d548ea-f480-48a5-c047-dfb8b629ad57"
      },
      "source": [
        "pd.DataFrame(results_threshold_lstm)"
      ],
      "execution_count": 42,
      "outputs": [
        {
          "output_type": "execute_result",
          "data": {
            "text/html": [
              "<div>\n",
              "<style scoped>\n",
              "    .dataframe tbody tr th:only-of-type {\n",
              "        vertical-align: middle;\n",
              "    }\n",
              "\n",
              "    .dataframe tbody tr th {\n",
              "        vertical-align: top;\n",
              "    }\n",
              "\n",
              "    .dataframe thead th {\n",
              "        text-align: right;\n",
              "    }\n",
              "</style>\n",
              "<table border=\"1\" class=\"dataframe\">\n",
              "  <thead>\n",
              "    <tr style=\"text-align: right;\">\n",
              "      <th></th>\n",
              "      <th>Accuracy</th>\n",
              "      <th>Precision</th>\n",
              "      <th>Recall</th>\n",
              "      <th>F1</th>\n",
              "    </tr>\n",
              "  </thead>\n",
              "  <tbody>\n",
              "    <tr>\n",
              "      <th>LSTM_0.1</th>\n",
              "      <td>0.87640</td>\n",
              "      <td>0.839858</td>\n",
              "      <td>0.93016</td>\n",
              "      <td>0.882706</td>\n",
              "    </tr>\n",
              "    <tr>\n",
              "      <th>LSTM_0.2</th>\n",
              "      <td>0.88064</td>\n",
              "      <td>0.860345</td>\n",
              "      <td>0.90880</td>\n",
              "      <td>0.883909</td>\n",
              "    </tr>\n",
              "    <tr>\n",
              "      <th>LSTM_0.3</th>\n",
              "      <td>0.88152</td>\n",
              "      <td>0.873512</td>\n",
              "      <td>0.89224</td>\n",
              "      <td>0.882777</td>\n",
              "    </tr>\n",
              "    <tr>\n",
              "      <th>LSTM_0.4</th>\n",
              "      <td>0.88248</td>\n",
              "      <td>0.884572</td>\n",
              "      <td>0.87976</td>\n",
              "      <td>0.882159</td>\n",
              "    </tr>\n",
              "    <tr>\n",
              "      <th>LSTM_0.5</th>\n",
              "      <td>0.88132</td>\n",
              "      <td>0.893698</td>\n",
              "      <td>0.86560</td>\n",
              "      <td>0.879425</td>\n",
              "    </tr>\n",
              "    <tr>\n",
              "      <th>LSTM_0.6</th>\n",
              "      <td>0.87756</td>\n",
              "      <td>0.903135</td>\n",
              "      <td>0.84584</td>\n",
              "      <td>0.873549</td>\n",
              "    </tr>\n",
              "    <tr>\n",
              "      <th>LSTM_0.7</th>\n",
              "      <td>0.87380</td>\n",
              "      <td>0.911855</td>\n",
              "      <td>0.82760</td>\n",
              "      <td>0.867687</td>\n",
              "    </tr>\n",
              "    <tr>\n",
              "      <th>LSTM_0.8</th>\n",
              "      <td>0.86512</td>\n",
              "      <td>0.920645</td>\n",
              "      <td>0.79912</td>\n",
              "      <td>0.855589</td>\n",
              "    </tr>\n",
              "    <tr>\n",
              "      <th>LSTM_0.9</th>\n",
              "      <td>0.85508</td>\n",
              "      <td>0.936731</td>\n",
              "      <td>0.76160</td>\n",
              "      <td>0.840136</td>\n",
              "    </tr>\n",
              "  </tbody>\n",
              "</table>\n",
              "</div>"
            ],
            "text/plain": [
              "          Accuracy  Precision   Recall        F1\n",
              "LSTM_0.1   0.87640   0.839858  0.93016  0.882706\n",
              "LSTM_0.2   0.88064   0.860345  0.90880  0.883909\n",
              "LSTM_0.3   0.88152   0.873512  0.89224  0.882777\n",
              "LSTM_0.4   0.88248   0.884572  0.87976  0.882159\n",
              "LSTM_0.5   0.88132   0.893698  0.86560  0.879425\n",
              "LSTM_0.6   0.87756   0.903135  0.84584  0.873549\n",
              "LSTM_0.7   0.87380   0.911855  0.82760  0.867687\n",
              "LSTM_0.8   0.86512   0.920645  0.79912  0.855589\n",
              "LSTM_0.9   0.85508   0.936731  0.76160  0.840136"
            ]
          },
          "metadata": {},
          "execution_count": 42
        }
      ]
    },
    {
      "cell_type": "markdown",
      "metadata": {
        "id": "ilzgkCgqD-c6"
      },
      "source": [
        "#### Insight 4: Word embedding techniques\n",
        "Different word embedding techniques may affect the model performances. Other types of word embedding techniques could have been used, such as word2vec."
      ]
    },
    {
      "cell_type": "code",
      "metadata": {
        "id": "THt_yJeJn3Ca"
      },
      "source": [
        ""
      ],
      "execution_count": 42,
      "outputs": []
    }
  ]
}