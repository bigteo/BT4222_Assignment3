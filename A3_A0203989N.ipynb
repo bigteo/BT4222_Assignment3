{
  "nbformat": 4,
  "nbformat_minor": 0,
  "metadata": {
    "colab": {
      "name": "A3_A0203989N.ipynb",
      "provenance": [],
      "collapsed_sections": [
        "sEknxYKtjfzK",
        "F7-7B5iwrNYB",
        "2Uf123B7jiCD"
      ]
    },
    "kernelspec": {
      "name": "python3",
      "display_name": "Python 3"
    },
    "language_info": {
      "name": "python"
    },
    "accelerator": "GPU"
  },
  "cells": [
    {
      "cell_type": "markdown",
      "metadata": {
        "id": "QelXyP-0hiT5"
      },
      "source": [
        "# BT4222 Assignment 3\n",
        "By Teo Zhi Feng (A0203989N)"
      ]
    },
    {
      "cell_type": "markdown",
      "metadata": {
        "id": "KMzTMwKfhvdl"
      },
      "source": [
        "# 1 Setup"
      ]
    },
    {
      "cell_type": "markdown",
      "metadata": {
        "id": "h24U7PflBFyV"
      },
      "source": [
        "#### Import packages"
      ]
    },
    {
      "cell_type": "code",
      "metadata": {
        "id": "e-UQHsr9hhtH"
      },
      "source": [
        "from __future__ import print_function\n",
        "\n",
        "import numpy as np\n",
        "import pandas as pd\n",
        "from sklearn.metrics import accuracy_score, precision_score, recall_score, f1_score\n",
        "import matplotlib.pyplot as plt\n",
        "%matplotlib inline\n",
        "\n",
        "import tensorflow as tf\n",
        "from tensorflow.keras.preprocessing import sequence\n",
        "from tensorflow.keras.models import Sequential\n",
        "from tensorflow.keras.layers import Activation, Conv1D, Dense, Dropout, Embedding, Flatten, GlobalMaxPooling1D,  LSTM, MaxPooling1D, TextVectorization\n",
        "from tensorflow.keras.callbacks import EarlyStopping\n",
        "from tensorflow.keras.utils import plot_model\n",
        "\n",
        "import string\n",
        "import re"
      ],
      "execution_count": 2,
      "outputs": []
    },
    {
      "cell_type": "markdown",
      "metadata": {
        "id": "RdKjHmN974Sj"
      },
      "source": [
        "#### Determine parameters"
      ]
    },
    {
      "cell_type": "code",
      "metadata": {
        "id": "9Oa_WfbyxF2Y"
      },
      "source": [
        "epochs = 10 # Generally 3-5\n",
        "batch_size = 32 # Select a batch size to fully utilise GPU memory, or 16 or 32\n",
        "\n",
        "embedding_dims = 200 #50 # emddeding for each word\n",
        "maxlen = 500 # max number of words in the review\n",
        "\n",
        "filters = 250\n",
        "kernel_size = 3 # size of the 1D conv. layer\n",
        "hidden_dims = 128 # number of dimensions\n",
        "\n",
        "metrics = ['accuracy', \"Precision\", \"Recall\"]"
      ],
      "execution_count": 3,
      "outputs": []
    },
    {
      "cell_type": "markdown",
      "metadata": {
        "id": "5ByVIc8d0aC0"
      },
      "source": [
        "#### Import IMDB Dataset"
      ]
    },
    {
      "cell_type": "code",
      "metadata": {
        "colab": {
          "base_uri": "https://localhost:8080/"
        },
        "id": "UKH4gT460Pv9",
        "outputId": "9f3e8b33-4816-4548-acab-478105330caf"
      },
      "source": [
        "!curl -O https://ai.stanford.edu/~amaas/data/sentiment/aclImdb_v1.tar.gz\n",
        "!tar -xf aclImdb_v1.tar.gz"
      ],
      "execution_count": 4,
      "outputs": [
        {
          "output_type": "stream",
          "name": "stdout",
          "text": [
            "  % Total    % Received % Xferd  Average Speed   Time    Time     Time  Current\n",
            "                                 Dload  Upload   Total   Spent    Left  Speed\n",
            "100 80.2M  100 80.2M    0     0  13.9M      0  0:00:05  0:00:05 --:--:-- 16.8M\n"
          ]
        }
      ]
    },
    {
      "cell_type": "markdown",
      "metadata": {
        "id": "jmRrVV4osYQi"
      },
      "source": [
        "#### Inspect folder directory"
      ]
    },
    {
      "cell_type": "code",
      "metadata": {
        "id": "OGUHXRDqmWHC",
        "colab": {
          "base_uri": "https://localhost:8080/"
        },
        "outputId": "80f430dc-e313-43e7-d5e8-5f79e8af1043"
      },
      "source": [
        "!ls aclImdb\n",
        "!ls aclImdb/test\n",
        "!ls aclImdb/train"
      ],
      "execution_count": 5,
      "outputs": [
        {
          "output_type": "stream",
          "name": "stdout",
          "text": [
            "imdbEr.txt  imdb.vocab\tREADME\ttest  train\n",
            "labeledBow.feat  neg  pos  urls_neg.txt  urls_pos.txt\n",
            "labeledBow.feat  pos\tunsupBow.feat  urls_pos.txt\n",
            "neg\t\t unsup\turls_neg.txt   urls_unsup.txt\n"
          ]
        }
      ]
    },
    {
      "cell_type": "code",
      "metadata": {
        "id": "uMHf2EeonDTg"
      },
      "source": [
        "!rm -r aclImdb/train/unsup"
      ],
      "execution_count": 6,
      "outputs": []
    },
    {
      "cell_type": "markdown",
      "metadata": {
        "id": "te5c4IfYsj1N"
      },
      "source": [
        "#### Import all datasets"
      ]
    },
    {
      "cell_type": "code",
      "metadata": {
        "id": "VqnfXcXJnDPo",
        "colab": {
          "base_uri": "https://localhost:8080/"
        },
        "outputId": "3981566a-4ae1-4b2d-addf-5d182603f02a"
      },
      "source": [
        "raw_train_ds = tf.keras.preprocessing.text_dataset_from_directory(\n",
        "    \"aclImdb/train\",\n",
        "    batch_size=batch_size,\n",
        "    validation_split=0.2,\n",
        "    subset=\"training\",\n",
        "    seed=1337,\n",
        ")\n",
        "raw_val_ds = tf.keras.preprocessing.text_dataset_from_directory(\n",
        "    \"aclImdb/train\",\n",
        "    batch_size=batch_size,\n",
        "    validation_split=0.2,\n",
        "    subset=\"validation\",\n",
        "    seed=1337,\n",
        ")\n",
        "raw_test_ds = tf.keras.preprocessing.text_dataset_from_directory(\n",
        "    \"aclImdb/test\",\n",
        "    batch_size=batch_size\n",
        ")\n",
        "\n",
        "print(f\"Number of batches in raw_train_ds: {raw_train_ds.cardinality()}\")\n",
        "print(f\"Number of batches in raw_val_ds: {raw_val_ds.cardinality()}\")\n",
        "print(f\"Number of batches in raw_test_ds: {raw_test_ds.cardinality()}\")"
      ],
      "execution_count": 7,
      "outputs": [
        {
          "output_type": "stream",
          "name": "stdout",
          "text": [
            "Found 25000 files belonging to 2 classes.\n",
            "Using 20000 files for training.\n",
            "Found 25000 files belonging to 2 classes.\n",
            "Using 5000 files for validation.\n",
            "Found 25000 files belonging to 2 classes.\n",
            "Number of batches in raw_train_ds: 625\n",
            "Number of batches in raw_val_ds: 157\n",
            "Number of batches in raw_test_ds: 782\n"
          ]
        }
      ]
    },
    {
      "cell_type": "markdown",
      "metadata": {
        "id": "n8RbfM0ysoGD"
      },
      "source": [
        "#### Inspect dataset"
      ]
    },
    {
      "cell_type": "code",
      "metadata": {
        "id": "gTE61hxtsCg-",
        "colab": {
          "base_uri": "https://localhost:8080/"
        },
        "outputId": "187b422c-d85c-4b3d-9801-2cf3d76f3110"
      },
      "source": [
        "for text_batch, label_batch in raw_train_ds.take(1):\n",
        "    for i in range(5):\n",
        "        print(text_batch.numpy()[i])\n",
        "        print(label_batch.numpy()[i])"
      ],
      "execution_count": 8,
      "outputs": [
        {
          "output_type": "stream",
          "name": "stdout",
          "text": [
            "b'I\\'ve seen tons of science fiction from the 70s; some horrendously bad, and others thought provoking and truly frightening. Soylent Green fits into the latter category. Yes, at times it\\'s a little campy, and yes, the furniture is good for a giggle or two, but some of the film seems awfully prescient. Here we have a film, 9 years before Blade Runner, that dares to imagine the future as somthing dark, scary, and nihilistic. Both Charlton Heston and Edward G. Robinson fare far better in this than The Ten Commandments, and Robinson\\'s assisted-suicide scene is creepily prescient of Kevorkian and his ilk. Some of the attitudes are dated (can you imagine a filmmaker getting away with the \"women as furniture\" concept in our oh-so-politically-correct-90s?), but it\\'s rare to find a film from the Me Decade that actually can make you think. This is one I\\'d love to see on the big screen, because even in a widescreen presentation, I don\\'t think the overall scope of this film would receive its due. Check it out.'\n",
            "1\n",
            "b'First than anything, I\\'m not going to praise I\\xc3\\xb1arritu\\'s short film, even I\\'m Mexican and proud of his success in mainstream Hollywood.<br /><br />In another hand, I see most of the reviews focuses on their favorite (and not so) short films; but we are forgetting that there is a subtle bottom line that circles the whole compilation, and maybe it will not be so pleasant for American people. (Even if that was not the main purpose of the producers) <br /><br />What i\\'m talking about is that most of the short films does not show the suffering that WASP people went through because the terrorist attack on September 11th, but the suffering of the Other people.<br /><br />Do you need proofs about what i\\'m saying? Look, in the Bosnia short film, the message is: \"You cry because of the people who died in the Towers, but we (The Others = East Europeans) are crying long ago for the crimes committed against our women and nobody pay attention to us like the whole world has done to you\".<br /><br />Even though the Burkina Fasso story is more in comedy, there is a the same thought: \"You are angry because Osama Bin Laden punched you in an evil way, but we (The Others = Africans) should be more angry, because our people is dying of hunger, poverty and AIDS long time ago, and nobody pay attention to us like the whole world has done to you\".<br /><br />Look now at the Sean Penn short: The fall of the Twin Towers makes happy to a lonely (and alienated) man. So the message is that the Power and the Greed (symbolized by the Towers) must fall for letting the people see the sun rise and the flowers blossom? It is remarkable that this terrible bottom line has been proposed by an American. There is so much irony in this short film that it is close to be subversive.<br /><br />Well, the Ken Loach (very know because his anti-capitalism ideology) is much more clearly and shameless in going straight to the point: \"You are angry because your country has been attacked by evil forces, but we (The Others = Latin Americans) suffered at a similar date something worst, and nobody remembers our grief as the whole world has done to you\".<br /><br />It is like if the creative of this project wanted to say to Americans: \"You see now, America? You are not the only that have become victim of the world violence, you are not alone in your pain and by the way, we (the Others = the Non Americans) have been suffering a lot more than you from long time ago; so, we are in solidarity with you in your pain... and by the way, we are sorry because you have had some taste of your own medicine\" Only the Mexican and the French short films showed some compassion and sympathy for American people; the others are like a slap on the face for the American State, that is not equal to American People.'\n",
            "1\n",
            "b'Blood Castle (aka Scream of the Demon Lover, Altar of Blood, Ivanna--the best, but least exploitation cinema-sounding title, and so on) is a very traditional Gothic Romance film. That means that it has big, creepy castles, a headstrong young woman, a mysterious older man, hints of horror and the supernatural, and romance elements in the contemporary sense of that genre term. It also means that it is very deliberately paced, and that the film will work best for horror mavens who are big fans of understatement. If you love films like Robert Wise\\'s The Haunting (1963), but you also have a taste for late 1960s/early 1970s Spanish and Italian horror, you may love Blood Castle, as well.<br /><br />Baron Janos Dalmar (Carlos Quiney) lives in a large castle on the outskirts of a traditional, unspecified European village. The locals fear him because legend has it that whenever he beds a woman, she soon after ends up dead--the consensus is that he sets his ferocious dogs on them. This is quite a problem because the Baron has a very healthy appetite for women. At the beginning of the film, yet another woman has turned up dead and mutilated.<br /><br />Meanwhile, Dr. Ivanna Rakowsky (Erna Sch\\xc3\\xbcrer) has appeared in the center of the village, asking to be taken to Baron Dalmar\\'s castle. She\\'s an out-of-towner who has been hired by the Baron for her expertise in chemistry. Of course, no one wants to go near the castle. Finally, Ivanna finds a shady individual (who becomes even shadier) to take her. Once there, an odd woman who lives in the castle, Olga (Cristiana Galloni), rejects Ivanna and says that she shouldn\\'t be there since she\\'s a woman. Baron Dalmar vacillates over whether she should stay. She ends up staying, but somewhat reluctantly. The Baron has hired her to try to reverse the effects of severe burns, which the Baron\\'s brother, Igor, is suffering from.<br /><br />Unfortunately, the Baron\\'s brother appears to be just a lump of decomposing flesh in a vat of bizarre, blackish liquid. And furthermore, Ivanna is having bizarre, hallucinatory dreams. Just what is going on at the castle? Is the Baron responsible for the crimes? Is he insane? <br /><br />I wanted to like Blood Castle more than I did. As I mentioned, the film is very deliberate in its pacing, and most of it is very understated. I can go either way on material like that. I don\\'t care for The Haunting (yes, I\\'m in a very small minority there), but I\\'m a big fan of 1960s and 1970s European horror. One of my favorite directors is Mario Bava. I also love Dario Argento\\'s work from that period. But occasionally, Blood Castle moved a bit too slow for me at times. There are large chunks that amount to scenes of not very exciting talking alternated with scenes of Ivanna slowly walking the corridors of the castle.<br /><br />But the atmosphere of the film is decent. Director Jos\\xc3\\xa9 Luis Merino managed more than passable sets and locations, and they\\'re shot fairly well by Emanuele Di Cola. However, Blood Castle feels relatively low budget, and this is a Roger Corman-produced film, after all (which usually means a low-budget, though often surprisingly high quality \"quickie\"). So while there is a hint of the lushness of Bava\\'s colors and complex set decoration, everything is much more minimalist. Of course, it doesn\\'t help that the Retromedia print I watched looks like a 30-year old photograph that\\'s been left out in the sun too long. It appears \"washed out\", with compromised contrast.<br /><br />Still, Merino and Di Cola occasionally set up fantastic visuals. For example, a scene of Ivanna walking in a darkened hallway that\\'s shot from an exaggerated angle, and where an important plot element is revealed through shadows on a wall only. There are also a couple Ingmar Bergmanesque shots, where actors are exquisitely blocked to imply complex relationships, besides just being visually attractive and pulling your eye deep into the frame.<br /><br />The performances are fairly good, and the women--especially Sch\\xc3\\xbcrer--are very attractive. Merino exploits this fact by incorporating a decent amount of nudity. Sch\\xc3\\xbcrer went on to do a number of films that were as much soft corn porn as they were other genres, with English titles such as Sex Life in a Woman\\'s Prison (1974), Naked and Lustful (1974), Strip Nude for Your Killer (1975) and Erotic Exploits of a Sexy Seducer (1977). Blood Castle is much tamer, but in addition to the nudity, there are still mild scenes suggesting rape and bondage, and of course the scenes mixing sex and death.<br /><br />The primary attraction here, though, is probably the story, which is much a slow-burning romance as anything else. The horror elements, the mystery elements, and a somewhat unexpected twist near the end are bonuses, but in the end, Blood Castle is a love story, about a couple overcoming various difficulties and antagonisms (often with physical threats or harms) to be together.'\n",
            "1\n",
            "b\"I was talked into watching this movie by a friend who blubbered on about what a cute story this was.<br /><br />Yuck.<br /><br />I want my two hours back, as I could have done SO many more productive things with my time...like, for instance, twiddling my thumbs. I see nothing redeeming about this film at all, save for the eye-candy aspect of it...<br /><br />3/10 (and that's being generous)\"\n",
            "0\n",
            "b\"Michelle Rodriguez is the defining actress who could be the charging force for other actresses to look out for. She has the audacity to place herself in a rarely seen tough-girl role very early in her career (and pull it off), which is a feat that should be recognized. Although her later films pigeonhole her to that same role, this film was made for her ruggedness.<br /><br />Her character is a romanticized student/fighter/lover, struggling to overcome her disenchanted existence in the projects, which is a little overdone in film...but not by a girl. That aspect of this film isn't very original, but the story goes in depth when the heated relationships that this girl has to deal with come to a boil and her primal rage takes over.<br /><br />I haven't seen an actress take such an aggressive stance in movie-making yet, and I'm glad that she's getting that original twist out there in Hollywood. This film got a 7 from me because of the average story of ghetto youth, but it has such a great actress portraying a rarely-seen role in a minimal budget movie. Great work.\"\n",
            "1\n"
          ]
        }
      ]
    },
    {
      "cell_type": "markdown",
      "metadata": {
        "id": "cLygH6phvW2g"
      },
      "source": [
        "#### Define list to store model performance"
      ]
    },
    {
      "cell_type": "code",
      "metadata": {
        "id": "EG68CbqbvWKg"
      },
      "source": [
        "results = {}"
      ],
      "execution_count": 9,
      "outputs": []
    },
    {
      "cell_type": "markdown",
      "metadata": {
        "id": "9u1MUVaKoMq9"
      },
      "source": [
        "# 2 Data Pre-Processing"
      ]
    },
    {
      "cell_type": "markdown",
      "metadata": {
        "id": "IsA9pKy4tLy-"
      },
      "source": [
        "#### Vectorise data"
      ]
    },
    {
      "cell_type": "code",
      "metadata": {
        "id": "OPim7cIQnDGI"
      },
      "source": [
        "# Define custom function\n",
        "def custom_standardization(input_data):\n",
        "    lowercase = tf.strings.lower(input_data)\n",
        "    stripped_html = tf.strings.regex_replace(lowercase, \"<br />\", \" \")\n",
        "    return tf.strings.regex_replace(\n",
        "        stripped_html, f\"[{re.escape(string.punctuation)}]\", \"\"\n",
        "    )\n",
        "\n",
        "# Model constants.\n",
        "max_features = 20000\n",
        "sequence_length = 500\n",
        "\n",
        "# Instantiate text vectorisation layer to normalize, split, and map strings to integers.\n",
        "# We also set an explicit maximum sequence length, since the CNNs later in our model won't support ragged sequences.\n",
        "vectorize_layer = TextVectorization(\n",
        "    standardize=custom_standardization,\n",
        "    max_tokens=max_features,\n",
        "    output_mode=\"int\",\n",
        "    output_sequence_length=sequence_length,\n",
        ")\n",
        "\n",
        "# With vocab layer, call `adapt` on a text-only dataset to create the vocabulary. \n",
        "text_ds = raw_train_ds.map(lambda x, y: x)\n",
        "vectorize_layer.adapt(text_ds)"
      ],
      "execution_count": 10,
      "outputs": []
    },
    {
      "cell_type": "code",
      "metadata": {
        "colab": {
          "base_uri": "https://localhost:8080/"
        },
        "id": "yG2l-87M3sRL",
        "outputId": "ec568535-e1bf-4fd7-893d-2fb1fca4c327"
      },
      "source": [
        "print(len(vectorize_layer.get_vocabulary()))\n",
        "print(vectorize_layer.get_vocabulary()[:20])"
      ],
      "execution_count": 11,
      "outputs": [
        {
          "output_type": "stream",
          "name": "stdout",
          "text": [
            "20000\n",
            "['', '[UNK]', 'the', 'and', 'a', 'of', 'to', 'is', 'in', 'it', 'this', 'i', 'that', 'was', 'as', 'for', 'with', 'movie', 'but', 'film']\n"
          ]
        }
      ]
    },
    {
      "cell_type": "code",
      "metadata": {
        "id": "ZB1DJBInpWnO"
      },
      "source": [
        "def vectorize_text(text, label):\n",
        "    text = tf.expand_dims(text, -1)\n",
        "    return vectorize_layer(text), label\n",
        "\n",
        "# Vectorize the data.\n",
        "train_ds = raw_train_ds.map(vectorize_text)\n",
        "val_ds = raw_val_ds.map(vectorize_text)\n",
        "test_ds = raw_test_ds.map(vectorize_text)\n",
        "\n",
        "# Do async prefetching / buffering of the data for best performance on GPU.\n",
        "train_ds = train_ds.cache().prefetch(buffer_size=10)\n",
        "val_ds = val_ds.cache().prefetch(buffer_size=10)\n",
        "test_ds = test_ds.cache().prefetch(buffer_size=10)"
      ],
      "execution_count": 12,
      "outputs": []
    },
    {
      "cell_type": "markdown",
      "metadata": {
        "id": "6pxAX7eO_lbq"
      },
      "source": [
        "#### Inspect vectorised dataset"
      ]
    },
    {
      "cell_type": "code",
      "metadata": {
        "id": "s3CnRHv3pj_N",
        "colab": {
          "base_uri": "https://localhost:8080/"
        },
        "outputId": "39109071-edf9-4c55-e25d-8cc48ed4d6c0"
      },
      "source": [
        "text_batch, label_batch = next(iter(raw_train_ds))\n",
        "first_review, first_label = text_batch[0], label_batch[0]\n",
        "print(\"Review\", first_review)\n",
        "print(\"Label\", raw_train_ds.class_names[first_label])\n",
        "print(\"Vectorized review\", vectorize_text(first_review, first_label))"
      ],
      "execution_count": 13,
      "outputs": [
        {
          "output_type": "stream",
          "name": "stdout",
          "text": [
            "Review tf.Tensor(b\"This is yet another tell-it-as-it-is Madhur Bhandarkar film. I am not sure why he has this obsession to show Child moles***ion and g*y concepts to the Indian filmy audience, but I find some of those scenes really disgusting! What's new? It is a nice piece put together by Bhandarkar, where he shows the story of an entertainment reporter played by leading lady in the famous film, Mr & Mrs Iyer. What makes this movie different is, that it also covers the stories of people that this reporter interacts with or is friends with, such as her roomies, her colleagues, film stars, models, rich people and others featured in the Entertainment Page#3 in her newspaper.<br /><br />Noticeable: It is another good performance from Mrs Iyer. She is likely to be noticed for this role. She does selective roles but shines in them. She is noticeably de-glamorized and less beautiful in this film. But then, entertainment reporters are not supposed to outshine the people they cover, right? Verdict: Madhur has come up with another good movie, that brings social issues to the limelight very nicely. However, this movie loses focus and one is not sure what the director is trying to convey.<br /><br />Is he trying to show us the glitz and glamor of the rich people? or is he trying to show us the life of an entertainment reporter and contrasting that with the life of the REAL crime reporter? Is he trying to tell us how the government and rich folks rule the press? or is he trying to illustrate the issues with child abuse and g*y folk. The other concepts brought forth include the unwritten rule that young women have to sleep with directors or co-stars, if they wish to enter Bollywood.<br /><br />In addition, he talks about how flight assistants get sick and tired of their jobs after a while and resort to extreme measures by marrying much elder people, etc. He also talks about unhappy women and spoilt kids in rich families.<br /><br />This was all okay for me.. but might be too complex for an average movie-goer, who just wants to relieve some stress from day to day work\", shape=(), dtype=string)\n",
            "Label pos\n",
            "Vectorized review (<tf.Tensor: shape=(1, 500), dtype=int64, numpy=\n",
            "array([[   10,     7,   240,   157,     1, 15001, 13365,    19,    11,\n",
            "          235,    21,   241,   133,    26,    43,    10,  2924,     6,\n",
            "          119,   511,     1,     3,     1,  5617,     6,     2,  1398,\n",
            "            1,   304,    18,    11,   161,    46,     5,   143,   135,\n",
            "           63,  2206,   704,   158,     9,     7,     4,   318,   402,\n",
            "          265,   291,    32, 13365,   115,    26,   262,     2,    62,\n",
            "            5,    33,   701,  2476,   250,    32,   975,   721,     8,\n",
            "            2,   789,    19,   444,  2079,     1,    48,   155,    10,\n",
            "           17,   269,     7,    12,     9,    80,  3167,     2,   527,\n",
            "            5,    78,    12,    10,  2476,     1,    16,    40,     7,\n",
            "          345,    16,   136,    14,    39,     1,    39,  6017,    19,\n",
            "          377,  4148,   992,    78,     3,   379,  2394,     8,     2,\n",
            "          701,     1,     8,    39,  3807,  7222,     9,     7,   157,\n",
            "           49,   232,    36,  2079,     1,    54,     7,  1274,     6,\n",
            "           27,  1905,    15,    10,   207,    54,   120, 14815,   533,\n",
            "           18,  3103,     8,    93,    54,     7, 10683,     1,     3,\n",
            "          326,   299,     8,    10,    19,    18,    91,   701, 10641,\n",
            "           24,    21,   405,     6, 19997,     2,    78,    34,  1111,\n",
            "          201,  6908, 15001,    43,   206,    56,    16,   157,    49,\n",
            "           17,    12,   919,  1031,  1261,     6,     2, 18855,    52,\n",
            "         1762,   187,    10,    17,  1942,  1120,     3,    28,     7,\n",
            "           21,   241,    48,     2,   172,     7,   256,     6,  2808,\n",
            "            7,    26,   256,     6,   119,   168,     2, 14394,     3,\n",
            "        12673,     5,     2,   992,    78,    40,     7,    26,   256,\n",
            "            6,   119,   168,     2,   117,     5,    33,   701,  2476,\n",
            "            3,  9900,    12,    16,     2,   117,     5,     2,   144,\n",
            "          835,  2476,     7,    26,   256,     6,   361,   168,    88,\n",
            "            2,  1350,     3,   992,  1532,  2415,     2,  3558,    40,\n",
            "            7,    26,   256,     6,  9094,     2,  1261,    16,   511,\n",
            "         2625,     3,     1,  3893,     2,    81,  5617,   802,  2542,\n",
            "         1425,     2,     1,  2415,    12,   180,   364,    25,     6,\n",
            "         1663,    16,   668,    40,  5229,    44,    34,   607,     6,\n",
            "         2503,  2954,     8,  1471,    26,  2226,    42,    88,  3051,\n",
            "        11187,    76,  1202,     3,  1383,     5,    64,  2603,   100,\n",
            "            4,   132,     3,  4500,     6,  1545, 10067,    32,  8262,\n",
            "           72,  8907,    78,   520,    26,    80,  2226,    42,  4403,\n",
            "          364,     3, 11654,   328,     8,   992,  2043,    10,    13,\n",
            "           31,   851,    15,    69,    18,   228,    27,    99,  1279,\n",
            "           15,    33,   869, 13077,    35,    41,   474,     6, 13545,\n",
            "           46,  4062,    36,   255,     6,   255,   156,     0,     0,\n",
            "            0,     0,     0,     0,     0,     0,     0,     0,     0,\n",
            "            0,     0,     0,     0,     0,     0,     0,     0,     0,\n",
            "            0,     0,     0,     0,     0,     0,     0,     0,     0,\n",
            "            0,     0,     0,     0,     0,     0,     0,     0,     0,\n",
            "            0,     0,     0,     0,     0,     0,     0,     0,     0,\n",
            "            0,     0,     0,     0,     0,     0,     0,     0,     0,\n",
            "            0,     0,     0,     0,     0,     0,     0,     0,     0,\n",
            "            0,     0,     0,     0,     0,     0,     0,     0,     0,\n",
            "            0,     0,     0,     0,     0,     0,     0,     0,     0,\n",
            "            0,     0,     0,     0,     0,     0,     0,     0,     0,\n",
            "            0,     0,     0,     0,     0,     0,     0,     0,     0,\n",
            "            0,     0,     0,     0,     0,     0,     0,     0,     0,\n",
            "            0,     0,     0,     0,     0,     0,     0,     0,     0,\n",
            "            0,     0,     0,     0,     0,     0,     0,     0,     0,\n",
            "            0,     0,     0,     0,     0,     0,     0,     0,     0,\n",
            "            0,     0,     0,     0,     0]])>, <tf.Tensor: shape=(), dtype=int32, numpy=1>)\n"
          ]
        }
      ]
    },
    {
      "cell_type": "markdown",
      "metadata": {
        "id": "f6pWc6HXkcvA"
      },
      "source": [
        "# 3 Convolutional Neural Network (CNN)"
      ]
    },
    {
      "cell_type": "markdown",
      "metadata": {
        "id": "WW9Cp32i3FYV"
      },
      "source": [
        "#### Build model"
      ]
    },
    {
      "cell_type": "code",
      "metadata": {
        "id": "7FCmN0HmyPhw"
      },
      "source": [
        "model_cnn = Sequential()\n",
        "\n",
        "model_cnn.add(Embedding(max_features,\n",
        "                     embedding_dims,\n",
        "                     input_length=maxlen))\n",
        "model_cnn.add(Dropout(0.5))\n",
        "\n",
        "# Convolution and pooling layer 1\n",
        "model_cnn.add(Conv1D(filters,\n",
        "                 kernel_size,\n",
        "                 padding='same',\n",
        "                 activation='relu',\n",
        "                 strides=1))\n",
        "model_cnn.add(GlobalMaxPooling1D())\n",
        "\n",
        "##### OTHER CONVOLUTION LAYERS #####\n",
        "# model_cnn.add(Conv1D(128,\n",
        "#                  7,\n",
        "#                  padding='same',\n",
        "#                  activation='relu',\n",
        "#                  strides=3,\n",
        "#                  name='convolution1'))\n",
        "\n",
        "\n",
        "# Flatten before connecting to dense layer \n",
        "model_cnn.add(Flatten())\n",
        "\n",
        "model_cnn.add(Dense(hidden_dims, activation='relu'))\n",
        "model_cnn.add(Dropout(0.5))\n",
        "\n",
        "# Project onto a single unit, dense output layer and apply sigmoid activation function\n",
        "# to make 0 or 1 predictions for the two classes (positive or negative).\n",
        "model_cnn.add(Dense(1, activation='sigmoid', name='predictions'))\n",
        "\n",
        "# Use binary_crossentropy loss function as it is a binary classification problem \n",
        "model_cnn.compile(loss='binary_crossentropy', optimizer='adam', metrics=metrics)"
      ],
      "execution_count": 14,
      "outputs": []
    },
    {
      "cell_type": "markdown",
      "metadata": {
        "id": "9V8hHfueRZhz"
      },
      "source": [
        "#### Visualise model"
      ]
    },
    {
      "cell_type": "code",
      "metadata": {
        "colab": {
          "base_uri": "https://localhost:8080/"
        },
        "id": "EwuGTzOe2kuN",
        "outputId": "11995042-1fea-4c56-ceaa-388950b1ece8"
      },
      "source": [
        "model_cnn.summary()"
      ],
      "execution_count": 15,
      "outputs": [
        {
          "output_type": "stream",
          "name": "stdout",
          "text": [
            "Model: \"sequential\"\n",
            "_________________________________________________________________\n",
            "Layer (type)                 Output Shape              Param #   \n",
            "=================================================================\n",
            "embedding (Embedding)        (None, 500, 200)          4000000   \n",
            "_________________________________________________________________\n",
            "dropout (Dropout)            (None, 500, 200)          0         \n",
            "_________________________________________________________________\n",
            "conv1d (Conv1D)              (None, 500, 250)          150250    \n",
            "_________________________________________________________________\n",
            "global_max_pooling1d (Global (None, 250)               0         \n",
            "_________________________________________________________________\n",
            "flatten (Flatten)            (None, 250)               0         \n",
            "_________________________________________________________________\n",
            "dense (Dense)                (None, 128)               32128     \n",
            "_________________________________________________________________\n",
            "dropout_1 (Dropout)          (None, 128)               0         \n",
            "_________________________________________________________________\n",
            "predictions (Dense)          (None, 1)                 129       \n",
            "=================================================================\n",
            "Total params: 4,182,507\n",
            "Trainable params: 4,182,507\n",
            "Non-trainable params: 0\n",
            "_________________________________________________________________\n"
          ]
        }
      ]
    },
    {
      "cell_type": "code",
      "metadata": {
        "colab": {
          "base_uri": "https://localhost:8080/",
          "height": 0
        },
        "id": "DO4llMMDRUha",
        "outputId": "000aeb49-c5d4-49fa-f94c-e407f27f12a8"
      },
      "source": [
        "plot_model(model_cnn, show_shapes=True)"
      ],
      "execution_count": 16,
      "outputs": [
        {
          "output_type": "execute_result",
          "data": {
            "image/png": "[encoded data removed]",
            "text/plain": [
              "<IPython.core.display.Image object>"
            ]
          },
          "metadata": {},
          "execution_count": 16
        }
      ]
    },
    {
      "cell_type": "markdown",
      "metadata": {
        "id": "JnWGkwij3IrO"
      },
      "source": [
        "#### Train model using train dataset"
      ]
    },
    {
      "cell_type": "code",
      "metadata": {
        "id": "TnJnZDLJkdtj",
        "colab": {
          "base_uri": "https://localhost:8080/"
        },
        "outputId": "fccf63dc-4f96-48da-cf51-a2155fb93d75"
      },
      "source": [
        "# Fit model using train dataset\n",
        "history_cnn = model_cnn.fit(train_ds,\n",
        "              epochs=epochs,\n",
        "              verbose = 1,\n",
        "              batch_size=batch_size,\n",
        "              validation_data=val_ds,\n",
        "              callbacks=[EarlyStopping(monitor='val_loss',patience=3, min_delta=0.0001)])"
      ],
      "execution_count": 17,
      "outputs": [
        {
          "output_type": "stream",
          "name": "stdout",
          "text": [
            "Epoch 1/10\n",
            "625/625 [==============================] - 49s 29ms/step - loss: 0.4736 - accuracy: 0.7563 - precision: 0.7418 - recall: 0.7843 - val_loss: 0.3175 - val_accuracy: 0.8590 - val_precision: 0.8483 - val_recall: 0.8776\n",
            "Epoch 2/10\n",
            "625/625 [==============================] - 16s 26ms/step - loss: 0.2559 - accuracy: 0.8985 - precision: 0.8953 - recall: 0.9019 - val_loss: 0.2701 - val_accuracy: 0.8836 - val_precision: 0.8787 - val_recall: 0.8926\n",
            "Epoch 3/10\n",
            "625/625 [==============================] - 16s 26ms/step - loss: 0.1553 - accuracy: 0.9441 - precision: 0.9439 - recall: 0.9442 - val_loss: 0.2942 - val_accuracy: 0.8860 - val_precision: 0.8769 - val_recall: 0.9006\n",
            "Epoch 4/10\n",
            "625/625 [==============================] - 16s 25ms/step - loss: 0.0976 - accuracy: 0.9654 - precision: 0.9650 - recall: 0.9657 - val_loss: 0.3462 - val_accuracy: 0.8842 - val_precision: 0.8657 - val_recall: 0.9120\n",
            "Epoch 5/10\n",
            "625/625 [==============================] - 16s 25ms/step - loss: 0.0644 - accuracy: 0.9770 - precision: 0.9768 - recall: 0.9770 - val_loss: 0.6176 - val_accuracy: 0.8424 - val_precision: 0.7745 - val_recall: 0.9703\n"
          ]
        }
      ]
    },
    {
      "cell_type": "code",
      "metadata": {
        "colab": {
          "base_uri": "https://localhost:8080/",
          "height": 0
        },
        "id": "SqQpw_VufOXy",
        "outputId": "62ae7aad-7ac0-40d1-d87e-16ab0566a293"
      },
      "source": [
        "figure, axis = plt.subplots(2, sharex=True)\n",
        "\n",
        "axis[0].plot(history_cnn.history['loss'], label='train')\n",
        "axis[0].plot(history_cnn.history['val_loss'], label='validation')\n",
        "axis[0].legend()\n",
        "axis[0].set_title('Loss')\n",
        "\n",
        "axis[1].plot(history_cnn.history['accuracy'], label='train')\n",
        "axis[1].plot(history_cnn.history['val_accuracy'], label='validation')\n",
        "axis[1].legend()\n",
        "axis[1].set_title('Accuracy')\n",
        "\n",
        "plt.show()"
      ],
      "execution_count": 18,
      "outputs": [
        {
          "output_type": "display_data",
          "data": {
            "image/png": "[encoded data removed]",
            "text/plain": [
              "<Figure size 432x288 with 2 Axes>"
            ]
          },
          "metadata": {
            "needs_background": "light"
          }
        }
      ]
    },
    {
      "cell_type": "markdown",
      "metadata": {
        "id": "Enb8etY3v81x"
      },
      "source": [
        "#### Evaluate model performance on test dataset"
      ]
    },
    {
      "cell_type": "code",
      "metadata": {
        "id": "45Q6BCam2Wi2",
        "colab": {
          "base_uri": "https://localhost:8080/"
        },
        "outputId": "361c37c3-29cb-4626-9743-b22cf3c64e28"
      },
      "source": [
        "metrics_cnn = model_cnn.evaluate(test_ds,verbose=1)"
      ],
      "execution_count": 19,
      "outputs": [
        {
          "output_type": "stream",
          "name": "stdout",
          "text": [
            "782/782 [==============================] - 10s 13ms/step - loss: 0.6262 - accuracy: 0.8402 - precision: 0.7727 - recall: 0.9640\n"
          ]
        }
      ]
    },
    {
      "cell_type": "code",
      "metadata": {
        "colab": {
          "base_uri": "https://localhost:8080/"
        },
        "id": "wJWo8LJAhaWK",
        "outputId": "406dca16-827c-4398-8c8b-5e6469dad858"
      },
      "source": [
        "loss_cnn = round(metrics_cnn[0], 3)\n",
        "accuracy_cnn = round(metrics_cnn[1], 3)\n",
        "precision_cnn = round(metrics_cnn[2], 3)\n",
        "recall_cnn = round(metrics_cnn[3], 3)\n",
        "\n",
        "print('Model performance on test set:\\nLoss: {}\\nAccuracy: {}\\nPrecision: {}\\nRecall: {}\\n'.format(loss_cnn, accuracy_cnn, precision_cnn, recall_cnn))"
      ],
      "execution_count": 20,
      "outputs": [
        {
          "output_type": "stream",
          "name": "stdout",
          "text": [
            "Model performance on test set:\n",
            "Loss: 0.626\n",
            "Accuracy: 0.84\n",
            "Precision: 0.773\n",
            "Recall: 0.964\n",
            "\n"
          ]
        }
      ]
    },
    {
      "cell_type": "code",
      "metadata": {
        "id": "IOFLReASwCHP"
      },
      "source": [
        "results['CNN'] = {\n",
        "    'Loss': loss_cnn,\n",
        "    'Accuracy': accuracy_cnn,\n",
        "    'Precision': precision_cnn, \n",
        "    'Recall': recall_cnn,\n",
        "    'F1-score': round( 2*((precision_cnn * recall_cnn) / (precision_cnn + recall_cnn)), 3 )\n",
        "  }"
      ],
      "execution_count": 21,
      "outputs": []
    },
    {
      "cell_type": "markdown",
      "metadata": {
        "id": "H0iXLoWpkd6-"
      },
      "source": [
        "# 4 Long Short-Term Memory (LSTM) "
      ]
    },
    {
      "cell_type": "markdown",
      "metadata": {
        "id": "Ctvh_HOX0foK"
      },
      "source": [
        "### Build model"
      ]
    },
    {
      "cell_type": "code",
      "metadata": {
        "id": "ZPPlmifnkgAZ"
      },
      "source": [
        "model_lstm = Sequential()\n",
        "\n",
        "model_lstm.add(Embedding(max_features,\n",
        "                     embedding_dims,\n",
        "                     input_length=maxlen))\n",
        "\n",
        "model_lstm.add(LSTM(120, return_sequences=True))\n",
        "model_lstm.add(GlobalMaxPooling1D())\n",
        "\n",
        "model_lstm.add(Dense(1, activation='sigmoid', name='predictions'))\n",
        "\n",
        "model_lstm.compile(loss='binary_crossentropy', optimizer='adam', metrics=metrics)"
      ],
      "execution_count": 22,
      "outputs": []
    },
    {
      "cell_type": "markdown",
      "metadata": {
        "id": "GFNhKJDrRKTp"
      },
      "source": [
        "#### Visualise model"
      ]
    },
    {
      "cell_type": "code",
      "metadata": {
        "colab": {
          "base_uri": "https://localhost:8080/"
        },
        "id": "n0breL5Izr4S",
        "outputId": "9675fa8d-112c-4060-de51-21f1de85e525"
      },
      "source": [
        "model_lstm.summary()"
      ],
      "execution_count": 23,
      "outputs": [
        {
          "output_type": "stream",
          "name": "stdout",
          "text": [
            "Model: \"sequential_1\"\n",
            "_________________________________________________________________\n",
            "Layer (type)                 Output Shape              Param #   \n",
            "=================================================================\n",
            "embedding_1 (Embedding)      (None, 500, 200)          4000000   \n",
            "_________________________________________________________________\n",
            "lstm (LSTM)                  (None, 500, 120)          154080    \n",
            "_________________________________________________________________\n",
            "global_max_pooling1d_1 (Glob (None, 120)               0         \n",
            "_________________________________________________________________\n",
            "predictions (Dense)          (None, 1)                 121       \n",
            "=================================================================\n",
            "Total params: 4,154,201\n",
            "Trainable params: 4,154,201\n",
            "Non-trainable params: 0\n",
            "_________________________________________________________________\n"
          ]
        }
      ]
    },
    {
      "cell_type": "code",
      "metadata": {
        "colab": {
          "base_uri": "https://localhost:8080/",
          "height": 533
        },
        "id": "bAcYTf8xQil7",
        "outputId": "ab6c17fb-a52f-4997-acd8-3df9580a825d"
      },
      "source": [
        "plot_model(model_lstm, show_shapes=True)"
      ],
      "execution_count": 24,
      "outputs": [
        {
          "output_type": "execute_result",
          "data": {
            "image/png": "[encoded data removed]",
            "text/plain": [
              "<IPython.core.display.Image object>"
            ]
          },
          "metadata": {},
          "execution_count": 24
        }
      ]
    },
    {
      "cell_type": "markdown",
      "metadata": {
        "id": "De53SxX-z8JF"
      },
      "source": [
        "#### Train model using train dataset"
      ]
    },
    {
      "cell_type": "code",
      "metadata": {
        "colab": {
          "base_uri": "https://localhost:8080/"
        },
        "id": "l_H0Y9exz8JF",
        "outputId": "575f0f50-cf10-4936-861f-fb924456d352"
      },
      "source": [
        "# Fit model using train dataset\n",
        "history_lstm = model_lstm.fit(train_ds,\n",
        "              epochs=epochs,\n",
        "              batch_size=batch_size,\n",
        "              validation_data=val_ds,\n",
        "              callbacks=[EarlyStopping(monitor='val_loss',patience=3, min_delta=0.0001)])"
      ],
      "execution_count": 25,
      "outputs": [
        {
          "output_type": "stream",
          "name": "stdout",
          "text": [
            "Epoch 1/10\n",
            "625/625 [==============================] - 63s 95ms/step - loss: 0.3886 - accuracy: 0.8151 - precision: 0.7921 - recall: 0.8532 - val_loss: 0.2818 - val_accuracy: 0.8838 - val_precision: 0.8741 - val_recall: 0.8994\n",
            "Epoch 2/10\n",
            "625/625 [==============================] - 59s 94ms/step - loss: 0.1689 - accuracy: 0.9376 - precision: 0.9384 - recall: 0.9362 - val_loss: 0.2980 - val_accuracy: 0.8742 - val_precision: 0.8542 - val_recall: 0.9053\n",
            "Epoch 3/10\n",
            "625/625 [==============================] - 58s 93ms/step - loss: 0.0860 - accuracy: 0.9710 - precision: 0.9694 - recall: 0.9725 - val_loss: 0.3675 - val_accuracy: 0.8608 - val_precision: 0.8421 - val_recall: 0.8914\n",
            "Epoch 4/10\n",
            "625/625 [==============================] - 59s 94ms/step - loss: 0.0553 - accuracy: 0.9835 - precision: 0.9839 - recall: 0.9830 - val_loss: 0.4108 - val_accuracy: 0.8638 - val_precision: 0.8201 - val_recall: 0.9354\n"
          ]
        }
      ]
    },
    {
      "cell_type": "code",
      "metadata": {
        "id": "WvLEeIXEz8JG",
        "colab": {
          "base_uri": "https://localhost:8080/",
          "height": 281
        },
        "outputId": "a6d209d4-48bb-426c-e0bd-a0b8e3fd9ddc"
      },
      "source": [
        "figure, axis = plt.subplots(2, sharex=True)\n",
        "\n",
        "axis[0].plot(history_lstm.history['loss'], label='train')\n",
        "axis[0].plot(history_lstm.history['val_loss'], label='validation')\n",
        "axis[0].legend()\n",
        "axis[0].set_title('Loss')\n",
        "\n",
        "axis[1].plot(history_lstm.history['accuracy'], label='train')\n",
        "axis[1].plot(history_lstm.history['val_accuracy'], label='validation')\n",
        "axis[1].legend()\n",
        "axis[1].set_title('Accuracy')\n",
        "\n",
        "plt.show()"
      ],
      "execution_count": 26,
      "outputs": [
        {
          "output_type": "display_data",
          "data": {
            "image/png": "[encoded data removed]",
            "text/plain": [
              "<Figure size 432x288 with 2 Axes>"
            ]
          },
          "metadata": {
            "needs_background": "light"
          }
        }
      ]
    },
    {
      "cell_type": "markdown",
      "metadata": {
        "id": "0pRbr9Snz8JG"
      },
      "source": [
        "#### Evaluate model performance on test dataset"
      ]
    },
    {
      "cell_type": "code",
      "metadata": {
        "id": "Kb1_h4ekz8JG",
        "outputId": "1da60655-e79d-4204-edf3-3e601845600b",
        "colab": {
          "base_uri": "https://localhost:8080/"
        }
      },
      "source": [
        "metrics_lstm = model_lstm.evaluate(test_ds,verbose=1)"
      ],
      "execution_count": 27,
      "outputs": [
        {
          "output_type": "stream",
          "name": "stdout",
          "text": [
            "782/782 [==============================] - 23s 29ms/step - loss: 0.4364 - accuracy: 0.8581 - precision: 0.8179 - recall: 0.9213\n"
          ]
        }
      ]
    },
    {
      "cell_type": "code",
      "metadata": {
        "id": "FMytDZS9z8JG",
        "outputId": "e4a9c0fe-0586-4666-c0e7-95c9bf518efb",
        "colab": {
          "base_uri": "https://localhost:8080/"
        }
      },
      "source": [
        "loss_lstm = round(metrics_lstm[0], 3)\n",
        "accuracy_lstm = round(metrics_lstm[1], 3)\n",
        "precision_lstm = round(metrics_lstm[2], 3)\n",
        "recall_lstm = round(metrics_lstm[3], 3)\n",
        "\n",
        "print('Model performance on test set:\\nLoss: {}\\nAccuracy: {}\\nPrecision: {}\\nRecall: {}\\n'.format(loss_lstm, accuracy_lstm, precision_lstm, recall_lstm))"
      ],
      "execution_count": 28,
      "outputs": [
        {
          "output_type": "stream",
          "name": "stdout",
          "text": [
            "Model performance on test set:\n",
            "Loss: 0.436\n",
            "Accuracy: 0.858\n",
            "Precision: 0.818\n",
            "Recall: 0.921\n",
            "\n"
          ]
        }
      ]
    },
    {
      "cell_type": "code",
      "metadata": {
        "id": "HLzo0Kgfz8JG"
      },
      "source": [
        "results['LSTM'] = {\n",
        "    'Loss': loss_lstm,\n",
        "    'Accuracy': accuracy_lstm,\n",
        "    'Precision': precision_lstm, \n",
        "    'Recall': recall_lstm,\n",
        "    'F1-score': round( 2*((precision_lstm * recall_lstm) / (precision_lstm + recall_lstm)), 3 )\n",
        "  }"
      ],
      "execution_count": 29,
      "outputs": []
    },
    {
      "cell_type": "markdown",
      "metadata": {
        "id": "fmoJdoAH9FGd"
      },
      "source": [
        "#### Get predictions"
      ]
    },
    {
      "cell_type": "code",
      "metadata": {
        "id": "rlPMHEIy9Iiy"
      },
      "source": [
        "threshold = 0.6"
      ],
      "execution_count": 30,
      "outputs": []
    },
    {
      "cell_type": "code",
      "metadata": {
        "id": "n0BJDAU79Ke6"
      },
      "source": [
        "predictions = np.array(model_lstm.predict(test_ds) > threshold, dtype=np.int32)"
      ],
      "execution_count": 31,
      "outputs": []
    },
    {
      "cell_type": "code",
      "metadata": {
        "id": "6_zvmUM19SRC"
      },
      "source": [
        "test_labels = np.array([k[1].numpy() for k in test_ds.unbatch()])"
      ],
      "execution_count": 32,
      "outputs": []
    },
    {
      "cell_type": "code",
      "metadata": {
        "id": "funP2PxJ9ZP6",
        "outputId": "013fe040-d3c0-4bcf-aa04-1ed160a1b7da",
        "colab": {
          "base_uri": "https://localhost:8080/"
        }
      },
      "source": [
        "from sklearn.metrics import precision_score, recall_score, f1_score\n",
        "print('Precision: {}'.format(precision_score(test_labels, predictions)))\n",
        "print('Recall: {}'.format(recall_score(test_labels, predictions)))\n",
        "print('F1: {}'.format(f1_score(test_labels, predictions)))"
      ],
      "execution_count": 33,
      "outputs": [
        {
          "output_type": "stream",
          "name": "stdout",
          "text": [
            "Precision: 0.8313526995305164\n",
            "Recall: 0.90664\n",
            "F1: 0.867365681922547\n"
          ]
        }
      ]
    },
    {
      "cell_type": "markdown",
      "metadata": {
        "id": "oO-uFahvkgG8"
      },
      "source": [
        "# 5 Model Comparison\n",
        "Metrics used = Precision, Recall and F1 Score"
      ]
    },
    {
      "cell_type": "code",
      "metadata": {
        "id": "XKQ0ebz2kiIg",
        "outputId": "2a77eb44-048e-4d58-8950-4468f64e39bb",
        "colab": {
          "base_uri": "https://localhost:8080/",
          "height": 204
        }
      },
      "source": [
        "results = pd.DataFrame(results)\n",
        "results"
      ],
      "execution_count": 34,
      "outputs": [
        {
          "output_type": "execute_result",
          "data": {
            "text/html": [
              "<div>\n",
              "<style scoped>\n",
              "    .dataframe tbody tr th:only-of-type {\n",
              "        vertical-align: middle;\n",
              "    }\n",
              "\n",
              "    .dataframe tbody tr th {\n",
              "        vertical-align: top;\n",
              "    }\n",
              "\n",
              "    .dataframe thead th {\n",
              "        text-align: right;\n",
              "    }\n",
              "</style>\n",
              "<table border=\"1\" class=\"dataframe\">\n",
              "  <thead>\n",
              "    <tr style=\"text-align: right;\">\n",
              "      <th></th>\n",
              "      <th>CNN</th>\n",
              "      <th>LSTM</th>\n",
              "    </tr>\n",
              "  </thead>\n",
              "  <tbody>\n",
              "    <tr>\n",
              "      <th>Loss</th>\n",
              "      <td>0.626</td>\n",
              "      <td>0.436</td>\n",
              "    </tr>\n",
              "    <tr>\n",
              "      <th>Accuracy</th>\n",
              "      <td>0.840</td>\n",
              "      <td>0.858</td>\n",
              "    </tr>\n",
              "    <tr>\n",
              "      <th>Precision</th>\n",
              "      <td>0.773</td>\n",
              "      <td>0.818</td>\n",
              "    </tr>\n",
              "    <tr>\n",
              "      <th>Recall</th>\n",
              "      <td>0.964</td>\n",
              "      <td>0.921</td>\n",
              "    </tr>\n",
              "    <tr>\n",
              "      <th>F1-score</th>\n",
              "      <td>0.858</td>\n",
              "      <td>0.866</td>\n",
              "    </tr>\n",
              "  </tbody>\n",
              "</table>\n",
              "</div>"
            ],
            "text/plain": [
              "             CNN   LSTM\n",
              "Loss       0.626  0.436\n",
              "Accuracy   0.840  0.858\n",
              "Precision  0.773  0.818\n",
              "Recall     0.964  0.921\n",
              "F1-score   0.858  0.866"
            ]
          },
          "metadata": {},
          "execution_count": 34
        }
      ]
    },
    {
      "cell_type": "markdown",
      "metadata": {
        "id": "x2Z_3w0MM7-Y"
      },
      "source": [
        "From the results, we see that LSTM performed better in terms of precision, recall and F1 score because XXX."
      ]
    },
    {
      "cell_type": "markdown",
      "metadata": {
        "id": "-g5O4FdA_DeX"
      },
      "source": [
        "# 6 Insights\n",
        "The last 2 points will be given if you have provided any deeper insights. (For example but not limited to, provide empirical evidence for why one method is better than the other one; how the change of the network structure might influence the performance; how the data characteristics might influence the performance; any other aspects you want to highlight)."
      ]
    },
    {
      "cell_type": "markdown",
      "metadata": {
        "id": "3ViE_7dlcSpo"
      },
      "source": [
        "On their own, performance is comparable. However, performing sentiment analysis using CNN with LSTM can improve prediction performance."
      ]
    },
    {
      "cell_type": "markdown",
      "metadata": {
        "id": "AYiUSmMUauln"
      },
      "source": [
        "https://medium.com/@mrunal68/text-sentiments-classification-with-cnn-and-lstm-f92652bc29fd\n",
        "\n",
        "- CNN does not depend on the computations of the previous time steps and therefore allow parallelization over every element in a sequence.\n",
        "- CNN obtains essential features of text through pooling but it is difficult to obtain contextual information.\n",
        "\n",
        "- LSTM, and RNN in general, maintains a hidden state of the entire past that prevents parallel computation within a sequence.\n",
        "- However, it can potentially lead to bias "
      ]
    },
    {
      "cell_type": "markdown",
      "metadata": {
        "id": "xL8uFXmjdCDm"
      },
      "source": [
        "https://towardsdatascience.com/text-classification-rnns-or-cnn-s-98c86a0dd361"
      ]
    },
    {
      "cell_type": "markdown",
      "metadata": {
        "id": "hoATjHuNdcX8"
      },
      "source": [
        "Improve:\n",
        "- Problem of overfitting\n",
        "- Using different threshold will correspond to differnt points on ROC curve"
      ]
    },
    {
      "cell_type": "code",
      "metadata": {
        "id": "_-udHh9b916r"
      },
      "source": [
        "threshold = [x/10 for x in range(1,10)]\n",
        "test_labels = np.array([k[1].numpy() for k in test_ds.unbatch()])\n",
        "results_threshold_cnn = {'Accuracy': {}, 'Precision': {}, 'Recall': {}, 'F1': {}}\n",
        "results_threshold_lstm = {'Accuracy': {}, 'Precision': {}, 'Recall': {}, 'F1': {}}\n",
        "\n",
        "for t in threshold:\n",
        "  predictions_cnn = np.array(model_cnn.predict(test_ds) > t, dtype=np.int32)\n",
        "  results_threshold_cnn['Accuracy']['CNN_' + str(t)] = accuracy_score(test_labels, predictions_cnn)\n",
        "  results_threshold_cnn['Precision']['CNN_' + str(t)] = precision_score(test_labels, predictions_cnn)                           \n",
        "  results_threshold_cnn['Recall']['CNN_' + str(t)] = recall_score(test_labels, predictions_cnn)\n",
        "  results_threshold_cnn['F1']['CNN_' + str(t)] = f1_score(test_labels, predictions_cnn)\n",
        "\n",
        "  predictions_lstm = np.array(model_cnn.predict(test_ds) > t, dtype=np.int32)\n",
        "  results_threshold_lstm['Accuracy']['LSTM_' + str(t)] = accuracy_score(test_labels, predictions_lstm)\n",
        "  results_threshold_lstm['Precision']['LSTM_' + str(t)] = precision_score(test_labels, predictions_lstm)\n",
        "  results_threshold_lstm['Recall']['LSTM_' + str(t)] = recall_score(test_labels, predictions_lstm)\n",
        "  results_threshold_lstm['F1']['LSTM_' + str(t)] = f1_score(test_labels, predictions_lstm)"
      ],
      "execution_count": 51,
      "outputs": []
    },
    {
      "cell_type": "code",
      "metadata": {
        "id": "W5ks7Tss2mLB",
        "outputId": "669416e5-2472-42a0-e58b-7f0298df3bac",
        "colab": {
          "base_uri": "https://localhost:8080/",
          "height": 328
        }
      },
      "source": [
        "results_threshold_cnn = pd.DataFrame(results_threshold_cnn)\n",
        "results_threshold_cnn"
      ],
      "execution_count": 52,
      "outputs": [
        {
          "output_type": "execute_result",
          "data": {
            "text/html": [
              "<div>\n",
              "<style scoped>\n",
              "    .dataframe tbody tr th:only-of-type {\n",
              "        vertical-align: middle;\n",
              "    }\n",
              "\n",
              "    .dataframe tbody tr th {\n",
              "        vertical-align: top;\n",
              "    }\n",
              "\n",
              "    .dataframe thead th {\n",
              "        text-align: right;\n",
              "    }\n",
              "</style>\n",
              "<table border=\"1\" class=\"dataframe\">\n",
              "  <thead>\n",
              "    <tr style=\"text-align: right;\">\n",
              "      <th></th>\n",
              "      <th>Accuracy</th>\n",
              "      <th>Precision</th>\n",
              "      <th>Recall</th>\n",
              "      <th>F1</th>\n",
              "    </tr>\n",
              "  </thead>\n",
              "  <tbody>\n",
              "    <tr>\n",
              "      <th>CNN_0.1</th>\n",
              "      <td>0.79204</td>\n",
              "      <td>0.711439</td>\n",
              "      <td>0.98264</td>\n",
              "      <td>0.825332</td>\n",
              "    </tr>\n",
              "    <tr>\n",
              "      <th>CNN_0.2</th>\n",
              "      <td>0.81164</td>\n",
              "      <td>0.734316</td>\n",
              "      <td>0.97664</td>\n",
              "      <td>0.838318</td>\n",
              "    </tr>\n",
              "    <tr>\n",
              "      <th>CNN_0.3</th>\n",
              "      <td>0.82476</td>\n",
              "      <td>0.750416</td>\n",
              "      <td>0.97320</td>\n",
              "      <td>0.847410</td>\n",
              "    </tr>\n",
              "    <tr>\n",
              "      <th>CNN_0.4</th>\n",
              "      <td>0.83364</td>\n",
              "      <td>0.762709</td>\n",
              "      <td>0.96864</td>\n",
              "      <td>0.853427</td>\n",
              "    </tr>\n",
              "    <tr>\n",
              "      <th>CNN_0.5</th>\n",
              "      <td>0.84024</td>\n",
              "      <td>0.772733</td>\n",
              "      <td>0.96400</td>\n",
              "      <td>0.857834</td>\n",
              "    </tr>\n",
              "    <tr>\n",
              "      <th>CNN_0.6</th>\n",
              "      <td>0.84636</td>\n",
              "      <td>0.782955</td>\n",
              "      <td>0.95840</td>\n",
              "      <td>0.861840</td>\n",
              "    </tr>\n",
              "    <tr>\n",
              "      <th>CNN_0.7</th>\n",
              "      <td>0.85312</td>\n",
              "      <td>0.794267</td>\n",
              "      <td>0.95312</td>\n",
              "      <td>0.866473</td>\n",
              "    </tr>\n",
              "    <tr>\n",
              "      <th>CNN_0.8</th>\n",
              "      <td>0.85956</td>\n",
              "      <td>0.807569</td>\n",
              "      <td>0.94408</td>\n",
              "      <td>0.870505</td>\n",
              "    </tr>\n",
              "    <tr>\n",
              "      <th>CNN_0.9</th>\n",
              "      <td>0.87136</td>\n",
              "      <td>0.832855</td>\n",
              "      <td>0.92920</td>\n",
              "      <td>0.878394</td>\n",
              "    </tr>\n",
              "  </tbody>\n",
              "</table>\n",
              "</div>"
            ],
            "text/plain": [
              "         Accuracy  Precision   Recall        F1\n",
              "CNN_0.1   0.79204   0.711439  0.98264  0.825332\n",
              "CNN_0.2   0.81164   0.734316  0.97664  0.838318\n",
              "CNN_0.3   0.82476   0.750416  0.97320  0.847410\n",
              "CNN_0.4   0.83364   0.762709  0.96864  0.853427\n",
              "CNN_0.5   0.84024   0.772733  0.96400  0.857834\n",
              "CNN_0.6   0.84636   0.782955  0.95840  0.861840\n",
              "CNN_0.7   0.85312   0.794267  0.95312  0.866473\n",
              "CNN_0.8   0.85956   0.807569  0.94408  0.870505\n",
              "CNN_0.9   0.87136   0.832855  0.92920  0.878394"
            ]
          },
          "metadata": {},
          "execution_count": 52
        }
      ]
    },
    {
      "cell_type": "code",
      "metadata": {
        "id": "2zEWZm3yMBEv",
        "outputId": "0a12f661-33a6-413a-9150-385566482492",
        "colab": {
          "base_uri": "https://localhost:8080/",
          "height": 328
        }
      },
      "source": [
        "results_threshold_lstm = pd.DataFrame(results_threshold_lstm)\n",
        "results_threshold_lstm"
      ],
      "execution_count": 53,
      "outputs": [
        {
          "output_type": "execute_result",
          "data": {
            "text/html": [
              "<div>\n",
              "<style scoped>\n",
              "    .dataframe tbody tr th:only-of-type {\n",
              "        vertical-align: middle;\n",
              "    }\n",
              "\n",
              "    .dataframe tbody tr th {\n",
              "        vertical-align: top;\n",
              "    }\n",
              "\n",
              "    .dataframe thead th {\n",
              "        text-align: right;\n",
              "    }\n",
              "</style>\n",
              "<table border=\"1\" class=\"dataframe\">\n",
              "  <thead>\n",
              "    <tr style=\"text-align: right;\">\n",
              "      <th></th>\n",
              "      <th>Accuracy</th>\n",
              "      <th>Precision</th>\n",
              "      <th>Recall</th>\n",
              "      <th>F1</th>\n",
              "    </tr>\n",
              "  </thead>\n",
              "  <tbody>\n",
              "    <tr>\n",
              "      <th>LSTM_0.1</th>\n",
              "      <td>0.85972</td>\n",
              "      <td>0.88773</td>\n",
              "      <td>0.8236</td>\n",
              "      <td>0.854463</td>\n",
              "    </tr>\n",
              "    <tr>\n",
              "      <th>LSTM_0.2</th>\n",
              "      <td>0.85972</td>\n",
              "      <td>0.88773</td>\n",
              "      <td>0.8236</td>\n",
              "      <td>0.854463</td>\n",
              "    </tr>\n",
              "    <tr>\n",
              "      <th>LSTM_0.3</th>\n",
              "      <td>0.85972</td>\n",
              "      <td>0.88773</td>\n",
              "      <td>0.8236</td>\n",
              "      <td>0.854463</td>\n",
              "    </tr>\n",
              "    <tr>\n",
              "      <th>LSTM_0.4</th>\n",
              "      <td>0.85972</td>\n",
              "      <td>0.88773</td>\n",
              "      <td>0.8236</td>\n",
              "      <td>0.854463</td>\n",
              "    </tr>\n",
              "    <tr>\n",
              "      <th>LSTM_0.5</th>\n",
              "      <td>0.85972</td>\n",
              "      <td>0.88773</td>\n",
              "      <td>0.8236</td>\n",
              "      <td>0.854463</td>\n",
              "    </tr>\n",
              "    <tr>\n",
              "      <th>LSTM_0.6</th>\n",
              "      <td>0.85972</td>\n",
              "      <td>0.88773</td>\n",
              "      <td>0.8236</td>\n",
              "      <td>0.854463</td>\n",
              "    </tr>\n",
              "    <tr>\n",
              "      <th>LSTM_0.7</th>\n",
              "      <td>0.85972</td>\n",
              "      <td>0.88773</td>\n",
              "      <td>0.8236</td>\n",
              "      <td>0.854463</td>\n",
              "    </tr>\n",
              "    <tr>\n",
              "      <th>LSTM_0.8</th>\n",
              "      <td>0.85972</td>\n",
              "      <td>0.88773</td>\n",
              "      <td>0.8236</td>\n",
              "      <td>0.854463</td>\n",
              "    </tr>\n",
              "    <tr>\n",
              "      <th>LSTM_0.9</th>\n",
              "      <td>0.85972</td>\n",
              "      <td>0.88773</td>\n",
              "      <td>0.8236</td>\n",
              "      <td>0.854463</td>\n",
              "    </tr>\n",
              "  </tbody>\n",
              "</table>\n",
              "</div>"
            ],
            "text/plain": [
              "          Accuracy  Precision  Recall        F1\n",
              "LSTM_0.1   0.85972    0.88773  0.8236  0.854463\n",
              "LSTM_0.2   0.85972    0.88773  0.8236  0.854463\n",
              "LSTM_0.3   0.85972    0.88773  0.8236  0.854463\n",
              "LSTM_0.4   0.85972    0.88773  0.8236  0.854463\n",
              "LSTM_0.5   0.85972    0.88773  0.8236  0.854463\n",
              "LSTM_0.6   0.85972    0.88773  0.8236  0.854463\n",
              "LSTM_0.7   0.85972    0.88773  0.8236  0.854463\n",
              "LSTM_0.8   0.85972    0.88773  0.8236  0.854463\n",
              "LSTM_0.9   0.85972    0.88773  0.8236  0.854463"
            ]
          },
          "metadata": {},
          "execution_count": 53
        }
      ]
    }
  ]
}