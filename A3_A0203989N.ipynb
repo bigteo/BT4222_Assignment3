{
  "nbformat": 4,
  "nbformat_minor": 0,
  "metadata": {
    "colab": {
      "name": "A3_A0203989N.ipynb",
      "provenance": [],
      "collapsed_sections": [
        "sEknxYKtjfzK",
        "F7-7B5iwrNYB",
        "2Uf123B7jiCD"
      ]
    },
    "kernelspec": {
      "name": "python3",
      "display_name": "Python 3"
    },
    "language_info": {
      "name": "python"
    },
    "accelerator": "GPU"
  },
  "cells": [
    {
      "cell_type": "markdown",
      "metadata": {
        "id": "QelXyP-0hiT5"
      },
      "source": [
        "# BT4222 Assignment 3\n",
        "By Teo Zhi Feng (A0203989N)"
      ]
    },
    {
      "cell_type": "markdown",
      "metadata": {
        "id": "KMzTMwKfhvdl"
      },
      "source": [
        "# 1 Setup"
      ]
    },
    {
      "cell_type": "markdown",
      "metadata": {
        "id": "h24U7PflBFyV"
      },
      "source": [
        "#### Import packages"
      ]
    },
    {
      "cell_type": "code",
      "metadata": {
        "id": "e-UQHsr9hhtH"
      },
      "source": [
        "from __future__ import print_function\n",
        "\n",
        "from numpy.random import seed\n",
        "from tensorflow.random import set_seed\n",
        "\n",
        "import numpy as np\n",
        "import pandas as pd\n",
        "from sklearn.metrics import accuracy_score, precision_score, recall_score, f1_score\n",
        "import matplotlib.pyplot as plt\n",
        "%matplotlib inline\n",
        "\n",
        "import tensorflow as tf\n",
        "from tensorflow.keras import regularizers\n",
        "from tensorflow.keras.preprocessing import sequence\n",
        "from tensorflow.keras.models import Sequential\n",
        "from tensorflow.keras.layers import Activation, Bidirectional, Conv1D, Dense, Dropout, Embedding, Flatten, GlobalMaxPooling1D, LSTM, MaxPooling1D, TextVectorization\n",
        "from tensorflow.keras.callbacks import EarlyStopping\n",
        "from tensorflow.keras.utils import plot_model\n",
        "\n",
        "import string\n",
        "import re"
      ],
      "execution_count": 1,
      "outputs": []
    },
    {
      "cell_type": "markdown",
      "metadata": {
        "id": "RdKjHmN974Sj"
      },
      "source": [
        "#### Determine parameters"
      ]
    },
    {
      "cell_type": "code",
      "metadata": {
        "id": "9Oa_WfbyxF2Y"
      },
      "source": [
        "epochs = 10\n",
        "batch_size = 128 # select a batch size to fully utilise GPU memory, or 16 or 32\n",
        "max_features = 20000\n",
        "\n",
        "embedding_dims = 50 # emddeding for each word\n",
        "maxlen = 800 # max number of words in the review\n",
        "\n",
        "filters = 250\n",
        "kernel_size = 3 # size of the 1D conv. layer\n",
        "hidden_dims = 128 # number of dimensions\n",
        "\n",
        "metrics = ['accuracy', \"Precision\", \"Recall\"]"
      ],
      "execution_count": 2,
      "outputs": []
    },
    {
      "cell_type": "markdown",
      "metadata": {
        "id": "mNtvCJUGawfR"
      },
      "source": [
        "#### Helper function to extract and store results"
      ]
    },
    {
      "cell_type": "code",
      "metadata": {
        "id": "EG68CbqbvWKg"
      },
      "source": [
        "results = {}"
      ],
      "execution_count": 3,
      "outputs": []
    },
    {
      "cell_type": "code",
      "metadata": {
        "id": "tZpJsTClaytz"
      },
      "source": [
        "def get_results(metrics, name, results=results, store=False):\n",
        "  loss = round(metrics[0], 3)\n",
        "  accuracy = round(metrics[1], 3)\n",
        "  precision = round(metrics[2], 3)\n",
        "  recall = round(metrics[3], 3)\n",
        "  f1 = round( 2*((precision * recall) / (precision + recall)), 3 )\n",
        "  print('Model performance on {}:\\n Loss: {}\\n Accuracy: {}\\n Precision: {}\\n Recall: {}\\n F1: {}'.format(name, loss, accuracy, precision, recall, f1))\n",
        "  if store == False: results = results.copy()\n",
        "  results[name] = {'Loss': loss, 'Accuracy': accuracy, 'Precision': precision, 'Recall': recall,\n",
        "      'F1': f1} \n",
        "  print(pd.DataFrame(results))"
      ],
      "execution_count": 4,
      "outputs": []
    },
    {
      "cell_type": "markdown",
      "metadata": {
        "id": "5ByVIc8d0aC0"
      },
      "source": [
        "#### Import IMDB Dataset"
      ]
    },
    {
      "cell_type": "code",
      "metadata": {
        "colab": {
          "base_uri": "https://localhost:8080/"
        },
        "id": "UKH4gT460Pv9",
        "outputId": "c3940f72-6016-4890-b1c7-7329bab6c19b"
      },
      "source": [
        "!curl -O https://ai.stanford.edu/~amaas/data/sentiment/aclImdb_v1.tar.gz\n",
        "!tar -xf aclImdb_v1.tar.gz"
      ],
      "execution_count": 5,
      "outputs": [
        {
          "output_type": "stream",
          "name": "stdout",
          "text": [
            "  % Total    % Received % Xferd  Average Speed   Time    Time     Time  Current\n",
            "                                 Dload  Upload   Total   Spent    Left  Speed\n",
            "100 80.2M  100 80.2M    0     0  25.4M      0  0:00:03  0:00:03 --:--:-- 25.4M\n"
          ]
        }
      ]
    },
    {
      "cell_type": "code",
      "metadata": {
        "id": "OGUHXRDqmWHC",
        "colab": {
          "base_uri": "https://localhost:8080/"
        },
        "outputId": "d64f5347-93d7-4b30-b99a-a8e52616a02d"
      },
      "source": [
        "!ls aclImdb\n",
        "!ls aclImdb/test\n",
        "!ls aclImdb/train"
      ],
      "execution_count": 6,
      "outputs": [
        {
          "output_type": "stream",
          "name": "stdout",
          "text": [
            "imdbEr.txt  imdb.vocab\tREADME\ttest  train\n",
            "labeledBow.feat  neg  pos  urls_neg.txt  urls_pos.txt\n",
            "labeledBow.feat  pos\tunsupBow.feat  urls_pos.txt\n",
            "neg\t\t unsup\turls_neg.txt   urls_unsup.txt\n"
          ]
        }
      ]
    },
    {
      "cell_type": "code",
      "metadata": {
        "id": "uMHf2EeonDTg"
      },
      "source": [
        "!rm -r aclImdb/train/unsup"
      ],
      "execution_count": 7,
      "outputs": []
    },
    {
      "cell_type": "markdown",
      "metadata": {
        "id": "te5c4IfYsj1N"
      },
      "source": [
        "#### Import all datasets"
      ]
    },
    {
      "cell_type": "code",
      "metadata": {
        "id": "VqnfXcXJnDPo",
        "colab": {
          "base_uri": "https://localhost:8080/"
        },
        "outputId": "5122a5d8-3c84-4802-c8ed-aa3f61268a5a"
      },
      "source": [
        "raw_train_ds = tf.keras.preprocessing.text_dataset_from_directory(\n",
        "    \"aclImdb/train\",\n",
        "    batch_size=batch_size,\n",
        "    validation_split=0.2,\n",
        "    subset=\"training\",\n",
        "    seed=1337,\n",
        ")\n",
        "raw_val_ds = tf.keras.preprocessing.text_dataset_from_directory(\n",
        "    \"aclImdb/train\",\n",
        "    batch_size=batch_size,\n",
        "    validation_split=0.2,\n",
        "    subset=\"validation\",\n",
        "    seed=1337,\n",
        ")\n",
        "raw_test_ds = tf.keras.preprocessing.text_dataset_from_directory(\n",
        "    \"aclImdb/test\",\n",
        "    batch_size=batch_size\n",
        ")\n",
        "\n",
        "print(f\"Number of batches in raw_train_ds: {raw_train_ds.cardinality()}\")\n",
        "print(f\"Number of batches in raw_val_ds: {raw_val_ds.cardinality()}\")\n",
        "print(f\"Number of batches in raw_test_ds: {raw_test_ds.cardinality()}\")"
      ],
      "execution_count": 8,
      "outputs": [
        {
          "output_type": "stream",
          "name": "stdout",
          "text": [
            "Found 25000 files belonging to 2 classes.\n",
            "Using 20000 files for training.\n",
            "Found 25000 files belonging to 2 classes.\n",
            "Using 5000 files for validation.\n",
            "Found 25000 files belonging to 2 classes.\n",
            "Number of batches in raw_train_ds: 157\n",
            "Number of batches in raw_val_ds: 40\n",
            "Number of batches in raw_test_ds: 196\n"
          ]
        }
      ]
    },
    {
      "cell_type": "markdown",
      "metadata": {
        "id": "n8RbfM0ysoGD"
      },
      "source": [
        "#### Inspect dataset"
      ]
    },
    {
      "cell_type": "code",
      "metadata": {
        "id": "gTE61hxtsCg-",
        "colab": {
          "base_uri": "https://localhost:8080/"
        },
        "outputId": "342987c9-3124-4ae2-e570-07cc30da7c70"
      },
      "source": [
        "for text_batch, label_batch in raw_train_ds.take(1):\n",
        "    for i in range(5):\n",
        "        print(text_batch.numpy()[i])\n",
        "        print(label_batch.numpy()[i])"
      ],
      "execution_count": 9,
      "outputs": [
        {
          "output_type": "stream",
          "name": "stdout",
          "text": [
            "b\"I gave this a four purely out of its historical context. It was considered lost for many years until it popped up out of the blue on Showtime in the early nineties.<br /><br />Moe is the straight man and Larry and Curly act as a duo. Spade Cooley has a couple of numbers. I guess it had something to do with working on a ranch. I'm not quite sure because the plot was so minimal nothing really sticks in my memory. I vaguely remember it being a western musical comedy. Even the Stooge's seem to be going through the motions. Overall there's nothing much really to recommend here.<br /><br />If you're not a Stooge fan then don't bother. If you are a Stooge fan, then stick with the shorts.\"\n",
            "0\n",
            "b'First than anything, I\\'m not going to praise I\\xc3\\xb1arritu\\'s short film, even I\\'m Mexican and proud of his success in mainstream Hollywood.<br /><br />In another hand, I see most of the reviews focuses on their favorite (and not so) short films; but we are forgetting that there is a subtle bottom line that circles the whole compilation, and maybe it will not be so pleasant for American people. (Even if that was not the main purpose of the producers) <br /><br />What i\\'m talking about is that most of the short films does not show the suffering that WASP people went through because the terrorist attack on September 11th, but the suffering of the Other people.<br /><br />Do you need proofs about what i\\'m saying? Look, in the Bosnia short film, the message is: \"You cry because of the people who died in the Towers, but we (The Others = East Europeans) are crying long ago for the crimes committed against our women and nobody pay attention to us like the whole world has done to you\".<br /><br />Even though the Burkina Fasso story is more in comedy, there is a the same thought: \"You are angry because Osama Bin Laden punched you in an evil way, but we (The Others = Africans) should be more angry, because our people is dying of hunger, poverty and AIDS long time ago, and nobody pay attention to us like the whole world has done to you\".<br /><br />Look now at the Sean Penn short: The fall of the Twin Towers makes happy to a lonely (and alienated) man. So the message is that the Power and the Greed (symbolized by the Towers) must fall for letting the people see the sun rise and the flowers blossom? It is remarkable that this terrible bottom line has been proposed by an American. There is so much irony in this short film that it is close to be subversive.<br /><br />Well, the Ken Loach (very know because his anti-capitalism ideology) is much more clearly and shameless in going straight to the point: \"You are angry because your country has been attacked by evil forces, but we (The Others = Latin Americans) suffered at a similar date something worst, and nobody remembers our grief as the whole world has done to you\".<br /><br />It is like if the creative of this project wanted to say to Americans: \"You see now, America? You are not the only that have become victim of the world violence, you are not alone in your pain and by the way, we (the Others = the Non Americans) have been suffering a lot more than you from long time ago; so, we are in solidarity with you in your pain... and by the way, we are sorry because you have had some taste of your own medicine\" Only the Mexican and the French short films showed some compassion and sympathy for American people; the others are like a slap on the face for the American State, that is not equal to American People.'\n",
            "1\n",
            "b'Blood Castle (aka Scream of the Demon Lover, Altar of Blood, Ivanna--the best, but least exploitation cinema-sounding title, and so on) is a very traditional Gothic Romance film. That means that it has big, creepy castles, a headstrong young woman, a mysterious older man, hints of horror and the supernatural, and romance elements in the contemporary sense of that genre term. It also means that it is very deliberately paced, and that the film will work best for horror mavens who are big fans of understatement. If you love films like Robert Wise\\'s The Haunting (1963), but you also have a taste for late 1960s/early 1970s Spanish and Italian horror, you may love Blood Castle, as well.<br /><br />Baron Janos Dalmar (Carlos Quiney) lives in a large castle on the outskirts of a traditional, unspecified European village. The locals fear him because legend has it that whenever he beds a woman, she soon after ends up dead--the consensus is that he sets his ferocious dogs on them. This is quite a problem because the Baron has a very healthy appetite for women. At the beginning of the film, yet another woman has turned up dead and mutilated.<br /><br />Meanwhile, Dr. Ivanna Rakowsky (Erna Sch\\xc3\\xbcrer) has appeared in the center of the village, asking to be taken to Baron Dalmar\\'s castle. She\\'s an out-of-towner who has been hired by the Baron for her expertise in chemistry. Of course, no one wants to go near the castle. Finally, Ivanna finds a shady individual (who becomes even shadier) to take her. Once there, an odd woman who lives in the castle, Olga (Cristiana Galloni), rejects Ivanna and says that she shouldn\\'t be there since she\\'s a woman. Baron Dalmar vacillates over whether she should stay. She ends up staying, but somewhat reluctantly. The Baron has hired her to try to reverse the effects of severe burns, which the Baron\\'s brother, Igor, is suffering from.<br /><br />Unfortunately, the Baron\\'s brother appears to be just a lump of decomposing flesh in a vat of bizarre, blackish liquid. And furthermore, Ivanna is having bizarre, hallucinatory dreams. Just what is going on at the castle? Is the Baron responsible for the crimes? Is he insane? <br /><br />I wanted to like Blood Castle more than I did. As I mentioned, the film is very deliberate in its pacing, and most of it is very understated. I can go either way on material like that. I don\\'t care for The Haunting (yes, I\\'m in a very small minority there), but I\\'m a big fan of 1960s and 1970s European horror. One of my favorite directors is Mario Bava. I also love Dario Argento\\'s work from that period. But occasionally, Blood Castle moved a bit too slow for me at times. There are large chunks that amount to scenes of not very exciting talking alternated with scenes of Ivanna slowly walking the corridors of the castle.<br /><br />But the atmosphere of the film is decent. Director Jos\\xc3\\xa9 Luis Merino managed more than passable sets and locations, and they\\'re shot fairly well by Emanuele Di Cola. However, Blood Castle feels relatively low budget, and this is a Roger Corman-produced film, after all (which usually means a low-budget, though often surprisingly high quality \"quickie\"). So while there is a hint of the lushness of Bava\\'s colors and complex set decoration, everything is much more minimalist. Of course, it doesn\\'t help that the Retromedia print I watched looks like a 30-year old photograph that\\'s been left out in the sun too long. It appears \"washed out\", with compromised contrast.<br /><br />Still, Merino and Di Cola occasionally set up fantastic visuals. For example, a scene of Ivanna walking in a darkened hallway that\\'s shot from an exaggerated angle, and where an important plot element is revealed through shadows on a wall only. There are also a couple Ingmar Bergmanesque shots, where actors are exquisitely blocked to imply complex relationships, besides just being visually attractive and pulling your eye deep into the frame.<br /><br />The performances are fairly good, and the women--especially Sch\\xc3\\xbcrer--are very attractive. Merino exploits this fact by incorporating a decent amount of nudity. Sch\\xc3\\xbcrer went on to do a number of films that were as much soft corn porn as they were other genres, with English titles such as Sex Life in a Woman\\'s Prison (1974), Naked and Lustful (1974), Strip Nude for Your Killer (1975) and Erotic Exploits of a Sexy Seducer (1977). Blood Castle is much tamer, but in addition to the nudity, there are still mild scenes suggesting rape and bondage, and of course the scenes mixing sex and death.<br /><br />The primary attraction here, though, is probably the story, which is much a slow-burning romance as anything else. The horror elements, the mystery elements, and a somewhat unexpected twist near the end are bonuses, but in the end, Blood Castle is a love story, about a couple overcoming various difficulties and antagonisms (often with physical threats or harms) to be together.'\n",
            "1\n",
            "b\"Halloween is one of the best examples of independent film. It's very well made and has more psychological elements to it than you might realize at first glance. It is a simple movie told very well. The music is perfect and is one of the most haunting scores... If you haven't seen this movie yet, you must check it out. The cast is all terrific. I wish they had never made sequel after sequel. The first one was by far the best and should have ended like it did without having a sequel. It was fun to see Jamie Lee Curtis in the movie. She hasn't seemed to age (she's just as gorgeous today, without the hairdo and seventies clothes). The scenes through the mask are one of the scariest things ever!\"\n",
            "1\n",
            "b\"Michelle Rodriguez is the defining actress who could be the charging force for other actresses to look out for. She has the audacity to place herself in a rarely seen tough-girl role very early in her career (and pull it off), which is a feat that should be recognized. Although her later films pigeonhole her to that same role, this film was made for her ruggedness.<br /><br />Her character is a romanticized student/fighter/lover, struggling to overcome her disenchanted existence in the projects, which is a little overdone in film...but not by a girl. That aspect of this film isn't very original, but the story goes in depth when the heated relationships that this girl has to deal with come to a boil and her primal rage takes over.<br /><br />I haven't seen an actress take such an aggressive stance in movie-making yet, and I'm glad that she's getting that original twist out there in Hollywood. This film got a 7 from me because of the average story of ghetto youth, but it has such a great actress portraying a rarely-seen role in a minimal budget movie. Great work.\"\n",
            "1\n"
          ]
        }
      ]
    },
    {
      "cell_type": "markdown",
      "metadata": {
        "id": "9u1MUVaKoMq9"
      },
      "source": [
        "# 2 Data Pre-Processing"
      ]
    },
    {
      "cell_type": "markdown",
      "metadata": {
        "id": "IsA9pKy4tLy-"
      },
      "source": [
        "#### Vectorise data"
      ]
    },
    {
      "cell_type": "code",
      "metadata": {
        "id": "OPim7cIQnDGI"
      },
      "source": [
        "# Define custom function\n",
        "def custom_standardization(input_data):\n",
        "    lowercase = tf.strings.lower(input_data)\n",
        "    stripped_html = tf.strings.regex_replace(lowercase, \"<br />\", \" \")\n",
        "    return tf.strings.regex_replace(\n",
        "        stripped_html, f\"[{re.escape(string.punctuation)}]\", \"\"\n",
        "    )\n",
        "\n",
        "# Instantiate text vectorisation layer to normalize, split, and map strings to integers.\n",
        "# We also set an explicit maximum sequence length, since the CNNs later in our model won't support ragged sequences.\n",
        "vectorize_layer = TextVectorization(\n",
        "    standardize=custom_standardization,\n",
        "    max_tokens=max_features,\n",
        "    output_mode=\"int\",\n",
        "    output_sequence_length=maxlen)\n",
        "\n",
        "# With vocab layer, call `adapt` on a text-only dataset to create the vocabulary. \n",
        "text_ds = raw_train_ds.map(lambda x, y: x)\n",
        "vectorize_layer.adapt(text_ds)"
      ],
      "execution_count": 10,
      "outputs": []
    },
    {
      "cell_type": "code",
      "metadata": {
        "id": "yG2l-87M3sRL",
        "colab": {
          "base_uri": "https://localhost:8080/"
        },
        "outputId": "25e6dca2-6e79-40f9-d3e9-ccc2ee766471"
      },
      "source": [
        "print(len(vectorize_layer.get_vocabulary()))\n",
        "print(vectorize_layer.get_vocabulary()[:20])"
      ],
      "execution_count": 11,
      "outputs": [
        {
          "output_type": "stream",
          "name": "stdout",
          "text": [
            "20000\n",
            "['', '[UNK]', 'the', 'and', 'a', 'of', 'to', 'is', 'in', 'it', 'this', 'i', 'that', 'was', 'as', 'for', 'with', 'movie', 'but', 'film']\n"
          ]
        }
      ]
    },
    {
      "cell_type": "code",
      "metadata": {
        "id": "ZB1DJBInpWnO"
      },
      "source": [
        "def vectorize_text(text, label):\n",
        "    text = tf.expand_dims(text, -1)\n",
        "    return vectorize_layer(text), label\n",
        "\n",
        "# Vectorize the data.\n",
        "train_ds = raw_train_ds.map(vectorize_text)\n",
        "val_ds = raw_val_ds.map(vectorize_text)\n",
        "test_ds = raw_test_ds.map(vectorize_text)\n",
        "\n",
        "# Do async prefetching / buffering of the data for best performance on GPU.\n",
        "train_ds = train_ds.cache().prefetch(buffer_size=10)\n",
        "val_ds = val_ds.cache().prefetch(buffer_size=10)\n",
        "test_ds = test_ds.cache().prefetch(buffer_size=10)"
      ],
      "execution_count": 12,
      "outputs": []
    },
    {
      "cell_type": "markdown",
      "metadata": {
        "id": "6pxAX7eO_lbq"
      },
      "source": [
        "#### Inspect vectorised dataset"
      ]
    },
    {
      "cell_type": "code",
      "metadata": {
        "id": "s3CnRHv3pj_N",
        "colab": {
          "base_uri": "https://localhost:8080/"
        },
        "outputId": "6ce2f401-0da3-48f9-af3c-73c786d8c255"
      },
      "source": [
        "text_batch, label_batch = next(iter(raw_train_ds))\n",
        "first_review, first_label = text_batch[0], label_batch[0]\n",
        "print(\"Review\", first_review)\n",
        "print(\"Label\", raw_train_ds.class_names[first_label])\n",
        "print(\"Vectorized review\", vectorize_text(first_review, first_label))"
      ],
      "execution_count": 13,
      "outputs": [
        {
          "output_type": "stream",
          "name": "stdout",
          "text": [
            "Review tf.Tensor(b'OK, so the musical pieces were poorly written and generally poorly sung (though Walken and Marner, particularly Walken, sounded pretty good). And so they shattered the fourth wall at the end by having the king and his nobles sing about the \"battle\" with the ogre, and praise the efforts of Puss in Boots when they by rights shouldn\\'t have even known about it.<br /><br />Who cares? It\\'s Christopher Freakin\\' Walken, doing a movie based on a fairy tale, and he sings and dances. His acting style fits the role very well as the devious, mischievous Puss who seems to get his master into deeper and deeper trouble but in fact has a plan he\\'s thought about seven or eight moves in advance. And if you\\'ve ever seen Walken in any of his villainous roles, you *know* the ogre bit the dust HARD at the end when Walken got him into his trap.<br /><br />A fun film, and a must-see for anyone who enjoys the unique style of Christopher Walken.', shape=(), dtype=string)\n",
            "Label pos\n",
            "Vectorized review (<tf.Tensor: shape=(1, 800), dtype=int64, numpy=\n",
            "array([[  566,    37,     2,   622,  1409,    67,   823,   431,     3,\n",
            "         1148,   823,  5510,   148,  3611,     3,     1,   562,  3611,\n",
            "         2724,   179,    49,     3,    37,    34, 10617,     2,  2664,\n",
            "         1620,    30,     2,   125,    32,   254,     2,   706,     3,\n",
            "           23,     1,  1932,    42,     2,   938,    16,     2,  7624,\n",
            "            3,  2727,     2,  1873,     5,     1,     8,  8947,    50,\n",
            "           34,    32,  2496,  1511,    25,    53,   624,    42,     9,\n",
            "           35,  2244,    29,  1373, 15125,  3611,   380,     4,    17,\n",
            "          455,    20,     4,  2606,   798,     3,    26,  3279,     3,\n",
            "         4042,    23,   112,   427,  2456,     2,   207,    52,    73,\n",
            "           14,     2, 10480,  9297,     1,    35,   181,     6,    76,\n",
            "           23,  1258,    77,  2828,     3,  2828,  1117,    18,     8,\n",
            "          186,    43,     4,  1316,   227,   194,    42,  1612,    40,\n",
            "         2457,  1086,     8,  4365,     3,    44,   816,   121,   107,\n",
            "         3611,     8,    98,     5,    23,  7181,   533,    22,   118,\n",
            "            2,  7624,   223,     2,  5002,   264,    30,     2,   125,\n",
            "           50,  3611,   183,    86,    77,    23,  3645,     4,   243,\n",
            "           19,     3,     4,  3435,    15,   248,    35,  3626,     2,\n",
            "          935,   427,     5,  1373,  3611,     0,     0,     0,     0,\n",
            "            0,     0,     0,     0,     0,     0,     0,     0,     0,\n",
            "            0,     0,     0,     0,     0,     0,     0,     0,     0,\n",
            "            0,     0,     0,     0,     0,     0,     0,     0,     0,\n",
            "            0,     0,     0,     0,     0,     0,     0,     0,     0,\n",
            "            0,     0,     0,     0,     0,     0,     0,     0,     0,\n",
            "            0,     0,     0,     0,     0,     0,     0,     0,     0,\n",
            "            0,     0,     0,     0,     0,     0,     0,     0,     0,\n",
            "            0,     0,     0,     0,     0,     0,     0,     0,     0,\n",
            "            0,     0,     0,     0,     0,     0,     0,     0,     0,\n",
            "            0,     0,     0,     0,     0,     0,     0,     0,     0,\n",
            "            0,     0,     0,     0,     0,     0,     0,     0,     0,\n",
            "            0,     0,     0,     0,     0,     0,     0,     0,     0,\n",
            "            0,     0,     0,     0,     0,     0,     0,     0,     0,\n",
            "            0,     0,     0,     0,     0,     0,     0,     0,     0,\n",
            "            0,     0,     0,     0,     0,     0,     0,     0,     0,\n",
            "            0,     0,     0,     0,     0,     0,     0,     0,     0,\n",
            "            0,     0,     0,     0,     0,     0,     0,     0,     0,\n",
            "            0,     0,     0,     0,     0,     0,     0,     0,     0,\n",
            "            0,     0,     0,     0,     0,     0,     0,     0,     0,\n",
            "            0,     0,     0,     0,     0,     0,     0,     0,     0,\n",
            "            0,     0,     0,     0,     0,     0,     0,     0,     0,\n",
            "            0,     0,     0,     0,     0,     0,     0,     0,     0,\n",
            "            0,     0,     0,     0,     0,     0,     0,     0,     0,\n",
            "            0,     0,     0,     0,     0,     0,     0,     0,     0,\n",
            "            0,     0,     0,     0,     0,     0,     0,     0,     0,\n",
            "            0,     0,     0,     0,     0,     0,     0,     0,     0,\n",
            "            0,     0,     0,     0,     0,     0,     0,     0,     0,\n",
            "            0,     0,     0,     0,     0,     0,     0,     0,     0,\n",
            "            0,     0,     0,     0,     0,     0,     0,     0,     0,\n",
            "            0,     0,     0,     0,     0,     0,     0,     0,     0,\n",
            "            0,     0,     0,     0,     0,     0,     0,     0,     0,\n",
            "            0,     0,     0,     0,     0,     0,     0,     0,     0,\n",
            "            0,     0,     0,     0,     0,     0,     0,     0,     0,\n",
            "            0,     0,     0,     0,     0,     0,     0,     0,     0,\n",
            "            0,     0,     0,     0,     0,     0,     0,     0,     0,\n",
            "            0,     0,     0,     0,     0,     0,     0,     0,     0,\n",
            "            0,     0,     0,     0,     0,     0,     0,     0,     0,\n",
            "            0,     0,     0,     0,     0,     0,     0,     0,     0,\n",
            "            0,     0,     0,     0,     0,     0,     0,     0,     0,\n",
            "            0,     0,     0,     0,     0,     0,     0,     0,     0,\n",
            "            0,     0,     0,     0,     0,     0,     0,     0,     0,\n",
            "            0,     0,     0,     0,     0,     0,     0,     0,     0,\n",
            "            0,     0,     0,     0,     0,     0,     0,     0,     0,\n",
            "            0,     0,     0,     0,     0,     0,     0,     0,     0,\n",
            "            0,     0,     0,     0,     0,     0,     0,     0,     0,\n",
            "            0,     0,     0,     0,     0,     0,     0,     0,     0,\n",
            "            0,     0,     0,     0,     0,     0,     0,     0,     0,\n",
            "            0,     0,     0,     0,     0,     0,     0,     0,     0,\n",
            "            0,     0,     0,     0,     0,     0,     0,     0,     0,\n",
            "            0,     0,     0,     0,     0,     0,     0,     0,     0,\n",
            "            0,     0,     0,     0,     0,     0,     0,     0,     0,\n",
            "            0,     0,     0,     0,     0,     0,     0,     0,     0,\n",
            "            0,     0,     0,     0,     0,     0,     0,     0,     0,\n",
            "            0,     0,     0,     0,     0,     0,     0,     0,     0,\n",
            "            0,     0,     0,     0,     0,     0,     0,     0,     0,\n",
            "            0,     0,     0,     0,     0,     0,     0,     0,     0,\n",
            "            0,     0,     0,     0,     0,     0,     0,     0,     0,\n",
            "            0,     0,     0,     0,     0,     0,     0,     0,     0,\n",
            "            0,     0,     0,     0,     0,     0,     0,     0,     0,\n",
            "            0,     0,     0,     0,     0,     0,     0,     0,     0,\n",
            "            0,     0,     0,     0,     0,     0,     0,     0,     0,\n",
            "            0,     0,     0,     0,     0,     0,     0,     0,     0,\n",
            "            0,     0,     0,     0,     0,     0,     0,     0,     0,\n",
            "            0,     0,     0,     0,     0,     0,     0,     0,     0,\n",
            "            0,     0,     0,     0,     0,     0,     0,     0,     0,\n",
            "            0,     0,     0,     0,     0,     0,     0,     0,     0,\n",
            "            0,     0,     0,     0,     0,     0,     0,     0,     0,\n",
            "            0,     0,     0,     0,     0,     0,     0,     0,     0,\n",
            "            0,     0,     0,     0,     0,     0,     0,     0,     0,\n",
            "            0,     0,     0,     0,     0,     0,     0,     0]])>, <tf.Tensor: shape=(), dtype=int32, numpy=1>)\n"
          ]
        }
      ]
    },
    {
      "cell_type": "markdown",
      "metadata": {
        "id": "f6pWc6HXkcvA"
      },
      "source": [
        "# 3 Convolutional Neural Network (CNN)"
      ]
    },
    {
      "cell_type": "markdown",
      "metadata": {
        "id": "WW9Cp32i3FYV"
      },
      "source": [
        "#### Build model"
      ]
    },
    {
      "cell_type": "code",
      "metadata": {
        "id": "7FCmN0HmyPhw"
      },
      "source": [
        "# Define model\n",
        "model_cnn = Sequential()\n",
        "model_cnn.add(Embedding(max_features, embedding_dims, input_length=maxlen))\n",
        "# Convolutional layer 1\n",
        "model_cnn.add(Conv1D(filters, kernel_size, padding='same', activation='relu', strides=1))\n",
        "model_cnn.add(GlobalMaxPooling1D())\n",
        "# Flatten before connecting to dense layer \n",
        "model_cnn.add(Flatten())\n",
        "model_cnn.add(Dense(hidden_dims, activation='relu'))\n",
        "model_cnn.add(Dropout(0.5))\n",
        "model_cnn.add(Dense(1, activation='sigmoid', name='predictions'))\n",
        "# Use binary_crossentropy loss function as it is a binary classification problem \n",
        "model_cnn.compile(loss='binary_crossentropy', optimizer='adam', metrics=metrics)"
      ],
      "execution_count": 14,
      "outputs": []
    },
    {
      "cell_type": "markdown",
      "metadata": {
        "id": "9V8hHfueRZhz"
      },
      "source": [
        "#### Visualise model"
      ]
    },
    {
      "cell_type": "code",
      "metadata": {
        "id": "EwuGTzOe2kuN",
        "colab": {
          "base_uri": "https://localhost:8080/"
        },
        "outputId": "be55bf75-605e-4157-c0d3-04327772789a"
      },
      "source": [
        "model_cnn.summary()"
      ],
      "execution_count": 15,
      "outputs": [
        {
          "output_type": "stream",
          "name": "stdout",
          "text": [
            "Model: \"sequential\"\n",
            "_________________________________________________________________\n",
            "Layer (type)                 Output Shape              Param #   \n",
            "=================================================================\n",
            "embedding (Embedding)        (None, 800, 50)           1000000   \n",
            "_________________________________________________________________\n",
            "conv1d (Conv1D)              (None, 800, 250)          37750     \n",
            "_________________________________________________________________\n",
            "global_max_pooling1d (Global (None, 250)               0         \n",
            "_________________________________________________________________\n",
            "flatten (Flatten)            (None, 250)               0         \n",
            "_________________________________________________________________\n",
            "dense (Dense)                (None, 128)               32128     \n",
            "_________________________________________________________________\n",
            "dropout (Dropout)            (None, 128)               0         \n",
            "_________________________________________________________________\n",
            "predictions (Dense)          (None, 1)                 129       \n",
            "=================================================================\n",
            "Total params: 1,070,007\n",
            "Trainable params: 1,070,007\n",
            "Non-trainable params: 0\n",
            "_________________________________________________________________\n"
          ]
        }
      ]
    },
    {
      "cell_type": "code",
      "metadata": {
        "id": "DO4llMMDRUha",
        "colab": {
          "base_uri": "https://localhost:8080/",
          "height": 865
        },
        "outputId": "f52acb2d-4b17-4ed9-bc4f-f41c0217350f"
      },
      "source": [
        "plot_model(model_cnn, show_shapes=True)"
      ],
      "execution_count": 16,
      "outputs": [
        {
          "output_type": "execute_result",
          "data": {
            "image/png": "[encoded data removed]",
            "text/plain": [
              "<IPython.core.display.Image object>"
            ]
          },
          "metadata": {},
          "execution_count": 16
        }
      ]
    },
    {
      "cell_type": "markdown",
      "metadata": {
        "id": "JnWGkwij3IrO"
      },
      "source": [
        "#### Train model using train dataset"
      ]
    },
    {
      "cell_type": "code",
      "metadata": {
        "id": "TnJnZDLJkdtj",
        "colab": {
          "base_uri": "https://localhost:8080/"
        },
        "outputId": "e449602f-1519-4599-c5cf-c50745ab16a4"
      },
      "source": [
        "# Fit model using train dataset\n",
        "history_cnn = model_cnn.fit(train_ds, epochs=epochs, verbose = 1, batch_size=batch_size, validation_data=val_ds,\n",
        "              callbacks=[EarlyStopping(monitor='val_loss',patience=3, min_delta=0.0001)])"
      ],
      "execution_count": 17,
      "outputs": [
        {
          "output_type": "stream",
          "name": "stdout",
          "text": [
            "Epoch 1/10\n",
            "157/157 [==============================] - 14s 71ms/step - loss: 0.5581 - accuracy: 0.6931 - precision: 0.7018 - recall: 0.6689 - val_loss: 0.3639 - val_accuracy: 0.8448 - val_precision: 0.8283 - val_recall: 0.8736\n",
            "Epoch 2/10\n",
            "157/157 [==============================] - 9s 60ms/step - loss: 0.2745 - accuracy: 0.8903 - precision: 0.8850 - recall: 0.8967 - val_loss: 0.2773 - val_accuracy: 0.8834 - val_precision: 0.8787 - val_recall: 0.8922\n",
            "Epoch 3/10\n",
            "157/157 [==============================] - 9s 60ms/step - loss: 0.1426 - accuracy: 0.9517 - precision: 0.9498 - recall: 0.9535 - val_loss: 0.2993 - val_accuracy: 0.8832 - val_precision: 0.8527 - val_recall: 0.9291\n",
            "Epoch 4/10\n",
            "157/157 [==============================] - 9s 59ms/step - loss: 0.0634 - accuracy: 0.9812 - precision: 0.9808 - recall: 0.9816 - val_loss: 0.3521 - val_accuracy: 0.8826 - val_precision: 0.8518 - val_recall: 0.9291\n",
            "Epoch 5/10\n",
            "157/157 [==============================] - 9s 59ms/step - loss: 0.0312 - accuracy: 0.9914 - precision: 0.9909 - recall: 0.9919 - val_loss: 0.3787 - val_accuracy: 0.8846 - val_precision: 0.8810 - val_recall: 0.8918\n"
          ]
        }
      ]
    },
    {
      "cell_type": "code",
      "metadata": {
        "id": "SqQpw_VufOXy",
        "colab": {
          "base_uri": "https://localhost:8080/",
          "height": 281
        },
        "outputId": "ee290fed-0c37-4d70-fa2a-eb923d892c22"
      },
      "source": [
        "figure, axis = plt.subplots(2, sharex=True)\n",
        "\n",
        "axis[0].plot(history_cnn.history['loss'], label='train')\n",
        "axis[0].plot(history_cnn.history['val_loss'], label='validation')\n",
        "axis[0].legend()\n",
        "axis[0].set_title('Loss')\n",
        "\n",
        "axis[1].plot(history_cnn.history['accuracy'], label='train')\n",
        "axis[1].plot(history_cnn.history['val_accuracy'], label='validation')\n",
        "axis[1].legend()\n",
        "axis[1].set_title('Accuracy')\n",
        "\n",
        "plt.show()"
      ],
      "execution_count": 18,
      "outputs": [
        {
          "output_type": "display_data",
          "data": {
            "image/png": "[encoded data removed]",
            "text/plain": [
              "<Figure size 432x288 with 2 Axes>"
            ]
          },
          "metadata": {
            "needs_background": "light"
          }
        }
      ]
    },
    {
      "cell_type": "markdown",
      "metadata": {
        "id": "Enb8etY3v81x"
      },
      "source": [
        "#### Evaluate model performance on test dataset"
      ]
    },
    {
      "cell_type": "code",
      "metadata": {
        "id": "45Q6BCam2Wi2",
        "colab": {
          "base_uri": "https://localhost:8080/"
        },
        "outputId": "170e022a-949e-4a75-be94-7a80e4be82df"
      },
      "source": [
        "metrics_cnn = model_cnn.evaluate(test_ds,verbose=1)"
      ],
      "execution_count": 19,
      "outputs": [
        {
          "output_type": "stream",
          "name": "stdout",
          "text": [
            "196/196 [==============================] - 8s 41ms/step - loss: 0.3946 - accuracy: 0.8819 - precision: 0.8795 - recall: 0.8850\n"
          ]
        }
      ]
    },
    {
      "cell_type": "code",
      "metadata": {
        "id": "wJWo8LJAhaWK",
        "colab": {
          "base_uri": "https://localhost:8080/"
        },
        "outputId": "f7b880f4-a666-4bf6-b43a-b56053478066"
      },
      "source": [
        "get_results(metrics_cnn, 'CNN', store=True)"
      ],
      "execution_count": 20,
      "outputs": [
        {
          "output_type": "stream",
          "name": "stdout",
          "text": [
            "Model performance on CNN:\n",
            " Loss: 0.395\n",
            " Accuracy: 0.882\n",
            " Precision: 0.88\n",
            " Recall: 0.885\n",
            " F1: 0.882\n",
            "             CNN\n",
            "Accuracy   0.882\n",
            "F1         0.882\n",
            "Loss       0.395\n",
            "Precision  0.880\n",
            "Recall     0.885\n"
          ]
        }
      ]
    },
    {
      "cell_type": "markdown",
      "metadata": {
        "id": "H0iXLoWpkd6-"
      },
      "source": [
        "# 4 Long Short-Term Memory (LSTM) "
      ]
    },
    {
      "cell_type": "markdown",
      "metadata": {
        "id": "Ctvh_HOX0foK"
      },
      "source": [
        "#### Build model"
      ]
    },
    {
      "cell_type": "code",
      "metadata": {
        "id": "ZPPlmifnkgAZ"
      },
      "source": [
        "# Define model\n",
        "model_lstm = Sequential()\n",
        "model_lstm.add(Embedding(max_features, embedding_dims, input_length=maxlen))\n",
        "# LSTM layer\n",
        "model_lstm.add(LSTM(120, return_sequences=True))\n",
        "model_lstm.add(GlobalMaxPooling1D())\n",
        "model_lstm.add(Dense(1, activation='sigmoid', name='predictions'))\n",
        "# Compile\n",
        "model_lstm.compile(loss='binary_crossentropy', optimizer='adam', metrics=metrics)"
      ],
      "execution_count": 21,
      "outputs": []
    },
    {
      "cell_type": "markdown",
      "metadata": {
        "id": "GFNhKJDrRKTp"
      },
      "source": [
        "#### Visualise model"
      ]
    },
    {
      "cell_type": "code",
      "metadata": {
        "id": "n0breL5Izr4S",
        "colab": {
          "base_uri": "https://localhost:8080/"
        },
        "outputId": "80718151-f1b4-4ecd-80a3-c541e4713df7"
      },
      "source": [
        "model_lstm.summary()"
      ],
      "execution_count": 22,
      "outputs": [
        {
          "output_type": "stream",
          "name": "stdout",
          "text": [
            "Model: \"sequential_1\"\n",
            "_________________________________________________________________\n",
            "Layer (type)                 Output Shape              Param #   \n",
            "=================================================================\n",
            "embedding_1 (Embedding)      (None, 800, 50)           1000000   \n",
            "_________________________________________________________________\n",
            "lstm (LSTM)                  (None, 800, 120)          82080     \n",
            "_________________________________________________________________\n",
            "global_max_pooling1d_1 (Glob (None, 120)               0         \n",
            "_________________________________________________________________\n",
            "predictions (Dense)          (None, 1)                 121       \n",
            "=================================================================\n",
            "Total params: 1,082,201\n",
            "Trainable params: 1,082,201\n",
            "Non-trainable params: 0\n",
            "_________________________________________________________________\n"
          ]
        }
      ]
    },
    {
      "cell_type": "code",
      "metadata": {
        "id": "bAcYTf8xQil7",
        "colab": {
          "base_uri": "https://localhost:8080/",
          "height": 533
        },
        "outputId": "9fbcb7c5-47d0-43d0-b013-d281b81f5dea"
      },
      "source": [
        "plot_model(model_lstm, show_shapes=True)"
      ],
      "execution_count": 23,
      "outputs": [
        {
          "output_type": "execute_result",
          "data": {
            "image/png": "[encoded data removed]",
            "text/plain": [
              "<IPython.core.display.Image object>"
            ]
          },
          "metadata": {},
          "execution_count": 23
        }
      ]
    },
    {
      "cell_type": "markdown",
      "metadata": {
        "id": "De53SxX-z8JF"
      },
      "source": [
        "#### Train model using train dataset"
      ]
    },
    {
      "cell_type": "code",
      "metadata": {
        "id": "l_H0Y9exz8JF",
        "colab": {
          "base_uri": "https://localhost:8080/"
        },
        "outputId": "43dd6f3e-268a-45ce-ce85-ac89702b0f87"
      },
      "source": [
        "# Fit model using train dataset\n",
        "history_lstm = model_lstm.fit(train_ds, epochs=epochs, batch_size=batch_size, validation_data=val_ds,\n",
        "              callbacks=[EarlyStopping(monitor='val_loss',patience=3, min_delta=0.0001)])"
      ],
      "execution_count": 24,
      "outputs": [
        {
          "output_type": "stream",
          "name": "stdout",
          "text": [
            "Epoch 1/10\n",
            "157/157 [==============================] - 31s 181ms/step - loss: 0.6604 - accuracy: 0.6186 - precision: 0.6061 - recall: 0.6720 - val_loss: 0.6423 - val_accuracy: 0.6518 - val_precision: 0.6468 - val_recall: 0.6834\n",
            "Epoch 2/10\n",
            "157/157 [==============================] - 28s 176ms/step - loss: 0.6040 - accuracy: 0.6888 - precision: 0.6721 - recall: 0.7345 - val_loss: 0.6140 - val_accuracy: 0.6502 - val_precision: 0.6192 - val_recall: 0.7975\n",
            "Epoch 3/10\n",
            "157/157 [==============================] - 28s 177ms/step - loss: 0.4973 - accuracy: 0.7559 - precision: 0.7624 - recall: 0.7416 - val_loss: 0.4844 - val_accuracy: 0.7656 - val_precision: 0.7775 - val_recall: 0.7504\n",
            "Epoch 4/10\n",
            "157/157 [==============================] - 28s 178ms/step - loss: 0.3837 - accuracy: 0.8371 - precision: 0.8268 - recall: 0.8518 - val_loss: 0.3998 - val_accuracy: 0.8190 - val_precision: 0.8201 - val_recall: 0.8217\n",
            "Epoch 5/10\n",
            "157/157 [==============================] - 28s 177ms/step - loss: 0.3324 - accuracy: 0.8607 - precision: 0.8547 - recall: 0.8682 - val_loss: 0.3783 - val_accuracy: 0.8254 - val_precision: 0.7990 - val_recall: 0.8740\n",
            "Epoch 6/10\n",
            "157/157 [==============================] - 28s 176ms/step - loss: 0.2304 - accuracy: 0.9093 - precision: 0.9116 - recall: 0.9060 - val_loss: 0.3405 - val_accuracy: 0.8594 - val_precision: 0.8255 - val_recall: 0.9148\n",
            "Epoch 7/10\n",
            "157/157 [==============================] - 28s 176ms/step - loss: 0.1767 - accuracy: 0.9334 - precision: 0.9342 - recall: 0.9321 - val_loss: 0.3466 - val_accuracy: 0.8554 - val_precision: 0.9018 - val_recall: 0.8007\n",
            "Epoch 8/10\n",
            "157/157 [==============================] - 28s 176ms/step - loss: 0.1150 - accuracy: 0.9607 - precision: 0.9607 - recall: 0.9604 - val_loss: 0.3443 - val_accuracy: 0.8638 - val_precision: 0.8809 - val_recall: 0.8443\n",
            "Epoch 9/10\n",
            "157/157 [==============================] - 28s 176ms/step - loss: 0.0848 - accuracy: 0.9719 - precision: 0.9718 - recall: 0.9719 - val_loss: 0.4694 - val_accuracy: 0.8494 - val_precision: 0.7976 - val_recall: 0.9402\n"
          ]
        }
      ]
    },
    {
      "cell_type": "code",
      "metadata": {
        "id": "WvLEeIXEz8JG",
        "colab": {
          "base_uri": "https://localhost:8080/",
          "height": 0
        },
        "outputId": "55e15dba-4160-40e3-cb07-514c057835fb"
      },
      "source": [
        "figure, axis = plt.subplots(2, sharex=True)\n",
        "\n",
        "axis[0].plot(history_lstm.history['loss'], label='train')\n",
        "axis[0].plot(history_lstm.history['val_loss'], label='validation')\n",
        "axis[0].legend()\n",
        "axis[0].set_title('Loss')\n",
        "\n",
        "axis[1].plot(history_lstm.history['accuracy'], label='train')\n",
        "axis[1].plot(history_lstm.history['val_accuracy'], label='validation')\n",
        "axis[1].legend()\n",
        "axis[1].set_title('Accuracy')\n",
        "\n",
        "plt.show()"
      ],
      "execution_count": 25,
      "outputs": [
        {
          "output_type": "display_data",
          "data": {
            "image/png": "[encoded data removed]",
            "text/plain": [
              "<Figure size 432x288 with 2 Axes>"
            ]
          },
          "metadata": {
            "needs_background": "light"
          }
        }
      ]
    },
    {
      "cell_type": "markdown",
      "metadata": {
        "id": "0pRbr9Snz8JG"
      },
      "source": [
        "#### Evaluate model performance on test dataset"
      ]
    },
    {
      "cell_type": "code",
      "metadata": {
        "id": "Kb1_h4ekz8JG",
        "colab": {
          "base_uri": "https://localhost:8080/"
        },
        "outputId": "fe488647-6d7a-4440-cdd8-31d2e8efcf60"
      },
      "source": [
        "metrics_lstm = model_lstm.evaluate(test_ds,verbose=1)"
      ],
      "execution_count": 26,
      "outputs": [
        {
          "output_type": "stream",
          "name": "stdout",
          "text": [
            "196/196 [==============================] - 11s 58ms/step - loss: 0.4917 - accuracy: 0.8364 - precision: 0.7876 - recall: 0.9210\n"
          ]
        }
      ]
    },
    {
      "cell_type": "code",
      "metadata": {
        "id": "FMytDZS9z8JG",
        "colab": {
          "base_uri": "https://localhost:8080/"
        },
        "outputId": "62af8504-a7cd-4962-f165-cc9ccdea3307"
      },
      "source": [
        "get_results(metrics_lstm, 'LSTM', store=True)"
      ],
      "execution_count": 27,
      "outputs": [
        {
          "output_type": "stream",
          "name": "stdout",
          "text": [
            "Model performance on LSTM:\n",
            " Loss: 0.492\n",
            " Accuracy: 0.836\n",
            " Precision: 0.788\n",
            " Recall: 0.921\n",
            " F1: 0.849\n",
            "             CNN   LSTM\n",
            "Loss       0.395  0.492\n",
            "Accuracy   0.882  0.836\n",
            "Precision  0.880  0.788\n",
            "Recall     0.885  0.921\n",
            "F1         0.882  0.849\n"
          ]
        }
      ]
    },
    {
      "cell_type": "markdown",
      "metadata": {
        "id": "oO-uFahvkgG8"
      },
      "source": [
        "# 5 Model Comparison\n",
        "The results are summarised in the DataFrame below."
      ]
    },
    {
      "cell_type": "code",
      "metadata": {
        "id": "XKQ0ebz2kiIg",
        "colab": {
          "base_uri": "https://localhost:8080/",
          "height": 204
        },
        "outputId": "b5fa4d75-51fd-46e0-83e9-a78c22a27e3c"
      },
      "source": [
        "pd.DataFrame(results)"
      ],
      "execution_count": 28,
      "outputs": [
        {
          "output_type": "execute_result",
          "data": {
            "text/html": [
              "<div>\n",
              "<style scoped>\n",
              "    .dataframe tbody tr th:only-of-type {\n",
              "        vertical-align: middle;\n",
              "    }\n",
              "\n",
              "    .dataframe tbody tr th {\n",
              "        vertical-align: top;\n",
              "    }\n",
              "\n",
              "    .dataframe thead th {\n",
              "        text-align: right;\n",
              "    }\n",
              "</style>\n",
              "<table border=\"1\" class=\"dataframe\">\n",
              "  <thead>\n",
              "    <tr style=\"text-align: right;\">\n",
              "      <th></th>\n",
              "      <th>CNN</th>\n",
              "      <th>LSTM</th>\n",
              "    </tr>\n",
              "  </thead>\n",
              "  <tbody>\n",
              "    <tr>\n",
              "      <th>Loss</th>\n",
              "      <td>0.395</td>\n",
              "      <td>0.492</td>\n",
              "    </tr>\n",
              "    <tr>\n",
              "      <th>Accuracy</th>\n",
              "      <td>0.882</td>\n",
              "      <td>0.836</td>\n",
              "    </tr>\n",
              "    <tr>\n",
              "      <th>Precision</th>\n",
              "      <td>0.880</td>\n",
              "      <td>0.788</td>\n",
              "    </tr>\n",
              "    <tr>\n",
              "      <th>Recall</th>\n",
              "      <td>0.885</td>\n",
              "      <td>0.921</td>\n",
              "    </tr>\n",
              "    <tr>\n",
              "      <th>F1</th>\n",
              "      <td>0.882</td>\n",
              "      <td>0.849</td>\n",
              "    </tr>\n",
              "  </tbody>\n",
              "</table>\n",
              "</div>"
            ],
            "text/plain": [
              "             CNN   LSTM\n",
              "Loss       0.395  0.492\n",
              "Accuracy   0.882  0.836\n",
              "Precision  0.880  0.788\n",
              "Recall     0.885  0.921\n",
              "F1         0.882  0.849"
            ]
          },
          "metadata": {},
          "execution_count": 28
        }
      ]
    },
    {
      "cell_type": "markdown",
      "metadata": {
        "id": "x2Z_3w0MM7-Y"
      },
      "source": [
        "From the results, we see that the CNN model performed better than the LSTM model, achieving a higher accuracy (0.882 vs 0.836), precision (0.880 vs 0.788), and F1 scores (0.882 vs 0.849). However, the CNN model achieved a lower recall score (0.885 vs 0.921).\n",
        "\n",
        "We see that CNN performed better than LSTM. This is likely because whether a review is negative or positive can be better determined by a window of local features, something that CNN can more accurately identify.\n",
        "\n",
        "On the other hand, the sequential and hence contextual information that RNN can identify may not be as significant in this sentiment analysis. Furthermore, there is a higher risk of bias and hence overfitting when using LSTM."
      ]
    },
    {
      "cell_type": "markdown",
      "metadata": {
        "id": "h7iDzOQoAf7m"
      },
      "source": [
        "Comments on CNN:\n",
        "1. CNN is useful to recognise patterns across space as it extracts local and position-invariant features.\n",
        "3. CNN is computationally faster as it allows for parallelization over every element in the word sequence.\n",
        "4. CNN is better when feature detection in text is more important but it is difficult to obtain contextual information."
      ]
    },
    {
      "cell_type": "markdown",
      "metadata": {
        "id": "ZjFYxz_ZAf3O"
      },
      "source": [
        "Comments on LSTM/RNN:\n",
        "1. LSTM/RNN is useful to recognise patterns across time as it captures long-term dependencies between word sequences.\n",
        "2. LSTM/RNN is ideal for sequential data when the current step is related with the previous steps or datasets with a time component. \n",
        "3. LSTM/RNN is better when sequential modeling is more important but the order of words can lead to bias. "
      ]
    },
    {
      "cell_type": "markdown",
      "metadata": {
        "id": "-g5O4FdA_DeX"
      },
      "source": [
        "# 6 Deeper Insights\n",
        "To explore further, I looked into 5 different insights which can affect model performance.\n",
        "1. Different word embedding techniques \n",
        "2. Wide vs deep network\n",
        "3. Different CNN/LSTM models\n",
        "4. Different activation functions in intermediate layers\n",
        "5. Adjust threshold value"
      ]
    },
    {
      "cell_type": "markdown",
      "metadata": {
        "id": "ilzgkCgqD-c6"
      },
      "source": [
        "#### Insight 1: Different word embedding techniques \n",
        "Different word embedding techniques may affect the model performances. Other types of word embedding techniques could have been used, such as word2vec, which may have affected the model performances."
      ]
    },
    {
      "cell_type": "markdown",
      "metadata": {
        "id": "8H22pRXrMaic"
      },
      "source": [
        "#### Insight 2: Wide vs deep network\n",
        "There has been an ongoing debate as to which network works better: deep or wide? In this insight, I attempted a deeper CNN network and compared it to my original, wider and shallower CNN model. "
      ]
    },
    {
      "cell_type": "markdown",
      "metadata": {
        "id": "VV0LS1vjNVFP"
      },
      "source": [
        "Deeper network (4 layers of CNN followed by 2 fully connected layers): \\\\\n",
        "A wider, shallower model with lesser number of convolutional layers seems to work better for this dataset. For the deeper network, the high loss value of 0.794 seems to suggest overfitting.\n"
      ]
    },
    {
      "cell_type": "code",
      "metadata": {
        "id": "zYZmiZhnMfrX"
      },
      "source": [
        "# Define model\n",
        "model_deep = Sequential()\n",
        "model_deep.add(Embedding(max_features, embedding_dims, input_length=maxlen))\n",
        "filters = 100\n",
        "# Convolutional layer\n",
        "model_deep.add(Conv1D(filters, kernel_size, padding='same', activation='relu', strides=1))\n",
        "model_deep.add(MaxPooling1D(pool_size=2))\n",
        "# More convolutional layers\n",
        "for i in range(3):\n",
        "  model_deep.add(Conv1D(filters, kernel_size, padding='same', activation='relu', strides=1))\n",
        "  model_deep.add(MaxPooling1D(pool_size=2))\n",
        "model_deep.add(Flatten())\n",
        "# Fully connected layer\n",
        "model_deep.add(Dense(embedding_dims, activation='relu'))\n",
        "model_deep.add(Dropout(0.5))\n",
        "model_deep.add(Dense(1, activation='sigmoid', name='predictions'))\n",
        "# Compile\n",
        "model_deep.compile(loss='binary_crossentropy', optimizer='adam', metrics=metrics)"
      ],
      "execution_count": 29,
      "outputs": []
    },
    {
      "cell_type": "code",
      "metadata": {
        "id": "x74IT1TbZ4Q5",
        "colab": {
          "base_uri": "https://localhost:8080/"
        },
        "outputId": "08b3fec7-2623-4e8a-dfae-1a302738f295"
      },
      "source": [
        "# Fit and evaluate\n",
        "history_deep = model_deep.fit(train_ds, epochs=epochs, batch_size=batch_size, validation_data=val_ds, verbose=0,\n",
        "              callbacks=[EarlyStopping(monitor='val_loss',patience=3, min_delta=0.0001)])\n",
        "metrics_deep = model_deep.evaluate(test_ds,verbose=1)"
      ],
      "execution_count": 30,
      "outputs": [
        {
          "output_type": "stream",
          "name": "stdout",
          "text": [
            "196/196 [==============================] - 5s 26ms/step - loss: 0.7936 - accuracy: 0.8425 - precision: 0.7873 - recall: 0.9386\n"
          ]
        }
      ]
    },
    {
      "cell_type": "code",
      "metadata": {
        "id": "DMJ_kxzuJmS6",
        "colab": {
          "base_uri": "https://localhost:8080/"
        },
        "outputId": "a51d13f4-8cf3-4d14-d67e-b7176b60e833"
      },
      "source": [
        "model_deep.summary()"
      ],
      "execution_count": 31,
      "outputs": [
        {
          "output_type": "stream",
          "name": "stdout",
          "text": [
            "Model: \"sequential_2\"\n",
            "_________________________________________________________________\n",
            "Layer (type)                 Output Shape              Param #   \n",
            "=================================================================\n",
            "embedding_2 (Embedding)      (None, 800, 50)           1000000   \n",
            "_________________________________________________________________\n",
            "conv1d_1 (Conv1D)            (None, 800, 100)          15100     \n",
            "_________________________________________________________________\n",
            "max_pooling1d (MaxPooling1D) (None, 400, 100)          0         \n",
            "_________________________________________________________________\n",
            "conv1d_2 (Conv1D)            (None, 400, 100)          30100     \n",
            "_________________________________________________________________\n",
            "max_pooling1d_1 (MaxPooling1 (None, 200, 100)          0         \n",
            "_________________________________________________________________\n",
            "conv1d_3 (Conv1D)            (None, 200, 100)          30100     \n",
            "_________________________________________________________________\n",
            "max_pooling1d_2 (MaxPooling1 (None, 100, 100)          0         \n",
            "_________________________________________________________________\n",
            "conv1d_4 (Conv1D)            (None, 100, 100)          30100     \n",
            "_________________________________________________________________\n",
            "max_pooling1d_3 (MaxPooling1 (None, 50, 100)           0         \n",
            "_________________________________________________________________\n",
            "flatten_1 (Flatten)          (None, 5000)              0         \n",
            "_________________________________________________________________\n",
            "dense_1 (Dense)              (None, 50)                250050    \n",
            "_________________________________________________________________\n",
            "dropout_1 (Dropout)          (None, 50)                0         \n",
            "_________________________________________________________________\n",
            "predictions (Dense)          (None, 1)                 51        \n",
            "=================================================================\n",
            "Total params: 1,355,501\n",
            "Trainable params: 1,355,501\n",
            "Non-trainable params: 0\n",
            "_________________________________________________________________\n"
          ]
        }
      ]
    },
    {
      "cell_type": "code",
      "metadata": {
        "colab": {
          "base_uri": "https://localhost:8080/"
        },
        "id": "QZsLixYZ9Akd",
        "outputId": "bcc3da5a-17b4-4fa5-9da4-d22e432d9237"
      },
      "source": [
        "# Compare results\n",
        "get_results(metrics_deep, 'CNN (Deep)')"
      ],
      "execution_count": 32,
      "outputs": [
        {
          "output_type": "stream",
          "name": "stdout",
          "text": [
            "Model performance on CNN (Deep):\n",
            " Loss: 0.794\n",
            " Accuracy: 0.843\n",
            " Precision: 0.787\n",
            " Recall: 0.939\n",
            " F1: 0.856\n",
            "             CNN   LSTM  CNN (Deep)\n",
            "Loss       0.395  0.492       0.794\n",
            "Accuracy   0.882  0.836       0.843\n",
            "Precision  0.880  0.788       0.787\n",
            "Recall     0.885  0.921       0.939\n",
            "F1         0.882  0.849       0.856\n"
          ]
        }
      ]
    },
    {
      "cell_type": "markdown",
      "metadata": {
        "id": "U5538vzD8ySm"
      },
      "source": [
        "#### Insight 3: Different CNN/LSTM models\n",
        "Different scholars have tried different combinations of CNN and LSTM layers in order to improve model performance. In this insight, I attempted two variations and compare their performaces."
      ]
    },
    {
      "cell_type": "markdown",
      "metadata": {
        "id": "mrm2sTTcFXYZ"
      },
      "source": [
        "Variation 1: CNN + LSTM \\\\\n",
        "A combination of CNN and LSTM can help to recognise patterns across time and space. I created a model which feeds the output of CNN layer into a LSTM layer before connecting it to a fully connected network. Interestingly, looking at the accuracy and F1 scores, the CNN + LSTM model performed better (0.847 and 0.858) compared to the LSTM model (0.836 and 0.849). However, it did not outperform the CNN model."
      ]
    },
    {
      "cell_type": "code",
      "metadata": {
        "id": "d9RWcKjwN0n7"
      },
      "source": [
        "# Define model\n",
        "model_lstm_cnn = Sequential()\n",
        "model_lstm_cnn.add(Embedding(max_features, embedding_dims, input_length=maxlen))\n",
        "# Convolutional layer\n",
        "model_lstm_cnn.add(Conv1D(filters, kernel_size, padding='same', activation='relu', strides=1))\n",
        "model_lstm_cnn.add(MaxPooling1D(pool_size=2))\n",
        "# LSTM layer\n",
        "model_lstm_cnn.add(LSTM(120, return_sequences=True))\n",
        "model_lstm_cnn.add(GlobalMaxPooling1D())\n",
        "model_lstm_cnn.add(Flatten())\n",
        "# Fully connected layer\n",
        "model_lstm_cnn.add(Dense(hidden_dims, activation='relu'))\n",
        "model_deep.add(Dropout(0.5))\n",
        "model_lstm_cnn.add(Dense(1, activation='sigmoid', name='predictions'))\n",
        "# Complie\n",
        "model_lstm_cnn.compile(loss='binary_crossentropy', optimizer='adam', metrics=metrics)"
      ],
      "execution_count": 33,
      "outputs": []
    },
    {
      "cell_type": "code",
      "metadata": {
        "colab": {
          "base_uri": "https://localhost:8080/"
        },
        "id": "wI_sZO756ZLa",
        "outputId": "0815e740-b5ee-49c3-c679-9e94b046e180"
      },
      "source": [
        "# Fit and evaluate\n",
        "history_lstm_cnn = model_lstm_cnn.fit(train_ds, epochs=epochs, batch_size=batch_size, validation_data=val_ds, verbose = 0,\n",
        "                                      callbacks=[EarlyStopping(monitor='val_loss',patience=3, min_delta=0.0001)])\n",
        "metrics_lstm_cnn = model_lstm_cnn.evaluate(test_ds,verbose=1)"
      ],
      "execution_count": 34,
      "outputs": [
        {
          "output_type": "stream",
          "name": "stdout",
          "text": [
            "196/196 [==============================] - 8s 41ms/step - loss: 0.4324 - accuracy: 0.8466 - precision: 0.7970 - recall: 0.9302\n"
          ]
        }
      ]
    },
    {
      "cell_type": "code",
      "metadata": {
        "colab": {
          "base_uri": "https://localhost:8080/"
        },
        "id": "shK04XZhkgMM",
        "outputId": "e2c749b0-ee43-464f-baa7-04e295333c63"
      },
      "source": [
        "# Store results\n",
        "get_results(metrics_lstm_cnn, 'CNN+LSTM')"
      ],
      "execution_count": 35,
      "outputs": [
        {
          "output_type": "stream",
          "name": "stdout",
          "text": [
            "Model performance on CNN+LSTM:\n",
            " Loss: 0.432\n",
            " Accuracy: 0.847\n",
            " Precision: 0.797\n",
            " Recall: 0.93\n",
            " F1: 0.858\n",
            "             CNN   LSTM  CNN+LSTM\n",
            "Loss       0.395  0.492     0.432\n",
            "Accuracy   0.882  0.836     0.847\n",
            "Precision  0.880  0.788     0.797\n",
            "Recall     0.885  0.921     0.930\n",
            "F1         0.882  0.849     0.858\n"
          ]
        }
      ]
    },
    {
      "cell_type": "markdown",
      "metadata": {
        "id": "lhf-_Bf0N1Bs"
      },
      "source": [
        "Variation 2: Bi-directional LSTM \\\\\n",
        "Bi-directional LSTM performed significantly better than the LSTM model across all metrics except loss. In particular, it achieved a higher accuracy (0.850 vs 0.836) and F1 score (0.861 vs 0.849). However, it did not out-perform the CNN model."
      ]
    },
    {
      "cell_type": "code",
      "metadata": {
        "id": "cla3MvlTN-Ew"
      },
      "source": [
        "# Define model\n",
        "model_bilstm = Sequential()\n",
        "model_bilstm.add(Embedding(max_features, embedding_dims, input_length=maxlen))\n",
        "# Bi-directional LSTM\n",
        "model_bilstm.add(Bidirectional(LSTM(120, return_sequences = True)))\n",
        "model_bilstm.add(GlobalMaxPooling1D())\n",
        "model_bilstm.add(Flatten())\n",
        "# Fully connected layer\n",
        "model_bilstm.add(Dense(hidden_dims, activation='relu'))\n",
        "model_bilstm.add(Dropout(0.5))\n",
        "model_bilstm.add(Dense(1, activation='sigmoid', name='predictions'))\n",
        "# Compile \n",
        "model_bilstm.compile(loss='binary_crossentropy', optimizer='adam', metrics=metrics)"
      ],
      "execution_count": 36,
      "outputs": []
    },
    {
      "cell_type": "code",
      "metadata": {
        "id": "AaLqNKl29TfE",
        "colab": {
          "base_uri": "https://localhost:8080/"
        },
        "outputId": "c1695775-fcb4-496e-b587-ea534bd5bdda"
      },
      "source": [
        "# Fit and evaluate\n",
        "history_bilstm = model_bilstm.fit(train_ds, epochs=epochs, verbose = 0,\n",
        "                                      batch_size=batch_size, validation_data=val_ds,\n",
        "                                      callbacks=[EarlyStopping(monitor='val_loss',patience=3, min_delta=0.0001)])\n",
        "metrics_bilstm = model_bilstm.evaluate(test_ds,verbose=1)"
      ],
      "execution_count": 43,
      "outputs": [
        {
          "output_type": "stream",
          "name": "stdout",
          "text": [
            "196/196 [==============================] - 22s 111ms/step - loss: 0.5774 - accuracy: 0.8501 - precision: 0.8025 - recall: 0.9288\n"
          ]
        }
      ]
    },
    {
      "cell_type": "code",
      "metadata": {
        "colab": {
          "base_uri": "https://localhost:8080/"
        },
        "id": "Nlj64a03lA9o",
        "outputId": "75963ca8-23d4-4977-b5e3-910e0cb755f1"
      },
      "source": [
        "# Store results\n",
        "get_results(metrics_bilstm, 'Bi-Dir LSTM')"
      ],
      "execution_count": 44,
      "outputs": [
        {
          "output_type": "stream",
          "name": "stdout",
          "text": [
            "Model performance on Bi-Dir LSTM:\n",
            " Loss: 0.577\n",
            " Accuracy: 0.85\n",
            " Precision: 0.803\n",
            " Recall: 0.929\n",
            " F1: 0.861\n",
            "             CNN   LSTM  Bi-Dir LSTM\n",
            "Loss       0.395  0.492        0.577\n",
            "Accuracy   0.882  0.836        0.850\n",
            "Precision  0.880  0.788        0.803\n",
            "Recall     0.885  0.921        0.929\n",
            "F1         0.882  0.849        0.861\n"
          ]
        }
      ]
    },
    {
      "cell_type": "markdown",
      "metadata": {
        "id": "mO7HSjYXPw7m"
      },
      "source": [
        "#### Insight 4: Different activation functions in intermediate layers\n",
        "Different activation functions can affect model performance. In this insight, I attempted different functions in the intermediate layers. Using relu and tanh seem to provide similar results, with the latter performing marginally better. Using sigmoid provided the worst performance."
      ]
    },
    {
      "cell_type": "code",
      "metadata": {
        "colab": {
          "base_uri": "https://localhost:8080/"
        },
        "id": "xqhfDznMPxVW",
        "outputId": "18b18460-ba34-415f-8bad-995c4bff0807"
      },
      "source": [
        "activations = ['sigmoid', 'tanh']\n",
        "results_insight4 = {}\n",
        "results_insight4['CNN with Relu'] = results['CNN']\n",
        "\n",
        "for active in activations:\n",
        "  # Define model\n",
        "  model_active = Sequential()\n",
        "  model_active.add(Embedding(max_features, embedding_dims, input_length=maxlen))\n",
        "  # Convolutional layer\n",
        "  model_active.add(Conv1D(filters, kernel_size, padding='same', activation=active, strides=1))\n",
        "  model_active.add(GlobalMaxPooling1D())\n",
        "  model_active.add(Flatten())\n",
        "  # Fully connected layer\n",
        "  model_active.add(Dense(hidden_dims, activation=active))\n",
        "  model_active.add(Dropout(0.5))\n",
        "  model_active.add(Dense(1, activation='sigmoid', name='predictions'))\n",
        "  # Compile and fit\n",
        "  model_active.compile(loss='binary_crossentropy', optimizer='adam', metrics=metrics)\n",
        "  history_active = model_active.fit(train_ds, epochs=epochs, verbose = 0,\n",
        "                                        batch_size=batch_size, validation_data=val_ds,\n",
        "                                        callbacks=[EarlyStopping(monitor='val_loss',patience=3, min_delta=0.0001)])\n",
        "  metrics_active = model_active.evaluate(test_ds,verbose=0)\n",
        "  # Store results\n",
        "  get_results(metrics_active, 'CNN_'+str(active))"
      ],
      "execution_count": 39,
      "outputs": [
        {
          "output_type": "stream",
          "name": "stdout",
          "text": [
            "Model performance on CNN_sigmoid:\n",
            " Loss: 0.471\n",
            " Accuracy: 0.837\n",
            " Precision: 0.809\n",
            " Recall: 0.882\n",
            " F1: 0.844\n",
            "             CNN   LSTM  CNN_sigmoid\n",
            "Loss       0.395  0.492        0.471\n",
            "Accuracy   0.882  0.836        0.837\n",
            "Precision  0.880  0.788        0.809\n",
            "Recall     0.885  0.921        0.882\n",
            "F1         0.882  0.849        0.844\n",
            "Model performance on CNN_tanh:\n",
            " Loss: 0.381\n",
            " Accuracy: 0.884\n",
            " Precision: 0.862\n",
            " Recall: 0.914\n",
            " F1: 0.887\n",
            "             CNN   LSTM  CNN_tanh\n",
            "Loss       0.395  0.492     0.381\n",
            "Accuracy   0.882  0.836     0.884\n",
            "Precision  0.880  0.788     0.862\n",
            "Recall     0.885  0.921     0.914\n",
            "F1         0.882  0.849     0.887\n"
          ]
        }
      ]
    },
    {
      "cell_type": "markdown",
      "metadata": {
        "id": "CzH_BBGc8zVS"
      },
      "source": [
        "#### Insight 5: Adjust threshold value\n",
        "Adjusting the threshold value affects the true positive and true negative rates. In general, a higher threshold can reduce recall as true positives decrease and/or false negatives increase. Also, it improve precision as false positives decrease. Looking at the F1 scores, a lower threshold between 0.3 to 0.4 provides a good balance and fits the dataset better. "
      ]
    },
    {
      "cell_type": "code",
      "metadata": {
        "id": "rlnDXeeU8zIw"
      },
      "source": [
        "threshold = [x/10 for x in range(1,10)]\n",
        "test_labels = np.array([k[1].numpy() for k in test_ds.unbatch()])\n",
        "results_threshold_cnn = {'Accuracy': {}, 'Precision': {}, 'Recall': {}, 'F1': {}}\n",
        "results_threshold_lstm = {'Accuracy': {}, 'Precision': {}, 'Recall': {}, 'F1': {}}\n",
        "\n",
        "for t in threshold:\n",
        "  predictions_cnn = np.array(model_cnn.predict(test_ds) > t, dtype=np.int32)\n",
        "  results_threshold_cnn['Accuracy']['CNN_' + str(t)] = accuracy_score(test_labels, predictions_cnn)\n",
        "  results_threshold_cnn['Precision']['CNN_' + str(t)] = precision_score(test_labels, predictions_cnn)                           \n",
        "  results_threshold_cnn['Recall']['CNN_' + str(t)] = recall_score(test_labels, predictions_cnn)\n",
        "  results_threshold_cnn['F1']['CNN_' + str(t)] = f1_score(test_labels, predictions_cnn)\n",
        "\n",
        "  predictions_lstm = np.array(model_cnn.predict(test_ds) > t, dtype=np.int32)\n",
        "  results_threshold_lstm['Accuracy']['LSTM_' + str(t)] = accuracy_score(test_labels, predictions_lstm)\n",
        "  results_threshold_lstm['Precision']['LSTM_' + str(t)] = precision_score(test_labels, predictions_lstm)\n",
        "  results_threshold_lstm['Recall']['LSTM_' + str(t)] = recall_score(test_labels, predictions_lstm)\n",
        "  results_threshold_lstm['F1']['LSTM_' + str(t)] = f1_score(test_labels, predictions_lstm)"
      ],
      "execution_count": 40,
      "outputs": []
    },
    {
      "cell_type": "code",
      "metadata": {
        "id": "W5ks7Tss2mLB",
        "colab": {
          "base_uri": "https://localhost:8080/",
          "height": 328
        },
        "outputId": "6367f96a-958d-433f-e85e-5d0cd678f4a9"
      },
      "source": [
        "pd.DataFrame(results_threshold_cnn)"
      ],
      "execution_count": 41,
      "outputs": [
        {
          "output_type": "execute_result",
          "data": {
            "text/html": [
              "<div>\n",
              "<style scoped>\n",
              "    .dataframe tbody tr th:only-of-type {\n",
              "        vertical-align: middle;\n",
              "    }\n",
              "\n",
              "    .dataframe tbody tr th {\n",
              "        vertical-align: top;\n",
              "    }\n",
              "\n",
              "    .dataframe thead th {\n",
              "        text-align: right;\n",
              "    }\n",
              "</style>\n",
              "<table border=\"1\" class=\"dataframe\">\n",
              "  <thead>\n",
              "    <tr style=\"text-align: right;\">\n",
              "      <th></th>\n",
              "      <th>Accuracy</th>\n",
              "      <th>Precision</th>\n",
              "      <th>Recall</th>\n",
              "      <th>F1</th>\n",
              "    </tr>\n",
              "  </thead>\n",
              "  <tbody>\n",
              "    <tr>\n",
              "      <th>CNN_0.1</th>\n",
              "      <td>0.86908</td>\n",
              "      <td>0.822916</td>\n",
              "      <td>0.94056</td>\n",
              "      <td>0.877814</td>\n",
              "    </tr>\n",
              "    <tr>\n",
              "      <th>CNN_0.2</th>\n",
              "      <td>0.87876</td>\n",
              "      <td>0.848151</td>\n",
              "      <td>0.92272</td>\n",
              "      <td>0.883865</td>\n",
              "    </tr>\n",
              "    <tr>\n",
              "      <th>CNN_0.3</th>\n",
              "      <td>0.88084</td>\n",
              "      <td>0.861164</td>\n",
              "      <td>0.90808</td>\n",
              "      <td>0.884000</td>\n",
              "    </tr>\n",
              "    <tr>\n",
              "      <th>CNN_0.4</th>\n",
              "      <td>0.88176</td>\n",
              "      <td>0.871015</td>\n",
              "      <td>0.89624</td>\n",
              "      <td>0.883448</td>\n",
              "    </tr>\n",
              "    <tr>\n",
              "      <th>CNN_0.5</th>\n",
              "      <td>0.88188</td>\n",
              "      <td>0.879542</td>\n",
              "      <td>0.88496</td>\n",
              "      <td>0.882243</td>\n",
              "    </tr>\n",
              "    <tr>\n",
              "      <th>CNN_0.6</th>\n",
              "      <td>0.88028</td>\n",
              "      <td>0.888199</td>\n",
              "      <td>0.87008</td>\n",
              "      <td>0.879046</td>\n",
              "    </tr>\n",
              "    <tr>\n",
              "      <th>CNN_0.7</th>\n",
              "      <td>0.87908</td>\n",
              "      <td>0.897826</td>\n",
              "      <td>0.85552</td>\n",
              "      <td>0.876162</td>\n",
              "    </tr>\n",
              "    <tr>\n",
              "      <th>CNN_0.8</th>\n",
              "      <td>0.87480</td>\n",
              "      <td>0.908742</td>\n",
              "      <td>0.83328</td>\n",
              "      <td>0.869377</td>\n",
              "    </tr>\n",
              "    <tr>\n",
              "      <th>CNN_0.9</th>\n",
              "      <td>0.86364</td>\n",
              "      <td>0.923586</td>\n",
              "      <td>0.79288</td>\n",
              "      <td>0.853256</td>\n",
              "    </tr>\n",
              "  </tbody>\n",
              "</table>\n",
              "</div>"
            ],
            "text/plain": [
              "         Accuracy  Precision   Recall        F1\n",
              "CNN_0.1   0.86908   0.822916  0.94056  0.877814\n",
              "CNN_0.2   0.87876   0.848151  0.92272  0.883865\n",
              "CNN_0.3   0.88084   0.861164  0.90808  0.884000\n",
              "CNN_0.4   0.88176   0.871015  0.89624  0.883448\n",
              "CNN_0.5   0.88188   0.879542  0.88496  0.882243\n",
              "CNN_0.6   0.88028   0.888199  0.87008  0.879046\n",
              "CNN_0.7   0.87908   0.897826  0.85552  0.876162\n",
              "CNN_0.8   0.87480   0.908742  0.83328  0.869377\n",
              "CNN_0.9   0.86364   0.923586  0.79288  0.853256"
            ]
          },
          "metadata": {},
          "execution_count": 41
        }
      ]
    },
    {
      "cell_type": "code",
      "metadata": {
        "id": "lgzSW4Ns8akt",
        "colab": {
          "base_uri": "https://localhost:8080/",
          "height": 328
        },
        "outputId": "4aeae95a-004a-4505-963a-c0b233cf95c0"
      },
      "source": [
        "pd.DataFrame(results_threshold_lstm)"
      ],
      "execution_count": 42,
      "outputs": [
        {
          "output_type": "execute_result",
          "data": {
            "text/html": [
              "<div>\n",
              "<style scoped>\n",
              "    .dataframe tbody tr th:only-of-type {\n",
              "        vertical-align: middle;\n",
              "    }\n",
              "\n",
              "    .dataframe tbody tr th {\n",
              "        vertical-align: top;\n",
              "    }\n",
              "\n",
              "    .dataframe thead th {\n",
              "        text-align: right;\n",
              "    }\n",
              "</style>\n",
              "<table border=\"1\" class=\"dataframe\">\n",
              "  <thead>\n",
              "    <tr style=\"text-align: right;\">\n",
              "      <th></th>\n",
              "      <th>Accuracy</th>\n",
              "      <th>Precision</th>\n",
              "      <th>Recall</th>\n",
              "      <th>F1</th>\n",
              "    </tr>\n",
              "  </thead>\n",
              "  <tbody>\n",
              "    <tr>\n",
              "      <th>LSTM_0.1</th>\n",
              "      <td>0.86908</td>\n",
              "      <td>0.822916</td>\n",
              "      <td>0.94056</td>\n",
              "      <td>0.877814</td>\n",
              "    </tr>\n",
              "    <tr>\n",
              "      <th>LSTM_0.2</th>\n",
              "      <td>0.87876</td>\n",
              "      <td>0.848151</td>\n",
              "      <td>0.92272</td>\n",
              "      <td>0.883865</td>\n",
              "    </tr>\n",
              "    <tr>\n",
              "      <th>LSTM_0.3</th>\n",
              "      <td>0.88084</td>\n",
              "      <td>0.861164</td>\n",
              "      <td>0.90808</td>\n",
              "      <td>0.884000</td>\n",
              "    </tr>\n",
              "    <tr>\n",
              "      <th>LSTM_0.4</th>\n",
              "      <td>0.88176</td>\n",
              "      <td>0.871015</td>\n",
              "      <td>0.89624</td>\n",
              "      <td>0.883448</td>\n",
              "    </tr>\n",
              "    <tr>\n",
              "      <th>LSTM_0.5</th>\n",
              "      <td>0.88188</td>\n",
              "      <td>0.879542</td>\n",
              "      <td>0.88496</td>\n",
              "      <td>0.882243</td>\n",
              "    </tr>\n",
              "    <tr>\n",
              "      <th>LSTM_0.6</th>\n",
              "      <td>0.88028</td>\n",
              "      <td>0.888199</td>\n",
              "      <td>0.87008</td>\n",
              "      <td>0.879046</td>\n",
              "    </tr>\n",
              "    <tr>\n",
              "      <th>LSTM_0.7</th>\n",
              "      <td>0.87908</td>\n",
              "      <td>0.897826</td>\n",
              "      <td>0.85552</td>\n",
              "      <td>0.876162</td>\n",
              "    </tr>\n",
              "    <tr>\n",
              "      <th>LSTM_0.8</th>\n",
              "      <td>0.87480</td>\n",
              "      <td>0.908742</td>\n",
              "      <td>0.83328</td>\n",
              "      <td>0.869377</td>\n",
              "    </tr>\n",
              "    <tr>\n",
              "      <th>LSTM_0.9</th>\n",
              "      <td>0.86364</td>\n",
              "      <td>0.923586</td>\n",
              "      <td>0.79288</td>\n",
              "      <td>0.853256</td>\n",
              "    </tr>\n",
              "  </tbody>\n",
              "</table>\n",
              "</div>"
            ],
            "text/plain": [
              "          Accuracy  Precision   Recall        F1\n",
              "LSTM_0.1   0.86908   0.822916  0.94056  0.877814\n",
              "LSTM_0.2   0.87876   0.848151  0.92272  0.883865\n",
              "LSTM_0.3   0.88084   0.861164  0.90808  0.884000\n",
              "LSTM_0.4   0.88176   0.871015  0.89624  0.883448\n",
              "LSTM_0.5   0.88188   0.879542  0.88496  0.882243\n",
              "LSTM_0.6   0.88028   0.888199  0.87008  0.879046\n",
              "LSTM_0.7   0.87908   0.897826  0.85552  0.876162\n",
              "LSTM_0.8   0.87480   0.908742  0.83328  0.869377\n",
              "LSTM_0.9   0.86364   0.923586  0.79288  0.853256"
            ]
          },
          "metadata": {},
          "execution_count": 42
        }
      ]
    }
  ]
}