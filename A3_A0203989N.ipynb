{
  "nbformat": 4,
  "nbformat_minor": 0,
  "metadata": {
    "colab": {
      "name": "A3_A0203989N.ipynb",
      "provenance": [],
      "collapsed_sections": [
        "sEknxYKtjfzK",
        "F7-7B5iwrNYB",
        "2Uf123B7jiCD"
      ]
    },
    "kernelspec": {
      "name": "python3",
      "display_name": "Python 3"
    },
    "language_info": {
      "name": "python"
    },
    "accelerator": "GPU"
  },
  "cells": [
    {
      "cell_type": "markdown",
      "metadata": {
        "id": "QelXyP-0hiT5"
      },
      "source": [
        "# BT4222 Assignment 3\n",
        "By Teo Zhi Feng (A0203989N)"
      ]
    },
    {
      "cell_type": "markdown",
      "metadata": {
        "id": "KMzTMwKfhvdl"
      },
      "source": [
        "# 1 Setup"
      ]
    },
    {
      "cell_type": "markdown",
      "metadata": {
        "id": "h24U7PflBFyV"
      },
      "source": [
        "#### Import packages"
      ]
    },
    {
      "cell_type": "code",
      "metadata": {
        "id": "e-UQHsr9hhtH"
      },
      "source": [
        "from __future__ import print_function\n",
        "\n",
        "from numpy.random import seed\n",
        "from tensorflow.random import set_seed\n",
        "\n",
        "import numpy as np\n",
        "import pandas as pd\n",
        "from sklearn.metrics import accuracy_score, precision_score, recall_score, f1_score\n",
        "import matplotlib.pyplot as plt\n",
        "%matplotlib inline\n",
        "\n",
        "import tensorflow as tf\n",
        "from tensorflow.keras import regularizers\n",
        "from tensorflow.keras.preprocessing import sequence\n",
        "from tensorflow.keras.models import Sequential\n",
        "from tensorflow.keras.layers import Activation, Bidirectional, Conv1D, Dense, Dropout, Embedding, Flatten, GlobalMaxPooling1D, LSTM, MaxPooling1D, TextVectorization\n",
        "from tensorflow.keras.callbacks import EarlyStopping\n",
        "from tensorflow.keras.utils import plot_model\n",
        "\n",
        "import string\n",
        "import re"
      ],
      "execution_count": 1,
      "outputs": []
    },
    {
      "cell_type": "markdown",
      "metadata": {
        "id": "RdKjHmN974Sj"
      },
      "source": [
        "#### Determine parameters"
      ]
    },
    {
      "cell_type": "code",
      "metadata": {
        "id": "9Oa_WfbyxF2Y"
      },
      "source": [
        "epochs = 10\n",
        "batch_size = 128 # Select a batch size to fully utilise GPU memory, or 16 or 32\n",
        "\n",
        "embedding_dims = 50 # emddeding for each word\n",
        "maxlen = 800 # max number of words in the review\n",
        "\n",
        "filters = 250\n",
        "kernel_size = 3 # size of the 1D conv. layer\n",
        "hidden_dims = 128 # number of dimensions\n",
        "\n",
        "metrics = ['accuracy', \"Precision\", \"Recall\"]"
      ],
      "execution_count": 2,
      "outputs": []
    },
    {
      "cell_type": "markdown",
      "metadata": {
        "id": "mNtvCJUGawfR"
      },
      "source": [
        "#### Helper function to extract and store results"
      ]
    },
    {
      "cell_type": "code",
      "metadata": {
        "id": "EG68CbqbvWKg"
      },
      "source": [
        "results = {}"
      ],
      "execution_count": 3,
      "outputs": []
    },
    {
      "cell_type": "code",
      "metadata": {
        "id": "tZpJsTClaytz"
      },
      "source": [
        "def get_results(metrics, name, results=results, store=False):\n",
        "  loss = round(metrics[0], 3)\n",
        "  accuracy = round(metrics[1], 3)\n",
        "  precision = round(metrics[2], 3)\n",
        "  recall = round(metrics[3], 3)\n",
        "  f1 = round( 2*((precision * recall) / (precision + recall)), 3 )\n",
        "  print('Model performance on {}:\\n Loss: {}\\n Accuracy: {}\\n Precision: {}\\n Recall: {}\\n F1: {}'.format(name, loss, accuracy, precision, recall, f1))\n",
        "  if store == False: results = results.copy()\n",
        "  results[name] = {'Loss': loss, 'Accuracy': accuracy, 'Precision': precision, 'Recall': recall,\n",
        "      'F1': f1} \n",
        "  return pd.DataFrame(results)"
      ],
      "execution_count": 4,
      "outputs": []
    },
    {
      "cell_type": "markdown",
      "metadata": {
        "id": "5ByVIc8d0aC0"
      },
      "source": [
        "#### Import IMDB Dataset"
      ]
    },
    {
      "cell_type": "code",
      "metadata": {
        "colab": {
          "base_uri": "https://localhost:8080/"
        },
        "id": "UKH4gT460Pv9",
        "outputId": "6a8f9c80-0c45-41cf-f251-0e71edd652c1"
      },
      "source": [
        "!curl -O https://ai.stanford.edu/~amaas/data/sentiment/aclImdb_v1.tar.gz\n",
        "!tar -xf aclImdb_v1.tar.gz"
      ],
      "execution_count": 5,
      "outputs": [
        {
          "output_type": "stream",
          "name": "stdout",
          "text": [
            "  % Total    % Received % Xferd  Average Speed   Time    Time     Time  Current\n",
            "                                 Dload  Upload   Total   Spent    Left  Speed\n",
            "100 80.2M  100 80.2M    0     0  13.9M      0  0:00:05  0:00:05 --:--:-- 15.5M\n"
          ]
        }
      ]
    },
    {
      "cell_type": "code",
      "metadata": {
        "id": "OGUHXRDqmWHC",
        "colab": {
          "base_uri": "https://localhost:8080/"
        },
        "outputId": "c9b48d68-ed35-4465-9151-da66eb8676d9"
      },
      "source": [
        "!ls aclImdb\n",
        "!ls aclImdb/test\n",
        "!ls aclImdb/train"
      ],
      "execution_count": 6,
      "outputs": [
        {
          "output_type": "stream",
          "name": "stdout",
          "text": [
            "imdbEr.txt  imdb.vocab\tREADME\ttest  train\n",
            "labeledBow.feat  neg  pos  urls_neg.txt  urls_pos.txt\n",
            "labeledBow.feat  pos\tunsupBow.feat  urls_pos.txt\n",
            "neg\t\t unsup\turls_neg.txt   urls_unsup.txt\n"
          ]
        }
      ]
    },
    {
      "cell_type": "code",
      "metadata": {
        "id": "uMHf2EeonDTg"
      },
      "source": [
        "!rm -r aclImdb/train/unsup"
      ],
      "execution_count": 7,
      "outputs": []
    },
    {
      "cell_type": "markdown",
      "metadata": {
        "id": "te5c4IfYsj1N"
      },
      "source": [
        "#### Import all datasets"
      ]
    },
    {
      "cell_type": "code",
      "metadata": {
        "id": "VqnfXcXJnDPo",
        "colab": {
          "base_uri": "https://localhost:8080/"
        },
        "outputId": "755becda-762b-4642-832e-32313261d1df"
      },
      "source": [
        "raw_train_ds = tf.keras.preprocessing.text_dataset_from_directory(\n",
        "    \"aclImdb/train\",\n",
        "    batch_size=batch_size,\n",
        "    validation_split=0.2,\n",
        "    subset=\"training\",\n",
        "    seed=1337,\n",
        ")\n",
        "raw_val_ds = tf.keras.preprocessing.text_dataset_from_directory(\n",
        "    \"aclImdb/train\",\n",
        "    batch_size=batch_size,\n",
        "    validation_split=0.2,\n",
        "    subset=\"validation\",\n",
        "    seed=1337,\n",
        ")\n",
        "raw_test_ds = tf.keras.preprocessing.text_dataset_from_directory(\n",
        "    \"aclImdb/test\",\n",
        "    batch_size=batch_size\n",
        ")\n",
        "\n",
        "print(f\"Number of batches in raw_train_ds: {raw_train_ds.cardinality()}\")\n",
        "print(f\"Number of batches in raw_val_ds: {raw_val_ds.cardinality()}\")\n",
        "print(f\"Number of batches in raw_test_ds: {raw_test_ds.cardinality()}\")"
      ],
      "execution_count": 8,
      "outputs": [
        {
          "output_type": "stream",
          "name": "stdout",
          "text": [
            "Found 25000 files belonging to 2 classes.\n",
            "Using 20000 files for training.\n",
            "Found 25000 files belonging to 2 classes.\n",
            "Using 5000 files for validation.\n",
            "Found 25000 files belonging to 2 classes.\n",
            "Number of batches in raw_train_ds: 157\n",
            "Number of batches in raw_val_ds: 40\n",
            "Number of batches in raw_test_ds: 196\n"
          ]
        }
      ]
    },
    {
      "cell_type": "markdown",
      "metadata": {
        "id": "n8RbfM0ysoGD"
      },
      "source": [
        "#### Inspect dataset"
      ]
    },
    {
      "cell_type": "code",
      "metadata": {
        "id": "gTE61hxtsCg-",
        "colab": {
          "base_uri": "https://localhost:8080/"
        },
        "outputId": "ed4cab8d-aa9a-444d-bf0e-8d5356aca2ea"
      },
      "source": [
        "for text_batch, label_batch in raw_train_ds.take(1):\n",
        "    for i in range(5):\n",
        "        print(text_batch.numpy()[i])\n",
        "        print(label_batch.numpy()[i])"
      ],
      "execution_count": 9,
      "outputs": [
        {
          "output_type": "stream",
          "name": "stdout",
          "text": [
            "b\"I gave this a four purely out of its historical context. It was considered lost for many years until it popped up out of the blue on Showtime in the early nineties.<br /><br />Moe is the straight man and Larry and Curly act as a duo. Spade Cooley has a couple of numbers. I guess it had something to do with working on a ranch. I'm not quite sure because the plot was so minimal nothing really sticks in my memory. I vaguely remember it being a western musical comedy. Even the Stooge's seem to be going through the motions. Overall there's nothing much really to recommend here.<br /><br />If you're not a Stooge fan then don't bother. If you are a Stooge fan, then stick with the shorts.\"\n",
            "0\n",
            "b'First than anything, I\\'m not going to praise I\\xc3\\xb1arritu\\'s short film, even I\\'m Mexican and proud of his success in mainstream Hollywood.<br /><br />In another hand, I see most of the reviews focuses on their favorite (and not so) short films; but we are forgetting that there is a subtle bottom line that circles the whole compilation, and maybe it will not be so pleasant for American people. (Even if that was not the main purpose of the producers) <br /><br />What i\\'m talking about is that most of the short films does not show the suffering that WASP people went through because the terrorist attack on September 11th, but the suffering of the Other people.<br /><br />Do you need proofs about what i\\'m saying? Look, in the Bosnia short film, the message is: \"You cry because of the people who died in the Towers, but we (The Others = East Europeans) are crying long ago for the crimes committed against our women and nobody pay attention to us like the whole world has done to you\".<br /><br />Even though the Burkina Fasso story is more in comedy, there is a the same thought: \"You are angry because Osama Bin Laden punched you in an evil way, but we (The Others = Africans) should be more angry, because our people is dying of hunger, poverty and AIDS long time ago, and nobody pay attention to us like the whole world has done to you\".<br /><br />Look now at the Sean Penn short: The fall of the Twin Towers makes happy to a lonely (and alienated) man. So the message is that the Power and the Greed (symbolized by the Towers) must fall for letting the people see the sun rise and the flowers blossom? It is remarkable that this terrible bottom line has been proposed by an American. There is so much irony in this short film that it is close to be subversive.<br /><br />Well, the Ken Loach (very know because his anti-capitalism ideology) is much more clearly and shameless in going straight to the point: \"You are angry because your country has been attacked by evil forces, but we (The Others = Latin Americans) suffered at a similar date something worst, and nobody remembers our grief as the whole world has done to you\".<br /><br />It is like if the creative of this project wanted to say to Americans: \"You see now, America? You are not the only that have become victim of the world violence, you are not alone in your pain and by the way, we (the Others = the Non Americans) have been suffering a lot more than you from long time ago; so, we are in solidarity with you in your pain... and by the way, we are sorry because you have had some taste of your own medicine\" Only the Mexican and the French short films showed some compassion and sympathy for American people; the others are like a slap on the face for the American State, that is not equal to American People.'\n",
            "1\n",
            "b'Blood Castle (aka Scream of the Demon Lover, Altar of Blood, Ivanna--the best, but least exploitation cinema-sounding title, and so on) is a very traditional Gothic Romance film. That means that it has big, creepy castles, a headstrong young woman, a mysterious older man, hints of horror and the supernatural, and romance elements in the contemporary sense of that genre term. It also means that it is very deliberately paced, and that the film will work best for horror mavens who are big fans of understatement. If you love films like Robert Wise\\'s The Haunting (1963), but you also have a taste for late 1960s/early 1970s Spanish and Italian horror, you may love Blood Castle, as well.<br /><br />Baron Janos Dalmar (Carlos Quiney) lives in a large castle on the outskirts of a traditional, unspecified European village. The locals fear him because legend has it that whenever he beds a woman, she soon after ends up dead--the consensus is that he sets his ferocious dogs on them. This is quite a problem because the Baron has a very healthy appetite for women. At the beginning of the film, yet another woman has turned up dead and mutilated.<br /><br />Meanwhile, Dr. Ivanna Rakowsky (Erna Sch\\xc3\\xbcrer) has appeared in the center of the village, asking to be taken to Baron Dalmar\\'s castle. She\\'s an out-of-towner who has been hired by the Baron for her expertise in chemistry. Of course, no one wants to go near the castle. Finally, Ivanna finds a shady individual (who becomes even shadier) to take her. Once there, an odd woman who lives in the castle, Olga (Cristiana Galloni), rejects Ivanna and says that she shouldn\\'t be there since she\\'s a woman. Baron Dalmar vacillates over whether she should stay. She ends up staying, but somewhat reluctantly. The Baron has hired her to try to reverse the effects of severe burns, which the Baron\\'s brother, Igor, is suffering from.<br /><br />Unfortunately, the Baron\\'s brother appears to be just a lump of decomposing flesh in a vat of bizarre, blackish liquid. And furthermore, Ivanna is having bizarre, hallucinatory dreams. Just what is going on at the castle? Is the Baron responsible for the crimes? Is he insane? <br /><br />I wanted to like Blood Castle more than I did. As I mentioned, the film is very deliberate in its pacing, and most of it is very understated. I can go either way on material like that. I don\\'t care for The Haunting (yes, I\\'m in a very small minority there), but I\\'m a big fan of 1960s and 1970s European horror. One of my favorite directors is Mario Bava. I also love Dario Argento\\'s work from that period. But occasionally, Blood Castle moved a bit too slow for me at times. There are large chunks that amount to scenes of not very exciting talking alternated with scenes of Ivanna slowly walking the corridors of the castle.<br /><br />But the atmosphere of the film is decent. Director Jos\\xc3\\xa9 Luis Merino managed more than passable sets and locations, and they\\'re shot fairly well by Emanuele Di Cola. However, Blood Castle feels relatively low budget, and this is a Roger Corman-produced film, after all (which usually means a low-budget, though often surprisingly high quality \"quickie\"). So while there is a hint of the lushness of Bava\\'s colors and complex set decoration, everything is much more minimalist. Of course, it doesn\\'t help that the Retromedia print I watched looks like a 30-year old photograph that\\'s been left out in the sun too long. It appears \"washed out\", with compromised contrast.<br /><br />Still, Merino and Di Cola occasionally set up fantastic visuals. For example, a scene of Ivanna walking in a darkened hallway that\\'s shot from an exaggerated angle, and where an important plot element is revealed through shadows on a wall only. There are also a couple Ingmar Bergmanesque shots, where actors are exquisitely blocked to imply complex relationships, besides just being visually attractive and pulling your eye deep into the frame.<br /><br />The performances are fairly good, and the women--especially Sch\\xc3\\xbcrer--are very attractive. Merino exploits this fact by incorporating a decent amount of nudity. Sch\\xc3\\xbcrer went on to do a number of films that were as much soft corn porn as they were other genres, with English titles such as Sex Life in a Woman\\'s Prison (1974), Naked and Lustful (1974), Strip Nude for Your Killer (1975) and Erotic Exploits of a Sexy Seducer (1977). Blood Castle is much tamer, but in addition to the nudity, there are still mild scenes suggesting rape and bondage, and of course the scenes mixing sex and death.<br /><br />The primary attraction here, though, is probably the story, which is much a slow-burning romance as anything else. The horror elements, the mystery elements, and a somewhat unexpected twist near the end are bonuses, but in the end, Blood Castle is a love story, about a couple overcoming various difficulties and antagonisms (often with physical threats or harms) to be together.'\n",
            "1\n",
            "b\"Halloween is one of the best examples of independent film. It's very well made and has more psychological elements to it than you might realize at first glance. It is a simple movie told very well. The music is perfect and is one of the most haunting scores... If you haven't seen this movie yet, you must check it out. The cast is all terrific. I wish they had never made sequel after sequel. The first one was by far the best and should have ended like it did without having a sequel. It was fun to see Jamie Lee Curtis in the movie. She hasn't seemed to age (she's just as gorgeous today, without the hairdo and seventies clothes). The scenes through the mask are one of the scariest things ever!\"\n",
            "1\n",
            "b\"Michelle Rodriguez is the defining actress who could be the charging force for other actresses to look out for. She has the audacity to place herself in a rarely seen tough-girl role very early in her career (and pull it off), which is a feat that should be recognized. Although her later films pigeonhole her to that same role, this film was made for her ruggedness.<br /><br />Her character is a romanticized student/fighter/lover, struggling to overcome her disenchanted existence in the projects, which is a little overdone in film...but not by a girl. That aspect of this film isn't very original, but the story goes in depth when the heated relationships that this girl has to deal with come to a boil and her primal rage takes over.<br /><br />I haven't seen an actress take such an aggressive stance in movie-making yet, and I'm glad that she's getting that original twist out there in Hollywood. This film got a 7 from me because of the average story of ghetto youth, but it has such a great actress portraying a rarely-seen role in a minimal budget movie. Great work.\"\n",
            "1\n"
          ]
        }
      ]
    },
    {
      "cell_type": "markdown",
      "metadata": {
        "id": "9u1MUVaKoMq9"
      },
      "source": [
        "# 2 Data Pre-Processing"
      ]
    },
    {
      "cell_type": "markdown",
      "metadata": {
        "id": "IsA9pKy4tLy-"
      },
      "source": [
        "#### Vectorise data"
      ]
    },
    {
      "cell_type": "code",
      "metadata": {
        "id": "OPim7cIQnDGI"
      },
      "source": [
        "# Define custom function\n",
        "def custom_standardization(input_data):\n",
        "    lowercase = tf.strings.lower(input_data)\n",
        "    stripped_html = tf.strings.regex_replace(lowercase, \"<br />\", \" \")\n",
        "    return tf.strings.regex_replace(\n",
        "        stripped_html, f\"[{re.escape(string.punctuation)}]\", \"\"\n",
        "    )\n",
        "\n",
        "# Model constants.\n",
        "max_features = 20000\n",
        "\n",
        "# Instantiate text vectorisation layer to normalize, split, and map strings to integers.\n",
        "# We also set an explicit maximum sequence length, since the CNNs later in our model won't support ragged sequences.\n",
        "vectorize_layer = TextVectorization(\n",
        "    standardize=custom_standardization,\n",
        "    max_tokens=max_features,\n",
        "    output_mode=\"int\",\n",
        "    output_sequence_length=maxlen,\n",
        ")\n",
        "\n",
        "# With vocab layer, call `adapt` on a text-only dataset to create the vocabulary. \n",
        "text_ds = raw_train_ds.map(lambda x, y: x)\n",
        "vectorize_layer.adapt(text_ds)"
      ],
      "execution_count": 10,
      "outputs": []
    },
    {
      "cell_type": "code",
      "metadata": {
        "id": "yG2l-87M3sRL",
        "colab": {
          "base_uri": "https://localhost:8080/"
        },
        "outputId": "fdd9b59c-b225-4eb8-f49c-c2f98c5624b3"
      },
      "source": [
        "print(len(vectorize_layer.get_vocabulary()))\n",
        "print(vectorize_layer.get_vocabulary()[:20])"
      ],
      "execution_count": 11,
      "outputs": [
        {
          "output_type": "stream",
          "name": "stdout",
          "text": [
            "20000\n",
            "['', '[UNK]', 'the', 'and', 'a', 'of', 'to', 'is', 'in', 'it', 'this', 'i', 'that', 'was', 'as', 'for', 'with', 'movie', 'but', 'film']\n"
          ]
        }
      ]
    },
    {
      "cell_type": "code",
      "metadata": {
        "id": "ZB1DJBInpWnO"
      },
      "source": [
        "def vectorize_text(text, label):\n",
        "    text = tf.expand_dims(text, -1)\n",
        "    return vectorize_layer(text), label\n",
        "\n",
        "# Vectorize the data.\n",
        "train_ds = raw_train_ds.map(vectorize_text)\n",
        "val_ds = raw_val_ds.map(vectorize_text)\n",
        "test_ds = raw_test_ds.map(vectorize_text)\n",
        "\n",
        "# Do async prefetching / buffering of the data for best performance on GPU.\n",
        "train_ds = train_ds.cache().prefetch(buffer_size=10)\n",
        "val_ds = val_ds.cache().prefetch(buffer_size=10)\n",
        "test_ds = test_ds.cache().prefetch(buffer_size=10)"
      ],
      "execution_count": 12,
      "outputs": []
    },
    {
      "cell_type": "markdown",
      "metadata": {
        "id": "6pxAX7eO_lbq"
      },
      "source": [
        "#### Inspect vectorised dataset"
      ]
    },
    {
      "cell_type": "code",
      "metadata": {
        "id": "s3CnRHv3pj_N",
        "colab": {
          "base_uri": "https://localhost:8080/"
        },
        "outputId": "efc6d966-2b16-433e-9fcc-077a317d13ba"
      },
      "source": [
        "text_batch, label_batch = next(iter(raw_train_ds))\n",
        "first_review, first_label = text_batch[0], label_batch[0]\n",
        "print(\"Review\", first_review)\n",
        "print(\"Label\", raw_train_ds.class_names[first_label])\n",
        "print(\"Vectorized review\", vectorize_text(first_review, first_label))"
      ],
      "execution_count": 13,
      "outputs": [
        {
          "output_type": "stream",
          "name": "stdout",
          "text": [
            "Review tf.Tensor(b'OK, so the musical pieces were poorly written and generally poorly sung (though Walken and Marner, particularly Walken, sounded pretty good). And so they shattered the fourth wall at the end by having the king and his nobles sing about the \"battle\" with the ogre, and praise the efforts of Puss in Boots when they by rights shouldn\\'t have even known about it.<br /><br />Who cares? It\\'s Christopher Freakin\\' Walken, doing a movie based on a fairy tale, and he sings and dances. His acting style fits the role very well as the devious, mischievous Puss who seems to get his master into deeper and deeper trouble but in fact has a plan he\\'s thought about seven or eight moves in advance. And if you\\'ve ever seen Walken in any of his villainous roles, you *know* the ogre bit the dust HARD at the end when Walken got him into his trap.<br /><br />A fun film, and a must-see for anyone who enjoys the unique style of Christopher Walken.', shape=(), dtype=string)\n",
            "Label pos\n",
            "Vectorized review (<tf.Tensor: shape=(1, 800), dtype=int64, numpy=\n",
            "array([[  566,    37,     2,   622,  1409,    67,   823,   431,     3,\n",
            "         1148,   823,  5510,   148,  3611,     3,     1,   562,  3611,\n",
            "         2724,   179,    49,     3,    37,    34, 10617,     2,  2664,\n",
            "         1620,    30,     2,   125,    32,   254,     2,   706,     3,\n",
            "           23,     1,  1932,    42,     2,   938,    16,     2,  7624,\n",
            "            3,  2727,     2,  1873,     5,     1,     8,  8947,    50,\n",
            "           34,    32,  2496,  1511,    25,    53,   624,    42,     9,\n",
            "           35,  2244,    29,  1373, 15125,  3611,   380,     4,    17,\n",
            "          455,    20,     4,  2606,   798,     3,    26,  3279,     3,\n",
            "         4042,    23,   112,   427,  2456,     2,   207,    52,    73,\n",
            "           14,     2, 10480,  9297,     1,    35,   181,     6,    76,\n",
            "           23,  1258,    77,  2828,     3,  2828,  1117,    18,     8,\n",
            "          186,    43,     4,  1316,   227,   194,    42,  1612,    40,\n",
            "         2457,  1086,     8,  4365,     3,    44,   816,   121,   107,\n",
            "         3611,     8,    98,     5,    23,  7181,   533,    22,   118,\n",
            "            2,  7624,   223,     2,  5002,   264,    30,     2,   125,\n",
            "           50,  3611,   183,    86,    77,    23,  3645,     4,   243,\n",
            "           19,     3,     4,  3435,    15,   248,    35,  3626,     2,\n",
            "          935,   427,     5,  1373,  3611,     0,     0,     0,     0,\n",
            "            0,     0,     0,     0,     0,     0,     0,     0,     0,\n",
            "            0,     0,     0,     0,     0,     0,     0,     0,     0,\n",
            "            0,     0,     0,     0,     0,     0,     0,     0,     0,\n",
            "            0,     0,     0,     0,     0,     0,     0,     0,     0,\n",
            "            0,     0,     0,     0,     0,     0,     0,     0,     0,\n",
            "            0,     0,     0,     0,     0,     0,     0,     0,     0,\n",
            "            0,     0,     0,     0,     0,     0,     0,     0,     0,\n",
            "            0,     0,     0,     0,     0,     0,     0,     0,     0,\n",
            "            0,     0,     0,     0,     0,     0,     0,     0,     0,\n",
            "            0,     0,     0,     0,     0,     0,     0,     0,     0,\n",
            "            0,     0,     0,     0,     0,     0,     0,     0,     0,\n",
            "            0,     0,     0,     0,     0,     0,     0,     0,     0,\n",
            "            0,     0,     0,     0,     0,     0,     0,     0,     0,\n",
            "            0,     0,     0,     0,     0,     0,     0,     0,     0,\n",
            "            0,     0,     0,     0,     0,     0,     0,     0,     0,\n",
            "            0,     0,     0,     0,     0,     0,     0,     0,     0,\n",
            "            0,     0,     0,     0,     0,     0,     0,     0,     0,\n",
            "            0,     0,     0,     0,     0,     0,     0,     0,     0,\n",
            "            0,     0,     0,     0,     0,     0,     0,     0,     0,\n",
            "            0,     0,     0,     0,     0,     0,     0,     0,     0,\n",
            "            0,     0,     0,     0,     0,     0,     0,     0,     0,\n",
            "            0,     0,     0,     0,     0,     0,     0,     0,     0,\n",
            "            0,     0,     0,     0,     0,     0,     0,     0,     0,\n",
            "            0,     0,     0,     0,     0,     0,     0,     0,     0,\n",
            "            0,     0,     0,     0,     0,     0,     0,     0,     0,\n",
            "            0,     0,     0,     0,     0,     0,     0,     0,     0,\n",
            "            0,     0,     0,     0,     0,     0,     0,     0,     0,\n",
            "            0,     0,     0,     0,     0,     0,     0,     0,     0,\n",
            "            0,     0,     0,     0,     0,     0,     0,     0,     0,\n",
            "            0,     0,     0,     0,     0,     0,     0,     0,     0,\n",
            "            0,     0,     0,     0,     0,     0,     0,     0,     0,\n",
            "            0,     0,     0,     0,     0,     0,     0,     0,     0,\n",
            "            0,     0,     0,     0,     0,     0,     0,     0,     0,\n",
            "            0,     0,     0,     0,     0,     0,     0,     0,     0,\n",
            "            0,     0,     0,     0,     0,     0,     0,     0,     0,\n",
            "            0,     0,     0,     0,     0,     0,     0,     0,     0,\n",
            "            0,     0,     0,     0,     0,     0,     0,     0,     0,\n",
            "            0,     0,     0,     0,     0,     0,     0,     0,     0,\n",
            "            0,     0,     0,     0,     0,     0,     0,     0,     0,\n",
            "            0,     0,     0,     0,     0,     0,     0,     0,     0,\n",
            "            0,     0,     0,     0,     0,     0,     0,     0,     0,\n",
            "            0,     0,     0,     0,     0,     0,     0,     0,     0,\n",
            "            0,     0,     0,     0,     0,     0,     0,     0,     0,\n",
            "            0,     0,     0,     0,     0,     0,     0,     0,     0,\n",
            "            0,     0,     0,     0,     0,     0,     0,     0,     0,\n",
            "            0,     0,     0,     0,     0,     0,     0,     0,     0,\n",
            "            0,     0,     0,     0,     0,     0,     0,     0,     0,\n",
            "            0,     0,     0,     0,     0,     0,     0,     0,     0,\n",
            "            0,     0,     0,     0,     0,     0,     0,     0,     0,\n",
            "            0,     0,     0,     0,     0,     0,     0,     0,     0,\n",
            "            0,     0,     0,     0,     0,     0,     0,     0,     0,\n",
            "            0,     0,     0,     0,     0,     0,     0,     0,     0,\n",
            "            0,     0,     0,     0,     0,     0,     0,     0,     0,\n",
            "            0,     0,     0,     0,     0,     0,     0,     0,     0,\n",
            "            0,     0,     0,     0,     0,     0,     0,     0,     0,\n",
            "            0,     0,     0,     0,     0,     0,     0,     0,     0,\n",
            "            0,     0,     0,     0,     0,     0,     0,     0,     0,\n",
            "            0,     0,     0,     0,     0,     0,     0,     0,     0,\n",
            "            0,     0,     0,     0,     0,     0,     0,     0,     0,\n",
            "            0,     0,     0,     0,     0,     0,     0,     0,     0,\n",
            "            0,     0,     0,     0,     0,     0,     0,     0,     0,\n",
            "            0,     0,     0,     0,     0,     0,     0,     0,     0,\n",
            "            0,     0,     0,     0,     0,     0,     0,     0,     0,\n",
            "            0,     0,     0,     0,     0,     0,     0,     0,     0,\n",
            "            0,     0,     0,     0,     0,     0,     0,     0,     0,\n",
            "            0,     0,     0,     0,     0,     0,     0,     0,     0,\n",
            "            0,     0,     0,     0,     0,     0,     0,     0,     0,\n",
            "            0,     0,     0,     0,     0,     0,     0,     0,     0,\n",
            "            0,     0,     0,     0,     0,     0,     0,     0,     0,\n",
            "            0,     0,     0,     0,     0,     0,     0,     0]])>, <tf.Tensor: shape=(), dtype=int32, numpy=1>)\n"
          ]
        }
      ]
    },
    {
      "cell_type": "markdown",
      "metadata": {
        "id": "f6pWc6HXkcvA"
      },
      "source": [
        "# 3 Convolutional Neural Network (CNN)"
      ]
    },
    {
      "cell_type": "markdown",
      "metadata": {
        "id": "WW9Cp32i3FYV"
      },
      "source": [
        "#### Build model"
      ]
    },
    {
      "cell_type": "code",
      "metadata": {
        "id": "7FCmN0HmyPhw"
      },
      "source": [
        "# Define model\n",
        "model_cnn = Sequential()\n",
        "model_cnn.add(Embedding(max_features, embedding_dims, input_length=maxlen))\n",
        "# Convolutional layer 1\n",
        "model_cnn.add(Conv1D(filters, kernel_size, padding='same', activation='relu', strides=1))\n",
        "model_cnn.add(GlobalMaxPooling1D())\n",
        "# Flatten before connecting to dense layer \n",
        "model_cnn.add(Flatten())\n",
        "model_cnn.add(Dense(hidden_dims, activation='relu'))\n",
        "model_cnn.add(Dropout(0.5))\n",
        "model_cnn.add(Dense(1, activation='sigmoid', name='predictions'))\n",
        "# Use binary_crossentropy loss function as it is a binary classification problem \n",
        "model_cnn.compile(loss='binary_crossentropy', optimizer='adam', metrics=metrics)"
      ],
      "execution_count": 14,
      "outputs": []
    },
    {
      "cell_type": "markdown",
      "metadata": {
        "id": "9V8hHfueRZhz"
      },
      "source": [
        "#### Visualise model"
      ]
    },
    {
      "cell_type": "code",
      "metadata": {
        "id": "EwuGTzOe2kuN",
        "colab": {
          "base_uri": "https://localhost:8080/"
        },
        "outputId": "33ebf226-a0c8-4258-f95c-51058456683b"
      },
      "source": [
        "model_cnn.summary()"
      ],
      "execution_count": 15,
      "outputs": [
        {
          "output_type": "stream",
          "name": "stdout",
          "text": [
            "Model: \"sequential\"\n",
            "_________________________________________________________________\n",
            "Layer (type)                 Output Shape              Param #   \n",
            "=================================================================\n",
            "embedding (Embedding)        (None, 800, 50)           1000000   \n",
            "_________________________________________________________________\n",
            "conv1d (Conv1D)              (None, 800, 250)          37750     \n",
            "_________________________________________________________________\n",
            "global_max_pooling1d (Global (None, 250)               0         \n",
            "_________________________________________________________________\n",
            "flatten (Flatten)            (None, 250)               0         \n",
            "_________________________________________________________________\n",
            "dense (Dense)                (None, 128)               32128     \n",
            "_________________________________________________________________\n",
            "dropout (Dropout)            (None, 128)               0         \n",
            "_________________________________________________________________\n",
            "predictions (Dense)          (None, 1)                 129       \n",
            "=================================================================\n",
            "Total params: 1,070,007\n",
            "Trainable params: 1,070,007\n",
            "Non-trainable params: 0\n",
            "_________________________________________________________________\n"
          ]
        }
      ]
    },
    {
      "cell_type": "code",
      "metadata": {
        "id": "DO4llMMDRUha",
        "colab": {
          "base_uri": "https://localhost:8080/",
          "height": 0
        },
        "outputId": "c5609ccb-d84f-4c9d-8b3c-2200ed7d5157"
      },
      "source": [
        "plot_model(model_cnn, show_shapes=True)"
      ],
      "execution_count": 16,
      "outputs": [
        {
          "output_type": "execute_result",
          "data": {
            "image/png": "[encoded data removed]",
            "text/plain": [
              "<IPython.core.display.Image object>"
            ]
          },
          "metadata": {},
          "execution_count": 16
        }
      ]
    },
    {
      "cell_type": "markdown",
      "metadata": {
        "id": "JnWGkwij3IrO"
      },
      "source": [
        "#### Train model using train dataset"
      ]
    },
    {
      "cell_type": "code",
      "metadata": {
        "id": "TnJnZDLJkdtj",
        "colab": {
          "base_uri": "https://localhost:8080/"
        },
        "outputId": "7e4c9028-6e13-452a-9fd2-d0f1d950f0e5"
      },
      "source": [
        "# Fit model using train dataset\n",
        "history_cnn = model_cnn.fit(train_ds, epochs=epochs, verbose = 1, batch_size=batch_size, validation_data=val_ds,\n",
        "              callbacks=[EarlyStopping(monitor='val_loss',patience=3, min_delta=0.0001)])"
      ],
      "execution_count": 17,
      "outputs": [
        {
          "output_type": "stream",
          "name": "stdout",
          "text": [
            "Epoch 1/10\n",
            "157/157 [==============================] - 13s 66ms/step - loss: 0.5471 - accuracy: 0.6955 - precision: 0.6977 - recall: 0.6873 - val_loss: 0.3508 - val_accuracy: 0.8440 - val_precision: 0.8436 - val_recall: 0.8483\n",
            "Epoch 2/10\n",
            "157/157 [==============================] - 9s 57ms/step - loss: 0.2632 - accuracy: 0.8943 - precision: 0.8889 - recall: 0.9008 - val_loss: 0.2740 - val_accuracy: 0.8846 - val_precision: 0.8874 - val_recall: 0.8835\n",
            "Epoch 3/10\n",
            "157/157 [==============================] - 9s 56ms/step - loss: 0.1423 - accuracy: 0.9503 - precision: 0.9485 - recall: 0.9522 - val_loss: 0.3338 - val_accuracy: 0.8740 - val_precision: 0.8300 - val_recall: 0.9437\n",
            "Epoch 4/10\n",
            "157/157 [==============================] - 9s 56ms/step - loss: 0.0668 - accuracy: 0.9814 - precision: 0.9814 - recall: 0.9813 - val_loss: 0.3366 - val_accuracy: 0.8828 - val_precision: 0.8955 - val_recall: 0.8693\n",
            "Epoch 5/10\n",
            "157/157 [==============================] - 9s 57ms/step - loss: 0.0312 - accuracy: 0.9908 - precision: 0.9908 - recall: 0.9907 - val_loss: 0.3831 - val_accuracy: 0.8862 - val_precision: 0.8721 - val_recall: 0.9077\n"
          ]
        }
      ]
    },
    {
      "cell_type": "code",
      "metadata": {
        "id": "SqQpw_VufOXy",
        "colab": {
          "base_uri": "https://localhost:8080/",
          "height": 281
        },
        "outputId": "c92a6abc-4862-41d2-cd39-1264f55e8e6e"
      },
      "source": [
        "figure, axis = plt.subplots(2, sharex=True)\n",
        "\n",
        "axis[0].plot(history_cnn.history['loss'], label='train')\n",
        "axis[0].plot(history_cnn.history['val_loss'], label='validation')\n",
        "axis[0].legend()\n",
        "axis[0].set_title('Loss')\n",
        "\n",
        "axis[1].plot(history_cnn.history['accuracy'], label='train')\n",
        "axis[1].plot(history_cnn.history['val_accuracy'], label='validation')\n",
        "axis[1].legend()\n",
        "axis[1].set_title('Accuracy')\n",
        "\n",
        "plt.show()"
      ],
      "execution_count": 18,
      "outputs": [
        {
          "output_type": "display_data",
          "data": {
            "image/png": "[encoded data removed]",
            "text/plain": [
              "<Figure size 432x288 with 2 Axes>"
            ]
          },
          "metadata": {
            "needs_background": "light"
          }
        }
      ]
    },
    {
      "cell_type": "markdown",
      "metadata": {
        "id": "Enb8etY3v81x"
      },
      "source": [
        "#### Evaluate model performance on test dataset"
      ]
    },
    {
      "cell_type": "code",
      "metadata": {
        "id": "45Q6BCam2Wi2",
        "colab": {
          "base_uri": "https://localhost:8080/"
        },
        "outputId": "a7fef943-e6bb-4c38-ac0c-150927cd90df"
      },
      "source": [
        "metrics_cnn = model_cnn.evaluate(test_ds,verbose=1)"
      ],
      "execution_count": 19,
      "outputs": [
        {
          "output_type": "stream",
          "name": "stdout",
          "text": [
            "196/196 [==============================] - 7s 36ms/step - loss: 0.4016 - accuracy: 0.8807 - precision: 0.8702 - recall: 0.8949\n"
          ]
        }
      ]
    },
    {
      "cell_type": "code",
      "metadata": {
        "id": "wJWo8LJAhaWK",
        "colab": {
          "base_uri": "https://localhost:8080/",
          "height": 306
        },
        "outputId": "33b17e13-37a0-44a6-a45c-c22fa453058c"
      },
      "source": [
        "get_results(metrics_cnn, 'CNN', store=True)"
      ],
      "execution_count": 20,
      "outputs": [
        {
          "output_type": "stream",
          "name": "stdout",
          "text": [
            "Model performance on CNN:\n",
            " Loss: 0.402\n",
            " Accuracy: 0.881\n",
            " Precision: 0.87\n",
            " Recall: 0.895\n",
            " F1: 0.882\n"
          ]
        },
        {
          "output_type": "execute_result",
          "data": {
            "text/html": [
              "<div>\n",
              "<style scoped>\n",
              "    .dataframe tbody tr th:only-of-type {\n",
              "        vertical-align: middle;\n",
              "    }\n",
              "\n",
              "    .dataframe tbody tr th {\n",
              "        vertical-align: top;\n",
              "    }\n",
              "\n",
              "    .dataframe thead th {\n",
              "        text-align: right;\n",
              "    }\n",
              "</style>\n",
              "<table border=\"1\" class=\"dataframe\">\n",
              "  <thead>\n",
              "    <tr style=\"text-align: right;\">\n",
              "      <th></th>\n",
              "      <th>CNN</th>\n",
              "    </tr>\n",
              "  </thead>\n",
              "  <tbody>\n",
              "    <tr>\n",
              "      <th>Accuracy</th>\n",
              "      <td>0.881</td>\n",
              "    </tr>\n",
              "    <tr>\n",
              "      <th>F1</th>\n",
              "      <td>0.882</td>\n",
              "    </tr>\n",
              "    <tr>\n",
              "      <th>Loss</th>\n",
              "      <td>0.402</td>\n",
              "    </tr>\n",
              "    <tr>\n",
              "      <th>Precision</th>\n",
              "      <td>0.870</td>\n",
              "    </tr>\n",
              "    <tr>\n",
              "      <th>Recall</th>\n",
              "      <td>0.895</td>\n",
              "    </tr>\n",
              "  </tbody>\n",
              "</table>\n",
              "</div>"
            ],
            "text/plain": [
              "             CNN\n",
              "Accuracy   0.881\n",
              "F1         0.882\n",
              "Loss       0.402\n",
              "Precision  0.870\n",
              "Recall     0.895"
            ]
          },
          "metadata": {},
          "execution_count": 20
        }
      ]
    },
    {
      "cell_type": "markdown",
      "metadata": {
        "id": "H0iXLoWpkd6-"
      },
      "source": [
        "# 4 Long Short-Term Memory (LSTM) "
      ]
    },
    {
      "cell_type": "markdown",
      "metadata": {
        "id": "Ctvh_HOX0foK"
      },
      "source": [
        "#### Build model"
      ]
    },
    {
      "cell_type": "code",
      "metadata": {
        "id": "ZPPlmifnkgAZ"
      },
      "source": [
        "# Define model\n",
        "model_lstm = Sequential()\n",
        "model_lstm.add(Embedding(max_features, embedding_dims, input_length=maxlen))\n",
        "# LSTM layer\n",
        "model_lstm.add(LSTM(120, return_sequences=True))\n",
        "model_lstm.add(GlobalMaxPooling1D())\n",
        "model_lstm.add(Dense(1, activation='sigmoid', name='predictions'))\n",
        "# Compile\n",
        "model_lstm.compile(loss='binary_crossentropy', optimizer='adam', metrics=metrics)"
      ],
      "execution_count": 22,
      "outputs": []
    },
    {
      "cell_type": "markdown",
      "metadata": {
        "id": "GFNhKJDrRKTp"
      },
      "source": [
        "#### Visualise model"
      ]
    },
    {
      "cell_type": "code",
      "metadata": {
        "id": "n0breL5Izr4S",
        "colab": {
          "base_uri": "https://localhost:8080/"
        },
        "outputId": "3e01ef97-4e9b-4e1a-91fa-afefe510663f"
      },
      "source": [
        "model_lstm.summary()"
      ],
      "execution_count": 23,
      "outputs": [
        {
          "output_type": "stream",
          "name": "stdout",
          "text": [
            "Model: \"sequential_1\"\n",
            "_________________________________________________________________\n",
            "Layer (type)                 Output Shape              Param #   \n",
            "=================================================================\n",
            "embedding_1 (Embedding)      (None, 800, 50)           1000000   \n",
            "_________________________________________________________________\n",
            "lstm (LSTM)                  (None, 800, 120)          82080     \n",
            "_________________________________________________________________\n",
            "global_max_pooling1d_1 (Glob (None, 120)               0         \n",
            "_________________________________________________________________\n",
            "predictions (Dense)          (None, 1)                 121       \n",
            "=================================================================\n",
            "Total params: 1,082,201\n",
            "Trainable params: 1,082,201\n",
            "Non-trainable params: 0\n",
            "_________________________________________________________________\n"
          ]
        }
      ]
    },
    {
      "cell_type": "code",
      "metadata": {
        "id": "bAcYTf8xQil7",
        "colab": {
          "base_uri": "https://localhost:8080/",
          "height": 533
        },
        "outputId": "7e3c009e-a6d0-46c6-ea34-5d61b47c0be1"
      },
      "source": [
        "plot_model(model_lstm, show_shapes=True)"
      ],
      "execution_count": 24,
      "outputs": [
        {
          "output_type": "execute_result",
          "data": {
            "image/png": "[encoded data removed]",
            "text/plain": [
              "<IPython.core.display.Image object>"
            ]
          },
          "metadata": {},
          "execution_count": 24
        }
      ]
    },
    {
      "cell_type": "markdown",
      "metadata": {
        "id": "De53SxX-z8JF"
      },
      "source": [
        "#### Train model using train dataset"
      ]
    },
    {
      "cell_type": "code",
      "metadata": {
        "id": "l_H0Y9exz8JF",
        "colab": {
          "base_uri": "https://localhost:8080/"
        },
        "outputId": "6d99c152-8a03-41b2-b1c6-02e207b21da3"
      },
      "source": [
        "# Fit model using train dataset\n",
        "history_lstm = model_lstm.fit(train_ds, epochs=epochs, batch_size=batch_size, validation_data=val_ds,\n",
        "              callbacks=[EarlyStopping(monitor='val_loss',patience=3, min_delta=0.0001)])"
      ],
      "execution_count": 25,
      "outputs": [
        {
          "output_type": "stream",
          "name": "stdout",
          "text": [
            "Epoch 1/10\n",
            "157/157 [==============================] - 31s 179ms/step - loss: 0.5955 - accuracy: 0.7013 - precision: 0.6678 - recall: 0.7986 - val_loss: 0.4536 - val_accuracy: 0.8140 - val_precision: 0.7691 - val_recall: 0.9025\n",
            "Epoch 2/10\n",
            "157/157 [==============================] - 27s 174ms/step - loss: 0.3366 - accuracy: 0.8707 - precision: 0.8623 - recall: 0.8816 - val_loss: 0.3126 - val_accuracy: 0.8722 - val_precision: 0.8712 - val_recall: 0.8764\n",
            "Epoch 3/10\n",
            "157/157 [==============================] - 27s 173ms/step - loss: 0.1855 - accuracy: 0.9309 - precision: 0.9268 - recall: 0.9354 - val_loss: 0.3386 - val_accuracy: 0.8724 - val_precision: 0.8661 - val_recall: 0.8839\n",
            "Epoch 4/10\n",
            "157/157 [==============================] - 27s 174ms/step - loss: 0.1148 - accuracy: 0.9632 - precision: 0.9622 - recall: 0.9640 - val_loss: 0.4214 - val_accuracy: 0.8698 - val_precision: 0.8668 - val_recall: 0.8768\n",
            "Epoch 5/10\n",
            "157/157 [==============================] - 27s 174ms/step - loss: 0.0814 - accuracy: 0.9755 - precision: 0.9754 - recall: 0.9755 - val_loss: 0.4016 - val_accuracy: 0.8690 - val_precision: 0.8728 - val_recall: 0.8669\n"
          ]
        }
      ]
    },
    {
      "cell_type": "code",
      "metadata": {
        "id": "WvLEeIXEz8JG",
        "colab": {
          "base_uri": "https://localhost:8080/",
          "height": 0
        },
        "outputId": "e5830697-818e-47ab-cbf1-a12b4a6c21df"
      },
      "source": [
        "figure, axis = plt.subplots(2, sharex=True)\n",
        "\n",
        "axis[0].plot(history_lstm.history['loss'], label='train')\n",
        "axis[0].plot(history_lstm.history['val_loss'], label='validation')\n",
        "axis[0].legend()\n",
        "axis[0].set_title('Loss')\n",
        "\n",
        "axis[1].plot(history_lstm.history['accuracy'], label='train')\n",
        "axis[1].plot(history_lstm.history['val_accuracy'], label='validation')\n",
        "axis[1].legend()\n",
        "axis[1].set_title('Accuracy')\n",
        "\n",
        "plt.show()"
      ],
      "execution_count": 26,
      "outputs": [
        {
          "output_type": "display_data",
          "data": {
            "image/png": "[encoded data removed]",
            "text/plain": [
              "<Figure size 432x288 with 2 Axes>"
            ]
          },
          "metadata": {
            "needs_background": "light"
          }
        }
      ]
    },
    {
      "cell_type": "markdown",
      "metadata": {
        "id": "0pRbr9Snz8JG"
      },
      "source": [
        "#### Evaluate model performance on test dataset"
      ]
    },
    {
      "cell_type": "code",
      "metadata": {
        "id": "Kb1_h4ekz8JG",
        "colab": {
          "base_uri": "https://localhost:8080/"
        },
        "outputId": "9fd110dd-f6b7-4882-aebe-1487b01292e9"
      },
      "source": [
        "metrics_lstm = model_lstm.evaluate(test_ds,verbose=1)"
      ],
      "execution_count": 27,
      "outputs": [
        {
          "output_type": "stream",
          "name": "stdout",
          "text": [
            "196/196 [==============================] - 11s 54ms/step - loss: 0.4651 - accuracy: 0.8527 - precision: 0.8736 - recall: 0.8246\n"
          ]
        }
      ]
    },
    {
      "cell_type": "code",
      "metadata": {
        "id": "FMytDZS9z8JG",
        "colab": {
          "base_uri": "https://localhost:8080/",
          "height": 0
        },
        "outputId": "44023cdb-0b65-4471-b570-f95ef7988558"
      },
      "source": [
        "get_results(metrics_lstm, 'LSTM', store=True)"
      ],
      "execution_count": 28,
      "outputs": [
        {
          "output_type": "stream",
          "name": "stdout",
          "text": [
            "Model performance on LSTM:\n",
            " Loss: 0.465\n",
            " Accuracy: 0.853\n",
            " Precision: 0.874\n",
            " Recall: 0.825\n",
            " F1: 0.849\n"
          ]
        },
        {
          "output_type": "execute_result",
          "data": {
            "text/html": [
              "<div>\n",
              "<style scoped>\n",
              "    .dataframe tbody tr th:only-of-type {\n",
              "        vertical-align: middle;\n",
              "    }\n",
              "\n",
              "    .dataframe tbody tr th {\n",
              "        vertical-align: top;\n",
              "    }\n",
              "\n",
              "    .dataframe thead th {\n",
              "        text-align: right;\n",
              "    }\n",
              "</style>\n",
              "<table border=\"1\" class=\"dataframe\">\n",
              "  <thead>\n",
              "    <tr style=\"text-align: right;\">\n",
              "      <th></th>\n",
              "      <th>CNN</th>\n",
              "      <th>LSTM</th>\n",
              "    </tr>\n",
              "  </thead>\n",
              "  <tbody>\n",
              "    <tr>\n",
              "      <th>Loss</th>\n",
              "      <td>0.402</td>\n",
              "      <td>0.465</td>\n",
              "    </tr>\n",
              "    <tr>\n",
              "      <th>Accuracy</th>\n",
              "      <td>0.881</td>\n",
              "      <td>0.853</td>\n",
              "    </tr>\n",
              "    <tr>\n",
              "      <th>Precision</th>\n",
              "      <td>0.870</td>\n",
              "      <td>0.874</td>\n",
              "    </tr>\n",
              "    <tr>\n",
              "      <th>Recall</th>\n",
              "      <td>0.895</td>\n",
              "      <td>0.825</td>\n",
              "    </tr>\n",
              "    <tr>\n",
              "      <th>F1</th>\n",
              "      <td>0.882</td>\n",
              "      <td>0.849</td>\n",
              "    </tr>\n",
              "  </tbody>\n",
              "</table>\n",
              "</div>"
            ],
            "text/plain": [
              "             CNN   LSTM\n",
              "Loss       0.402  0.465\n",
              "Accuracy   0.881  0.853\n",
              "Precision  0.870  0.874\n",
              "Recall     0.895  0.825\n",
              "F1         0.882  0.849"
            ]
          },
          "metadata": {},
          "execution_count": 28
        }
      ]
    },
    {
      "cell_type": "markdown",
      "metadata": {
        "id": "oO-uFahvkgG8"
      },
      "source": [
        "# 5 Model Comparison\n",
        "The results are summarised in the DataFrame below."
      ]
    },
    {
      "cell_type": "code",
      "metadata": {
        "id": "XKQ0ebz2kiIg",
        "colab": {
          "base_uri": "https://localhost:8080/",
          "height": 204
        },
        "outputId": "b0cb1dd4-6300-4d84-fdc9-b8ae1de13861"
      },
      "source": [
        "pd.DataFrame(results)"
      ],
      "execution_count": 30,
      "outputs": [
        {
          "output_type": "execute_result",
          "data": {
            "text/html": [
              "<div>\n",
              "<style scoped>\n",
              "    .dataframe tbody tr th:only-of-type {\n",
              "        vertical-align: middle;\n",
              "    }\n",
              "\n",
              "    .dataframe tbody tr th {\n",
              "        vertical-align: top;\n",
              "    }\n",
              "\n",
              "    .dataframe thead th {\n",
              "        text-align: right;\n",
              "    }\n",
              "</style>\n",
              "<table border=\"1\" class=\"dataframe\">\n",
              "  <thead>\n",
              "    <tr style=\"text-align: right;\">\n",
              "      <th></th>\n",
              "      <th>CNN</th>\n",
              "      <th>LSTM</th>\n",
              "    </tr>\n",
              "  </thead>\n",
              "  <tbody>\n",
              "    <tr>\n",
              "      <th>Loss</th>\n",
              "      <td>0.402</td>\n",
              "      <td>0.465</td>\n",
              "    </tr>\n",
              "    <tr>\n",
              "      <th>Accuracy</th>\n",
              "      <td>0.881</td>\n",
              "      <td>0.853</td>\n",
              "    </tr>\n",
              "    <tr>\n",
              "      <th>Precision</th>\n",
              "      <td>0.870</td>\n",
              "      <td>0.874</td>\n",
              "    </tr>\n",
              "    <tr>\n",
              "      <th>Recall</th>\n",
              "      <td>0.895</td>\n",
              "      <td>0.825</td>\n",
              "    </tr>\n",
              "    <tr>\n",
              "      <th>F1</th>\n",
              "      <td>0.882</td>\n",
              "      <td>0.849</td>\n",
              "    </tr>\n",
              "  </tbody>\n",
              "</table>\n",
              "</div>"
            ],
            "text/plain": [
              "             CNN   LSTM\n",
              "Loss       0.402  0.465\n",
              "Accuracy   0.881  0.853\n",
              "Precision  0.870  0.874\n",
              "Recall     0.895  0.825\n",
              "F1         0.882  0.849"
            ]
          },
          "metadata": {},
          "execution_count": 30
        }
      ]
    },
    {
      "cell_type": "markdown",
      "metadata": {
        "id": "x2Z_3w0MM7-Y"
      },
      "source": [
        "From the results, we see that CNN performed better than LSTM, achieving a higher accuracy (0.886 vs 0.853), precision (0.885 vs 0.822), and F1 scores (0.887 vs 0.859). Recall scores are comparable for both models. \n",
        "\n",
        "We see that CNN performed better than LSTM. This is likely because whether a review is negative or positive can be determined by a window of local features, something that CNN can more accurately identify.\n",
        "\n",
        "On the other hand, the sequential and hence contextual information that RNN can identify may not be as significant in this sentiment analysis. Furthermore, there is a higher risk of bias and hence overfitting when using LSTM."
      ]
    },
    {
      "cell_type": "markdown",
      "metadata": {
        "id": "h7iDzOQoAf7m"
      },
      "source": [
        "Comments on CNN:\n",
        "1. CNN is useful to recognise patterns across space as it extracts local and position-invariant features.\n",
        "3. CNN is computationally faster as it allows for parallelization over every element in the word sequence.\n",
        "4. CNN is better when feature detection in text is more important but it is difficult to obtain contextual information."
      ]
    },
    {
      "cell_type": "markdown",
      "metadata": {
        "id": "ZjFYxz_ZAf3O"
      },
      "source": [
        "Comments on LSTM/RNN:\n",
        "1. LSTM/RNN is useful to recognise patterns across time as it captures long-term dependencies between word sequences.\n",
        "2. LSTM/RNN is ideal for sequential data when the current step is related with the previous steps or datasets with a time component. \n",
        "3. LSTM/RNN is better when sequential modeling is more important but the order of words can lead to bias. "
      ]
    },
    {
      "cell_type": "markdown",
      "metadata": {
        "id": "-g5O4FdA_DeX"
      },
      "source": [
        "# 6 Deeper Insights\n",
        "To explore further, I looked into 6 different insights which can affect model performance.\n",
        "1. Different word embedding techniques \n",
        "2. Wide vs deep network\n",
        "3. Different CNN/LSTM models\n",
        "4. Different activation functions in intermediate layers"
      ]
    },
    {
      "cell_type": "markdown",
      "metadata": {
        "id": "ilzgkCgqD-c6"
      },
      "source": [
        "#### Insight 1: Different word embedding techniques \n",
        "Different word embedding techniques may affect the model performances. Other types of word embedding techniques could have been used, such as word2vec, which may have affected the model performances."
      ]
    },
    {
      "cell_type": "markdown",
      "metadata": {
        "id": "8H22pRXrMaic"
      },
      "source": [
        "#### Insight 2: Wide vs deep neural network"
      ]
    },
    {
      "cell_type": "markdown",
      "metadata": {
        "id": "VV0LS1vjNVFP"
      },
      "source": [
        "Deep neural network (4 layers of CNN followed by 3 fully connected layers): \\\\\n",
        "A wider but shallower model seems to work better for this dataset. The higher loss for the following deep network seems to suggest overfitting.\n"
      ]
    },
    {
      "cell_type": "code",
      "metadata": {
        "id": "zYZmiZhnMfrX"
      },
      "source": [
        "# Define model\n",
        "model_deep = Sequential()\n",
        "model_deep.add(Embedding(max_features, embedding_dims, input_length=maxlen))\n",
        "# Convolutional layer\n",
        "model_deep.add(Conv1D(filters, kernel_size, padding='same', activation='relu', strides=1))\n",
        "model_deep.add(MaxPooling1D(pool_size=2))\n",
        "# More convolutional layers\n",
        "for i in range(3):\n",
        "  model_deep.add(Conv1D(filters, kernel_size, padding='same', activation='relu', strides=1))\n",
        "  model_deep.add(MaxPooling1D(pool_size=2))\n",
        "model_deep.add(Flatten())\n",
        "# Fully connected layer\n",
        "model_deep.add(Dense(embedding_dims, activation='relu'))\n",
        "model_deep.add(Dropout(0.5))\n",
        "model_deep.add(Dense(1, activation='sigmoid', name='predictions'))\n",
        "# Compile\n",
        "model_deep.compile(loss='binary_crossentropy', optimizer='adam', metrics=metrics)"
      ],
      "execution_count": 42,
      "outputs": []
    },
    {
      "cell_type": "code",
      "metadata": {
        "id": "x74IT1TbZ4Q5",
        "colab": {
          "base_uri": "https://localhost:8080/"
        },
        "outputId": "66222cc5-7f85-47bf-a984-3e06f0a5daaf"
      },
      "source": [
        "# Fit and evaluate\n",
        "history_deep = model_deep.fit(train_ds, epochs=epochs, batch_size=batch_size, validation_data=val_ds, verbose=0,\n",
        "              callbacks=[EarlyStopping(monitor='val_loss',patience=3, min_delta=0.0001)])\n",
        "metrics_deep = model_deep.evaluate(test_ds,verbose=1)"
      ],
      "execution_count": 43,
      "outputs": [
        {
          "output_type": "stream",
          "name": "stdout",
          "text": [
            "196/196 [==============================] - 10s 52ms/step - loss: 0.6931 - accuracy: 0.5000 - precision: 0.0000e+00 - recall: 0.0000e+00\n"
          ]
        }
      ]
    },
    {
      "cell_type": "code",
      "metadata": {
        "id": "QZsLixYZ9Akd",
        "outputId": "6ca05d97-fa81-4f38-d275-7f5f1fdd14e1",
        "colab": {
          "base_uri": "https://localhost:8080/",
          "height": 317
        }
      },
      "source": [
        "# Compare results\n",
        "get_results(metrics_deep, 'CNN (Deep)')"
      ],
      "execution_count": 44,
      "outputs": [
        {
          "output_type": "error",
          "ename": "ZeroDivisionError",
          "evalue": "ignored",
          "traceback": [
            "\u001b[0;31m---------------------------------------------------------------------------\u001b[0m",
            "\u001b[0;31mZeroDivisionError\u001b[0m                         Traceback (most recent call last)",
            "\u001b[0;32m<ipython-input-44-76fd2c406614>\u001b[0m in \u001b[0;36m<module>\u001b[0;34m()\u001b[0m\n\u001b[1;32m      1\u001b[0m \u001b[0;31m# Compare results\u001b[0m\u001b[0;34m\u001b[0m\u001b[0;34m\u001b[0m\u001b[0;34m\u001b[0m\u001b[0m\n\u001b[0;32m----> 2\u001b[0;31m \u001b[0mget_results\u001b[0m\u001b[0;34m(\u001b[0m\u001b[0mmetrics_deep\u001b[0m\u001b[0;34m,\u001b[0m \u001b[0;34m'CNN (Deep)'\u001b[0m\u001b[0;34m)\u001b[0m\u001b[0;34m\u001b[0m\u001b[0;34m\u001b[0m\u001b[0m\n\u001b[0m",
            "\u001b[0;32m<ipython-input-4-89a4ded38267>\u001b[0m in \u001b[0;36mget_results\u001b[0;34m(metrics, name, results, store)\u001b[0m\n\u001b[1;32m      4\u001b[0m   \u001b[0mprecision\u001b[0m \u001b[0;34m=\u001b[0m \u001b[0mround\u001b[0m\u001b[0;34m(\u001b[0m\u001b[0mmetrics\u001b[0m\u001b[0;34m[\u001b[0m\u001b[0;36m2\u001b[0m\u001b[0;34m]\u001b[0m\u001b[0;34m,\u001b[0m \u001b[0;36m3\u001b[0m\u001b[0;34m)\u001b[0m\u001b[0;34m\u001b[0m\u001b[0;34m\u001b[0m\u001b[0m\n\u001b[1;32m      5\u001b[0m   \u001b[0mrecall\u001b[0m \u001b[0;34m=\u001b[0m \u001b[0mround\u001b[0m\u001b[0;34m(\u001b[0m\u001b[0mmetrics\u001b[0m\u001b[0;34m[\u001b[0m\u001b[0;36m3\u001b[0m\u001b[0;34m]\u001b[0m\u001b[0;34m,\u001b[0m \u001b[0;36m3\u001b[0m\u001b[0;34m)\u001b[0m\u001b[0;34m\u001b[0m\u001b[0;34m\u001b[0m\u001b[0m\n\u001b[0;32m----> 6\u001b[0;31m   \u001b[0mf1\u001b[0m \u001b[0;34m=\u001b[0m \u001b[0mround\u001b[0m\u001b[0;34m(\u001b[0m \u001b[0;36m2\u001b[0m\u001b[0;34m*\u001b[0m\u001b[0;34m(\u001b[0m\u001b[0;34m(\u001b[0m\u001b[0mprecision\u001b[0m \u001b[0;34m*\u001b[0m \u001b[0mrecall\u001b[0m\u001b[0;34m)\u001b[0m \u001b[0;34m/\u001b[0m \u001b[0;34m(\u001b[0m\u001b[0mprecision\u001b[0m \u001b[0;34m+\u001b[0m \u001b[0mrecall\u001b[0m\u001b[0;34m)\u001b[0m\u001b[0;34m)\u001b[0m\u001b[0;34m,\u001b[0m \u001b[0;36m3\u001b[0m \u001b[0;34m)\u001b[0m\u001b[0;34m\u001b[0m\u001b[0;34m\u001b[0m\u001b[0m\n\u001b[0m\u001b[1;32m      7\u001b[0m   \u001b[0mprint\u001b[0m\u001b[0;34m(\u001b[0m\u001b[0;34m'Model performance on {}:\\n Loss: {}\\n Accuracy: {}\\n Precision: {}\\n Recall: {}\\n F1: {}'\u001b[0m\u001b[0;34m.\u001b[0m\u001b[0mformat\u001b[0m\u001b[0;34m(\u001b[0m\u001b[0mname\u001b[0m\u001b[0;34m,\u001b[0m \u001b[0mloss\u001b[0m\u001b[0;34m,\u001b[0m \u001b[0maccuracy\u001b[0m\u001b[0;34m,\u001b[0m \u001b[0mprecision\u001b[0m\u001b[0;34m,\u001b[0m \u001b[0mrecall\u001b[0m\u001b[0;34m,\u001b[0m \u001b[0mf1\u001b[0m\u001b[0;34m)\u001b[0m\u001b[0;34m)\u001b[0m\u001b[0;34m\u001b[0m\u001b[0;34m\u001b[0m\u001b[0m\n\u001b[1;32m      8\u001b[0m   \u001b[0;32mif\u001b[0m \u001b[0mstore\u001b[0m \u001b[0;34m==\u001b[0m \u001b[0;32mFalse\u001b[0m\u001b[0;34m:\u001b[0m \u001b[0mresults\u001b[0m \u001b[0;34m=\u001b[0m \u001b[0mresults\u001b[0m\u001b[0;34m.\u001b[0m\u001b[0mcopy\u001b[0m\u001b[0;34m(\u001b[0m\u001b[0;34m)\u001b[0m\u001b[0;34m\u001b[0m\u001b[0;34m\u001b[0m\u001b[0m\n",
            "\u001b[0;31mZeroDivisionError\u001b[0m: float division by zero"
          ]
        }
      ]
    },
    {
      "cell_type": "markdown",
      "metadata": {
        "id": "U5538vzD8ySm"
      },
      "source": [
        "#### Insight 3: Different CNN/LSTM models\n",
        "Different scholars have tried different combinations of CNN and LSTM layers in order to improve model performance. I will attempt two variations and compare their performaces."
      ]
    },
    {
      "cell_type": "markdown",
      "metadata": {
        "id": "mrm2sTTcFXYZ"
      },
      "source": [
        "Variation 1: LSTM + CNN"
      ]
    },
    {
      "cell_type": "code",
      "metadata": {
        "id": "d9RWcKjwN0n7"
      },
      "source": [
        "# Define model\n",
        "model_lstm_cnn = Sequential()\n",
        "model_lstm_cnn.add(Embedding(max_features, embedding_dims, input_length=maxlen))\n",
        "# LSTM layer\n",
        "model_lstm_cnn.add(LSTM(120, return_sequences=True))\n",
        "# Convolutional layer\n",
        "model_lstm_cnn.add(Conv1D(filters, kernel_size, padding='same', activation='relu', strides=1))\n",
        "model_lstm_cnn.add(GlobalMaxPooling1D())\n",
        "model_lstm_cnn.add(Flatten())\n",
        "# Fully connected layer\n",
        "model_lstm_cnn.add(Dense(hidden_dims, activation='relu'))\n",
        "model_lstm_cnn.add(Dropout(0.5))\n",
        "model_lstm_cnn.add(Dense(1, activation='sigmoid', name='predictions'))\n",
        "# Complie\n",
        "model_lstm_cnn.compile(loss='binary_crossentropy', optimizer='adam', metrics=metrics)"
      ],
      "execution_count": 40,
      "outputs": []
    },
    {
      "cell_type": "code",
      "metadata": {
        "id": "wI_sZO756ZLa",
        "outputId": "6803de74-3f33-4eaa-d7a6-58aae657817b",
        "colab": {
          "base_uri": "https://localhost:8080/",
          "height": 358
        }
      },
      "source": [
        "# Fit and evaluate\n",
        "history_lstm_cnn = model_lstm_cnn.fit(train_ds, epochs=epochs, batch_size=batch_size, validation_data=val_ds, verbose = 0,\n",
        "                                      callbacks=[EarlyStopping(monitor='val_loss',patience=3, min_delta=0.0001)])\n",
        "metrics_lstm_cnn = model_lstm_cnn.evaluate(test_ds,verbose=1)"
      ],
      "execution_count": 41,
      "outputs": [
        {
          "output_type": "error",
          "ename": "KeyboardInterrupt",
          "evalue": "ignored",
          "traceback": [
            "\u001b[0;31m---------------------------------------------------------------------------\u001b[0m",
            "\u001b[0;31mKeyboardInterrupt\u001b[0m                         Traceback (most recent call last)",
            "\u001b[0;32m<ipython-input-41-68a96674f7d9>\u001b[0m in \u001b[0;36m<module>\u001b[0;34m()\u001b[0m\n\u001b[1;32m      1\u001b[0m \u001b[0;31m# Fit and evaluate\u001b[0m\u001b[0;34m\u001b[0m\u001b[0;34m\u001b[0m\u001b[0;34m\u001b[0m\u001b[0m\n\u001b[1;32m      2\u001b[0m history_lstm_cnn = model_lstm_cnn.fit(train_ds, epochs=epochs, batch_size=batch_size, validation_data=val_ds, verbose = 0,\n\u001b[0;32m----> 3\u001b[0;31m                                       callbacks=[EarlyStopping(monitor='val_loss',patience=3, min_delta=0.0001)])\n\u001b[0m\u001b[1;32m      4\u001b[0m \u001b[0mmetrics_lstm_cnn\u001b[0m \u001b[0;34m=\u001b[0m \u001b[0mmodel_lstm_cnn\u001b[0m\u001b[0;34m.\u001b[0m\u001b[0mevaluate\u001b[0m\u001b[0;34m(\u001b[0m\u001b[0mtest_ds\u001b[0m\u001b[0;34m,\u001b[0m\u001b[0mverbose\u001b[0m\u001b[0;34m=\u001b[0m\u001b[0;36m1\u001b[0m\u001b[0;34m)\u001b[0m\u001b[0;34m\u001b[0m\u001b[0;34m\u001b[0m\u001b[0m\n",
            "\u001b[0;32m/usr/local/lib/python3.7/dist-packages/keras/engine/training.py\u001b[0m in \u001b[0;36mfit\u001b[0;34m(self, x, y, batch_size, epochs, verbose, callbacks, validation_split, validation_data, shuffle, class_weight, sample_weight, initial_epoch, steps_per_epoch, validation_steps, validation_batch_size, validation_freq, max_queue_size, workers, use_multiprocessing)\u001b[0m\n\u001b[1;32m   1182\u001b[0m                 _r=1):\n\u001b[1;32m   1183\u001b[0m               \u001b[0mcallbacks\u001b[0m\u001b[0;34m.\u001b[0m\u001b[0mon_train_batch_begin\u001b[0m\u001b[0;34m(\u001b[0m\u001b[0mstep\u001b[0m\u001b[0;34m)\u001b[0m\u001b[0;34m\u001b[0m\u001b[0;34m\u001b[0m\u001b[0m\n\u001b[0;32m-> 1184\u001b[0;31m               \u001b[0mtmp_logs\u001b[0m \u001b[0;34m=\u001b[0m \u001b[0mself\u001b[0m\u001b[0;34m.\u001b[0m\u001b[0mtrain_function\u001b[0m\u001b[0;34m(\u001b[0m\u001b[0miterator\u001b[0m\u001b[0;34m)\u001b[0m\u001b[0;34m\u001b[0m\u001b[0;34m\u001b[0m\u001b[0m\n\u001b[0m\u001b[1;32m   1185\u001b[0m               \u001b[0;32mif\u001b[0m \u001b[0mdata_handler\u001b[0m\u001b[0;34m.\u001b[0m\u001b[0mshould_sync\u001b[0m\u001b[0;34m:\u001b[0m\u001b[0;34m\u001b[0m\u001b[0;34m\u001b[0m\u001b[0m\n\u001b[1;32m   1186\u001b[0m                 \u001b[0mcontext\u001b[0m\u001b[0;34m.\u001b[0m\u001b[0masync_wait\u001b[0m\u001b[0;34m(\u001b[0m\u001b[0;34m)\u001b[0m\u001b[0;34m\u001b[0m\u001b[0;34m\u001b[0m\u001b[0m\n",
            "\u001b[0;32m/usr/local/lib/python3.7/dist-packages/tensorflow/python/eager/def_function.py\u001b[0m in \u001b[0;36m__call__\u001b[0;34m(self, *args, **kwds)\u001b[0m\n\u001b[1;32m    883\u001b[0m \u001b[0;34m\u001b[0m\u001b[0m\n\u001b[1;32m    884\u001b[0m       \u001b[0;32mwith\u001b[0m \u001b[0mOptionalXlaContext\u001b[0m\u001b[0;34m(\u001b[0m\u001b[0mself\u001b[0m\u001b[0;34m.\u001b[0m\u001b[0m_jit_compile\u001b[0m\u001b[0;34m)\u001b[0m\u001b[0;34m:\u001b[0m\u001b[0;34m\u001b[0m\u001b[0;34m\u001b[0m\u001b[0m\n\u001b[0;32m--> 885\u001b[0;31m         \u001b[0mresult\u001b[0m \u001b[0;34m=\u001b[0m \u001b[0mself\u001b[0m\u001b[0;34m.\u001b[0m\u001b[0m_call\u001b[0m\u001b[0;34m(\u001b[0m\u001b[0;34m*\u001b[0m\u001b[0margs\u001b[0m\u001b[0;34m,\u001b[0m \u001b[0;34m**\u001b[0m\u001b[0mkwds\u001b[0m\u001b[0;34m)\u001b[0m\u001b[0;34m\u001b[0m\u001b[0;34m\u001b[0m\u001b[0m\n\u001b[0m\u001b[1;32m    886\u001b[0m \u001b[0;34m\u001b[0m\u001b[0m\n\u001b[1;32m    887\u001b[0m       \u001b[0mnew_tracing_count\u001b[0m \u001b[0;34m=\u001b[0m \u001b[0mself\u001b[0m\u001b[0;34m.\u001b[0m\u001b[0mexperimental_get_tracing_count\u001b[0m\u001b[0;34m(\u001b[0m\u001b[0;34m)\u001b[0m\u001b[0;34m\u001b[0m\u001b[0;34m\u001b[0m\u001b[0m\n",
            "\u001b[0;32m/usr/local/lib/python3.7/dist-packages/tensorflow/python/eager/def_function.py\u001b[0m in \u001b[0;36m_call\u001b[0;34m(self, *args, **kwds)\u001b[0m\n\u001b[1;32m    948\u001b[0m         \u001b[0;31m# Lifting succeeded, so variables are initialized and we can run the\u001b[0m\u001b[0;34m\u001b[0m\u001b[0;34m\u001b[0m\u001b[0;34m\u001b[0m\u001b[0m\n\u001b[1;32m    949\u001b[0m         \u001b[0;31m# stateless function.\u001b[0m\u001b[0;34m\u001b[0m\u001b[0;34m\u001b[0m\u001b[0;34m\u001b[0m\u001b[0m\n\u001b[0;32m--> 950\u001b[0;31m         \u001b[0;32mreturn\u001b[0m \u001b[0mself\u001b[0m\u001b[0;34m.\u001b[0m\u001b[0m_stateless_fn\u001b[0m\u001b[0;34m(\u001b[0m\u001b[0;34m*\u001b[0m\u001b[0margs\u001b[0m\u001b[0;34m,\u001b[0m \u001b[0;34m**\u001b[0m\u001b[0mkwds\u001b[0m\u001b[0;34m)\u001b[0m\u001b[0;34m\u001b[0m\u001b[0;34m\u001b[0m\u001b[0m\n\u001b[0m\u001b[1;32m    951\u001b[0m     \u001b[0;32melse\u001b[0m\u001b[0;34m:\u001b[0m\u001b[0;34m\u001b[0m\u001b[0;34m\u001b[0m\u001b[0m\n\u001b[1;32m    952\u001b[0m       \u001b[0m_\u001b[0m\u001b[0;34m,\u001b[0m \u001b[0m_\u001b[0m\u001b[0;34m,\u001b[0m \u001b[0m_\u001b[0m\u001b[0;34m,\u001b[0m \u001b[0mfiltered_flat_args\u001b[0m \u001b[0;34m=\u001b[0m\u001b[0;31m \u001b[0m\u001b[0;31m\\\u001b[0m\u001b[0;34m\u001b[0m\u001b[0;34m\u001b[0m\u001b[0m\n",
            "\u001b[0;32m/usr/local/lib/python3.7/dist-packages/tensorflow/python/eager/function.py\u001b[0m in \u001b[0;36m__call__\u001b[0;34m(self, *args, **kwargs)\u001b[0m\n\u001b[1;32m   3038\u001b[0m        filtered_flat_args) = self._maybe_define_function(args, kwargs)\n\u001b[1;32m   3039\u001b[0m     return graph_function._call_flat(\n\u001b[0;32m-> 3040\u001b[0;31m         filtered_flat_args, captured_inputs=graph_function.captured_inputs)  # pylint: disable=protected-access\n\u001b[0m\u001b[1;32m   3041\u001b[0m \u001b[0;34m\u001b[0m\u001b[0m\n\u001b[1;32m   3042\u001b[0m   \u001b[0;34m@\u001b[0m\u001b[0mproperty\u001b[0m\u001b[0;34m\u001b[0m\u001b[0;34m\u001b[0m\u001b[0m\n",
            "\u001b[0;32m/usr/local/lib/python3.7/dist-packages/tensorflow/python/eager/function.py\u001b[0m in \u001b[0;36m_call_flat\u001b[0;34m(self, args, captured_inputs, cancellation_manager)\u001b[0m\n\u001b[1;32m   1962\u001b[0m       \u001b[0;31m# No tape is watching; skip to running the function.\u001b[0m\u001b[0;34m\u001b[0m\u001b[0;34m\u001b[0m\u001b[0;34m\u001b[0m\u001b[0m\n\u001b[1;32m   1963\u001b[0m       return self._build_call_outputs(self._inference_function.call(\n\u001b[0;32m-> 1964\u001b[0;31m           ctx, args, cancellation_manager=cancellation_manager))\n\u001b[0m\u001b[1;32m   1965\u001b[0m     forward_backward = self._select_forward_and_backward_functions(\n\u001b[1;32m   1966\u001b[0m         \u001b[0margs\u001b[0m\u001b[0;34m,\u001b[0m\u001b[0;34m\u001b[0m\u001b[0;34m\u001b[0m\u001b[0m\n",
            "\u001b[0;32m/usr/local/lib/python3.7/dist-packages/tensorflow/python/eager/function.py\u001b[0m in \u001b[0;36mcall\u001b[0;34m(self, ctx, args, cancellation_manager)\u001b[0m\n\u001b[1;32m    594\u001b[0m               \u001b[0minputs\u001b[0m\u001b[0;34m=\u001b[0m\u001b[0margs\u001b[0m\u001b[0;34m,\u001b[0m\u001b[0;34m\u001b[0m\u001b[0;34m\u001b[0m\u001b[0m\n\u001b[1;32m    595\u001b[0m               \u001b[0mattrs\u001b[0m\u001b[0;34m=\u001b[0m\u001b[0mattrs\u001b[0m\u001b[0;34m,\u001b[0m\u001b[0;34m\u001b[0m\u001b[0;34m\u001b[0m\u001b[0m\n\u001b[0;32m--> 596\u001b[0;31m               ctx=ctx)\n\u001b[0m\u001b[1;32m    597\u001b[0m         \u001b[0;32melse\u001b[0m\u001b[0;34m:\u001b[0m\u001b[0;34m\u001b[0m\u001b[0;34m\u001b[0m\u001b[0m\n\u001b[1;32m    598\u001b[0m           outputs = execute.execute_with_cancellation(\n",
            "\u001b[0;32m/usr/local/lib/python3.7/dist-packages/tensorflow/python/eager/execute.py\u001b[0m in \u001b[0;36mquick_execute\u001b[0;34m(op_name, num_outputs, inputs, attrs, ctx, name)\u001b[0m\n\u001b[1;32m     58\u001b[0m     \u001b[0mctx\u001b[0m\u001b[0;34m.\u001b[0m\u001b[0mensure_initialized\u001b[0m\u001b[0;34m(\u001b[0m\u001b[0;34m)\u001b[0m\u001b[0;34m\u001b[0m\u001b[0;34m\u001b[0m\u001b[0m\n\u001b[1;32m     59\u001b[0m     tensors = pywrap_tfe.TFE_Py_Execute(ctx._handle, device_name, op_name,\n\u001b[0;32m---> 60\u001b[0;31m                                         inputs, attrs, num_outputs)\n\u001b[0m\u001b[1;32m     61\u001b[0m   \u001b[0;32mexcept\u001b[0m \u001b[0mcore\u001b[0m\u001b[0;34m.\u001b[0m\u001b[0m_NotOkStatusException\u001b[0m \u001b[0;32mas\u001b[0m \u001b[0me\u001b[0m\u001b[0;34m:\u001b[0m\u001b[0;34m\u001b[0m\u001b[0;34m\u001b[0m\u001b[0m\n\u001b[1;32m     62\u001b[0m     \u001b[0;32mif\u001b[0m \u001b[0mname\u001b[0m \u001b[0;32mis\u001b[0m \u001b[0;32mnot\u001b[0m \u001b[0;32mNone\u001b[0m\u001b[0;34m:\u001b[0m\u001b[0;34m\u001b[0m\u001b[0;34m\u001b[0m\u001b[0m\n",
            "\u001b[0;31mKeyboardInterrupt\u001b[0m: "
          ]
        }
      ]
    },
    {
      "cell_type": "code",
      "metadata": {
        "id": "shK04XZhkgMM"
      },
      "source": [
        "# Store results\n",
        "get_results(metrics_cnn_lstm, 'LSTM & CNN')"
      ],
      "execution_count": null,
      "outputs": []
    },
    {
      "cell_type": "markdown",
      "metadata": {
        "id": "lhf-_Bf0N1Bs"
      },
      "source": [
        "Variation 2: Bi-directional LSTM \\\\\n",
        "Bi-directional LSTM performed significantly better than LSTM, yet not as well as CNN."
      ]
    },
    {
      "cell_type": "code",
      "metadata": {
        "id": "cla3MvlTN-Ew"
      },
      "source": [
        "# Define model\n",
        "model_bilstm = Sequential()\n",
        "model_bilstm.add(Embedding(max_features, embedding_dims, input_length=maxlen))\n",
        "# Bi-directional LSTM\n",
        "model_bilstm.add(Bidirectional(LSTM(120, return_sequences = True)))\n",
        "model_bilstm.add(GlobalMaxPooling1D())\n",
        "model_bilstm.add(Flatten())\n",
        "# Fully connected layer\n",
        "model_bilstm.add(Dense(hidden_dims, activation='relu'))\n",
        "model_bilstm.add(Dropout(0.5))\n",
        "model_bilstm.add(Dense(1, activation='sigmoid', name='predictions'))\n",
        "# Compile \n",
        "model_bilstm.compile(loss='binary_crossentropy', optimizer='adam', metrics=metrics)"
      ],
      "execution_count": null,
      "outputs": []
    },
    {
      "cell_type": "code",
      "metadata": {
        "id": "AaLqNKl29TfE"
      },
      "source": [
        "# Fit and evaluate\n",
        "history_bilstm = model_bilstm.fit(train_ds, epochs=epochs, verbose = 0,\n",
        "                                      batch_size=batch_size, validation_data=val_ds,\n",
        "                                      callbacks=[EarlyStopping(monitor='val_loss',patience=3, min_delta=0.0001)])\n",
        "metrics_bilstm = model_bilstm.evaluate(test_ds,verbose=0)"
      ],
      "execution_count": null,
      "outputs": []
    },
    {
      "cell_type": "code",
      "metadata": {
        "id": "Nlj64a03lA9o"
      },
      "source": [
        "# Store results\n",
        "get_results(metrics_bilstm, 'Bi-Dir LSTM')"
      ],
      "execution_count": null,
      "outputs": []
    },
    {
      "cell_type": "markdown",
      "metadata": {
        "id": "mO7HSjYXPw7m"
      },
      "source": [
        "#### Insight 4: Different activation functions in intermediate layers"
      ]
    },
    {
      "cell_type": "code",
      "metadata": {
        "id": "xqhfDznMPxVW"
      },
      "source": [
        "activations = ['sigmoid', 'tanh']\n",
        "results_insight4 = {}\n",
        "results_insight4['CNN with Relu'] = results['CNN']\n",
        "\n",
        "for active in activations:\n",
        "  # Define model\n",
        "  model_active = Sequential()\n",
        "  model_active.add(Embedding(max_features, embedding_dims, input_length=maxlen))\n",
        "  # Convolutional layer\n",
        "  model_active.add(Conv1D(filters, kernel_size, padding='same', activation=active, strides=1))\n",
        "  model_active.add(GlobalMaxPooling1D())\n",
        "  model_active.add(Flatten())\n",
        "  # Fully connected layer\n",
        "  model_active.add(Dense(hidden_dims, activation=active))\n",
        "  model_active.add(Dropout(0.5))\n",
        "  model_active.add(Dense(1, activation='sigmoid', name='predictions'))\n",
        "  # Compile and fit\n",
        "  model_active.compile(loss='binary_crossentropy', optimizer='adam', metrics=metrics)\n",
        "  history_active = model_active.fit(train_ds, epochs=epochs, verbose = 0,\n",
        "                                        batch_size=batch_size, validation_data=val_ds,\n",
        "                                        callbacks=[EarlyStopping(monitor='val_loss',patience=3, min_delta=0.0001)])\n",
        "  metrics_active = model_active.evaluate(test_ds,verbose=0)\n",
        "  # Store results\n",
        "  get_results(metrics_active, 'CNN_'+str(active))"
      ],
      "execution_count": null,
      "outputs": []
    }
  ]
}