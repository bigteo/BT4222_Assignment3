{
  "nbformat": 4,
  "nbformat_minor": 0,
  "metadata": {
    "colab": {
      "name": "A3_A0203989N.ipynb",
      "provenance": [],
      "collapsed_sections": [
        "sEknxYKtjfzK",
        "F7-7B5iwrNYB",
        "2Uf123B7jiCD"
      ]
    },
    "kernelspec": {
      "name": "python3",
      "display_name": "Python 3"
    },
    "language_info": {
      "name": "python"
    },
    "accelerator": "GPU"
  },
  "cells": [
    {
      "cell_type": "markdown",
      "metadata": {
        "id": "QelXyP-0hiT5"
      },
      "source": [
        "# BT4222 Assignment 3\n",
        "By Teo Zhi Feng (A0203989N)"
      ]
    },
    {
      "cell_type": "markdown",
      "metadata": {
        "id": "KMzTMwKfhvdl"
      },
      "source": [
        "# 1 Setup"
      ]
    },
    {
      "cell_type": "markdown",
      "metadata": {
        "id": "h24U7PflBFyV"
      },
      "source": [
        "#### Import packages"
      ]
    },
    {
      "cell_type": "code",
      "metadata": {
        "id": "vfXQC4KvABlY"
      },
      "source": [
        "import numpy as np\n",
        "import tensorflow as tf\n",
        "\n",
        "#np.random.seed(1234)\n",
        "#tf.random.set_seed(1234)"
      ],
      "execution_count": 1,
      "outputs": []
    },
    {
      "cell_type": "code",
      "metadata": {
        "id": "e-UQHsr9hhtH"
      },
      "source": [
        "from __future__ import print_function\n",
        "\n",
        "from numpy.random import seed\n",
        "from tensorflow.random import set_seed\n",
        "\n",
        "import numpy as np\n",
        "import pandas as pd\n",
        "from sklearn.metrics import accuracy_score, precision_score, recall_score, f1_score\n",
        "import matplotlib.pyplot as plt\n",
        "%matplotlib inline\n",
        "\n",
        "import tensorflow as tf\n",
        "from tensorflow.keras.preprocessing import sequence\n",
        "from tensorflow.keras.models import Sequential\n",
        "from tensorflow.keras.layers import Activation, Bidirectional, Conv1D, Dense, Dropout, Embedding, Flatten, GlobalMaxPooling1D, LSTM, MaxPooling1D, TextVectorization\n",
        "from tensorflow.keras.callbacks import EarlyStopping\n",
        "from tensorflow.keras.utils import plot_model\n",
        "\n",
        "import string\n",
        "import re"
      ],
      "execution_count": 2,
      "outputs": []
    },
    {
      "cell_type": "markdown",
      "metadata": {
        "id": "RdKjHmN974Sj"
      },
      "source": [
        "#### Determine parameters"
      ]
    },
    {
      "cell_type": "code",
      "metadata": {
        "id": "9Oa_WfbyxF2Y"
      },
      "source": [
        "epochs = 10\n",
        "batch_size = 128 # Select a batch size to fully utilise GPU memory, or 16 or 32\n",
        "\n",
        "embedding_dims = 50 # emddeding for each word\n",
        "maxlen = 800 # max number of words in the review\n",
        "\n",
        "filters = 250\n",
        "kernel_size = 3 # size of the 1D conv. layer\n",
        "hidden_dims = 128 # number of dimensions\n",
        "\n",
        "metrics = ['accuracy', \"Precision\", \"Recall\"]\n"
      ],
      "execution_count": 3,
      "outputs": []
    },
    {
      "cell_type": "markdown",
      "metadata": {
        "id": "5ByVIc8d0aC0"
      },
      "source": [
        "#### Import IMDB Dataset"
      ]
    },
    {
      "cell_type": "code",
      "metadata": {
        "colab": {
          "base_uri": "https://localhost:8080/"
        },
        "id": "UKH4gT460Pv9",
        "outputId": "b3838269-b999-436e-bcfe-d8f0dad9a6cd"
      },
      "source": [
        "!curl -O https://ai.stanford.edu/~amaas/data/sentiment/aclImdb_v1.tar.gz\n",
        "!tar -xf aclImdb_v1.tar.gz"
      ],
      "execution_count": 4,
      "outputs": [
        {
          "output_type": "stream",
          "name": "stdout",
          "text": [
            "  % Total    % Received % Xferd  Average Speed   Time    Time     Time  Current\n",
            "                                 Dload  Upload   Total   Spent    Left  Speed\n",
            "100 80.2M  100 80.2M    0     0  12.0M      0  0:00:06  0:00:06 --:--:-- 17.5M\n"
          ]
        }
      ]
    },
    {
      "cell_type": "markdown",
      "metadata": {
        "id": "jmRrVV4osYQi"
      },
      "source": [
        "#### Inspect folder directory"
      ]
    },
    {
      "cell_type": "code",
      "metadata": {
        "id": "OGUHXRDqmWHC",
        "colab": {
          "base_uri": "https://localhost:8080/"
        },
        "outputId": "4e045b69-12f9-4fd9-e6cd-888e59ab65bb"
      },
      "source": [
        "!ls aclImdb\n",
        "!ls aclImdb/test\n",
        "!ls aclImdb/train"
      ],
      "execution_count": 5,
      "outputs": [
        {
          "output_type": "stream",
          "name": "stdout",
          "text": [
            "imdbEr.txt  imdb.vocab\tREADME\ttest  train\n",
            "labeledBow.feat  neg  pos  urls_neg.txt  urls_pos.txt\n",
            "labeledBow.feat  pos\tunsupBow.feat  urls_pos.txt\n",
            "neg\t\t unsup\turls_neg.txt   urls_unsup.txt\n"
          ]
        }
      ]
    },
    {
      "cell_type": "code",
      "metadata": {
        "id": "uMHf2EeonDTg"
      },
      "source": [
        "!rm -r aclImdb/train/unsup"
      ],
      "execution_count": 6,
      "outputs": []
    },
    {
      "cell_type": "markdown",
      "metadata": {
        "id": "te5c4IfYsj1N"
      },
      "source": [
        "#### Import all datasets"
      ]
    },
    {
      "cell_type": "code",
      "metadata": {
        "id": "VqnfXcXJnDPo",
        "colab": {
          "base_uri": "https://localhost:8080/"
        },
        "outputId": "67de3a0f-eea8-43f1-a5af-ae30dc5f8510"
      },
      "source": [
        "raw_train_ds = tf.keras.preprocessing.text_dataset_from_directory(\n",
        "    \"aclImdb/train\",\n",
        "    batch_size=batch_size,\n",
        "    validation_split=0.2,\n",
        "    subset=\"training\",\n",
        "    seed=1337,\n",
        ")\n",
        "raw_val_ds = tf.keras.preprocessing.text_dataset_from_directory(\n",
        "    \"aclImdb/train\",\n",
        "    batch_size=batch_size,\n",
        "    validation_split=0.2,\n",
        "    subset=\"validation\",\n",
        "    seed=1337,\n",
        ")\n",
        "raw_test_ds = tf.keras.preprocessing.text_dataset_from_directory(\n",
        "    \"aclImdb/test\",\n",
        "    batch_size=batch_size\n",
        ")\n",
        "\n",
        "print(f\"Number of batches in raw_train_ds: {raw_train_ds.cardinality()}\")\n",
        "print(f\"Number of batches in raw_val_ds: {raw_val_ds.cardinality()}\")\n",
        "print(f\"Number of batches in raw_test_ds: {raw_test_ds.cardinality()}\")"
      ],
      "execution_count": 7,
      "outputs": [
        {
          "metadata": {
            "tags": null
          },
          "name": "stdout",
          "output_type": "stream",
          "text": [
            "Found 25000 files belonging to 2 classes.\n",
            "Using 20000 files for training.\n",
            "Found 25000 files belonging to 2 classes.\n",
            "Using 5000 files for validation.\n",
            "Found 25000 files belonging to 2 classes.\n",
            "Number of batches in raw_train_ds: 157\n",
            "Number of batches in raw_val_ds: 40\n",
            "Number of batches in raw_test_ds: 196\n"
          ]
        }
      ]
    },
    {
      "cell_type": "markdown",
      "metadata": {
        "id": "n8RbfM0ysoGD"
      },
      "source": [
        "#### Inspect dataset"
      ]
    },
    {
      "cell_type": "code",
      "metadata": {
        "id": "gTE61hxtsCg-",
        "colab": {
          "base_uri": "https://localhost:8080/"
        },
        "outputId": "2afc9cf0-4eb1-43ad-d1fc-481fbacf7759"
      },
      "source": [
        "for text_batch, label_batch in raw_train_ds.take(1):\n",
        "    for i in range(5):\n",
        "        print(text_batch.numpy()[i])\n",
        "        print(label_batch.numpy()[i])"
      ],
      "execution_count": 8,
      "outputs": [
        {
          "metadata": {
            "tags": null
          },
          "name": "stdout",
          "output_type": "stream",
          "text": [
            "b\"I gave this a four purely out of its historical context. It was considered lost for many years until it popped up out of the blue on Showtime in the early nineties.<br /><br />Moe is the straight man and Larry and Curly act as a duo. Spade Cooley has a couple of numbers. I guess it had something to do with working on a ranch. I'm not quite sure because the plot was so minimal nothing really sticks in my memory. I vaguely remember it being a western musical comedy. Even the Stooge's seem to be going through the motions. Overall there's nothing much really to recommend here.<br /><br />If you're not a Stooge fan then don't bother. If you are a Stooge fan, then stick with the shorts.\"\n",
            "0\n",
            "b'First than anything, I\\'m not going to praise I\\xc3\\xb1arritu\\'s short film, even I\\'m Mexican and proud of his success in mainstream Hollywood.<br /><br />In another hand, I see most of the reviews focuses on their favorite (and not so) short films; but we are forgetting that there is a subtle bottom line that circles the whole compilation, and maybe it will not be so pleasant for American people. (Even if that was not the main purpose of the producers) <br /><br />What i\\'m talking about is that most of the short films does not show the suffering that WASP people went through because the terrorist attack on September 11th, but the suffering of the Other people.<br /><br />Do you need proofs about what i\\'m saying? Look, in the Bosnia short film, the message is: \"You cry because of the people who died in the Towers, but we (The Others = East Europeans) are crying long ago for the crimes committed against our women and nobody pay attention to us like the whole world has done to you\".<br /><br />Even though the Burkina Fasso story is more in comedy, there is a the same thought: \"You are angry because Osama Bin Laden punched you in an evil way, but we (The Others = Africans) should be more angry, because our people is dying of hunger, poverty and AIDS long time ago, and nobody pay attention to us like the whole world has done to you\".<br /><br />Look now at the Sean Penn short: The fall of the Twin Towers makes happy to a lonely (and alienated) man. So the message is that the Power and the Greed (symbolized by the Towers) must fall for letting the people see the sun rise and the flowers blossom? It is remarkable that this terrible bottom line has been proposed by an American. There is so much irony in this short film that it is close to be subversive.<br /><br />Well, the Ken Loach (very know because his anti-capitalism ideology) is much more clearly and shameless in going straight to the point: \"You are angry because your country has been attacked by evil forces, but we (The Others = Latin Americans) suffered at a similar date something worst, and nobody remembers our grief as the whole world has done to you\".<br /><br />It is like if the creative of this project wanted to say to Americans: \"You see now, America? You are not the only that have become victim of the world violence, you are not alone in your pain and by the way, we (the Others = the Non Americans) have been suffering a lot more than you from long time ago; so, we are in solidarity with you in your pain... and by the way, we are sorry because you have had some taste of your own medicine\" Only the Mexican and the French short films showed some compassion and sympathy for American people; the others are like a slap on the face for the American State, that is not equal to American People.'\n",
            "1\n",
            "b'Blood Castle (aka Scream of the Demon Lover, Altar of Blood, Ivanna--the best, but least exploitation cinema-sounding title, and so on) is a very traditional Gothic Romance film. That means that it has big, creepy castles, a headstrong young woman, a mysterious older man, hints of horror and the supernatural, and romance elements in the contemporary sense of that genre term. It also means that it is very deliberately paced, and that the film will work best for horror mavens who are big fans of understatement. If you love films like Robert Wise\\'s The Haunting (1963), but you also have a taste for late 1960s/early 1970s Spanish and Italian horror, you may love Blood Castle, as well.<br /><br />Baron Janos Dalmar (Carlos Quiney) lives in a large castle on the outskirts of a traditional, unspecified European village. The locals fear him because legend has it that whenever he beds a woman, she soon after ends up dead--the consensus is that he sets his ferocious dogs on them. This is quite a problem because the Baron has a very healthy appetite for women. At the beginning of the film, yet another woman has turned up dead and mutilated.<br /><br />Meanwhile, Dr. Ivanna Rakowsky (Erna Sch\\xc3\\xbcrer) has appeared in the center of the village, asking to be taken to Baron Dalmar\\'s castle. She\\'s an out-of-towner who has been hired by the Baron for her expertise in chemistry. Of course, no one wants to go near the castle. Finally, Ivanna finds a shady individual (who becomes even shadier) to take her. Once there, an odd woman who lives in the castle, Olga (Cristiana Galloni), rejects Ivanna and says that she shouldn\\'t be there since she\\'s a woman. Baron Dalmar vacillates over whether she should stay. She ends up staying, but somewhat reluctantly. The Baron has hired her to try to reverse the effects of severe burns, which the Baron\\'s brother, Igor, is suffering from.<br /><br />Unfortunately, the Baron\\'s brother appears to be just a lump of decomposing flesh in a vat of bizarre, blackish liquid. And furthermore, Ivanna is having bizarre, hallucinatory dreams. Just what is going on at the castle? Is the Baron responsible for the crimes? Is he insane? <br /><br />I wanted to like Blood Castle more than I did. As I mentioned, the film is very deliberate in its pacing, and most of it is very understated. I can go either way on material like that. I don\\'t care for The Haunting (yes, I\\'m in a very small minority there), but I\\'m a big fan of 1960s and 1970s European horror. One of my favorite directors is Mario Bava. I also love Dario Argento\\'s work from that period. But occasionally, Blood Castle moved a bit too slow for me at times. There are large chunks that amount to scenes of not very exciting talking alternated with scenes of Ivanna slowly walking the corridors of the castle.<br /><br />But the atmosphere of the film is decent. Director Jos\\xc3\\xa9 Luis Merino managed more than passable sets and locations, and they\\'re shot fairly well by Emanuele Di Cola. However, Blood Castle feels relatively low budget, and this is a Roger Corman-produced film, after all (which usually means a low-budget, though often surprisingly high quality \"quickie\"). So while there is a hint of the lushness of Bava\\'s colors and complex set decoration, everything is much more minimalist. Of course, it doesn\\'t help that the Retromedia print I watched looks like a 30-year old photograph that\\'s been left out in the sun too long. It appears \"washed out\", with compromised contrast.<br /><br />Still, Merino and Di Cola occasionally set up fantastic visuals. For example, a scene of Ivanna walking in a darkened hallway that\\'s shot from an exaggerated angle, and where an important plot element is revealed through shadows on a wall only. There are also a couple Ingmar Bergmanesque shots, where actors are exquisitely blocked to imply complex relationships, besides just being visually attractive and pulling your eye deep into the frame.<br /><br />The performances are fairly good, and the women--especially Sch\\xc3\\xbcrer--are very attractive. Merino exploits this fact by incorporating a decent amount of nudity. Sch\\xc3\\xbcrer went on to do a number of films that were as much soft corn porn as they were other genres, with English titles such as Sex Life in a Woman\\'s Prison (1974), Naked and Lustful (1974), Strip Nude for Your Killer (1975) and Erotic Exploits of a Sexy Seducer (1977). Blood Castle is much tamer, but in addition to the nudity, there are still mild scenes suggesting rape and bondage, and of course the scenes mixing sex and death.<br /><br />The primary attraction here, though, is probably the story, which is much a slow-burning romance as anything else. The horror elements, the mystery elements, and a somewhat unexpected twist near the end are bonuses, but in the end, Blood Castle is a love story, about a couple overcoming various difficulties and antagonisms (often with physical threats or harms) to be together.'\n",
            "1\n",
            "b\"Halloween is one of the best examples of independent film. It's very well made and has more psychological elements to it than you might realize at first glance. It is a simple movie told very well. The music is perfect and is one of the most haunting scores... If you haven't seen this movie yet, you must check it out. The cast is all terrific. I wish they had never made sequel after sequel. The first one was by far the best and should have ended like it did without having a sequel. It was fun to see Jamie Lee Curtis in the movie. She hasn't seemed to age (she's just as gorgeous today, without the hairdo and seventies clothes). The scenes through the mask are one of the scariest things ever!\"\n",
            "1\n",
            "b\"Michelle Rodriguez is the defining actress who could be the charging force for other actresses to look out for. She has the audacity to place herself in a rarely seen tough-girl role very early in her career (and pull it off), which is a feat that should be recognized. Although her later films pigeonhole her to that same role, this film was made for her ruggedness.<br /><br />Her character is a romanticized student/fighter/lover, struggling to overcome her disenchanted existence in the projects, which is a little overdone in film...but not by a girl. That aspect of this film isn't very original, but the story goes in depth when the heated relationships that this girl has to deal with come to a boil and her primal rage takes over.<br /><br />I haven't seen an actress take such an aggressive stance in movie-making yet, and I'm glad that she's getting that original twist out there in Hollywood. This film got a 7 from me because of the average story of ghetto youth, but it has such a great actress portraying a rarely-seen role in a minimal budget movie. Great work.\"\n",
            "1\n"
          ]
        }
      ]
    },
    {
      "cell_type": "markdown",
      "metadata": {
        "id": "cLygH6phvW2g"
      },
      "source": [
        "#### Define list to store model performance"
      ]
    },
    {
      "cell_type": "code",
      "metadata": {
        "id": "EG68CbqbvWKg"
      },
      "source": [
        "results = {}"
      ],
      "execution_count": 9,
      "outputs": []
    },
    {
      "cell_type": "markdown",
      "metadata": {
        "id": "mNtvCJUGawfR"
      },
      "source": [
        "#### Helper function to extract results"
      ]
    },
    {
      "cell_type": "code",
      "metadata": {
        "id": "tZpJsTClaytz"
      },
      "source": [
        "def get_results(metrics):\n",
        "  loss = round(metrics[0], 3)\n",
        "  accuracy = round(metrics[1], 3)\n",
        "  precision = round(metrics[2], 3)\n",
        "  recall = round(metrics[3], 3)\n",
        "  return loss, accuracy, precision, recall"
      ],
      "execution_count": 10,
      "outputs": []
    },
    {
      "cell_type": "markdown",
      "metadata": {
        "id": "9u1MUVaKoMq9"
      },
      "source": [
        "# 2 Data Pre-Processing"
      ]
    },
    {
      "cell_type": "markdown",
      "metadata": {
        "id": "IsA9pKy4tLy-"
      },
      "source": [
        "#### Vectorise data"
      ]
    },
    {
      "cell_type": "code",
      "metadata": {
        "id": "OPim7cIQnDGI"
      },
      "source": [
        "# Define custom function\n",
        "def custom_standardization(input_data):\n",
        "    lowercase = tf.strings.lower(input_data)\n",
        "    stripped_html = tf.strings.regex_replace(lowercase, \"<br />\", \" \")\n",
        "    return tf.strings.regex_replace(\n",
        "        stripped_html, f\"[{re.escape(string.punctuation)}]\", \"\"\n",
        "    )\n",
        "\n",
        "# Model constants.\n",
        "max_features = 20000\n",
        "\n",
        "# Instantiate text vectorisation layer to normalize, split, and map strings to integers.\n",
        "# We also set an explicit maximum sequence length, since the CNNs later in our model won't support ragged sequences.\n",
        "vectorize_layer = TextVectorization(\n",
        "    standardize=custom_standardization,\n",
        "    max_tokens=max_features,\n",
        "    output_mode=\"int\",\n",
        "    output_sequence_length=maxlen,\n",
        ")\n",
        "\n",
        "# With vocab layer, call `adapt` on a text-only dataset to create the vocabulary. \n",
        "text_ds = raw_train_ds.map(lambda x, y: x)\n",
        "vectorize_layer.adapt(text_ds)"
      ],
      "execution_count": 11,
      "outputs": []
    },
    {
      "cell_type": "code",
      "metadata": {
        "id": "yG2l-87M3sRL",
        "colab": {
          "base_uri": "https://localhost:8080/"
        },
        "outputId": "841c0fca-943e-42ef-940f-52ee983a6727"
      },
      "source": [
        "print(len(vectorize_layer.get_vocabulary()))\n",
        "print(vectorize_layer.get_vocabulary()[:20])"
      ],
      "execution_count": 12,
      "outputs": [
        {
          "metadata": {
            "tags": null
          },
          "name": "stdout",
          "output_type": "stream",
          "text": [
            "20000\n",
            "['', '[UNK]', 'the', 'and', 'a', 'of', 'to', 'is', 'in', 'it', 'this', 'i', 'that', 'was', 'as', 'for', 'with', 'movie', 'but', 'film']\n"
          ]
        }
      ]
    },
    {
      "cell_type": "code",
      "metadata": {
        "id": "ZB1DJBInpWnO"
      },
      "source": [
        "def vectorize_text(text, label):\n",
        "    text = tf.expand_dims(text, -1)\n",
        "    return vectorize_layer(text), label\n",
        "\n",
        "# Vectorize the data.\n",
        "train_ds = raw_train_ds.map(vectorize_text)\n",
        "val_ds = raw_val_ds.map(vectorize_text)\n",
        "test_ds = raw_test_ds.map(vectorize_text)\n",
        "\n",
        "# Do async prefetching / buffering of the data for best performance on GPU.\n",
        "train_ds = train_ds.cache().prefetch(buffer_size=10)\n",
        "val_ds = val_ds.cache().prefetch(buffer_size=10)\n",
        "test_ds = test_ds.cache().prefetch(buffer_size=10)"
      ],
      "execution_count": 13,
      "outputs": []
    },
    {
      "cell_type": "markdown",
      "metadata": {
        "id": "6pxAX7eO_lbq"
      },
      "source": [
        "#### Inspect vectorised dataset"
      ]
    },
    {
      "cell_type": "code",
      "metadata": {
        "id": "s3CnRHv3pj_N",
        "colab": {
          "base_uri": "https://localhost:8080/"
        },
        "outputId": "9ad5ca88-de80-4357-caf7-2bcf3c9a9356"
      },
      "source": [
        "text_batch, label_batch = next(iter(raw_train_ds))\n",
        "first_review, first_label = text_batch[0], label_batch[0]\n",
        "print(\"Review\", first_review)\n",
        "print(\"Label\", raw_train_ds.class_names[first_label])\n",
        "print(\"Vectorized review\", vectorize_text(first_review, first_label))"
      ],
      "execution_count": 14,
      "outputs": [
        {
          "metadata": {
            "tags": null
          },
          "name": "stdout",
          "output_type": "stream",
          "text": [
            "Review tf.Tensor(b'OK, so the musical pieces were poorly written and generally poorly sung (though Walken and Marner, particularly Walken, sounded pretty good). And so they shattered the fourth wall at the end by having the king and his nobles sing about the \"battle\" with the ogre, and praise the efforts of Puss in Boots when they by rights shouldn\\'t have even known about it.<br /><br />Who cares? It\\'s Christopher Freakin\\' Walken, doing a movie based on a fairy tale, and he sings and dances. His acting style fits the role very well as the devious, mischievous Puss who seems to get his master into deeper and deeper trouble but in fact has a plan he\\'s thought about seven or eight moves in advance. And if you\\'ve ever seen Walken in any of his villainous roles, you *know* the ogre bit the dust HARD at the end when Walken got him into his trap.<br /><br />A fun film, and a must-see for anyone who enjoys the unique style of Christopher Walken.', shape=(), dtype=string)\n",
            "Label pos\n",
            "Vectorized review (<tf.Tensor: shape=(1, 800), dtype=int64, numpy=\n",
            "array([[  566,    37,     2,   622,  1409,    67,   823,   431,     3,\n",
            "         1148,   823,  5510,   148,  3611,     3,     1,   562,  3611,\n",
            "         2724,   179,    49,     3,    37,    34, 10617,     2,  2664,\n",
            "         1620,    30,     2,   125,    32,   254,     2,   706,     3,\n",
            "           23,     1,  1932,    42,     2,   938,    16,     2,  7624,\n",
            "            3,  2727,     2,  1873,     5,     1,     8,  8947,    50,\n",
            "           34,    32,  2496,  1511,    25,    53,   624,    42,     9,\n",
            "           35,  2244,    29,  1373, 15125,  3611,   380,     4,    17,\n",
            "          455,    20,     4,  2606,   798,     3,    26,  3279,     3,\n",
            "         4042,    23,   112,   427,  2456,     2,   207,    52,    73,\n",
            "           14,     2, 10480,  9297,     1,    35,   181,     6,    76,\n",
            "           23,  1258,    77,  2828,     3,  2828,  1117,    18,     8,\n",
            "          186,    43,     4,  1316,   227,   194,    42,  1612,    40,\n",
            "         2457,  1086,     8,  4365,     3,    44,   816,   121,   107,\n",
            "         3611,     8,    98,     5,    23,  7181,   533,    22,   118,\n",
            "            2,  7624,   223,     2,  5002,   264,    30,     2,   125,\n",
            "           50,  3611,   183,    86,    77,    23,  3645,     4,   243,\n",
            "           19,     3,     4,  3435,    15,   248,    35,  3626,     2,\n",
            "          935,   427,     5,  1373,  3611,     0,     0,     0,     0,\n",
            "            0,     0,     0,     0,     0,     0,     0,     0,     0,\n",
            "            0,     0,     0,     0,     0,     0,     0,     0,     0,\n",
            "            0,     0,     0,     0,     0,     0,     0,     0,     0,\n",
            "            0,     0,     0,     0,     0,     0,     0,     0,     0,\n",
            "            0,     0,     0,     0,     0,     0,     0,     0,     0,\n",
            "            0,     0,     0,     0,     0,     0,     0,     0,     0,\n",
            "            0,     0,     0,     0,     0,     0,     0,     0,     0,\n",
            "            0,     0,     0,     0,     0,     0,     0,     0,     0,\n",
            "            0,     0,     0,     0,     0,     0,     0,     0,     0,\n",
            "            0,     0,     0,     0,     0,     0,     0,     0,     0,\n",
            "            0,     0,     0,     0,     0,     0,     0,     0,     0,\n",
            "            0,     0,     0,     0,     0,     0,     0,     0,     0,\n",
            "            0,     0,     0,     0,     0,     0,     0,     0,     0,\n",
            "            0,     0,     0,     0,     0,     0,     0,     0,     0,\n",
            "            0,     0,     0,     0,     0,     0,     0,     0,     0,\n",
            "            0,     0,     0,     0,     0,     0,     0,     0,     0,\n",
            "            0,     0,     0,     0,     0,     0,     0,     0,     0,\n",
            "            0,     0,     0,     0,     0,     0,     0,     0,     0,\n",
            "            0,     0,     0,     0,     0,     0,     0,     0,     0,\n",
            "            0,     0,     0,     0,     0,     0,     0,     0,     0,\n",
            "            0,     0,     0,     0,     0,     0,     0,     0,     0,\n",
            "            0,     0,     0,     0,     0,     0,     0,     0,     0,\n",
            "            0,     0,     0,     0,     0,     0,     0,     0,     0,\n",
            "            0,     0,     0,     0,     0,     0,     0,     0,     0,\n",
            "            0,     0,     0,     0,     0,     0,     0,     0,     0,\n",
            "            0,     0,     0,     0,     0,     0,     0,     0,     0,\n",
            "            0,     0,     0,     0,     0,     0,     0,     0,     0,\n",
            "            0,     0,     0,     0,     0,     0,     0,     0,     0,\n",
            "            0,     0,     0,     0,     0,     0,     0,     0,     0,\n",
            "            0,     0,     0,     0,     0,     0,     0,     0,     0,\n",
            "            0,     0,     0,     0,     0,     0,     0,     0,     0,\n",
            "            0,     0,     0,     0,     0,     0,     0,     0,     0,\n",
            "            0,     0,     0,     0,     0,     0,     0,     0,     0,\n",
            "            0,     0,     0,     0,     0,     0,     0,     0,     0,\n",
            "            0,     0,     0,     0,     0,     0,     0,     0,     0,\n",
            "            0,     0,     0,     0,     0,     0,     0,     0,     0,\n",
            "            0,     0,     0,     0,     0,     0,     0,     0,     0,\n",
            "            0,     0,     0,     0,     0,     0,     0,     0,     0,\n",
            "            0,     0,     0,     0,     0,     0,     0,     0,     0,\n",
            "            0,     0,     0,     0,     0,     0,     0,     0,     0,\n",
            "            0,     0,     0,     0,     0,     0,     0,     0,     0,\n",
            "            0,     0,     0,     0,     0,     0,     0,     0,     0,\n",
            "            0,     0,     0,     0,     0,     0,     0,     0,     0,\n",
            "            0,     0,     0,     0,     0,     0,     0,     0,     0,\n",
            "            0,     0,     0,     0,     0,     0,     0,     0,     0,\n",
            "            0,     0,     0,     0,     0,     0,     0,     0,     0,\n",
            "            0,     0,     0,     0,     0,     0,     0,     0,     0,\n",
            "            0,     0,     0,     0,     0,     0,     0,     0,     0,\n",
            "            0,     0,     0,     0,     0,     0,     0,     0,     0,\n",
            "            0,     0,     0,     0,     0,     0,     0,     0,     0,\n",
            "            0,     0,     0,     0,     0,     0,     0,     0,     0,\n",
            "            0,     0,     0,     0,     0,     0,     0,     0,     0,\n",
            "            0,     0,     0,     0,     0,     0,     0,     0,     0,\n",
            "            0,     0,     0,     0,     0,     0,     0,     0,     0,\n",
            "            0,     0,     0,     0,     0,     0,     0,     0,     0,\n",
            "            0,     0,     0,     0,     0,     0,     0,     0,     0,\n",
            "            0,     0,     0,     0,     0,     0,     0,     0,     0,\n",
            "            0,     0,     0,     0,     0,     0,     0,     0,     0,\n",
            "            0,     0,     0,     0,     0,     0,     0,     0,     0,\n",
            "            0,     0,     0,     0,     0,     0,     0,     0,     0,\n",
            "            0,     0,     0,     0,     0,     0,     0,     0,     0,\n",
            "            0,     0,     0,     0,     0,     0,     0,     0,     0,\n",
            "            0,     0,     0,     0,     0,     0,     0,     0,     0,\n",
            "            0,     0,     0,     0,     0,     0,     0,     0,     0,\n",
            "            0,     0,     0,     0,     0,     0,     0,     0,     0,\n",
            "            0,     0,     0,     0,     0,     0,     0,     0,     0,\n",
            "            0,     0,     0,     0,     0,     0,     0,     0,     0,\n",
            "            0,     0,     0,     0,     0,     0,     0,     0,     0,\n",
            "            0,     0,     0,     0,     0,     0,     0,     0,     0,\n",
            "            0,     0,     0,     0,     0,     0,     0,     0]])>, <tf.Tensor: shape=(), dtype=int32, numpy=1>)\n"
          ]
        }
      ]
    },
    {
      "cell_type": "markdown",
      "metadata": {
        "id": "f6pWc6HXkcvA"
      },
      "source": [
        "# 3 Convolutional Neural Network (CNN)"
      ]
    },
    {
      "cell_type": "markdown",
      "metadata": {
        "id": "WW9Cp32i3FYV"
      },
      "source": [
        "#### Build model"
      ]
    },
    {
      "cell_type": "code",
      "metadata": {
        "id": "7FCmN0HmyPhw"
      },
      "source": [
        "model_cnn = Sequential()\n",
        "model_cnn.add(Embedding(max_features,\n",
        "                     embedding_dims,\n",
        "                     input_length=maxlen))\n",
        "\n",
        "# Convolution and pooling layer 1\n",
        "model_cnn.add(Conv1D(filters,\n",
        "                 kernel_size,\n",
        "                 padding='same',\n",
        "                 activation='relu',\n",
        "                 strides=1))\n",
        "model_cnn.add(GlobalMaxPooling1D())\n",
        "\n",
        "# Flatten before connecting to dense layer \n",
        "model_cnn.add(Flatten())\n",
        "\n",
        "model_cnn.add(Dense(hidden_dims, activation='relu'))\n",
        "model_cnn.add(Dropout(0.5))\n",
        "\n",
        "# Project onto a single unit, dense output layer and apply sigmoid activation function\n",
        "# to make 0 or 1 predictions for the two classes (positive or negative).\n",
        "model_cnn.add(Dense(1, activation='sigmoid', name='predictions'))\n",
        "\n",
        "# Use binary_crossentropy loss function as it is a binary classification problem \n",
        "model_cnn.compile(loss='binary_crossentropy', optimizer='adam', metrics=metrics)"
      ],
      "execution_count": 15,
      "outputs": []
    },
    {
      "cell_type": "markdown",
      "metadata": {
        "id": "9V8hHfueRZhz"
      },
      "source": [
        "#### Visualise model"
      ]
    },
    {
      "cell_type": "code",
      "metadata": {
        "id": "EwuGTzOe2kuN",
        "colab": {
          "base_uri": "https://localhost:8080/"
        },
        "outputId": "e66df2dc-e63b-45f4-f657-ac600f263d18"
      },
      "source": [
        "model_cnn.summary()"
      ],
      "execution_count": 16,
      "outputs": [
        {
          "metadata": {
            "tags": null
          },
          "name": "stdout",
          "output_type": "stream",
          "text": [
            "Model: \"sequential\"\n",
            "_________________________________________________________________\n",
            "Layer (type)                 Output Shape              Param #   \n",
            "=================================================================\n",
            "embedding (Embedding)        (None, 800, 50)           1000000   \n",
            "_________________________________________________________________\n",
            "conv1d (Conv1D)              (None, 800, 250)          37750     \n",
            "_________________________________________________________________\n",
            "global_max_pooling1d (Global (None, 250)               0         \n",
            "_________________________________________________________________\n",
            "flatten (Flatten)            (None, 250)               0         \n",
            "_________________________________________________________________\n",
            "dense (Dense)                (None, 128)               32128     \n",
            "_________________________________________________________________\n",
            "dropout (Dropout)            (None, 128)               0         \n",
            "_________________________________________________________________\n",
            "predictions (Dense)          (None, 1)                 129       \n",
            "=================================================================\n",
            "Total params: 1,070,007\n",
            "Trainable params: 1,070,007\n",
            "Non-trainable params: 0\n",
            "_________________________________________________________________\n"
          ]
        }
      ]
    },
    {
      "cell_type": "code",
      "metadata": {
        "id": "DO4llMMDRUha",
        "colab": {
          "base_uri": "https://localhost:8080/",
          "height": 865
        },
        "outputId": "a331d76a-48d0-46e8-b71f-d3659ee364d7"
      },
      "source": [
        "plot_model(model_cnn, show_shapes=True)"
      ],
      "execution_count": 17,
      "outputs": [
        {
          "data": {
            "image/png": "[encoded data removed]",
            "text/plain": [
              "<IPython.core.display.Image object>"
            ]
          },
          "execution_count": null,
          "metadata": {},
          "output_type": "execute_result"
        }
      ]
    },
    {
      "cell_type": "markdown",
      "metadata": {
        "id": "JnWGkwij3IrO"
      },
      "source": [
        "#### Train model using train dataset"
      ]
    },
    {
      "cell_type": "code",
      "metadata": {
        "id": "TnJnZDLJkdtj",
        "colab": {
          "base_uri": "https://localhost:8080/"
        },
        "outputId": "b8ddcea9-4a90-400b-c7a5-fe123b3ce5f1"
      },
      "source": [
        "# Fit model using train dataset\n",
        "history_cnn = model_cnn.fit(train_ds,\n",
        "              epochs=epochs,\n",
        "              verbose = 1,\n",
        "              batch_size=batch_size,\n",
        "              validation_data=val_ds,\n",
        "              callbacks=[EarlyStopping(monitor='val_loss',patience=3, min_delta=0.0001)])"
      ],
      "execution_count": 18,
      "outputs": [
        {
          "metadata": {
            "tags": null
          },
          "name": "stdout",
          "output_type": "stream",
          "text": [
            "Epoch 1/10\n",
            "157/157 [==============================] - 41s 67ms/step - loss: 0.5539 - accuracy: 0.6903 - precision: 0.6908 - recall: 0.6862 - val_loss: 0.3536 - val_accuracy: 0.8418 - val_precision: 0.8324 - val_recall: 0.8597\n",
            "Epoch 2/10\n",
            "157/157 [==============================] - 9s 59ms/step - loss: 0.2715 - accuracy: 0.8878 - precision: 0.8822 - recall: 0.8943 - val_loss: 0.2859 - val_accuracy: 0.8836 - val_precision: 0.8505 - val_recall: 0.9334\n",
            "Epoch 3/10\n",
            "157/157 [==============================] - 9s 58ms/step - loss: 0.1418 - accuracy: 0.9496 - precision: 0.9490 - recall: 0.9501 - val_loss: 0.3510 - val_accuracy: 0.8728 - val_precision: 0.8224 - val_recall: 0.9540\n",
            "Epoch 4/10\n",
            "157/157 [==============================] - 9s 58ms/step - loss: 0.0664 - accuracy: 0.9791 - precision: 0.9773 - recall: 0.9810 - val_loss: 0.3844 - val_accuracy: 0.8698 - val_precision: 0.9228 - val_recall: 0.8098\n",
            "Epoch 5/10\n",
            "157/157 [==============================] - 9s 58ms/step - loss: 0.0396 - accuracy: 0.9864 - precision: 0.9865 - recall: 0.9863 - val_loss: 0.4719 - val_accuracy: 0.8720 - val_precision: 0.8244 - val_recall: 0.9485\n"
          ]
        }
      ]
    },
    {
      "cell_type": "code",
      "metadata": {
        "id": "SqQpw_VufOXy",
        "colab": {
          "base_uri": "https://localhost:8080/",
          "height": 281
        },
        "outputId": "fb83b151-296f-480b-de4f-73e468b4b1ba"
      },
      "source": [
        "figure, axis = plt.subplots(2, sharex=True)\n",
        "\n",
        "axis[0].plot(history_cnn.history['loss'], label='train')\n",
        "axis[0].plot(history_cnn.history['val_loss'], label='validation')\n",
        "axis[0].legend()\n",
        "axis[0].set_title('Loss')\n",
        "\n",
        "axis[1].plot(history_cnn.history['accuracy'], label='train')\n",
        "axis[1].plot(history_cnn.history['val_accuracy'], label='validation')\n",
        "axis[1].legend()\n",
        "axis[1].set_title('Accuracy')\n",
        "\n",
        "plt.show()"
      ],
      "execution_count": 19,
      "outputs": [
        {
          "data": {
            "image/png": "[encoded data removed]",
            "text/plain": [
              "<Figure size 432x288 with 2 Axes>"
            ]
          },
          "metadata": {},
          "output_type": "display_data"
        }
      ]
    },
    {
      "cell_type": "markdown",
      "metadata": {
        "id": "Enb8etY3v81x"
      },
      "source": [
        "#### Evaluate model performance on test dataset"
      ]
    },
    {
      "cell_type": "code",
      "metadata": {
        "id": "45Q6BCam2Wi2",
        "colab": {
          "base_uri": "https://localhost:8080/"
        },
        "outputId": "1739e83f-2f0a-4d6a-e131-572b4dc358e8"
      },
      "source": [
        "metrics_cnn = model_cnn.evaluate(test_ds,verbose=1)"
      ],
      "execution_count": 20,
      "outputs": [
        {
          "metadata": {
            "tags": null
          },
          "name": "stdout",
          "output_type": "stream",
          "text": [
            "196/196 [==============================] - 6s 31ms/step - loss: 0.4798 - accuracy: 0.8663 - precision: 0.8197 - recall: 0.9393\n"
          ]
        }
      ]
    },
    {
      "cell_type": "code",
      "metadata": {
        "id": "wJWo8LJAhaWK",
        "colab": {
          "base_uri": "https://localhost:8080/"
        },
        "outputId": "924b6e64-c94b-4003-c8b0-18caca882989"
      },
      "source": [
        "loss_cnn, accuracy_cnn, precision_cnn, recall_cnn = get_results(metrics_cnn)\n",
        "print('Model performance on test set:\\nLoss: {}\\nAccuracy: {}\\nPrecision: {}\\nRecall: {}\\n'.format(loss_cnn, accuracy_cnn, precision_cnn, recall_cnn))"
      ],
      "execution_count": 21,
      "outputs": [
        {
          "metadata": {
            "tags": null
          },
          "name": "stdout",
          "output_type": "stream",
          "text": [
            "Model performance on test set:\n",
            "Loss: 0.48\n",
            "Accuracy: 0.866\n",
            "Precision: 0.82\n",
            "Recall: 0.939\n",
            "\n"
          ]
        }
      ]
    },
    {
      "cell_type": "code",
      "metadata": {
        "id": "AYuB0yEUcm89"
      },
      "source": [
        "results['CNN'] = {\n",
        "    'Loss': loss_cnn,\n",
        "    'Accuracy': accuracy_cnn,\n",
        "    'Precision': precision_cnn, \n",
        "    'Recall': recall_cnn,\n",
        "    'F1': round( 2*((precision_cnn * recall_cnn) / (precision_cnn + recall_cnn)), 3 )\n",
        "  }"
      ],
      "execution_count": 22,
      "outputs": []
    },
    {
      "cell_type": "markdown",
      "metadata": {
        "id": "H0iXLoWpkd6-"
      },
      "source": [
        "# 4 Long Short-Term Memory (LSTM) "
      ]
    },
    {
      "cell_type": "markdown",
      "metadata": {
        "id": "Ctvh_HOX0foK"
      },
      "source": [
        "### Build model"
      ]
    },
    {
      "cell_type": "code",
      "metadata": {
        "id": "ZPPlmifnkgAZ"
      },
      "source": [
        "model_lstm = Sequential()\n",
        "model_lstm.add(Embedding(max_features,\n",
        "                     embedding_dims,\n",
        "                     input_length=maxlen))\n",
        "\n",
        "model_lstm.add(LSTM(120, return_sequences=True))\n",
        "model_lstm.add(GlobalMaxPooling1D())\n",
        "\n",
        "model_lstm.add(Dense(1, activation='sigmoid', name='predictions'))\n",
        "\n",
        "model_lstm.compile(loss='binary_crossentropy', optimizer='adam', metrics=metrics)"
      ],
      "execution_count": 23,
      "outputs": []
    },
    {
      "cell_type": "markdown",
      "metadata": {
        "id": "GFNhKJDrRKTp"
      },
      "source": [
        "#### Visualise model"
      ]
    },
    {
      "cell_type": "code",
      "metadata": {
        "id": "n0breL5Izr4S",
        "colab": {
          "base_uri": "https://localhost:8080/"
        },
        "outputId": "e4c1cf26-cdeb-4e29-ea37-721fd816d22b"
      },
      "source": [
        "model_lstm.summary()"
      ],
      "execution_count": 24,
      "outputs": [
        {
          "metadata": {
            "tags": null
          },
          "name": "stdout",
          "output_type": "stream",
          "text": [
            "Model: \"sequential_1\"\n",
            "_________________________________________________________________\n",
            "Layer (type)                 Output Shape              Param #   \n",
            "=================================================================\n",
            "embedding_1 (Embedding)      (None, 800, 50)           1000000   \n",
            "_________________________________________________________________\n",
            "lstm (LSTM)                  (None, 800, 120)          82080     \n",
            "_________________________________________________________________\n",
            "global_max_pooling1d_1 (Glob (None, 120)               0         \n",
            "_________________________________________________________________\n",
            "predictions (Dense)          (None, 1)                 121       \n",
            "=================================================================\n",
            "Total params: 1,082,201\n",
            "Trainable params: 1,082,201\n",
            "Non-trainable params: 0\n",
            "_________________________________________________________________\n"
          ]
        }
      ]
    },
    {
      "cell_type": "code",
      "metadata": {
        "id": "bAcYTf8xQil7",
        "colab": {
          "base_uri": "https://localhost:8080/",
          "height": 0
        },
        "outputId": "557e7c4d-9910-4d98-d47c-807aa92cf48e"
      },
      "source": [
        "plot_model(model_lstm, show_shapes=True)"
      ],
      "execution_count": 25,
      "outputs": [
        {
          "data": {
            "image/png": "[encoded data removed]",
            "text/plain": [
              "<IPython.core.display.Image object>"
            ]
          },
          "execution_count": null,
          "metadata": {},
          "output_type": "execute_result"
        }
      ]
    },
    {
      "cell_type": "markdown",
      "metadata": {
        "id": "De53SxX-z8JF"
      },
      "source": [
        "#### Train model using train dataset"
      ]
    },
    {
      "cell_type": "code",
      "metadata": {
        "id": "l_H0Y9exz8JF",
        "colab": {
          "base_uri": "https://localhost:8080/"
        },
        "outputId": "40118cb3-6be4-488f-ea9e-79f365a5fd91"
      },
      "source": [
        "# Fit model using train dataset\n",
        "history_lstm = model_lstm.fit(train_ds,\n",
        "              epochs=epochs,\n",
        "              batch_size=batch_size,\n",
        "              validation_data=val_ds,\n",
        "              callbacks=[EarlyStopping(monitor='val_loss',patience=3, min_delta=0.0001)])"
      ],
      "execution_count": 26,
      "outputs": [
        {
          "metadata": {
            "tags": null
          },
          "name": "stdout",
          "output_type": "stream",
          "text": [
            "Epoch 1/10\n",
            "157/157 [==============================] - 31s 179ms/step - loss: 0.6162 - accuracy: 0.6738 - precision: 0.6280 - recall: 0.8490 - val_loss: 0.6360 - val_accuracy: 0.7660 - val_precision: 0.7170 - val_recall: 0.8863\n",
            "Epoch 2/10\n",
            "157/157 [==============================] - 27s 175ms/step - loss: 0.3784 - accuracy: 0.8584 - precision: 0.8533 - recall: 0.8648 - val_loss: 0.3087 - val_accuracy: 0.8694 - val_precision: 0.8518 - val_recall: 0.8974\n",
            "Epoch 3/10\n",
            "157/157 [==============================] - 28s 176ms/step - loss: 0.2043 - accuracy: 0.9247 - precision: 0.9195 - recall: 0.9303 - val_loss: 0.3242 - val_accuracy: 0.8760 - val_precision: 0.8790 - val_recall: 0.8748\n",
            "Epoch 4/10\n",
            "157/157 [==============================] - 28s 177ms/step - loss: 0.1312 - accuracy: 0.9560 - precision: 0.9535 - recall: 0.9586 - val_loss: 0.3604 - val_accuracy: 0.8754 - val_precision: 0.8717 - val_recall: 0.8831\n",
            "Epoch 5/10\n",
            "157/157 [==============================] - 28s 176ms/step - loss: 0.0923 - accuracy: 0.9713 - precision: 0.9690 - recall: 0.9736 - val_loss: 0.3928 - val_accuracy: 0.8670 - val_precision: 0.8599 - val_recall: 0.8800\n"
          ]
        }
      ]
    },
    {
      "cell_type": "code",
      "metadata": {
        "id": "WvLEeIXEz8JG",
        "colab": {
          "base_uri": "https://localhost:8080/",
          "height": 0
        },
        "outputId": "1fa68564-37d4-4263-8cc5-902b7b86c29b"
      },
      "source": [
        "figure, axis = plt.subplots(2, sharex=True)\n",
        "\n",
        "axis[0].plot(history_lstm.history['loss'], label='train')\n",
        "axis[0].plot(history_lstm.history['val_loss'], label='validation')\n",
        "axis[0].legend()\n",
        "axis[0].set_title('Loss')\n",
        "\n",
        "axis[1].plot(history_lstm.history['accuracy'], label='train')\n",
        "axis[1].plot(history_lstm.history['val_accuracy'], label='validation')\n",
        "axis[1].legend()\n",
        "axis[1].set_title('Accuracy')\n",
        "\n",
        "plt.show()"
      ],
      "execution_count": 27,
      "outputs": [
        {
          "data": {
            "image/png": "[encoded data removed]",
            "text/plain": [
              "<Figure size 432x288 with 2 Axes>"
            ]
          },
          "metadata": {},
          "output_type": "display_data"
        }
      ]
    },
    {
      "cell_type": "markdown",
      "metadata": {
        "id": "0pRbr9Snz8JG"
      },
      "source": [
        "#### Evaluate model performance on test dataset"
      ]
    },
    {
      "cell_type": "code",
      "metadata": {
        "id": "Kb1_h4ekz8JG",
        "colab": {
          "base_uri": "https://localhost:8080/"
        },
        "outputId": "de8a4c79-1e46-4a35-bfb6-0ff2ea8bd6a7"
      },
      "source": [
        "metrics_lstm = model_lstm.evaluate(test_ds,verbose=1)"
      ],
      "execution_count": 28,
      "outputs": [
        {
          "metadata": {
            "tags": null
          },
          "name": "stdout",
          "output_type": "stream",
          "text": [
            "196/196 [==============================] - 11s 54ms/step - loss: 0.4463 - accuracy: 0.8525 - precision: 0.8569 - recall: 0.8464\n"
          ]
        }
      ]
    },
    {
      "cell_type": "code",
      "metadata": {
        "id": "FMytDZS9z8JG",
        "colab": {
          "base_uri": "https://localhost:8080/"
        },
        "outputId": "7205201c-95c5-44cd-f8b9-77803881c5ab"
      },
      "source": [
        "loss_lstm, accuracy_lstm, precision_lstm, recall_lstm = get_results(metrics_lstm)\n",
        "print('Model performance on test set:\\nLoss: {}\\nAccuracy: {}\\nPrecision: {}\\nRecall: {}\\n'.format(loss_lstm, accuracy_lstm, precision_lstm, recall_lstm))"
      ],
      "execution_count": 29,
      "outputs": [
        {
          "metadata": {
            "tags": null
          },
          "name": "stdout",
          "output_type": "stream",
          "text": [
            "Model performance on test set:\n",
            "Loss: 0.446\n",
            "Accuracy: 0.853\n",
            "Precision: 0.857\n",
            "Recall: 0.846\n",
            "\n"
          ]
        }
      ]
    },
    {
      "cell_type": "code",
      "metadata": {
        "id": "HLzo0Kgfz8JG"
      },
      "source": [
        "results['LSTM'] = {\n",
        "    'Loss': loss_lstm,\n",
        "    'Accuracy': accuracy_lstm,\n",
        "    'Precision': precision_lstm, \n",
        "    'Recall': recall_lstm,\n",
        "    'F1': round( 2*((precision_lstm * recall_lstm) / (precision_lstm + recall_lstm)), 3 )\n",
        "  }"
      ],
      "execution_count": 30,
      "outputs": []
    },
    {
      "cell_type": "markdown",
      "metadata": {
        "id": "oO-uFahvkgG8"
      },
      "source": [
        "# 5 Model Comparison\n",
        "The results are summarised in the DataFrame below."
      ]
    },
    {
      "cell_type": "code",
      "metadata": {
        "id": "XKQ0ebz2kiIg",
        "colab": {
          "base_uri": "https://localhost:8080/",
          "height": 204
        },
        "outputId": "a34ed900-4c19-4a2d-b95a-aa84ad578359"
      },
      "source": [
        "pd.DataFrame(results)"
      ],
      "execution_count": 31,
      "outputs": [
        {
          "data": {
            "text/html": [
              "<div>\n",
              "<style scoped>\n",
              "    .dataframe tbody tr th:only-of-type {\n",
              "        vertical-align: middle;\n",
              "    }\n",
              "\n",
              "    .dataframe tbody tr th {\n",
              "        vertical-align: top;\n",
              "    }\n",
              "\n",
              "    .dataframe thead th {\n",
              "        text-align: right;\n",
              "    }\n",
              "</style>\n",
              "<table border=\"1\" class=\"dataframe\">\n",
              "  <thead>\n",
              "    <tr style=\"text-align: right;\">\n",
              "      <th></th>\n",
              "      <th>CNN</th>\n",
              "      <th>LSTM</th>\n",
              "    </tr>\n",
              "  </thead>\n",
              "  <tbody>\n",
              "    <tr>\n",
              "      <th>Loss</th>\n",
              "      <td>0.480</td>\n",
              "      <td>0.446</td>\n",
              "    </tr>\n",
              "    <tr>\n",
              "      <th>Accuracy</th>\n",
              "      <td>0.866</td>\n",
              "      <td>0.853</td>\n",
              "    </tr>\n",
              "    <tr>\n",
              "      <th>Precision</th>\n",
              "      <td>0.820</td>\n",
              "      <td>0.857</td>\n",
              "    </tr>\n",
              "    <tr>\n",
              "      <th>Recall</th>\n",
              "      <td>0.939</td>\n",
              "      <td>0.846</td>\n",
              "    </tr>\n",
              "    <tr>\n",
              "      <th>F1</th>\n",
              "      <td>0.875</td>\n",
              "      <td>0.851</td>\n",
              "    </tr>\n",
              "  </tbody>\n",
              "</table>\n",
              "</div>"
            ],
            "text/plain": [
              "             CNN   LSTM\n",
              "Loss       0.480  0.446\n",
              "Accuracy   0.866  0.853\n",
              "Precision  0.820  0.857\n",
              "Recall     0.939  0.846\n",
              "F1         0.875  0.851"
            ]
          },
          "execution_count": null,
          "metadata": {},
          "output_type": "execute_result"
        }
      ]
    },
    {
      "cell_type": "markdown",
      "metadata": {
        "id": "x2Z_3w0MM7-Y"
      },
      "source": [
        "From the results, we see that CNN performed better than LSTM, achieving a higher accuracy (0.886 vs 0.853), precision (0.885 vs 0.822), and F1 scores (0.887 vs 0.859). Recall scores are comparable for both models. \n",
        "\n",
        "We see that CNN performed better than LSTM. This is likely because whether a review is negative or positive can be determined by a window of local features, something that CNN can more accurately identify.\n",
        "\n",
        "On the other hand, the sequential and hence contextual information that RNN can identify may not be as significant in this sentiment analysis. Furthermore, there is a higher risk of bias and hence overfitting when using LSTM."
      ]
    },
    {
      "cell_type": "markdown",
      "metadata": {
        "id": "h7iDzOQoAf7m"
      },
      "source": [
        "Comments on CNN:\n",
        "1. CNN is useful to recognise patterns across space as it extracts local and position-invariant features.\n",
        "3. CNN is computationally faster as it allows for parallelization over every element in the word sequence.\n",
        "4. CNN is better when feature detection in text is more important but it is difficult to obtain contextual information."
      ]
    },
    {
      "cell_type": "markdown",
      "metadata": {
        "id": "ZjFYxz_ZAf3O"
      },
      "source": [
        "Comments on LSTM/RNN:\n",
        "1. LSTM/RNN is useful to recognise patterns across time as it captures long-term dependencies between word sequences.\n",
        "2. LSTM/RNN is ideal for sequential data when the current step is related with the previous steps or datasets with a time component. \n",
        "3. LSTM/RNN is better when sequential modeling is more important but the order of words can lead to bias. "
      ]
    },
    {
      "cell_type": "markdown",
      "metadata": {
        "id": "-g5O4FdA_DeX"
      },
      "source": [
        "# 6 Additional Insights"
      ]
    },
    {
      "cell_type": "markdown",
      "metadata": {
        "id": "8H22pRXrMaic"
      },
      "source": [
        "#### Insight 1: Wide vs deep neural network"
      ]
    },
    {
      "cell_type": "markdown",
      "metadata": {
        "id": "VV0LS1vjNVFP"
      },
      "source": [
        "Deep neural network (6 layers of CNN followed by 3 fully connected layers)"
      ]
    },
    {
      "cell_type": "code",
      "metadata": {
        "id": "zYZmiZhnMfrX"
      },
      "source": [
        "embedding_dims = 10\n",
        "# Define model\n",
        "model_deep = Sequential()\n",
        "model_deep.add(Embedding(max_features, embedding_dims, input_length=maxlen))\n",
        "# Convolutional layer\n",
        "model_deep.add(Conv1D(filters, kernel_size, padding='same', activation='relu', strides=1))\n",
        "model_deep.add(MaxPooling1D(pool_size=2))\n",
        "# More convolutional layers\n",
        "for i in range(3):\n",
        "  model_deep.add(Conv1D(filters, kernel_size, padding='same', activation='relu', strides=1))\n",
        "  model_deep.add(MaxPooling1D(pool_size=2))\n",
        "model_deep.add(Flatten())\n",
        "# Fully connected layer\n",
        "model_deep.add(Dense(hidden_dims, activation='relu'))\n",
        "model_deep.add(Dropout(0.5))\n",
        "model_deep.add(Dense(1, activation='sigmoid', name='predictions'))\n",
        "# Compile\n",
        "model_deep.compile(loss='binary_crossentropy', optimizer='adam', metrics=metrics)"
      ],
      "execution_count": 32,
      "outputs": []
    },
    {
      "cell_type": "code",
      "metadata": {
        "colab": {
          "base_uri": "https://localhost:8080/"
        },
        "id": "LE6eDpyvWEJw",
        "outputId": "089e6050-0409-4b38-8c94-db53424a4ecc"
      },
      "source": [
        "print('Total number of parameters for model_cnn: 1,070,007')\n",
        "model_deep.summary()"
      ],
      "execution_count": 33,
      "outputs": [
        {
          "metadata": {
            "tags": null
          },
          "name": "stdout",
          "output_type": "stream",
          "text": [
            "Total number of parameters for model_cnn: 1,070,007\n",
            "Model: \"sequential_2\"\n",
            "_________________________________________________________________\n",
            "Layer (type)                 Output Shape              Param #   \n",
            "=================================================================\n",
            "embedding_2 (Embedding)      (None, 800, 10)           200000    \n",
            "_________________________________________________________________\n",
            "conv1d_1 (Conv1D)            (None, 800, 250)          7750      \n",
            "_________________________________________________________________\n",
            "max_pooling1d (MaxPooling1D) (None, 400, 250)          0         \n",
            "_________________________________________________________________\n",
            "conv1d_2 (Conv1D)            (None, 400, 250)          187750    \n",
            "_________________________________________________________________\n",
            "max_pooling1d_1 (MaxPooling1 (None, 200, 250)          0         \n",
            "_________________________________________________________________\n",
            "conv1d_3 (Conv1D)            (None, 200, 250)          187750    \n",
            "_________________________________________________________________\n",
            "max_pooling1d_2 (MaxPooling1 (None, 100, 250)          0         \n",
            "_________________________________________________________________\n",
            "conv1d_4 (Conv1D)            (None, 100, 250)          187750    \n",
            "_________________________________________________________________\n",
            "max_pooling1d_3 (MaxPooling1 (None, 50, 250)           0         \n",
            "_________________________________________________________________\n",
            "flatten_1 (Flatten)          (None, 12500)             0         \n",
            "_________________________________________________________________\n",
            "dense_1 (Dense)              (None, 128)               1600128   \n",
            "_________________________________________________________________\n",
            "dropout_1 (Dropout)          (None, 128)               0         \n",
            "_________________________________________________________________\n",
            "predictions (Dense)          (None, 1)                 129       \n",
            "=================================================================\n",
            "Total params: 2,371,257\n",
            "Trainable params: 2,371,257\n",
            "Non-trainable params: 0\n",
            "_________________________________________________________________\n"
          ]
        }
      ]
    },
    {
      "cell_type": "code",
      "metadata": {
        "id": "x74IT1TbZ4Q5",
        "colab": {
          "base_uri": "https://localhost:8080/"
        },
        "outputId": "a26c5347-1a0d-4ab1-d206-9bdc023b5c6d"
      },
      "source": [
        "history_deep = model_deep.fit(train_ds, epochs=epochs, batch_size=batch_size, validation_data=val_ds,\n",
        "              callbacks=[EarlyStopping(monitor='val_loss',patience=3, min_delta=0.0001)])\n",
        "metrics_deep = model_deep.evaluate(test_ds,verbose=0)"
      ],
      "execution_count": 34,
      "outputs": [
        {
          "metadata": {
            "tags": null
          },
          "name": "stdout",
          "output_type": "stream",
          "text": [
            "Epoch 1/10\n",
            "157/157 [==============================] - 23s 135ms/step - loss: 0.6937 - accuracy: 0.4981 - precision: 0.4951 - recall: 0.3152 - val_loss: 0.6931 - val_accuracy: 0.5036 - val_precision: 0.5530 - val_recall: 0.0868\n",
            "Epoch 2/10\n",
            "157/157 [==============================] - 21s 131ms/step - loss: 0.5859 - accuracy: 0.6397 - precision: 0.6540 - recall: 0.5895 - val_loss: 0.3826 - val_accuracy: 0.8304 - val_precision: 0.8701 - val_recall: 0.7805\n",
            "Epoch 3/10\n",
            "157/157 [==============================] - 21s 131ms/step - loss: 0.2607 - accuracy: 0.8978 - precision: 0.8947 - recall: 0.9013 - val_loss: 0.2905 - val_accuracy: 0.8820 - val_precision: 0.8589 - val_recall: 0.9168\n",
            "Epoch 4/10\n",
            "157/157 [==============================] - 21s 131ms/step - loss: 0.1300 - accuracy: 0.9530 - precision: 0.9532 - recall: 0.9526 - val_loss: 0.3494 - val_accuracy: 0.8768 - val_precision: 0.8807 - val_recall: 0.8744\n",
            "Epoch 5/10\n",
            "157/157 [==============================] - 21s 131ms/step - loss: 0.1182 - accuracy: 0.9592 - precision: 0.9616 - recall: 0.9563 - val_loss: 0.3645 - val_accuracy: 0.8668 - val_precision: 0.8315 - val_recall: 0.9231\n",
            "Epoch 6/10\n",
            "157/157 [==============================] - 21s 131ms/step - loss: 0.0532 - accuracy: 0.9821 - precision: 0.9834 - recall: 0.9806 - val_loss: 0.6768 - val_accuracy: 0.8584 - val_precision: 0.8101 - val_recall: 0.9398\n"
          ]
        }
      ]
    },
    {
      "cell_type": "code",
      "metadata": {
        "colab": {
          "base_uri": "https://localhost:8080/",
          "height": 204
        },
        "id": "pmwiggW9aiXY",
        "outputId": "29097dd7-4ad1-4470-800a-37df39e68c17"
      },
      "source": [
        "# Store results\n",
        "loss_deep, accuracy_deep, precision_deep, recall_deep = get_results(metrics_deep)\n",
        "results['CNN (Deep)'] = {\n",
        "    'Loss': loss_deep,\n",
        "    'Accuracy': accuracy_deep,\n",
        "    'Precision': precision_deep, \n",
        "    'Recall': recall_deep,\n",
        "    'F1': round( 2*((precision_deep * recall_deep) / (precision_deep + recall_deep)), 3 )\n",
        "  } \n",
        "pd.DataFrame(results)"
      ],
      "execution_count": 35,
      "outputs": [
        {
          "data": {
            "text/html": [
              "<div>\n",
              "<style scoped>\n",
              "    .dataframe tbody tr th:only-of-type {\n",
              "        vertical-align: middle;\n",
              "    }\n",
              "\n",
              "    .dataframe tbody tr th {\n",
              "        vertical-align: top;\n",
              "    }\n",
              "\n",
              "    .dataframe thead th {\n",
              "        text-align: right;\n",
              "    }\n",
              "</style>\n",
              "<table border=\"1\" class=\"dataframe\">\n",
              "  <thead>\n",
              "    <tr style=\"text-align: right;\">\n",
              "      <th></th>\n",
              "      <th>CNN</th>\n",
              "      <th>LSTM</th>\n",
              "      <th>CNN (Deep)</th>\n",
              "    </tr>\n",
              "  </thead>\n",
              "  <tbody>\n",
              "    <tr>\n",
              "      <th>Loss</th>\n",
              "      <td>0.480</td>\n",
              "      <td>0.446</td>\n",
              "      <td>0.721</td>\n",
              "    </tr>\n",
              "    <tr>\n",
              "      <th>Accuracy</th>\n",
              "      <td>0.866</td>\n",
              "      <td>0.853</td>\n",
              "      <td>0.844</td>\n",
              "    </tr>\n",
              "    <tr>\n",
              "      <th>Precision</th>\n",
              "      <td>0.820</td>\n",
              "      <td>0.857</td>\n",
              "      <td>0.799</td>\n",
              "    </tr>\n",
              "    <tr>\n",
              "      <th>Recall</th>\n",
              "      <td>0.939</td>\n",
              "      <td>0.846</td>\n",
              "      <td>0.920</td>\n",
              "    </tr>\n",
              "    <tr>\n",
              "      <th>F1</th>\n",
              "      <td>0.875</td>\n",
              "      <td>0.851</td>\n",
              "      <td>0.855</td>\n",
              "    </tr>\n",
              "  </tbody>\n",
              "</table>\n",
              "</div>"
            ],
            "text/plain": [
              "             CNN   LSTM  CNN (Deep)\n",
              "Loss       0.480  0.446       0.721\n",
              "Accuracy   0.866  0.853       0.844\n",
              "Precision  0.820  0.857       0.799\n",
              "Recall     0.939  0.846       0.920\n",
              "F1         0.875  0.851       0.855"
            ]
          },
          "execution_count": null,
          "metadata": {},
          "output_type": "execute_result"
        }
      ]
    },
    {
      "cell_type": "markdown",
      "metadata": {
        "id": "U5538vzD8ySm"
      },
      "source": [
        "#### Insight 2: Different CNN/LSTM models\n",
        "Different scholars have tried different combinations of CNN and LSTM layers in order to improve model performance. I will attempt two variations and compare their performaces."
      ]
    },
    {
      "cell_type": "markdown",
      "metadata": {
        "id": "mrm2sTTcFXYZ"
      },
      "source": [
        "Variation 1: CNN + LSTM"
      ]
    },
    {
      "cell_type": "code",
      "metadata": {
        "id": "d9RWcKjwN0n7"
      },
      "source": [
        "# Define model\n",
        "model_cnn_lstm = Sequential()\n",
        "model_cnn_lstm.add(Embedding(max_features, embedding_dims, input_length=maxlen))\n",
        "# Convolutional layer\n",
        "model_cnn_lstm.add(Conv1D(filters, kernel_size, padding='same', activation='relu', strides=1))\n",
        "model_cnn_lstm.add(MaxPooling1D(pool_size=2))\n",
        "# LSTM layer\n",
        "model_cnn_lstm.add(LSTM(120, return_sequences=True))\n",
        "model_cnn_lstm.add(GlobalMaxPooling1D())\n",
        "model_cnn_lstm.add(Flatten())\n",
        "# Fully connected layer\n",
        "model_cnn_lstm.add(Dense(hidden_dims, activation='relu'))\n",
        "model_cnn_lstm.add(Dropout(0.5))\n",
        "model_cnn_lstm.add(Dense(1, activation='sigmoid', name='predictions'))\n",
        "# Compile and fit\n",
        "model_cnn_lstm.compile(loss='binary_crossentropy', optimizer='adam', metrics=metrics)\n",
        "history_cnn_lstm = model_cnn_lstm.fit(train_ds, epochs=epochs, verbose = 0,\n",
        "                                      batch_size=batch_size, validation_data=val_ds,\n",
        "                                      callbacks=[EarlyStopping(monitor='val_loss',patience=3, min_delta=0.0001)])\n",
        "metrics_cnn_lstm = model_cnn_lstm.evaluate(test_ds,verbose=0)"
      ],
      "execution_count": 36,
      "outputs": []
    },
    {
      "cell_type": "code",
      "metadata": {
        "colab": {
          "base_uri": "https://localhost:8080/",
          "height": 204
        },
        "id": "shK04XZhkgMM",
        "outputId": "f2766e4f-7f79-4dec-b374-75520e9af0f8"
      },
      "source": [
        "# Store results\n",
        "loss_cnn_lstm, accuracy_cnn_lstm, precision_cnn_lstm, recall_cnn_lstm = get_results(metrics_cnn_lstm)\n",
        "results['CNN & LSTM'] = {\n",
        "    'Loss': loss_cnn_lstm,\n",
        "    'Accuracy': accuracy_cnn_lstm,\n",
        "    'Precision': precision_cnn_lstm, \n",
        "    'Recall': recall_cnn_lstm,\n",
        "    'F1': round( 2*((precision_cnn_lstm * recall_cnn_lstm) / (precision_cnn_lstm + recall_cnn_lstm)), 3 )\n",
        "  } \n",
        "pd.DataFrame(results)"
      ],
      "execution_count": 37,
      "outputs": [
        {
          "data": {
            "text/html": [
              "<div>\n",
              "<style scoped>\n",
              "    .dataframe tbody tr th:only-of-type {\n",
              "        vertical-align: middle;\n",
              "    }\n",
              "\n",
              "    .dataframe tbody tr th {\n",
              "        vertical-align: top;\n",
              "    }\n",
              "\n",
              "    .dataframe thead th {\n",
              "        text-align: right;\n",
              "    }\n",
              "</style>\n",
              "<table border=\"1\" class=\"dataframe\">\n",
              "  <thead>\n",
              "    <tr style=\"text-align: right;\">\n",
              "      <th></th>\n",
              "      <th>CNN</th>\n",
              "      <th>LSTM</th>\n",
              "      <th>CNN (Deep)</th>\n",
              "      <th>CNN &amp; LSTM</th>\n",
              "    </tr>\n",
              "  </thead>\n",
              "  <tbody>\n",
              "    <tr>\n",
              "      <th>Loss</th>\n",
              "      <td>0.480</td>\n",
              "      <td>0.446</td>\n",
              "      <td>0.721</td>\n",
              "      <td>0.435</td>\n",
              "    </tr>\n",
              "    <tr>\n",
              "      <th>Accuracy</th>\n",
              "      <td>0.866</td>\n",
              "      <td>0.853</td>\n",
              "      <td>0.844</td>\n",
              "      <td>0.852</td>\n",
              "    </tr>\n",
              "    <tr>\n",
              "      <th>Precision</th>\n",
              "      <td>0.820</td>\n",
              "      <td>0.857</td>\n",
              "      <td>0.799</td>\n",
              "      <td>0.880</td>\n",
              "    </tr>\n",
              "    <tr>\n",
              "      <th>Recall</th>\n",
              "      <td>0.939</td>\n",
              "      <td>0.846</td>\n",
              "      <td>0.920</td>\n",
              "      <td>0.815</td>\n",
              "    </tr>\n",
              "    <tr>\n",
              "      <th>F1</th>\n",
              "      <td>0.875</td>\n",
              "      <td>0.851</td>\n",
              "      <td>0.855</td>\n",
              "      <td>0.846</td>\n",
              "    </tr>\n",
              "  </tbody>\n",
              "</table>\n",
              "</div>"
            ],
            "text/plain": [
              "             CNN   LSTM  CNN (Deep)  CNN & LSTM\n",
              "Loss       0.480  0.446       0.721       0.435\n",
              "Accuracy   0.866  0.853       0.844       0.852\n",
              "Precision  0.820  0.857       0.799       0.880\n",
              "Recall     0.939  0.846       0.920       0.815\n",
              "F1         0.875  0.851       0.855       0.846"
            ]
          },
          "execution_count": null,
          "metadata": {},
          "output_type": "execute_result"
        }
      ]
    },
    {
      "cell_type": "markdown",
      "metadata": {
        "id": "lhf-_Bf0N1Bs"
      },
      "source": [
        "Variation 2: Bidirectional LSTM"
      ]
    },
    {
      "cell_type": "code",
      "metadata": {
        "id": "cla3MvlTN-Ew"
      },
      "source": [
        "# Define model\n",
        "model_bilstm = Sequential()\n",
        "model_bilstm.add(Embedding(max_features, embedding_dims, input_length=maxlen))\n",
        "# Bi-directional LSTM\n",
        "model_bilstm.add(Bidirectional(LSTM(120, return_sequences = True)))\n",
        "model_bilstm.add(GlobalMaxPooling1D())\n",
        "model_bilstm.add(Flatten())\n",
        "# Fully connected layer\n",
        "model_bilstm.add(Dense(hidden_dims, activation='relu'))\n",
        "model_bilstm.add(Dropout(0.5))\n",
        "model_bilstm.add(Dense(1, activation=\"sigmoid\"))\n",
        "# Compile and fit\n",
        "model_bilstm.compile(loss='binary_crossentropy', optimizer='adam', metrics=metrics)\n",
        "history_bilstm = model_bilstm.fit(train_ds, epochs=epochs, verbose = 0,\n",
        "                                      batch_size=batch_size, validation_data=val_ds,\n",
        "                                      callbacks=[EarlyStopping(monitor='val_loss',patience=3, min_delta=0.0001)])\n",
        "metrics_bilstm = model_bilstm.evaluate(test_ds,verbose=0)"
      ],
      "execution_count": 38,
      "outputs": []
    },
    {
      "cell_type": "code",
      "metadata": {
        "colab": {
          "base_uri": "https://localhost:8080/",
          "height": 204
        },
        "id": "Nlj64a03lA9o",
        "outputId": "d23f4037-8b83-4af0-ce5d-7e1c327e842b"
      },
      "source": [
        "# Store results\n",
        "loss_bilstm, accuracy_bilstm, precision_bilstm, recall_bilstm = get_results(metrics_bilstm)\n",
        "results['Bi-Direc. LSTM'] = {\n",
        "    'Loss': loss_bilstm,\n",
        "    'Accuracy': accuracy_bilstm,\n",
        "    'Precision': precision_bilstm, \n",
        "    'Recall': recall_bilstm,\n",
        "    'F1': round( 2*((precision_bilstm * recall_bilstm) / (precision_bilstm + recall_bilstm)), 3 )\n",
        "  } \n",
        "pd.DataFrame(results)"
      ],
      "execution_count": 39,
      "outputs": [
        {
          "data": {
            "text/html": [
              "<div>\n",
              "<style scoped>\n",
              "    .dataframe tbody tr th:only-of-type {\n",
              "        vertical-align: middle;\n",
              "    }\n",
              "\n",
              "    .dataframe tbody tr th {\n",
              "        vertical-align: top;\n",
              "    }\n",
              "\n",
              "    .dataframe thead th {\n",
              "        text-align: right;\n",
              "    }\n",
              "</style>\n",
              "<table border=\"1\" class=\"dataframe\">\n",
              "  <thead>\n",
              "    <tr style=\"text-align: right;\">\n",
              "      <th></th>\n",
              "      <th>CNN</th>\n",
              "      <th>LSTM</th>\n",
              "      <th>CNN (Deep)</th>\n",
              "      <th>CNN &amp; LSTM</th>\n",
              "      <th>Bi-Direc. LSTM</th>\n",
              "    </tr>\n",
              "  </thead>\n",
              "  <tbody>\n",
              "    <tr>\n",
              "      <th>Loss</th>\n",
              "      <td>0.480</td>\n",
              "      <td>0.446</td>\n",
              "      <td>0.721</td>\n",
              "      <td>0.435</td>\n",
              "      <td>0.484</td>\n",
              "    </tr>\n",
              "    <tr>\n",
              "      <th>Accuracy</th>\n",
              "      <td>0.866</td>\n",
              "      <td>0.853</td>\n",
              "      <td>0.844</td>\n",
              "      <td>0.852</td>\n",
              "      <td>0.857</td>\n",
              "    </tr>\n",
              "    <tr>\n",
              "      <th>Precision</th>\n",
              "      <td>0.820</td>\n",
              "      <td>0.857</td>\n",
              "      <td>0.799</td>\n",
              "      <td>0.880</td>\n",
              "      <td>0.847</td>\n",
              "    </tr>\n",
              "    <tr>\n",
              "      <th>Recall</th>\n",
              "      <td>0.939</td>\n",
              "      <td>0.846</td>\n",
              "      <td>0.920</td>\n",
              "      <td>0.815</td>\n",
              "      <td>0.871</td>\n",
              "    </tr>\n",
              "    <tr>\n",
              "      <th>F1</th>\n",
              "      <td>0.875</td>\n",
              "      <td>0.851</td>\n",
              "      <td>0.855</td>\n",
              "      <td>0.846</td>\n",
              "      <td>0.859</td>\n",
              "    </tr>\n",
              "  </tbody>\n",
              "</table>\n",
              "</div>"
            ],
            "text/plain": [
              "             CNN   LSTM  CNN (Deep)  CNN & LSTM  Bi-Direc. LSTM\n",
              "Loss       0.480  0.446       0.721       0.435           0.484\n",
              "Accuracy   0.866  0.853       0.844       0.852           0.857\n",
              "Precision  0.820  0.857       0.799       0.880           0.847\n",
              "Recall     0.939  0.846       0.920       0.815           0.871\n",
              "F1         0.875  0.851       0.855       0.846           0.859"
            ]
          },
          "execution_count": null,
          "metadata": {},
          "output_type": "execute_result"
        }
      ]
    },
    {
      "cell_type": "markdown",
      "metadata": {
        "id": "CzH_BBGc8zVS"
      },
      "source": [
        "#### Insight 3: Adjust threshold value\n",
        "In general, a higher threshold reduces false positives, which increases precision. On the other hand, recall decreases as true positive decreases.\n"
      ]
    },
    {
      "cell_type": "code",
      "metadata": {
        "id": "rlnDXeeU8zIw"
      },
      "source": [
        "threshold = [x/10 for x in range(1,10)]\n",
        "test_labels = np.array([k[1].numpy() for k in test_ds.unbatch()])\n",
        "results_threshold_cnn = {'Accuracy': {}, 'Precision': {}, 'Recall': {}, 'F1': {}}\n",
        "results_threshold_lstm = {'Accuracy': {}, 'Precision': {}, 'Recall': {}, 'F1': {}}\n",
        "\n",
        "for t in threshold:\n",
        "  predictions_cnn = np.array(model_cnn.predict(test_ds) > t, dtype=np.int32)\n",
        "  results_threshold_cnn['Accuracy']['CNN_' + str(t)] = accuracy_score(test_labels, predictions_cnn)\n",
        "  results_threshold_cnn['Precision']['CNN_' + str(t)] = precision_score(test_labels, predictions_cnn)                           \n",
        "  results_threshold_cnn['Recall']['CNN_' + str(t)] = recall_score(test_labels, predictions_cnn)\n",
        "  results_threshold_cnn['F1']['CNN_' + str(t)] = f1_score(test_labels, predictions_cnn)\n",
        "\n",
        "  predictions_lstm = np.array(model_cnn.predict(test_ds) > t, dtype=np.int32)\n",
        "  results_threshold_lstm['Accuracy']['LSTM_' + str(t)] = accuracy_score(test_labels, predictions_lstm)\n",
        "  results_threshold_lstm['Precision']['LSTM_' + str(t)] = precision_score(test_labels, predictions_lstm)\n",
        "  results_threshold_lstm['Recall']['LSTM_' + str(t)] = recall_score(test_labels, predictions_lstm)\n",
        "  results_threshold_lstm['F1']['LSTM_' + str(t)] = f1_score(test_labels, predictions_lstm)"
      ],
      "execution_count": 40,
      "outputs": []
    },
    {
      "cell_type": "code",
      "metadata": {
        "id": "W5ks7Tss2mLB",
        "colab": {
          "base_uri": "https://localhost:8080/",
          "height": 328
        },
        "outputId": "11fd6d91-2ef4-421c-db42-c90abc12cca1"
      },
      "source": [
        "pd.DataFrame(results_threshold_cnn)"
      ],
      "execution_count": 41,
      "outputs": [
        {
          "data": {
            "text/html": [
              "<div>\n",
              "<style scoped>\n",
              "    .dataframe tbody tr th:only-of-type {\n",
              "        vertical-align: middle;\n",
              "    }\n",
              "\n",
              "    .dataframe tbody tr th {\n",
              "        vertical-align: top;\n",
              "    }\n",
              "\n",
              "    .dataframe thead th {\n",
              "        text-align: right;\n",
              "    }\n",
              "</style>\n",
              "<table border=\"1\" class=\"dataframe\">\n",
              "  <thead>\n",
              "    <tr style=\"text-align: right;\">\n",
              "      <th></th>\n",
              "      <th>Accuracy</th>\n",
              "      <th>Precision</th>\n",
              "      <th>Recall</th>\n",
              "      <th>F1</th>\n",
              "    </tr>\n",
              "  </thead>\n",
              "  <tbody>\n",
              "    <tr>\n",
              "      <th>CNN_0.1</th>\n",
              "      <td>0.82904</td>\n",
              "      <td>0.756262</td>\n",
              "      <td>0.97104</td>\n",
              "      <td>0.850298</td>\n",
              "    </tr>\n",
              "    <tr>\n",
              "      <th>CNN_0.2</th>\n",
              "      <td>0.84456</td>\n",
              "      <td>0.779240</td>\n",
              "      <td>0.96152</td>\n",
              "      <td>0.860837</td>\n",
              "    </tr>\n",
              "    <tr>\n",
              "      <th>CNN_0.3</th>\n",
              "      <td>0.85440</td>\n",
              "      <td>0.795688</td>\n",
              "      <td>0.95368</td>\n",
              "      <td>0.867550</td>\n",
              "    </tr>\n",
              "    <tr>\n",
              "      <th>CNN_0.4</th>\n",
              "      <td>0.86176</td>\n",
              "      <td>0.809049</td>\n",
              "      <td>0.94704</td>\n",
              "      <td>0.872623</td>\n",
              "    </tr>\n",
              "    <tr>\n",
              "      <th>CNN_0.5</th>\n",
              "      <td>0.86632</td>\n",
              "      <td>0.819673</td>\n",
              "      <td>0.93928</td>\n",
              "      <td>0.875410</td>\n",
              "    </tr>\n",
              "    <tr>\n",
              "      <th>CNN_0.6</th>\n",
              "      <td>0.87072</td>\n",
              "      <td>0.831189</td>\n",
              "      <td>0.93040</td>\n",
              "      <td>0.878001</td>\n",
              "    </tr>\n",
              "    <tr>\n",
              "      <th>CNN_0.7</th>\n",
              "      <td>0.87528</td>\n",
              "      <td>0.844268</td>\n",
              "      <td>0.92032</td>\n",
              "      <td>0.880655</td>\n",
              "    </tr>\n",
              "    <tr>\n",
              "      <th>CNN_0.8</th>\n",
              "      <td>0.87760</td>\n",
              "      <td>0.857522</td>\n",
              "      <td>0.90568</td>\n",
              "      <td>0.880943</td>\n",
              "    </tr>\n",
              "    <tr>\n",
              "      <th>CNN_0.9</th>\n",
              "      <td>0.87752</td>\n",
              "      <td>0.875776</td>\n",
              "      <td>0.87984</td>\n",
              "      <td>0.877803</td>\n",
              "    </tr>\n",
              "  </tbody>\n",
              "</table>\n",
              "</div>"
            ],
            "text/plain": [
              "         Accuracy  Precision   Recall        F1\n",
              "CNN_0.1   0.82904   0.756262  0.97104  0.850298\n",
              "CNN_0.2   0.84456   0.779240  0.96152  0.860837\n",
              "CNN_0.3   0.85440   0.795688  0.95368  0.867550\n",
              "CNN_0.4   0.86176   0.809049  0.94704  0.872623\n",
              "CNN_0.5   0.86632   0.819673  0.93928  0.875410\n",
              "CNN_0.6   0.87072   0.831189  0.93040  0.878001\n",
              "CNN_0.7   0.87528   0.844268  0.92032  0.880655\n",
              "CNN_0.8   0.87760   0.857522  0.90568  0.880943\n",
              "CNN_0.9   0.87752   0.875776  0.87984  0.877803"
            ]
          },
          "execution_count": null,
          "metadata": {},
          "output_type": "execute_result"
        }
      ]
    },
    {
      "cell_type": "code",
      "metadata": {
        "id": "lgzSW4Ns8akt",
        "colab": {
          "base_uri": "https://localhost:8080/",
          "height": 328
        },
        "outputId": "a4e6847c-99e3-40ae-9d4f-8c13ef92688a"
      },
      "source": [
        "pd.DataFrame(results_threshold_lstm)"
      ],
      "execution_count": 42,
      "outputs": [
        {
          "data": {
            "text/html": [
              "<div>\n",
              "<style scoped>\n",
              "    .dataframe tbody tr th:only-of-type {\n",
              "        vertical-align: middle;\n",
              "    }\n",
              "\n",
              "    .dataframe tbody tr th {\n",
              "        vertical-align: top;\n",
              "    }\n",
              "\n",
              "    .dataframe thead th {\n",
              "        text-align: right;\n",
              "    }\n",
              "</style>\n",
              "<table border=\"1\" class=\"dataframe\">\n",
              "  <thead>\n",
              "    <tr style=\"text-align: right;\">\n",
              "      <th></th>\n",
              "      <th>Accuracy</th>\n",
              "      <th>Precision</th>\n",
              "      <th>Recall</th>\n",
              "      <th>F1</th>\n",
              "    </tr>\n",
              "  </thead>\n",
              "  <tbody>\n",
              "    <tr>\n",
              "      <th>LSTM_0.1</th>\n",
              "      <td>0.82904</td>\n",
              "      <td>0.756262</td>\n",
              "      <td>0.97104</td>\n",
              "      <td>0.850298</td>\n",
              "    </tr>\n",
              "    <tr>\n",
              "      <th>LSTM_0.2</th>\n",
              "      <td>0.84456</td>\n",
              "      <td>0.779240</td>\n",
              "      <td>0.96152</td>\n",
              "      <td>0.860837</td>\n",
              "    </tr>\n",
              "    <tr>\n",
              "      <th>LSTM_0.3</th>\n",
              "      <td>0.85440</td>\n",
              "      <td>0.795688</td>\n",
              "      <td>0.95368</td>\n",
              "      <td>0.867550</td>\n",
              "    </tr>\n",
              "    <tr>\n",
              "      <th>LSTM_0.4</th>\n",
              "      <td>0.86176</td>\n",
              "      <td>0.809049</td>\n",
              "      <td>0.94704</td>\n",
              "      <td>0.872623</td>\n",
              "    </tr>\n",
              "    <tr>\n",
              "      <th>LSTM_0.5</th>\n",
              "      <td>0.86632</td>\n",
              "      <td>0.819673</td>\n",
              "      <td>0.93928</td>\n",
              "      <td>0.875410</td>\n",
              "    </tr>\n",
              "    <tr>\n",
              "      <th>LSTM_0.6</th>\n",
              "      <td>0.87072</td>\n",
              "      <td>0.831189</td>\n",
              "      <td>0.93040</td>\n",
              "      <td>0.878001</td>\n",
              "    </tr>\n",
              "    <tr>\n",
              "      <th>LSTM_0.7</th>\n",
              "      <td>0.87528</td>\n",
              "      <td>0.844268</td>\n",
              "      <td>0.92032</td>\n",
              "      <td>0.880655</td>\n",
              "    </tr>\n",
              "    <tr>\n",
              "      <th>LSTM_0.8</th>\n",
              "      <td>0.87760</td>\n",
              "      <td>0.857522</td>\n",
              "      <td>0.90568</td>\n",
              "      <td>0.880943</td>\n",
              "    </tr>\n",
              "    <tr>\n",
              "      <th>LSTM_0.9</th>\n",
              "      <td>0.87752</td>\n",
              "      <td>0.875776</td>\n",
              "      <td>0.87984</td>\n",
              "      <td>0.877803</td>\n",
              "    </tr>\n",
              "  </tbody>\n",
              "</table>\n",
              "</div>"
            ],
            "text/plain": [
              "          Accuracy  Precision   Recall        F1\n",
              "LSTM_0.1   0.82904   0.756262  0.97104  0.850298\n",
              "LSTM_0.2   0.84456   0.779240  0.96152  0.860837\n",
              "LSTM_0.3   0.85440   0.795688  0.95368  0.867550\n",
              "LSTM_0.4   0.86176   0.809049  0.94704  0.872623\n",
              "LSTM_0.5   0.86632   0.819673  0.93928  0.875410\n",
              "LSTM_0.6   0.87072   0.831189  0.93040  0.878001\n",
              "LSTM_0.7   0.87528   0.844268  0.92032  0.880655\n",
              "LSTM_0.8   0.87760   0.857522  0.90568  0.880943\n",
              "LSTM_0.9   0.87752   0.875776  0.87984  0.877803"
            ]
          },
          "execution_count": null,
          "metadata": {},
          "output_type": "execute_result"
        }
      ]
    },
    {
      "cell_type": "markdown",
      "metadata": {
        "id": "mO7HSjYXPw7m"
      },
      "source": [
        "#### Insight 4: Using different activation functions in intermediate layers"
      ]
    },
    {
      "cell_type": "code",
      "metadata": {
        "id": "xqhfDznMPxVW"
      },
      "source": [
        "activations = ['sigmoid', 'tanh']\n",
        "results_insight4 = {}\n",
        "results_insight4['CNN with Relu'] = results['CNN']\n",
        "\n",
        "for active in activations:\n",
        "  # Define model\n",
        "  model_active = Sequential()\n",
        "  model_active.add(Embedding(max_features, embedding_dims, input_length=maxlen))\n",
        "  # Convolutional layer\n",
        "  model_active.add(Conv1D(filters, kernel_size, padding='same', activation=active, strides=1))\n",
        "  model_active.add(GlobalMaxPooling1D())\n",
        "  model_active.add(Flatten())\n",
        "  # Fully connected layer\n",
        "  model.add(Dense(hidden_dims, activation=active))\n",
        "  model_active.add(Dropout(0.5))\n",
        "  model_active.add(Dense(1, activation='sigmoid', name='predictions'))\n",
        "  # Compile and fit\n",
        "  model_active.compile(loss='binary_crossentropy', optimizer='adam', metrics=metrics)\n",
        "  history_active = model_active.fit(train_ds, epochs=epochs, verbose = 0,\n",
        "                                        batch_size=batch_size, validation_data=val_ds,\n",
        "                                        callbacks=[EarlyStopping(monitor='val_loss',patience=3, min_delta=0.0001)])\n",
        "  metrics_active = model_active.evaluate(test_ds,verbose=0)\n",
        "  # Store results\n",
        "  loss_active, accuracy_active, precision_active, recall_active = get_results(metrics_active)\n",
        "  results_insight4['CNN with ' + active] = {\n",
        "      'Loss': loss_active,\n",
        "      'Accuracy': accuracy_active,\n",
        "      'Precision': precision_active, \n",
        "      'Recall': recall_active,\n",
        "      'F1': round( 2*((precision_active * recall_active) / (precision_active + recall_active)), 3 )\n",
        "    } \n",
        "    \n",
        "pd.DataFrame(results_insight4)"
      ],
      "execution_count": null,
      "outputs": []
    },
    {
      "cell_type": "markdown",
      "metadata": {
        "id": "ilzgkCgqD-c6"
      },
      "source": [
        "#### Insight 5: Word embedding techniques\n",
        "Different word embedding techniques may affect the model performances. Other types of word embedding techniques could have been used, such as word2vec."
      ]
    }
  ]
}